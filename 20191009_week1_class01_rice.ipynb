{
 "cells": [
  {
   "cell_type": "markdown",
   "metadata": {},
   "source": [
    "# 2.曽呂利新左衛門問題"
   ]
  },
  {
   "cell_type": "markdown",
   "metadata": {},
   "source": [
    "## 【問題1】100日目の米粒の数"
   ]
  },
  {
   "cell_type": "code",
   "execution_count": 1,
   "metadata": {
    "ExecuteTime": {
     "end_time": "2019-11-17T07:10:01.098208Z",
     "start_time": "2019-11-17T07:10:01.093971Z"
    }
   },
   "outputs": [
    {
     "name": "stdout",
     "output_type": "stream",
     "text": [
      "100日目の米粒の数：633825300114114700748351602688\n"
     ]
    }
   ],
   "source": [
    "rice_amount = 2**(100-1)\n",
    "\n",
    "print(\"100日目の米粒の数：{}\".format(rice_amount) )"
   ]
  },
  {
   "cell_type": "code",
   "execution_count": 2,
   "metadata": {
    "ExecuteTime": {
     "end_time": "2019-11-17T07:10:11.624038Z",
     "start_time": "2019-11-17T07:10:10.983514Z"
    }
   },
   "outputs": [
    {
     "name": "stdout",
     "output_type": "stream",
     "text": [
      "633825300114114700748351602688\n"
     ]
    }
   ],
   "source": [
    "import matplotlib.pyplot as plt\n",
    "%matplotlib inline\n",
    "\n",
    "rice_day=[]\n",
    "rice_total=[]\n",
    "days=100\n",
    "\n",
    "for i in range(0,days):\n",
    "    rice =2**( i )\n",
    "    rice_day.append(rice)\n",
    "    rice_total.append(rice*2-1)\n",
    "    \n",
    "#print(rice_day)\n",
    "#print(rice_total)\n",
    "print(rice_day[-1])"
   ]
  },
  {
   "cell_type": "code",
   "execution_count": 3,
   "metadata": {
    "ExecuteTime": {
     "end_time": "2019-11-17T07:10:13.113135Z",
     "start_time": "2019-11-17T07:10:12.836760Z"
    },
    "scrolled": true
   },
   "outputs": [
    {
     "data": {
      "image/png": "[encoded data removed]",
      "text/plain": [
       "<Figure size 1080x720 with 2 Axes>"
      ]
     },
     "metadata": {
      "needs_background": "light"
     },
     "output_type": "display_data"
    }
   ],
   "source": [
    "#線二本出すやつ\n",
    "\n",
    "\n",
    "fig, ax=plt.subplots(1,2, figsize=(15,10))\n",
    "ax[0].plot(rice_day)\n",
    "ax[0].set_title(\"rice_day\")\n",
    "ax[0].set_xlabel(\"days\")\n",
    "ax[0].set_ylabel(\"amount\")\n",
    "\n",
    "ax[1].plot(rice_total)\n",
    "ax[1].set_title(\"rice_total\")\n",
    "ax[1].set_xlabel(\"days\")\n",
    "ax[1].set_ylabel(\"amount\")\n",
    "plt.show()"
   ]
  },
  {
   "cell_type": "markdown",
   "metadata": {},
   "source": [
    "## 【問題2】100日目以外の米粒の数"
   ]
  },
  {
   "cell_type": "code",
   "execution_count": 9,
   "metadata": {
    "ExecuteTime": {
     "end_time": "2019-11-17T07:14:07.152208Z",
     "start_time": "2019-11-17T07:14:07.147462Z"
    }
   },
   "outputs": [],
   "source": [
    "def compute_sorori_shinzaemon(day=100):\n",
    "    \"\"\"\n",
    "    曽呂利新左衛門の米の逸話を検証する関数。日にちごとの米の粒の数を計算する。\n",
    "\n",
    "    Parameteres\n",
    "    --------------\n",
    "    day: int\n",
    "        米を貰う日数 (default : 100)\n",
    "\n",
    "    Returns\n",
    "    --------------\n",
    "    list_n_grains : list\n",
    "        ある日に貰う米の数のリスト（リストの長さはdayに等しくなる）\n",
    "    list_total_grains : list\n",
    "        ある日までに累計で貰う米の数のリスト（リストの長さはdayに等しくなる）\n",
    "    \"\"\"\n",
    "    list_n_grains=[]\n",
    "    list_total_grains=[]\n",
    "\n",
    "    for i in range(0,days):\n",
    "        rice =2 **(i)\n",
    "        list_n_grains.append(rice)\n",
    "        list_total_grains.append(rice*2-1)\n",
    "        \n",
    "    return list_n_grains, list_total_grains"
   ]
  },
  {
   "cell_type": "code",
   "execution_count": 10,
   "metadata": {
    "ExecuteTime": {
     "end_time": "2019-11-17T07:14:07.676013Z",
     "start_time": "2019-11-17T07:14:07.668910Z"
    }
   },
   "outputs": [
    {
     "data": {
      "text/plain": [
       "([1,\n",
       "  2,\n",
       "  4,\n",
       "  8,\n",
       "  16,\n",
       "  32,\n",
       "  64,\n",
       "  128,\n",
       "  256,\n",
       "  512,\n",
       "  1024,\n",
       "  2048,\n",
       "  4096,\n",
       "  8192,\n",
       "  16384,\n",
       "  32768,\n",
       "  65536,\n",
       "  131072,\n",
       "  262144,\n",
       "  524288,\n",
       "  1048576,\n",
       "  2097152,\n",
       "  4194304,\n",
       "  8388608,\n",
       "  16777216,\n",
       "  33554432,\n",
       "  67108864,\n",
       "  134217728,\n",
       "  268435456,\n",
       "  536870912,\n",
       "  1073741824,\n",
       "  2147483648,\n",
       "  4294967296,\n",
       "  8589934592,\n",
       "  17179869184,\n",
       "  34359738368,\n",
       "  68719476736,\n",
       "  137438953472,\n",
       "  274877906944,\n",
       "  549755813888,\n",
       "  1099511627776,\n",
       "  2199023255552,\n",
       "  4398046511104,\n",
       "  8796093022208,\n",
       "  17592186044416,\n",
       "  35184372088832,\n",
       "  70368744177664,\n",
       "  140737488355328,\n",
       "  281474976710656,\n",
       "  562949953421312,\n",
       "  1125899906842624,\n",
       "  2251799813685248,\n",
       "  4503599627370496,\n",
       "  9007199254740992,\n",
       "  18014398509481984,\n",
       "  36028797018963968,\n",
       "  72057594037927936,\n",
       "  144115188075855872,\n",
       "  288230376151711744,\n",
       "  576460752303423488,\n",
       "  1152921504606846976,\n",
       "  2305843009213693952,\n",
       "  4611686018427387904,\n",
       "  9223372036854775808,\n",
       "  18446744073709551616,\n",
       "  36893488147419103232,\n",
       "  73786976294838206464,\n",
       "  147573952589676412928,\n",
       "  295147905179352825856,\n",
       "  590295810358705651712,\n",
       "  1180591620717411303424,\n",
       "  2361183241434822606848,\n",
       "  4722366482869645213696,\n",
       "  9444732965739290427392,\n",
       "  18889465931478580854784,\n",
       "  37778931862957161709568,\n",
       "  75557863725914323419136,\n",
       "  151115727451828646838272,\n",
       "  302231454903657293676544,\n",
       "  604462909807314587353088,\n",
       "  1208925819614629174706176,\n",
       "  2417851639229258349412352,\n",
       "  4835703278458516698824704,\n",
       "  9671406556917033397649408,\n",
       "  19342813113834066795298816,\n",
       "  38685626227668133590597632,\n",
       "  77371252455336267181195264,\n",
       "  154742504910672534362390528,\n",
       "  309485009821345068724781056,\n",
       "  618970019642690137449562112,\n",
       "  1237940039285380274899124224,\n",
       "  2475880078570760549798248448,\n",
       "  4951760157141521099596496896,\n",
       "  9903520314283042199192993792,\n",
       "  19807040628566084398385987584,\n",
       "  39614081257132168796771975168,\n",
       "  79228162514264337593543950336,\n",
       "  158456325028528675187087900672,\n",
       "  316912650057057350374175801344,\n",
       "  633825300114114700748351602688],\n",
       " [1,\n",
       "  3,\n",
       "  7,\n",
       "  15,\n",
       "  31,\n",
       "  63,\n",
       "  127,\n",
       "  255,\n",
       "  511,\n",
       "  1023,\n",
       "  2047,\n",
       "  4095,\n",
       "  8191,\n",
       "  16383,\n",
       "  32767,\n",
       "  65535,\n",
       "  131071,\n",
       "  262143,\n",
       "  524287,\n",
       "  1048575,\n",
       "  2097151,\n",
       "  4194303,\n",
       "  8388607,\n",
       "  16777215,\n",
       "  33554431,\n",
       "  67108863,\n",
       "  134217727,\n",
       "  268435455,\n",
       "  536870911,\n",
       "  1073741823,\n",
       "  2147483647,\n",
       "  4294967295,\n",
       "  8589934591,\n",
       "  17179869183,\n",
       "  34359738367,\n",
       "  68719476735,\n",
       "  137438953471,\n",
       "  274877906943,\n",
       "  549755813887,\n",
       "  1099511627775,\n",
       "  2199023255551,\n",
       "  4398046511103,\n",
       "  8796093022207,\n",
       "  17592186044415,\n",
       "  35184372088831,\n",
       "  70368744177663,\n",
       "  140737488355327,\n",
       "  281474976710655,\n",
       "  562949953421311,\n",
       "  1125899906842623,\n",
       "  2251799813685247,\n",
       "  4503599627370495,\n",
       "  9007199254740991,\n",
       "  18014398509481983,\n",
       "  36028797018963967,\n",
       "  72057594037927935,\n",
       "  144115188075855871,\n",
       "  288230376151711743,\n",
       "  576460752303423487,\n",
       "  1152921504606846975,\n",
       "  2305843009213693951,\n",
       "  4611686018427387903,\n",
       "  9223372036854775807,\n",
       "  18446744073709551615,\n",
       "  36893488147419103231,\n",
       "  73786976294838206463,\n",
       "  147573952589676412927,\n",
       "  295147905179352825855,\n",
       "  590295810358705651711,\n",
       "  1180591620717411303423,\n",
       "  2361183241434822606847,\n",
       "  4722366482869645213695,\n",
       "  9444732965739290427391,\n",
       "  18889465931478580854783,\n",
       "  37778931862957161709567,\n",
       "  75557863725914323419135,\n",
       "  151115727451828646838271,\n",
       "  302231454903657293676543,\n",
       "  604462909807314587353087,\n",
       "  1208925819614629174706175,\n",
       "  2417851639229258349412351,\n",
       "  4835703278458516698824703,\n",
       "  9671406556917033397649407,\n",
       "  19342813113834066795298815,\n",
       "  38685626227668133590597631,\n",
       "  77371252455336267181195263,\n",
       "  154742504910672534362390527,\n",
       "  309485009821345068724781055,\n",
       "  618970019642690137449562111,\n",
       "  1237940039285380274899124223,\n",
       "  2475880078570760549798248447,\n",
       "  4951760157141521099596496895,\n",
       "  9903520314283042199192993791,\n",
       "  19807040628566084398385987583,\n",
       "  39614081257132168796771975167,\n",
       "  79228162514264337593543950335,\n",
       "  158456325028528675187087900671,\n",
       "  316912650057057350374175801343,\n",
       "  633825300114114700748351602687,\n",
       "  1267650600228229401496703205375])"
      ]
     },
     "execution_count": 10,
     "metadata": {},
     "output_type": "execute_result"
    }
   ],
   "source": [
    "compute_sorori_shinzaemon(10)"
   ]
  },
  {
   "cell_type": "markdown",
   "metadata": {},
   "source": [
    "## 【問題3】何人が何日生活できる米か"
   ]
  },
  {
   "cell_type": "code",
   "execution_count": 33,
   "metadata": {
    "ExecuteTime": {
     "end_time": "2019-11-17T07:38:31.406518Z",
     "start_time": "2019-11-17T07:38:31.399545Z"
    }
   },
   "outputs": [],
   "source": [
    "import math \n",
    "def rice_as_lifesaver(amount, people):\n",
    "    '''\n",
    "    1日に人間が必要とするカロリーは平均約2000kcal。\n",
    "    ここでは単純化のため必要カロリー量のみ満たせば人は生活できると仮定する。\n",
    "    また、初めて米からの一日の摂取カロリー量が必要カロリー量を下回った日を\n",
    "    最終日とする。\n",
    "    \n",
    "    お米１合で534kcalのカロリー\n",
    "    お米一升の米粒は「ムシヤフナ（64827）」と覚えて64827粒です。\n",
    "    よって一合は一升の１０分の１ですから約６５００粒\n",
    "    '''\n",
    "    kcal_change = 534 *10 /64827 #米粒量をカロリーに換算\n",
    "    rice_kcal = amount * kcal_change\n",
    "\n",
    "    days = math.ceil(rice_kcal/ (people* 2000))\n",
    "    return print(\"得られる米で{}人が{}日生活できる。\".format(people,days))"
   ]
  },
  {
   "cell_type": "code",
   "execution_count": 38,
   "metadata": {
    "ExecuteTime": {
     "end_time": "2019-11-17T07:41:32.167421Z",
     "start_time": "2019-11-17T07:41:32.164146Z"
    }
   },
   "outputs": [],
   "source": [
    "#卒業まで120日\n",
    "amount = 0\n",
    "for i in range(120):\n",
    "    amount += 2 **(i)"
   ]
  },
  {
   "cell_type": "code",
   "execution_count": 40,
   "metadata": {
    "ExecuteTime": {
     "end_time": "2019-11-17T07:41:44.688212Z",
     "start_time": "2019-11-17T07:41:44.684439Z"
    }
   },
   "outputs": [
    {
     "name": "stdout",
     "output_type": "stream",
     "text": [
      "1329227995784915872903807060280344575\n",
      "得られる米で12人が4562192127695925447409644077056日生活できる。\n"
     ]
    }
   ],
   "source": [
    "print(amount)\n",
    "rice_as_lifesaver(amount, 12) #クラスにはメンター２名と生徒１０名"
   ]
  },
  {
   "cell_type": "code",
   "execution_count": null,
   "metadata": {},
   "outputs": [],
   "source": []
  }
 ],
 "metadata": {
  "kernelspec": {
   "display_name": "Python 3",
   "language": "python",
   "name": "python3"
  },
  "language_info": {
   "codemirror_mode": {
    "name": "ipython",
    "version": 3
   },
   "file_extension": ".py",
   "mimetype": "text/x-python",
   "name": "python",
   "nbconvert_exporter": "python",
   "pygments_lexer": "ipython3",
   "version": "3.7.3"
  },
  "toc": {
   "base_numbering": 1,
   "nav_menu": {},
   "number_sections": true,
   "sideBar": true,
   "skip_h1_title": false,
   "title_cell": "Table of Contents",
   "title_sidebar": "Contents",
   "toc_cell": false,
   "toc_position": {},
   "toc_section_display": true,
   "toc_window_display": false
  }
 },
 "nbformat": 4,
 "nbformat_minor": 2
}
