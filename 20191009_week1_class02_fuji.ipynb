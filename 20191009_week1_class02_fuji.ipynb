{
 "cells": [
  {
   "cell_type": "markdown",
   "metadata": {},
   "source": [
    "# 2.何回折ったら富士山を超えるか問題"
   ]
  },
  {
   "cell_type": "markdown",
   "metadata": {},
   "source": [
    "## 【問題1】富士山を超える最小の折る回数"
   ]
  },
  {
   "cell_type": "code",
   "execution_count": 72,
   "metadata": {},
   "outputs": [
    {
     "name": "stdout",
     "output_type": "stream",
     "text": [
      "26 times\n"
     ]
    }
   ],
   "source": [
    "THICKNESS=0.00008\n",
    "FUJI=3776\n",
    "height= THICKNESS\n",
    "count=0\n",
    "\n",
    "while height <= FUJI:\n",
    "    height*= 2\n",
    "    count+= 1\n",
    "    \n",
    "print(\"{} times\".format(count))"
   ]
  },
  {
   "cell_type": "markdown",
   "metadata": {},
   "source": [
    "## 【問題2】任意の厚さに対応した関数を作成"
   ]
  },
  {
   "cell_type": "code",
   "execution_count": 73,
   "metadata": {},
   "outputs": [],
   "source": [
    "def distance(meters,thick=0.00008):\n",
    "    count=0\n",
    "\n",
    "    while thick <= meters:\n",
    "        thick*=2\n",
    "        count+=1\n",
    "    \n",
    "    return count\n",
    "\n",
    "#print(distance(3776))"
   ]
  },
  {
   "cell_type": "code",
   "execution_count": 13,
   "metadata": {},
   "outputs": [
    {
     "name": "stdout",
     "output_type": "stream",
     "text": [
      "69\n"
     ]
    }
   ],
   "source": [
    "#最も近い太陽以外の恒星\n",
    "#プロキシマ・ケンタウリ 4.243光年\n",
    "#一光年=9.461e+15メートル\n",
    "\n",
    "print(distance(4.243*(9.461e+15)))"
   ]
  },
  {
   "cell_type": "markdown",
   "metadata": {},
   "source": [
    "## 【問題3】必要な紙の長さ\n",
    "\n",
    " - <red>円周率はmathを使うのがベター</red>"
   ]
  },
  {
   "cell_type": "code",
   "execution_count": 74,
   "metadata": {},
   "outputs": [],
   "source": [
    "# numpyモジュールを np という名前でインポートします\n",
    "import numpy as np\n",
    "\n",
    "# 円周率の近似値\n",
    "from numpy import pi\n",
    "#print(pi)\n",
    "\n",
    "\n",
    "def length(meters,thickness=0.00008):\n",
    "    d = distance(meters,thickness)\n",
    "    \n",
    "    return pi*thickness/6*((2**d+4))*((2**d-1)) #()間でも*を忘れないこと\n"
   ]
  },
  {
   "cell_type": "code",
   "execution_count": 77,
   "metadata": {},
   "outputs": [
    {
     "name": "stdout",
     "output_type": "stream",
     "text": [
      "月に届くのに必要な長さは3.240919444170781e+21メートル\n",
      "富士山に届くのに必要な長さは188646348487.24017メートル\n",
      "プロキシマ・ケンタウリに届くのに必要な長さは\n",
      "1.4595803601100348e+37メートル\n"
     ]
    }
   ],
   "source": [
    "print(\"月に届くのに必要な長さは{}メートル\"\n",
    "      .format(length(384400*1000)))\n",
    "\n",
    "print(\"富士山に届くのに必要な長さは{}メートル\".format(length(3776)))\n",
    "\n",
    "print(\"プロキシマ・ケンタウリに届くのに必要な長さは\\n{}メートル\"\n",
    "      .format(length(4.243*(9.461e+15))))"
   ]
  },
  {
   "cell_type": "code",
   "execution_count": 76,
   "metadata": {},
   "outputs": [
    {
     "data": {
      "text/plain": [
       "100"
      ]
     },
     "execution_count": 76,
     "metadata": {},
     "output_type": "execute_result"
    }
   ],
   "source": [
    "#見つかっている一番遠い星\n",
    "distance(90*100000000*(9.461e+15))"
   ]
  },
  {
   "cell_type": "code",
   "execution_count": null,
   "metadata": {},
   "outputs": [],
   "source": []
  }
 ],
 "metadata": {
  "kernelspec": {
   "display_name": "Python 3",
   "language": "python",
   "name": "python3"
  },
  "language_info": {
   "codemirror_mode": {
    "name": "ipython",
    "version": 3
   },
   "file_extension": ".py",
   "mimetype": "text/x-python",
   "name": "python",
   "nbconvert_exporter": "python",
   "pygments_lexer": "ipython3",
   "version": "3.7.3"
  }
 },
 "nbformat": 4,
 "nbformat_minor": 2
}
