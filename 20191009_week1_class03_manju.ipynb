{
 "cells": [
  {
   "cell_type": "markdown",
   "metadata": {},
   "source": [
    "# 栗まんじゅう問題"
   ]
  },
  {
   "cell_type": "markdown",
   "metadata": {},
   "source": [
    "## 【問題】栗まんじゅうが太陽系を覆う日"
   ]
  },
  {
   "cell_type": "code",
   "execution_count": 17,
   "metadata": {
    "scrolled": true
   },
   "outputs": [
    {
     "name": "stdout",
     "output_type": "stream",
     "text": [
      "栗饅頭が太陽系を埋め尽くすまで825分\n"
     ]
    }
   ],
   "source": [
    "#アンサイクロペディアより\n",
    "#栗まんじゅうの重さを100グラム、体積を100立方センチメートルと仮定する。\n",
    "#太陽系の端は、明確に定義されていないため、\n",
    "#太陽の重力による影響が及ぶ範囲半径10,000億Kmとする\n",
    "#重力圏出典：http://oyamahiroshi.cocolog-nifty.com/blog/2017/05/post-7d88.html\n",
    "\n",
    "#単純化するため、太陽を含む全ての天体の体積やその他物理学的影響を無視\n",
    "\n",
    "import math \n",
    "from math import pi\n",
    "\n",
    "#増やすものの体積を関数化すると応用が効く\n",
    "\n",
    "KURIMANJU=100/(100000**3) #立方キロメートルに変換\n",
    "\n",
    "solar_system=4/3*pi*((10000*10000*10000)**3) #単位立方キロメートル\n",
    "\n",
    "def crazymanju(volume):\n",
    "    i =KURIMANJU\n",
    "    count=0\n",
    "\n",
    "    while i <= volume:\n",
    "        i *= 2\n",
    "        count += 1*5\n",
    "        \n",
    "    return  count\n",
    "\n",
    "crazymanju(solar_system) #分後\n",
    "print(\"栗饅頭が太陽系を埋め尽くすまで{}分\".format(crazymanju(solar_system)))"
   ]
  },
  {
   "cell_type": "code",
   "execution_count": null,
   "metadata": {},
   "outputs": [],
   "source": []
  },
  {
   "cell_type": "code",
   "execution_count": null,
   "metadata": {},
   "outputs": [],
   "source": []
  }
 ],
 "metadata": {
  "kernelspec": {
   "display_name": "Python 3",
   "language": "python",
   "name": "python3"
  },
  "language_info": {
   "codemirror_mode": {
    "name": "ipython",
    "version": 3
   },
   "file_extension": ".py",
   "mimetype": "text/x-python",
   "name": "python",
   "nbconvert_exporter": "python",
   "pygments_lexer": "ipython3",
   "version": "3.7.3"
  }
 },
 "nbformat": 4,
 "nbformat_minor": 2
}
