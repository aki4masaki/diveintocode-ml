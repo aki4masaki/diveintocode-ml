{
 "cells": [
  {
   "cell_type": "markdown",
   "metadata": {},
   "source": [
    "# week2 授業課題1 二次元配列と勾配問題"
   ]
  },
  {
   "cell_type": "markdown",
   "metadata": {},
   "source": [
    "## 【問題1】1次関数"
   ]
  },
  {
   "cell_type": "code",
   "execution_count": 1,
   "metadata": {
    "ExecuteTime": {
     "end_time": "2019-11-17T07:43:24.464820Z",
     "start_time": "2019-11-17T07:43:24.192479Z"
    }
   },
   "outputs": [
    {
     "name": "stdout",
     "output_type": "stream",
     "text": [
      "(1001,)\n",
      "(1001, 1)\n",
      "1001\n",
      "1001\n"
     ]
    }
   ],
   "source": [
    "import numpy as np\n",
    "\n",
    "x_array_origin = np.arange(-50,50.1,0.1)\n",
    "x_array = x_array_origin.reshape(1001,1)\n",
    "print(x_array_origin.shape)\n",
    "\n",
    "y_array_origin = 0.5*x_array +1\n",
    "y_array = y_array_origin.reshape(1001,1)\n",
    "print(y_array.shape)\n",
    "#print(y_array)\n",
    "\n",
    "print(len(x_array))\n",
    "print(len(y_array))"
   ]
  },
  {
   "cell_type": "markdown",
   "metadata": {},
   "source": [
    "## 【問題2】配列の結合"
   ]
  },
  {
   "cell_type": "code",
   "execution_count": 2,
   "metadata": {
    "ExecuteTime": {
     "end_time": "2019-11-17T07:43:25.339292Z",
     "start_time": "2019-11-17T07:43:25.333572Z"
    },
    "scrolled": true
   },
   "outputs": [
    {
     "name": "stdout",
     "output_type": "stream",
     "text": [
      "[[-50.   -24.  ]\n",
      " [-49.9  -23.95]\n",
      " [-49.8  -23.9 ]\n",
      " ...\n",
      " [ 49.8   25.9 ]\n",
      " [ 49.9   25.95]\n",
      " [ 50.    26.  ]]\n",
      "(1001, 2)\n"
     ]
    }
   ],
   "source": [
    "z_origin = np.hstack((x_array,y_array))\n",
    "print(z_origin)\n",
    "print(z_origin.shape)"
   ]
  },
  {
   "cell_type": "markdown",
   "metadata": {},
   "source": [
    "## 【問題3】勾配を求める"
   ]
  },
  {
   "cell_type": "code",
   "execution_count": 3,
   "metadata": {
    "ExecuteTime": {
     "end_time": "2019-11-17T07:43:26.341187Z",
     "start_time": "2019-11-17T07:43:26.336179Z"
    }
   },
   "outputs": [
    {
     "name": "stdout",
     "output_type": "stream",
     "text": [
      "(1000, 1)\n"
     ]
    }
   ],
   "source": [
    "slice_x_pre = x_array[1:]\n",
    "slice_x_post = x_array[:-1]\n",
    "d_x = slice_x_pre - slice_x_post\n",
    "\n",
    "slice_y_pre = y_array[1:]\n",
    "slice_y_post = y_array[:-1]\n",
    "d_y = slice_y_pre - slice_y_post\n",
    "\n",
    "slope = d_y/d_x\n",
    "print(slope.shape)"
   ]
  },
  {
   "cell_type": "markdown",
   "metadata": {},
   "source": [
    "## 【問題4】グラフを描く"
   ]
  },
  {
   "cell_type": "code",
   "execution_count": 4,
   "metadata": {
    "ExecuteTime": {
     "end_time": "2019-11-17T07:43:29.946910Z",
     "start_time": "2019-11-17T07:43:29.507527Z"
    }
   },
   "outputs": [
    {
     "data": {
      "image/png": "[encoded data removed]",
      "text/plain": [
       "<Figure size 432x288 with 1 Axes>"
      ]
     },
     "metadata": {
      "needs_background": "light"
     },
     "output_type": "display_data"
    }
   ],
   "source": [
    "import matplotlib.pyplot as plt\n",
    "%matplotlib inline\n",
    "\n",
    "plt.plot(x_array, y_array)\n",
    "plt.plot(x_array[1:], slope)\n",
    "plt.show()\n",
    "#print(x_array.shape)"
   ]
  },
  {
   "cell_type": "markdown",
   "metadata": {},
   "source": [
    "## 【問題5】Pythonの関数化"
   ]
  },
  {
   "cell_type": "code",
   "execution_count": 39,
   "metadata": {
    "ExecuteTime": {
     "end_time": "2019-11-17T08:00:06.286691Z",
     "start_time": "2019-11-17T08:00:06.280293Z"
    }
   },
   "outputs": [],
   "source": [
    "def compute_gradient(function, x_range=(-50, 50.1, 0.1)):\n",
    "    \"\"\"\n",
    "    変化量を使い勾配を計算する。\n",
    "    Parameters\n",
    "    ----------------\n",
    "    function : function\n",
    "    求めたい関数、xのndarrayを入れるとyのndarrayを返すもの。\n",
    "    x_range : tuple\n",
    "    np.arange()の引数と同じ方法で範囲を指定する。\n",
    "\n",
    "    Returns\n",
    "    ----------------\n",
    "    array_xy : ndarray, shape(n, 2)\n",
    "    xとyを結合したもの。nはx_rangeに依存する。\n",
    "    gradient : ndarray, shape(n-1,)\n",
    "    関数の勾配。差をとるため要素は1つ減る\n",
    "    \"\"\"\n",
    "    x_array_origin = np.arange(x_range[0],x_range[1],x_range[2])\n",
    "    span =int(np.round((x_range[1]-x_range[0])/x_range[2]))\n",
    "    x_array = x_array_origin.reshape(span,1)\n",
    "    y_array = function(x_array).reshape(span,1)\n",
    "    array_xy = np.hstack((x_array,y_array))\n",
    "    \n",
    "    slice_x_pre = x_array[1:]\n",
    "    slice_x_post = x_array[:-1]\n",
    "    d_x = slice_x_pre - slice_x_post\n",
    "\n",
    "    slice_y_pre = y_array[1:]\n",
    "    slice_y_post = y_array[:-1]\n",
    "    d_y = slice_y_pre - slice_y_post\n",
    "\n",
    "    gradient = d_y/d_x\n",
    "    \n",
    "    return array_xy, gradient"
   ]
  },
  {
   "cell_type": "code",
   "execution_count": 91,
   "metadata": {
    "ExecuteTime": {
     "end_time": "2019-11-17T08:15:00.182491Z",
     "start_time": "2019-11-17T08:15:00.072040Z"
    }
   },
   "outputs": [
    {
     "name": "stdout",
     "output_type": "stream",
     "text": [
      "(1000,)\n"
     ]
    },
    {
     "data": {
      "image/png": "[encoded data removed]",
      "text/plain": [
       "<Figure size 432x288 with 1 Axes>"
      ]
     },
     "metadata": {
      "needs_background": "light"
     },
     "output_type": "display_data"
    }
   ],
   "source": [
    "def function1(array_x):\n",
    "\n",
    "    array_y = array_x **2\n",
    "\n",
    "    return array_y\n",
    "\n",
    "array_xy, gradient = compute_gradient(function1)\n",
    "plt.plot(array_xy[:,0], array_xy[:,1])\n",
    "print(gradient[:,0].shape)\n",
    "plt.plot(array_xy[:-1,0], gradient[:,0])\n",
    "plt.show()"
   ]
  },
  {
   "cell_type": "code",
   "execution_count": 92,
   "metadata": {
    "ExecuteTime": {
     "end_time": "2019-11-17T08:15:07.472913Z",
     "start_time": "2019-11-17T08:15:07.360274Z"
    }
   },
   "outputs": [
    {
     "data": {
      "image/png": "[encoded data removed]",
      "text/plain": [
       "<Figure size 432x288 with 1 Axes>"
      ]
     },
     "metadata": {
      "needs_background": "light"
     },
     "output_type": "display_data"
    }
   ],
   "source": [
    "def function2(array_x):\n",
    "\n",
    "    array_y = 2 * (array_x **2) + 2 ** array_x\n",
    "\n",
    "    return array_y\n",
    "\n",
    "array_xy, gradient = compute_gradient(function2)\n",
    "plt.plot(array_xy[:,0], array_xy[:,1])\n",
    "plt.plot(array_xy[:-1,0], gradient[:,0])\n",
    "plt.show()"
   ]
  },
  {
   "cell_type": "code",
   "execution_count": 93,
   "metadata": {
    "ExecuteTime": {
     "end_time": "2019-11-17T08:16:50.606264Z",
     "start_time": "2019-11-17T08:16:50.493123Z"
    }
   },
   "outputs": [
    {
     "data": {
      "image/png": "[encoded data removed]",
      "text/plain": [
       "<Figure size 432x288 with 1 Axes>"
      ]
     },
     "metadata": {
      "needs_background": "light"
     },
     "output_type": "display_data"
    }
   ],
   "source": [
    "def function3(array_x):\n",
    "\n",
    "    array_y = np.sin(array_x **(1/2)) #sin 計算\n",
    "\n",
    "    return array_y\n",
    "\n",
    "array_xy, gradient = compute_gradient(function3,x_range=(0, 50.1, 0.1))\n",
    "plt.plot(array_xy[:,0], array_xy[:,1])\n",
    "plt.plot(array_xy[:-1,0], gradient[:,0])\n",
    "plt.show()"
   ]
  },
  {
   "cell_type": "markdown",
   "metadata": {},
   "source": [
    "## 【問題6】最小値を求める\n",
    ">問題5で扱った関数のyの最小値を求めます。xの範囲も問題5と同様とします。"
   ]
  },
  {
   "cell_type": "code",
   "execution_count": 106,
   "metadata": {
    "ExecuteTime": {
     "end_time": "2019-11-17T08:27:43.110095Z",
     "start_time": "2019-11-17T08:27:43.100170Z"
    }
   },
   "outputs": [
    {
     "name": "stdout",
     "output_type": "stream",
     "text": [
      "func1 min: 5.048709793414476e-25\n",
      "勾配: 0.1000000000014225\n",
      "func2 min: 0.9505505632959851\n",
      "勾配: 0.024824282409972788\n",
      "func3 min: -0.9999997540298113\n",
      "勾配: 0.0004874477930660974\n"
     ]
    }
   ],
   "source": [
    "#ndarrayのminメソッド、argminメソッドを用いてください\n",
    "array_xy_1, gradient1 = compute_gradient(function1)\n",
    "print(\"func1 min:\",np.min(array_xy_1[:,1]))\n",
    "print(\"勾配:\",gradient1[np.argmin(array_xy_1[:,1]),0])\n",
    "\n",
    "array_xy_2, gradient2 = compute_gradient(function2)\n",
    "print(\"func2 min:\",np.min(array_xy_2[:,1]))\n",
    "print(\"勾配:\",gradient2[np.argmin(array_xy_2[:,1]),0])\n",
    "\n",
    "array_xy_3, gradient3 = compute_gradient(function3,x_range=(0, 50.1, 0.1))\n",
    "print(\"func3 min:\",np.min(array_xy_3[:,1]))\n",
    "print(\"勾配:\",gradient3[np.argmin(array_xy_3[:,1]),0])\n",
    "\n",
    "#最小のyをとる前後の勾配を表示してください。"
   ]
  },
  {
   "cell_type": "code",
   "execution_count": null,
   "metadata": {},
   "outputs": [],
   "source": []
  }
 ],
 "metadata": {
  "kernelspec": {
   "display_name": "Python 3",
   "language": "python",
   "name": "python3"
  },
  "language_info": {
   "codemirror_mode": {
    "name": "ipython",
    "version": 3
   },
   "file_extension": ".py",
   "mimetype": "text/x-python",
   "name": "python",
   "nbconvert_exporter": "python",
   "pygments_lexer": "ipython3",
   "version": "3.7.3"
  },
  "toc": {
   "base_numbering": 1,
   "nav_menu": {},
   "number_sections": true,
   "sideBar": true,
   "skip_h1_title": false,
   "title_cell": "Table of Contents",
   "title_sidebar": "Contents",
   "toc_cell": false,
   "toc_position": {},
   "toc_section_display": true,
   "toc_window_display": false
  }
 },
 "nbformat": 4,
 "nbformat_minor": 2
}
