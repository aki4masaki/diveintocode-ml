{
 "cells": [
  {
   "cell_type": "markdown",
   "metadata": {},
   "source": [
    "# week2 授業課題2 富士山下山"
   ]
  },
  {
   "cell_type": "markdown",
   "metadata": {},
   "source": [
    "## 富士山から下る\n",
    ">標高データの取得"
   ]
  },
  {
   "cell_type": "code",
   "execution_count": 1,
   "metadata": {
    "ExecuteTime": {
     "end_time": "2019-11-17T08:29:35.618015Z",
     "start_time": "2019-11-17T08:29:35.334382Z"
    }
   },
   "outputs": [],
   "source": [
    "import numpy as np\n",
    "\n",
    "csv_path = \"mtfuji_data.csv\" # ファイル名（パス）を指定する\n",
    "\n",
    "np.set_printoptions(suppress=True) # 指数表示の禁止を設定する\n",
    "fuji = np.loadtxt(csv_path, delimiter=\",\", skiprows=1)"
   ]
  },
  {
   "cell_type": "markdown",
   "metadata": {},
   "source": [
    "## 【問題1】データの可視化"
   ]
  },
  {
   "cell_type": "code",
   "execution_count": 2,
   "metadata": {
    "ExecuteTime": {
     "end_time": "2019-11-17T08:29:36.131498Z",
     "start_time": "2019-11-17T08:29:36.127167Z"
    }
   },
   "outputs": [
    {
     "name": "stdout",
     "output_type": "stream",
     "text": [
      "[299.]\n"
     ]
    }
   ],
   "source": [
    "print(fuji[-1:,0])"
   ]
  },
  {
   "cell_type": "code",
   "execution_count": 3,
   "metadata": {
    "ExecuteTime": {
     "end_time": "2019-11-17T08:29:37.036325Z",
     "start_time": "2019-11-17T08:29:36.584562Z"
    }
   },
   "outputs": [
    {
     "data": {
      "image/png": "[encoded data removed]",
      "text/plain": [
       "<Figure size 432x288 with 1 Axes>"
      ]
     },
     "metadata": {
      "needs_background": "light"
     },
     "output_type": "display_data"
    }
   ],
   "source": [
    "import matplotlib.pyplot as plt\n",
    "%matplotlib inline\n",
    "\n",
    "plt.plot(fuji[:,0],fuji[:,3])\n",
    "plt.xlabel(\"position\")\n",
    "plt.ylabel(\"elevation[m]\")\n",
    "plt.title(\"Mt.Fuji\")\n",
    "plt.show()"
   ]
  },
  {
   "cell_type": "markdown",
   "metadata": {},
   "source": [
    "## 【問題2】ある地点の勾配を計算する関数を作成"
   ]
  },
  {
   "cell_type": "code",
   "execution_count": 4,
   "metadata": {
    "ExecuteTime": {
     "end_time": "2019-11-17T08:29:37.484407Z",
     "start_time": "2019-11-17T08:29:37.477752Z"
    }
   },
   "outputs": [
    {
     "data": {
      "text/plain": [
       "0.5899999999999999"
      ]
     },
     "execution_count": 4,
     "metadata": {},
     "output_type": "execute_result"
    }
   ],
   "source": [
    "def compute_fujislope(point):\n",
    "   \n",
    "    d_x = fuji[point,0] - fuji[point-1,0]\n",
    "    \n",
    "    d_y = fuji[point,3] - fuji[point-1,3]\n",
    "    gradient = d_y/d_x\n",
    "\n",
    "    return gradient\n",
    "\n",
    "compute_fujislope(7)"
   ]
  },
  {
   "cell_type": "markdown",
   "metadata": {},
   "source": [
    "## 【問題3】移動先の地点を計算する関数を作成\n",
    ">今いる地点の勾配の情報を元に、次に移動先の地点を計算する関数を作成してください。\n",
    "\n",
    ">「移動先の地点 = 今いる地点 - α ×今いる地点の勾配」\n",
    "\n",
    ">αは0より大きい任意の値をとるハイパーパラメータ"
   ]
  },
  {
   "cell_type": "code",
   "execution_count": 5,
   "metadata": {
    "ExecuteTime": {
     "end_time": "2019-11-17T08:29:38.298237Z",
     "start_time": "2019-11-17T08:29:38.289412Z"
    }
   },
   "outputs": [
    {
     "data": {
      "text/plain": [
       "76"
      ]
     },
     "execution_count": 5,
     "metadata": {},
     "output_type": "execute_result"
    }
   ],
   "source": [
    "#例えば α = 0.2に設定\n",
    "#取り得ない値となった場合の処理が必要\n",
    "\n",
    "def moved_point(now_point,alpha=0.2):\n",
    "    next_point_raw = now_point - alpha*compute_fujislope(now_point)\n",
    "    \n",
    "    next_point = round(next_point_raw) #四捨五入で整数にする\n",
    "    \n",
    "    if 0 <= next_point < 300:\n",
    "        next_point = next_point\n",
    "    \n",
    "    else:\n",
    "        next_point = print(\"この値は無効です。移動前の位置:{}\".format(now_point))\n",
    "    return int(next_point)\n",
    "\n",
    "moved_point(68)"
   ]
  },
  {
   "cell_type": "markdown",
   "metadata": {},
   "source": [
    "## 【問題4】山を下る関数を作成"
   ]
  },
  {
   "cell_type": "code",
   "execution_count": 6,
   "metadata": {
    "ExecuteTime": {
     "end_time": "2019-11-17T08:29:39.112420Z",
     "start_time": "2019-11-17T08:29:39.104474Z"
    }
   },
   "outputs": [
    {
     "data": {
      "text/plain": [
       "[136.0,\n",
       " 102.0,\n",
       " 98.0,\n",
       " 95.0,\n",
       " 93.0,\n",
       " 89.0,\n",
       " 85.0,\n",
       " 82.0,\n",
       " 79.0,\n",
       " 73.0,\n",
       " 70.0,\n",
       " 78.0,\n",
       " 77.0,\n",
       " 75.0]"
      ]
     },
     "execution_count": 6,
     "metadata": {},
     "output_type": "execute_result"
    }
   ],
   "source": [
    "# 下り切る　= 問題３　の関数の戻り値が　now = next\n",
    "\n",
    "top_point = 136\n",
    "\n",
    "def downfall_fuji(point,alpha=0.2):\n",
    "    list_downfall = [fuji[point,0]] #初期値をリストに入れる\n",
    "    next_place = moved_point(point,alpha) #移動先を next_place に\n",
    "    \n",
    "    while next_place != moved_point(next_place,alpha) : #現在地 != 移動先の時\n",
    "        list_downfall.append(fuji[next_place,0]) #リストに地点を投げ込んでいく\n",
    "        \n",
    "        next_place = moved_point(next_place,alpha)\n",
    "    \n",
    "    list_downfall.append(fuji[next_place,0]) #現在地 = 移動先の時 while から抜ける\n",
    "    \n",
    "    return list_downfall\n",
    "    \n",
    "\n",
    "downfall_fuji(top_point,0.2)"
   ]
  },
  {
   "cell_type": "code",
   "execution_count": 27,
   "metadata": {
    "ExecuteTime": {
     "end_time": "2019-11-17T08:29:39.545773Z",
     "start_time": "2019-11-17T08:29:39.538930Z"
    }
   },
   "outputs": [
    {
     "data": {
      "text/plain": [
       "[3434.59,\n",
       " 817.62,\n",
       " 741.17,\n",
       " 672.36,\n",
       " 631.71,\n",
       " 575.07,\n",
       " 505.1,\n",
       " 458.66,\n",
       " 418.41,\n",
       " 368.91,\n",
       " 412.27,\n",
       " 390.14,\n",
       " 386.64,\n",
       " 371.19]"
      ]
     },
     "execution_count": 27,
     "metadata": {},
     "output_type": "execute_result"
    }
   ],
   "source": [
    "def downfall_fuji_hight(point,alpha=0.01):\n",
    "    list_downfall = [fuji[point,3]] #初期値をリストに入れる\n",
    "    next_place = moved_point(point,alpha) #移動先を next_place に\n",
    "    \n",
    "    while next_place != moved_point(next_place,alpha) : #現在地 != 移動先の時\n",
    "        list_downfall.append(fuji[next_place,3]) #リストに地点を投げ込んでいく\n",
    "        \n",
    "        next_place = moved_point(next_place,alpha)\n",
    "    \n",
    "    list_downfall.append(fuji[next_place,3]) #現在地 = 移動先の時 while から抜ける\n",
    "    \n",
    "    return list_downfall\n",
    "\n",
    "downfall_fuji_hight(top_point,0.2)"
   ]
  },
  {
   "cell_type": "markdown",
   "metadata": {},
   "source": [
    "## 【問題5】下山過程の可視化"
   ]
  },
  {
   "cell_type": "code",
   "execution_count": 28,
   "metadata": {
    "ExecuteTime": {
     "end_time": "2019-11-17T08:29:40.368760Z",
     "start_time": "2019-11-17T08:29:40.364302Z"
    }
   },
   "outputs": [
    {
     "name": "stdout",
     "output_type": "stream",
     "text": [
      "14\n"
     ]
    }
   ],
   "source": [
    "print(len(downfall_fuji(top_point,0.2)))"
   ]
  },
  {
   "cell_type": "code",
   "execution_count": 29,
   "metadata": {
    "ExecuteTime": {
     "end_time": "2019-11-17T08:29:40.755516Z",
     "start_time": "2019-11-17T08:29:40.751352Z"
    }
   },
   "outputs": [],
   "source": [
    "x = [i for i in range(len(downfall_fuji(top_point,0.2)))] "
   ]
  },
  {
   "cell_type": "code",
   "execution_count": 30,
   "metadata": {
    "ExecuteTime": {
     "end_time": "2019-11-17T08:29:41.338097Z",
     "start_time": "2019-11-17T08:29:41.224015Z"
    }
   },
   "outputs": [
    {
     "data": {
      "image/png": "[encoded data removed]",
      "text/plain": [
       "<Figure size 432x288 with 1 Axes>"
      ]
     },
     "metadata": {
      "needs_background": "light"
     },
     "output_type": "display_data"
    }
   ],
   "source": [
    "#地点表記\n",
    "\n",
    "plt.plot(downfall_fuji(top_point,0.2),x)\n",
    "plt.xlabel(\"position\")\n",
    "plt.ylabel(\"times\")\n",
    "plt.title(\"Mt.Fuji\")\n",
    "plt.show()"
   ]
  },
  {
   "cell_type": "code",
   "execution_count": 31,
   "metadata": {
    "ExecuteTime": {
     "end_time": "2019-11-17T08:29:41.843104Z",
     "start_time": "2019-11-17T08:29:41.715592Z"
    }
   },
   "outputs": [
    {
     "data": {
      "image/png": "[encoded data removed]",
      "text/plain": [
       "<Figure size 432x288 with 1 Axes>"
      ]
     },
     "metadata": {
      "needs_background": "light"
     },
     "output_type": "display_data"
    }
   ],
   "source": [
    "#標高表示\n",
    "#富士山のグラフと併記したら\n",
    "\n",
    "plt.plot(fuji[:,0],fuji[:,3])\n",
    "plt.plot(downfall_fuji(top_point,0.2),downfall_fuji_hight(top_point,0.2))\n",
    "plt.xlabel(\"position\")\n",
    "plt.ylabel(\"elevation[m]\")\n",
    "plt.title(\"Mt.Fuji\")\n",
    "plt.show()"
   ]
  },
  {
   "cell_type": "code",
   "execution_count": 12,
   "metadata": {
    "ExecuteTime": {
     "end_time": "2019-11-17T08:29:43.741375Z",
     "start_time": "2019-11-17T08:29:42.350284Z"
    }
   },
   "outputs": [
    {
     "data": {
      "image/png": "[encoded data removed]",
      "text/plain": [
       "<Figure size 432x288 with 2 Axes>"
      ]
     },
     "metadata": {
      "needs_background": "light"
     },
     "output_type": "display_data"
    }
   ],
   "source": [
    "# 他の方法\n",
    "import seaborn as sns\n",
    "mat = np.array(downfall_fuji(top_point,0.2)).reshape(1,14)\n",
    "\n",
    "# ヒートマップ表示\n",
    "plt.figure()\n",
    "plt.imshow(mat,interpolation='nearest',cmap='plasma')\n",
    "plt.colorbar()\n",
    "plt.show()\n",
    "\n",
    "# 等高線で密度を表示\n",
    "#sns.jointplot('petal_width', 'petal_length',data=iris, kind=\"kde\")"
   ]
  },
  {
   "cell_type": "markdown",
   "metadata": {},
   "source": [
    "## 【問題6】初期値の変更\n",
    ">他の全ての点で計算してください。そして、いくつかの初期値に対してどのような下山過程となるか、問題5のように可視化してください。"
   ]
  },
  {
   "cell_type": "code",
   "execution_count": 34,
   "metadata": {},
   "outputs": [
    {
     "data": {
      "text/plain": [
       "[150.0, 151.0, 152.0, 153.0, 154.0, 155.0, 156.0, 157.0, 158.0]"
      ]
     },
     "execution_count": 34,
     "metadata": {},
     "output_type": "execute_result"
    }
   ],
   "source": [
    "downfall_fuji(150,0.01)"
   ]
  },
  {
   "cell_type": "code",
   "execution_count": 38,
   "metadata": {
    "ExecuteTime": {
     "end_time": "2019-11-17T08:29:43.973050Z",
     "start_time": "2019-11-17T08:29:43.841223Z"
    }
   },
   "outputs": [
    {
     "data": {
      "image/png": "[encoded data removed]",
      "text/plain": [
       "<Figure size 432x288 with 1 Axes>"
      ]
     },
     "metadata": {
      "needs_background": "light"
     },
     "output_type": "display_data"
    }
   ],
   "source": [
    "#downfall_fuji(point) に各地点代入\n",
    "#０など、if moved_point(now_point)　がエラーの時、downfall_fuji(point) 計算しない.\n",
    "\n",
    "\n",
    "\n",
    "plt.plot(fuji[:,0],fuji[:,3])\n",
    "plt.plot(downfall_fuji(top_point,0.2),downfall_fuji_hight(top_point,0.2))\n",
    "plt.plot(downfall_fuji(120,0.1),downfall_fuji_hight(120,0.1))\n",
    "plt.plot(downfall_fuji(140,0.01),downfall_fuji_hight(140,0.01))\n",
    "plt.plot(downfall_fuji(30,0.2),downfall_fuji_hight(30,0.2))\n",
    "plt.xlabel(\"position\")\n",
    "plt.ylabel(\"elevation[m]\")\n",
    "plt.title(\"Mt.Fuji\")\n",
    "plt.show()"
   ]
  },
  {
   "cell_type": "markdown",
   "metadata": {},
   "source": [
    "## 【問題7】（アドバンス問題）ハイパーパラメータの変更"
   ]
  },
  {
   "cell_type": "code",
   "execution_count": 15,
   "metadata": {
    "ExecuteTime": {
     "end_time": "2019-11-17T08:29:45.061641Z",
     "start_time": "2019-11-17T08:29:45.054001Z"
    }
   },
   "outputs": [
    {
     "data": {
      "text/plain": [
       "[136.0, 52.0, 15.0, 46.0]"
      ]
     },
     "execution_count": 15,
     "metadata": {},
     "output_type": "execute_result"
    }
   ],
   "source": [
    "#alpha = 0.5 の時\n",
    "alpha = 0.5\n",
    "\n",
    "def downfall_fuji(point,alpha=0.2):\n",
    "    list_downfall = [fuji[point,0]] #初期値をリストに入れる\n",
    "    next_place = moved_point(point,alpha) #移動先を next_place に\n",
    "    \n",
    "    while next_place != moved_point(next_place,alpha) : #現在地 != 移動先の時\n",
    "        list_downfall.append(fuji[next_place,0]) #リストに地点を投げ込んでいく\n",
    "        \n",
    "        next_place = moved_point(next_place,alpha)\n",
    "    \n",
    "    list_downfall.append(fuji[next_place,0]) #現在地 = 移動先の時 while から抜ける\n",
    "    \n",
    "    return list_downfall\n",
    "    \n",
    "\n",
    "downfall_fuji(top_point,alpha)"
   ]
  },
  {
   "cell_type": "code",
   "execution_count": 195,
   "metadata": {},
   "outputs": [
    {
     "data": {
      "text/plain": [
       "[3434.59, 955.14, 371.74, 724.5]"
      ]
     },
     "execution_count": 195,
     "metadata": {},
     "output_type": "execute_result"
    }
   ],
   "source": [
    "downfall_fuji_hight(top_point,alpha)"
   ]
  },
  {
   "cell_type": "code",
   "execution_count": 203,
   "metadata": {},
   "outputs": [
    {
     "data": {
      "image/png": "[encoded data removed]",
      "text/plain": [
       "<Figure size 432x288 with 1 Axes>"
      ]
     },
     "metadata": {
      "needs_background": "light"
     },
     "output_type": "display_data"
    }
   ],
   "source": [
    "#標高表示\n",
    "x_a = [i for i in range(len(downfall_fuji(top_point,alpha)))] \n",
    "\n",
    "plt.plot(x_a,downfall_fuji_hight(top_point,alpha))\n",
    "plt.xlabel(\"elevation[m]\")\n",
    "plt.ylabel(\"place\")\n",
    "plt.title(\"Mt.Fuji\")\n",
    "plt.show()"
   ]
  },
  {
   "cell_type": "code",
   "execution_count": null,
   "metadata": {},
   "outputs": [],
   "source": []
  }
 ],
 "metadata": {
  "kernelspec": {
   "display_name": "Python 3",
   "language": "python",
   "name": "python3"
  },
  "language_info": {
   "codemirror_mode": {
    "name": "ipython",
    "version": 3
   },
   "file_extension": ".py",
   "mimetype": "text/x-python",
   "name": "python",
   "nbconvert_exporter": "python",
   "pygments_lexer": "ipython3",
   "version": "3.7.4"
  },
  "toc": {
   "base_numbering": 1,
   "nav_menu": {},
   "number_sections": true,
   "sideBar": true,
   "skip_h1_title": false,
   "title_cell": "Table of Contents",
   "title_sidebar": "Contents",
   "toc_cell": false,
   "toc_position": {},
   "toc_section_display": true,
   "toc_window_display": false
  }
 },
 "nbformat": 4,
 "nbformat_minor": 4
}
