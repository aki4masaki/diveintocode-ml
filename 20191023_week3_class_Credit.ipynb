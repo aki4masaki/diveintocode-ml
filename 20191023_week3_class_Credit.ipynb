{
 "cells": [
  {
   "cell_type": "markdown",
   "metadata": {},
   "source": [
    "# 【問題1】コンペティション内容の把握\n",
    ">Home Credit Default Riskはどのようなコンペティションか、以下の観点からレポートしてください。\n",
    "- Home Creditはどのような企業？\n",
    "- このコンペティションでは何を予測する？\n",
    "- それを予測することで企業が得られるメリットは何？"
   ]
  },
  {
   "cell_type": "markdown",
   "metadata": {},
   "source": [
    "1.Home Credit は、信用履歴が不十分で銀行口座がなくお金が借りられない人々にお金を貸し出すサービス。\n",
    "そういった人々が良好なローンを組むことを保証するために、Home Credit は様々なデータ(電話会社、取引情報を含む)を用い、顧客の返済(repayment)能力を予測します。\n",
    "\n",
    "2.返済可能なクライアントが拒否されないように、\n",
    "- 顧客の返済能力の予測を行う。元金(principal)、満期(maturity)、返済(repayment)カレンダーを予測。\n",
    "\n",
    "3.予測することで企業が得られるメリットは、\n",
    "- デフォルト(債務不履行)を減らせる。\n",
    "- 返済能力があるにも関わらずこれまで融資を受けられなかった顧客を取り込める。"
   ]
  },
  {
   "cell_type": "code",
   "execution_count": 1,
   "metadata": {},
   "outputs": [],
   "source": [
    "import numpy as np\n",
    "import pandas as pd\n",
    "import missingno as msno\n",
    "import seaborn as sns\n",
    "import matplotlib.pyplot as plt\n",
    "import category_encoders as ce\n",
    "\n",
    "df = pd.read_csv('application_train.csv')"
   ]
  },
  {
   "cell_type": "code",
   "execution_count": 2,
   "metadata": {},
   "outputs": [
    {
     "name": "stdout",
     "output_type": "stream",
     "text": [
      "(307511, 122)\n"
     ]
    }
   ],
   "source": [
    "print(df.shape)"
   ]
  },
  {
   "cell_type": "markdown",
   "metadata": {},
   "source": [
    "## 【問題2】データの概観の把握"
   ]
  },
  {
   "cell_type": "code",
   "execution_count": 3,
   "metadata": {},
   "outputs": [
    {
     "data": {
      "text/html": [
       "<div>\n",
       "<style scoped>\n",
       "    .dataframe tbody tr th:only-of-type {\n",
       "        vertical-align: middle;\n",
       "    }\n",
       "\n",
       "    .dataframe tbody tr th {\n",
       "        vertical-align: top;\n",
       "    }\n",
       "\n",
       "    .dataframe thead th {\n",
       "        text-align: right;\n",
       "    }\n",
       "</style>\n",
       "<table border=\"1\" class=\"dataframe\">\n",
       "  <thead>\n",
       "    <tr style=\"text-align: right;\">\n",
       "      <th></th>\n",
       "      <th>SK_ID_CURR</th>\n",
       "      <th>TARGET</th>\n",
       "      <th>NAME_CONTRACT_TYPE</th>\n",
       "      <th>CODE_GENDER</th>\n",
       "      <th>FLAG_OWN_CAR</th>\n",
       "      <th>FLAG_OWN_REALTY</th>\n",
       "      <th>CNT_CHILDREN</th>\n",
       "      <th>AMT_INCOME_TOTAL</th>\n",
       "      <th>AMT_CREDIT</th>\n",
       "      <th>AMT_ANNUITY</th>\n",
       "      <th>...</th>\n",
       "      <th>FLAG_DOCUMENT_18</th>\n",
       "      <th>FLAG_DOCUMENT_19</th>\n",
       "      <th>FLAG_DOCUMENT_20</th>\n",
       "      <th>FLAG_DOCUMENT_21</th>\n",
       "      <th>AMT_REQ_CREDIT_BUREAU_HOUR</th>\n",
       "      <th>AMT_REQ_CREDIT_BUREAU_DAY</th>\n",
       "      <th>AMT_REQ_CREDIT_BUREAU_WEEK</th>\n",
       "      <th>AMT_REQ_CREDIT_BUREAU_MON</th>\n",
       "      <th>AMT_REQ_CREDIT_BUREAU_QRT</th>\n",
       "      <th>AMT_REQ_CREDIT_BUREAU_YEAR</th>\n",
       "    </tr>\n",
       "  </thead>\n",
       "  <tbody>\n",
       "    <tr>\n",
       "      <th>0</th>\n",
       "      <td>100002</td>\n",
       "      <td>1</td>\n",
       "      <td>Cash loans</td>\n",
       "      <td>M</td>\n",
       "      <td>N</td>\n",
       "      <td>Y</td>\n",
       "      <td>0</td>\n",
       "      <td>202500.0</td>\n",
       "      <td>406597.5</td>\n",
       "      <td>24700.5</td>\n",
       "      <td>...</td>\n",
       "      <td>0</td>\n",
       "      <td>0</td>\n",
       "      <td>0</td>\n",
       "      <td>0</td>\n",
       "      <td>0.0</td>\n",
       "      <td>0.0</td>\n",
       "      <td>0.0</td>\n",
       "      <td>0.0</td>\n",
       "      <td>0.0</td>\n",
       "      <td>1.0</td>\n",
       "    </tr>\n",
       "    <tr>\n",
       "      <th>1</th>\n",
       "      <td>100003</td>\n",
       "      <td>0</td>\n",
       "      <td>Cash loans</td>\n",
       "      <td>F</td>\n",
       "      <td>N</td>\n",
       "      <td>N</td>\n",
       "      <td>0</td>\n",
       "      <td>270000.0</td>\n",
       "      <td>1293502.5</td>\n",
       "      <td>35698.5</td>\n",
       "      <td>...</td>\n",
       "      <td>0</td>\n",
       "      <td>0</td>\n",
       "      <td>0</td>\n",
       "      <td>0</td>\n",
       "      <td>0.0</td>\n",
       "      <td>0.0</td>\n",
       "      <td>0.0</td>\n",
       "      <td>0.0</td>\n",
       "      <td>0.0</td>\n",
       "      <td>0.0</td>\n",
       "    </tr>\n",
       "    <tr>\n",
       "      <th>2</th>\n",
       "      <td>100004</td>\n",
       "      <td>0</td>\n",
       "      <td>Revolving loans</td>\n",
       "      <td>M</td>\n",
       "      <td>Y</td>\n",
       "      <td>Y</td>\n",
       "      <td>0</td>\n",
       "      <td>67500.0</td>\n",
       "      <td>135000.0</td>\n",
       "      <td>6750.0</td>\n",
       "      <td>...</td>\n",
       "      <td>0</td>\n",
       "      <td>0</td>\n",
       "      <td>0</td>\n",
       "      <td>0</td>\n",
       "      <td>0.0</td>\n",
       "      <td>0.0</td>\n",
       "      <td>0.0</td>\n",
       "      <td>0.0</td>\n",
       "      <td>0.0</td>\n",
       "      <td>0.0</td>\n",
       "    </tr>\n",
       "    <tr>\n",
       "      <th>3</th>\n",
       "      <td>100006</td>\n",
       "      <td>0</td>\n",
       "      <td>Cash loans</td>\n",
       "      <td>F</td>\n",
       "      <td>N</td>\n",
       "      <td>Y</td>\n",
       "      <td>0</td>\n",
       "      <td>135000.0</td>\n",
       "      <td>312682.5</td>\n",
       "      <td>29686.5</td>\n",
       "      <td>...</td>\n",
       "      <td>0</td>\n",
       "      <td>0</td>\n",
       "      <td>0</td>\n",
       "      <td>0</td>\n",
       "      <td>NaN</td>\n",
       "      <td>NaN</td>\n",
       "      <td>NaN</td>\n",
       "      <td>NaN</td>\n",
       "      <td>NaN</td>\n",
       "      <td>NaN</td>\n",
       "    </tr>\n",
       "    <tr>\n",
       "      <th>4</th>\n",
       "      <td>100007</td>\n",
       "      <td>0</td>\n",
       "      <td>Cash loans</td>\n",
       "      <td>M</td>\n",
       "      <td>N</td>\n",
       "      <td>Y</td>\n",
       "      <td>0</td>\n",
       "      <td>121500.0</td>\n",
       "      <td>513000.0</td>\n",
       "      <td>21865.5</td>\n",
       "      <td>...</td>\n",
       "      <td>0</td>\n",
       "      <td>0</td>\n",
       "      <td>0</td>\n",
       "      <td>0</td>\n",
       "      <td>0.0</td>\n",
       "      <td>0.0</td>\n",
       "      <td>0.0</td>\n",
       "      <td>0.0</td>\n",
       "      <td>0.0</td>\n",
       "      <td>0.0</td>\n",
       "    </tr>\n",
       "    <tr>\n",
       "      <th>5</th>\n",
       "      <td>100008</td>\n",
       "      <td>0</td>\n",
       "      <td>Cash loans</td>\n",
       "      <td>M</td>\n",
       "      <td>N</td>\n",
       "      <td>Y</td>\n",
       "      <td>0</td>\n",
       "      <td>99000.0</td>\n",
       "      <td>490495.5</td>\n",
       "      <td>27517.5</td>\n",
       "      <td>...</td>\n",
       "      <td>0</td>\n",
       "      <td>0</td>\n",
       "      <td>0</td>\n",
       "      <td>0</td>\n",
       "      <td>0.0</td>\n",
       "      <td>0.0</td>\n",
       "      <td>0.0</td>\n",
       "      <td>0.0</td>\n",
       "      <td>1.0</td>\n",
       "      <td>1.0</td>\n",
       "    </tr>\n",
       "    <tr>\n",
       "      <th>6</th>\n",
       "      <td>100009</td>\n",
       "      <td>0</td>\n",
       "      <td>Cash loans</td>\n",
       "      <td>F</td>\n",
       "      <td>Y</td>\n",
       "      <td>Y</td>\n",
       "      <td>1</td>\n",
       "      <td>171000.0</td>\n",
       "      <td>1560726.0</td>\n",
       "      <td>41301.0</td>\n",
       "      <td>...</td>\n",
       "      <td>0</td>\n",
       "      <td>0</td>\n",
       "      <td>0</td>\n",
       "      <td>0</td>\n",
       "      <td>0.0</td>\n",
       "      <td>0.0</td>\n",
       "      <td>0.0</td>\n",
       "      <td>1.0</td>\n",
       "      <td>1.0</td>\n",
       "      <td>2.0</td>\n",
       "    </tr>\n",
       "    <tr>\n",
       "      <th>7</th>\n",
       "      <td>100010</td>\n",
       "      <td>0</td>\n",
       "      <td>Cash loans</td>\n",
       "      <td>M</td>\n",
       "      <td>Y</td>\n",
       "      <td>Y</td>\n",
       "      <td>0</td>\n",
       "      <td>360000.0</td>\n",
       "      <td>1530000.0</td>\n",
       "      <td>42075.0</td>\n",
       "      <td>...</td>\n",
       "      <td>0</td>\n",
       "      <td>0</td>\n",
       "      <td>0</td>\n",
       "      <td>0</td>\n",
       "      <td>0.0</td>\n",
       "      <td>0.0</td>\n",
       "      <td>0.0</td>\n",
       "      <td>0.0</td>\n",
       "      <td>0.0</td>\n",
       "      <td>0.0</td>\n",
       "    </tr>\n",
       "    <tr>\n",
       "      <th>8</th>\n",
       "      <td>100011</td>\n",
       "      <td>0</td>\n",
       "      <td>Cash loans</td>\n",
       "      <td>F</td>\n",
       "      <td>N</td>\n",
       "      <td>Y</td>\n",
       "      <td>0</td>\n",
       "      <td>112500.0</td>\n",
       "      <td>1019610.0</td>\n",
       "      <td>33826.5</td>\n",
       "      <td>...</td>\n",
       "      <td>0</td>\n",
       "      <td>0</td>\n",
       "      <td>0</td>\n",
       "      <td>0</td>\n",
       "      <td>0.0</td>\n",
       "      <td>0.0</td>\n",
       "      <td>0.0</td>\n",
       "      <td>0.0</td>\n",
       "      <td>0.0</td>\n",
       "      <td>1.0</td>\n",
       "    </tr>\n",
       "    <tr>\n",
       "      <th>9</th>\n",
       "      <td>100012</td>\n",
       "      <td>0</td>\n",
       "      <td>Revolving loans</td>\n",
       "      <td>M</td>\n",
       "      <td>N</td>\n",
       "      <td>Y</td>\n",
       "      <td>0</td>\n",
       "      <td>135000.0</td>\n",
       "      <td>405000.0</td>\n",
       "      <td>20250.0</td>\n",
       "      <td>...</td>\n",
       "      <td>0</td>\n",
       "      <td>0</td>\n",
       "      <td>0</td>\n",
       "      <td>0</td>\n",
       "      <td>NaN</td>\n",
       "      <td>NaN</td>\n",
       "      <td>NaN</td>\n",
       "      <td>NaN</td>\n",
       "      <td>NaN</td>\n",
       "      <td>NaN</td>\n",
       "    </tr>\n",
       "  </tbody>\n",
       "</table>\n",
       "<p>10 rows × 122 columns</p>\n",
       "</div>"
      ],
      "text/plain": [
       "   SK_ID_CURR  TARGET NAME_CONTRACT_TYPE CODE_GENDER FLAG_OWN_CAR  \\\n",
       "0      100002       1         Cash loans           M            N   \n",
       "1      100003       0         Cash loans           F            N   \n",
       "2      100004       0    Revolving loans           M            Y   \n",
       "3      100006       0         Cash loans           F            N   \n",
       "4      100007       0         Cash loans           M            N   \n",
       "5      100008       0         Cash loans           M            N   \n",
       "6      100009       0         Cash loans           F            Y   \n",
       "7      100010       0         Cash loans           M            Y   \n",
       "8      100011       0         Cash loans           F            N   \n",
       "9      100012       0    Revolving loans           M            N   \n",
       "\n",
       "  FLAG_OWN_REALTY  CNT_CHILDREN  AMT_INCOME_TOTAL  AMT_CREDIT  AMT_ANNUITY  \\\n",
       "0               Y             0          202500.0    406597.5      24700.5   \n",
       "1               N             0          270000.0   1293502.5      35698.5   \n",
       "2               Y             0           67500.0    135000.0       6750.0   \n",
       "3               Y             0          135000.0    312682.5      29686.5   \n",
       "4               Y             0          121500.0    513000.0      21865.5   \n",
       "5               Y             0           99000.0    490495.5      27517.5   \n",
       "6               Y             1          171000.0   1560726.0      41301.0   \n",
       "7               Y             0          360000.0   1530000.0      42075.0   \n",
       "8               Y             0          112500.0   1019610.0      33826.5   \n",
       "9               Y             0          135000.0    405000.0      20250.0   \n",
       "\n",
       "   ...  FLAG_DOCUMENT_18 FLAG_DOCUMENT_19 FLAG_DOCUMENT_20 FLAG_DOCUMENT_21  \\\n",
       "0  ...                 0                0                0                0   \n",
       "1  ...                 0                0                0                0   \n",
       "2  ...                 0                0                0                0   \n",
       "3  ...                 0                0                0                0   \n",
       "4  ...                 0                0                0                0   \n",
       "5  ...                 0                0                0                0   \n",
       "6  ...                 0                0                0                0   \n",
       "7  ...                 0                0                0                0   \n",
       "8  ...                 0                0                0                0   \n",
       "9  ...                 0                0                0                0   \n",
       "\n",
       "  AMT_REQ_CREDIT_BUREAU_HOUR AMT_REQ_CREDIT_BUREAU_DAY  \\\n",
       "0                        0.0                       0.0   \n",
       "1                        0.0                       0.0   \n",
       "2                        0.0                       0.0   \n",
       "3                        NaN                       NaN   \n",
       "4                        0.0                       0.0   \n",
       "5                        0.0                       0.0   \n",
       "6                        0.0                       0.0   \n",
       "7                        0.0                       0.0   \n",
       "8                        0.0                       0.0   \n",
       "9                        NaN                       NaN   \n",
       "\n",
       "   AMT_REQ_CREDIT_BUREAU_WEEK  AMT_REQ_CREDIT_BUREAU_MON  \\\n",
       "0                         0.0                        0.0   \n",
       "1                         0.0                        0.0   \n",
       "2                         0.0                        0.0   \n",
       "3                         NaN                        NaN   \n",
       "4                         0.0                        0.0   \n",
       "5                         0.0                        0.0   \n",
       "6                         0.0                        1.0   \n",
       "7                         0.0                        0.0   \n",
       "8                         0.0                        0.0   \n",
       "9                         NaN                        NaN   \n",
       "\n",
       "   AMT_REQ_CREDIT_BUREAU_QRT  AMT_REQ_CREDIT_BUREAU_YEAR  \n",
       "0                        0.0                         1.0  \n",
       "1                        0.0                         0.0  \n",
       "2                        0.0                         0.0  \n",
       "3                        NaN                         NaN  \n",
       "4                        0.0                         0.0  \n",
       "5                        1.0                         1.0  \n",
       "6                        1.0                         2.0  \n",
       "7                        0.0                         0.0  \n",
       "8                        0.0                         1.0  \n",
       "9                        NaN                         NaN  \n",
       "\n",
       "[10 rows x 122 columns]"
      ]
     },
     "metadata": {},
     "output_type": "display_data"
    }
   ],
   "source": [
    "# .head()、.info()、describe()などを使う\n",
    "display(df.head(10))\n",
    "# print(df.info())\n",
    "# print(df.describe())"
   ]
  },
  {
   "cell_type": "code",
   "execution_count": 4,
   "metadata": {},
   "outputs": [
    {
     "name": "stdout",
     "output_type": "stream",
     "text": [
      "SK_ID_CURR:0\n",
      "TARGET:0\n",
      "NAME_CONTRACT_TYPE:0\n",
      "CODE_GENDER:0\n",
      "FLAG_OWN_CAR:0\n",
      "FLAG_OWN_REALTY:0\n",
      "CNT_CHILDREN:0\n",
      "AMT_INCOME_TOTAL:0\n",
      "AMT_CREDIT:0\n",
      "AMT_ANNUITY:12\n",
      "AMT_GOODS_PRICE:278\n",
      "NAME_TYPE_SUITE:1292\n",
      "NAME_INCOME_TYPE:0\n",
      "NAME_EDUCATION_TYPE:0\n",
      "NAME_FAMILY_STATUS:0\n",
      "NAME_HOUSING_TYPE:0\n",
      "REGION_POPULATION_RELATIVE:0\n",
      "DAYS_BIRTH:0\n",
      "DAYS_EMPLOYED:0\n",
      "DAYS_REGISTRATION:0\n",
      "DAYS_ID_PUBLISH:0\n",
      "OWN_CAR_AGE:202929\n",
      "FLAG_MOBIL:0\n",
      "FLAG_EMP_PHONE:0\n",
      "FLAG_WORK_PHONE:0\n",
      "FLAG_CONT_MOBILE:0\n",
      "FLAG_PHONE:0\n",
      "FLAG_EMAIL:0\n",
      "OCCUPATION_TYPE:96391\n",
      "CNT_FAM_MEMBERS:2\n",
      "REGION_RATING_CLIENT:0\n",
      "REGION_RATING_CLIENT_W_CITY:0\n",
      "WEEKDAY_APPR_PROCESS_START:0\n",
      "HOUR_APPR_PROCESS_START:0\n",
      "REG_REGION_NOT_LIVE_REGION:0\n",
      "REG_REGION_NOT_WORK_REGION:0\n",
      "LIVE_REGION_NOT_WORK_REGION:0\n",
      "REG_CITY_NOT_LIVE_CITY:0\n",
      "REG_CITY_NOT_WORK_CITY:0\n",
      "LIVE_CITY_NOT_WORK_CITY:0\n",
      "ORGANIZATION_TYPE:0\n",
      "EXT_SOURCE_1:173378\n",
      "EXT_SOURCE_2:660\n",
      "EXT_SOURCE_3:60965\n",
      "APARTMENTS_AVG:156061\n",
      "BASEMENTAREA_AVG:179943\n",
      "YEARS_BEGINEXPLUATATION_AVG:150007\n",
      "YEARS_BUILD_AVG:204488\n",
      "COMMONAREA_AVG:214865\n",
      "ELEVATORS_AVG:163891\n",
      "ENTRANCES_AVG:154828\n",
      "FLOORSMAX_AVG:153020\n",
      "FLOORSMIN_AVG:208642\n",
      "LANDAREA_AVG:182590\n",
      "LIVINGAPARTMENTS_AVG:210199\n",
      "LIVINGAREA_AVG:154350\n",
      "NONLIVINGAPARTMENTS_AVG:213514\n",
      "NONLIVINGAREA_AVG:169682\n",
      "APARTMENTS_MODE:156061\n",
      "BASEMENTAREA_MODE:179943\n",
      "YEARS_BEGINEXPLUATATION_MODE:150007\n",
      "YEARS_BUILD_MODE:204488\n",
      "COMMONAREA_MODE:214865\n",
      "ELEVATORS_MODE:163891\n",
      "ENTRANCES_MODE:154828\n",
      "FLOORSMAX_MODE:153020\n",
      "FLOORSMIN_MODE:208642\n",
      "LANDAREA_MODE:182590\n",
      "LIVINGAPARTMENTS_MODE:210199\n",
      "LIVINGAREA_MODE:154350\n",
      "NONLIVINGAPARTMENTS_MODE:213514\n",
      "NONLIVINGAREA_MODE:169682\n",
      "APARTMENTS_MEDI:156061\n",
      "BASEMENTAREA_MEDI:179943\n",
      "YEARS_BEGINEXPLUATATION_MEDI:150007\n",
      "YEARS_BUILD_MEDI:204488\n",
      "COMMONAREA_MEDI:214865\n",
      "ELEVATORS_MEDI:163891\n",
      "ENTRANCES_MEDI:154828\n",
      "FLOORSMAX_MEDI:153020\n",
      "FLOORSMIN_MEDI:208642\n",
      "LANDAREA_MEDI:182590\n",
      "LIVINGAPARTMENTS_MEDI:210199\n",
      "LIVINGAREA_MEDI:154350\n",
      "NONLIVINGAPARTMENTS_MEDI:213514\n",
      "NONLIVINGAREA_MEDI:169682\n",
      "FONDKAPREMONT_MODE:210295\n",
      "HOUSETYPE_MODE:154297\n",
      "TOTALAREA_MODE:148431\n",
      "WALLSMATERIAL_MODE:156341\n",
      "EMERGENCYSTATE_MODE:145755\n",
      "OBS_30_CNT_SOCIAL_CIRCLE:1021\n",
      "DEF_30_CNT_SOCIAL_CIRCLE:1021\n",
      "OBS_60_CNT_SOCIAL_CIRCLE:1021\n",
      "DEF_60_CNT_SOCIAL_CIRCLE:1021\n",
      "DAYS_LAST_PHONE_CHANGE:1\n",
      "FLAG_DOCUMENT_2:0\n",
      "FLAG_DOCUMENT_3:0\n",
      "FLAG_DOCUMENT_4:0\n",
      "FLAG_DOCUMENT_5:0\n",
      "FLAG_DOCUMENT_6:0\n",
      "FLAG_DOCUMENT_7:0\n",
      "FLAG_DOCUMENT_8:0\n",
      "FLAG_DOCUMENT_9:0\n",
      "FLAG_DOCUMENT_10:0\n",
      "FLAG_DOCUMENT_11:0\n",
      "FLAG_DOCUMENT_12:0\n",
      "FLAG_DOCUMENT_13:0\n",
      "FLAG_DOCUMENT_14:0\n",
      "FLAG_DOCUMENT_15:0\n",
      "FLAG_DOCUMENT_16:0\n",
      "FLAG_DOCUMENT_17:0\n",
      "FLAG_DOCUMENT_18:0\n",
      "FLAG_DOCUMENT_19:0\n",
      "FLAG_DOCUMENT_20:0\n",
      "FLAG_DOCUMENT_21:0\n",
      "AMT_REQ_CREDIT_BUREAU_HOUR:41519\n",
      "AMT_REQ_CREDIT_BUREAU_DAY:41519\n",
      "AMT_REQ_CREDIT_BUREAU_WEEK:41519\n",
      "AMT_REQ_CREDIT_BUREAU_MON:41519\n",
      "AMT_REQ_CREDIT_BUREAU_QRT:41519\n",
      "AMT_REQ_CREDIT_BUREAU_YEAR:41519\n"
     ]
    }
   ],
   "source": [
    "#欠損値の有無を見る\n",
    "import missingno as msno\n",
    "import matplotlib.pyplot as plt\n",
    "\n",
    "%matplotlib inline\n",
    "for i in df.columns:\n",
    "    print(i, df[i].isnull().sum(), sep = \":\")"
   ]
  },
  {
   "cell_type": "code",
   "execution_count": 5,
   "metadata": {},
   "outputs": [
    {
     "data": {
      "text/plain": [
       "0         0.083037\n",
       "1         0.311267\n",
       "2              NaN\n",
       "3              NaN\n",
       "4              NaN\n",
       "            ...   \n",
       "307506    0.145570\n",
       "307507         NaN\n",
       "307508    0.744026\n",
       "307509         NaN\n",
       "307510    0.734460\n",
       "Name: EXT_SOURCE_1, Length: 307511, dtype: float64"
      ]
     },
     "execution_count": 5,
     "metadata": {},
     "output_type": "execute_result"
    }
   ],
   "source": [
    "df[\"EXT_SOURCE_1\"]"
   ]
  },
  {
   "cell_type": "code",
   "execution_count": 7,
   "metadata": {
    "scrolled": true
   },
   "outputs": [
    {
     "data": {
      "text/plain": [
       "<matplotlib.axes._subplots.AxesSubplot at 0x10485d450>"
      ]
     },
     "execution_count": 7,
     "metadata": {},
     "output_type": "execute_result"
    },
    {
     "data": {
      "image/png": "[encoded data removed]",
      "text/plain": [
       "<Figure size 1728x720 with 2 Axes>"
      ]
     },
     "metadata": {
      "needs_background": "light"
     },
     "output_type": "display_data"
    }
   ],
   "source": [
    "msno.bar(df)"
   ]
  },
  {
   "cell_type": "code",
   "execution_count": 8,
   "metadata": {
    "scrolled": true
   },
   "outputs": [
    {
     "data": {
      "text/plain": [
       "<matplotlib.axes._subplots.AxesSubplot at 0x1a183b3b50>"
      ]
     },
     "execution_count": 8,
     "metadata": {},
     "output_type": "execute_result"
    },
    {
     "data": {
      "image/png": "[encoded data removed]",
      "text/plain": [
       "<Figure size 1800x720 with 2 Axes>"
      ]
     },
     "metadata": {
      "needs_background": "light"
     },
     "output_type": "display_data"
    }
   ],
   "source": [
    "msno.matrix(df)"
   ]
  },
  {
   "cell_type": "markdown",
   "metadata": {},
   "source": [
    "## 【問題3】課題設定\n",
    ">データの概観を見たことを元に、自分なりの課題・疑問を複数設定してください。"
   ]
  },
  {
   "cell_type": "code",
   "execution_count": 11,
   "metadata": {},
   "outputs": [],
   "source": [
    "#相関を見る、欠損値の処理方法を考える"
   ]
  },
  {
   "cell_type": "markdown",
   "metadata": {},
   "source": [
    "## 【問題4】データ探索\n",
    ">考察を伴う表やグラフを 15個以上 作成してください。\n",
    "探索過程で新しい疑問点が生まれた場合は、問題3の回答に加えていってください。"
   ]
  },
  {
   "cell_type": "code",
   "execution_count": 7,
   "metadata": {},
   "outputs": [],
   "source": [
    "#エンコードしたい列を指定　# Eoncodeしたい列をリストで指定。もちろん複数指定可能。\n",
    "#全て\n",
    "list_cols = ['NAME_CONTRACT_TYPE','CODE_GENDER','FLAG_OWN_CAR','FLAG_OWN_REALTY','CNT_CHILDREN'\n",
    "            ,'NAME_FAMILY_STATUS','NAME_HOUSING_TYPE','NAME_TYPE_SUITE','NAME_INCOME_TYPE'\n",
    "            ,'NAME_EDUCATION_TYPE','OCCUPATION_TYPE','WEEKDAY_APPR_PROCESS_START','ORGANIZATION_TYPE'\n",
    "            ,'FONDKAPREMONT_MODE','HOUSETYPE_MODE','WALLSMATERIAL_MODE','EMERGENCYSTATE_MODE']\n",
    "\n",
    "list_cols[0] # 'NAME_CONTRACT_TYPE'"
   ]
  },
  {
   "cell_type": "code",
   "execution_count": null,
   "metadata": {},
   "outputs": [
    {
     "data": {
      "image/png": "[encoded data removed]",
      "text/plain": [
       "<Figure size 720x720 with 1 Axes>"
      ]
     },
     "metadata": {
      "needs_background": "light"
     },
     "output_type": "display_data"
    },
    {
     "data": {
      "image/png": "[encoded data removed]",
      "text/plain": [
       "<Figure size 720x720 with 1 Axes>"
      ]
     },
     "metadata": {
      "needs_background": "light"
     },
     "output_type": "display_data"
    },
    {
     "data": {
      "image/png": "[encoded data removed]",
      "text/plain": [
       "<Figure size 720x720 with 1 Axes>"
      ]
     },
     "metadata": {
      "needs_background": "light"
     },
     "output_type": "display_data"
    },
    {
     "data": {
      "image/png": "[encoded data removed]",
      "text/plain": [
       "<Figure size 720x720 with 1 Axes>"
      ]
     },
     "metadata": {
      "needs_background": "light"
     },
     "output_type": "display_data"
    },
    {
     "data": {
      "image/png": "[encoded data removed]",
      "text/plain": [
       "<Figure size 720x720 with 1 Axes>"
      ]
     },
     "metadata": {
      "needs_background": "light"
     },
     "output_type": "display_data"
    },
    {
     "data": {
      "image/png": "[encoded data removed]",
      "text/plain": [
       "<Figure size 720x720 with 1 Axes>"
      ]
     },
     "metadata": {
      "needs_background": "light"
     },
     "output_type": "display_data"
    },
    {
     "data": {
      "image/png": "[encoded data removed]",
      "text/plain": [
       "<Figure size 720x720 with 1 Axes>"
      ]
     },
     "metadata": {
      "needs_background": "light"
     },
     "output_type": "display_data"
    },
    {
     "data": {
      "image/png": "[encoded data removed]",
      "text/plain": [
       "<Figure size 720x720 with 1 Axes>"
      ]
     },
     "metadata": {
      "needs_background": "light"
     },
     "output_type": "display_data"
    },
    {
     "data": {
      "image/png": "[encoded data removed]",
      "text/plain": [
       "<Figure size 720x720 with 1 Axes>"
      ]
     },
     "metadata": {
      "needs_background": "light"
     },
     "output_type": "display_data"
    },
    {
     "data": {
      "image/png": "[encoded data removed]",
      "text/plain": [
       "<Figure size 720x720 with 1 Axes>"
      ]
     },
     "metadata": {
      "needs_background": "light"
     },
     "output_type": "display_data"
    },
    {
     "data": {
      "image/png": "[encoded data removed]",
      "text/plain": [
       "<Figure size 720x720 with 1 Axes>"
      ]
     },
     "metadata": {
      "needs_background": "light"
     },
     "output_type": "display_data"
    },
    {
     "data": {
      "image/png": "[encoded data removed]",
      "text/plain": [
       "<Figure size 720x720 with 1 Axes>"
      ]
     },
     "metadata": {
      "needs_background": "light"
     },
     "output_type": "display_data"
    },
    {
     "data": {
      "image/png": "[encoded data removed]",
      "text/plain": [
       "<Figure size 720x720 with 1 Axes>"
      ]
     },
     "metadata": {
      "needs_background": "light"
     },
     "output_type": "display_data"
    }
   ],
   "source": [
    "df[list_cols[0]]\n",
    "from pylab import rcParams\n",
    "rcParams['figure.figsize'] = 10, 10\n",
    "for i in range(15):\n",
    "    df[list_cols[i]].hist()\n",
    "    plt.tight_layout()\n",
    "    plt.show()"
   ]
  },
  {
   "cell_type": "code",
   "execution_count": null,
   "metadata": {},
   "outputs": [],
   "source": [
    "# OneHotEncodeしたい列を指定。Nullや不明の場合の補完方法も指定。\n",
    "ce_ohe = ce.OneHotEncoder(cols=list_cols,handle_unknown='impute')\n",
    "\n",
    "# pd.DataFrameをそのまま突っ込む\n",
    "df_gender_onehot = ce_ohe.fit_transform(df)"
   ]
  },
  {
   "cell_type": "code",
   "execution_count": 40,
   "metadata": {},
   "outputs": [
    {
     "data": {
      "text/plain": [
       "Index(['SK_ID_CURR', 'TARGET', 'NAME_CONTRACT_TYPE', 'CODE_GENDER',\n",
       "       'FLAG_OWN_CAR', 'FLAG_OWN_REALTY', 'CNT_CHILDREN', 'AMT_INCOME_TOTAL',\n",
       "       'AMT_CREDIT', 'AMT_ANNUITY',\n",
       "       ...\n",
       "       'FLAG_DOCUMENT_18', 'FLAG_DOCUMENT_19', 'FLAG_DOCUMENT_20',\n",
       "       'FLAG_DOCUMENT_21', 'AMT_REQ_CREDIT_BUREAU_HOUR',\n",
       "       'AMT_REQ_CREDIT_BUREAU_DAY', 'AMT_REQ_CREDIT_BUREAU_WEEK',\n",
       "       'AMT_REQ_CREDIT_BUREAU_MON', 'AMT_REQ_CREDIT_BUREAU_QRT',\n",
       "       'AMT_REQ_CREDIT_BUREAU_YEAR'],\n",
       "      dtype='object', length=122)"
      ]
     },
     "execution_count": 40,
     "metadata": {},
     "output_type": "execute_result"
    }
   ],
   "source": [
    "df.columns"
   ]
  },
  {
   "cell_type": "code",
   "execution_count": 42,
   "metadata": {},
   "outputs": [
    {
     "ename": "AttributeError",
     "evalue": "'DataFrame' object has no attribute 'value_counts'",
     "output_type": "error",
     "traceback": [
      "\u001b[0;31m---------------------------------------------------------------------------\u001b[0m",
      "\u001b[0;31mAttributeError\u001b[0m                            Traceback (most recent call last)",
      "\u001b[0;32m<ipython-input-42-986e25863b45>\u001b[0m in \u001b[0;36m<module>\u001b[0;34m\u001b[0m\n\u001b[0;32m----> 1\u001b[0;31m \u001b[0mdf\u001b[0m\u001b[0;34m.\u001b[0m\u001b[0mvalue_counts\u001b[0m\u001b[0;34m(\u001b[0m\u001b[0;34m)\u001b[0m\u001b[0;34m\u001b[0m\u001b[0;34m\u001b[0m\u001b[0m\n\u001b[0m",
      "\u001b[0;32m~/.pyenv/versions/anaconda3-2019.03/envs/py37/lib/python3.7/site-packages/pandas/core/generic.py\u001b[0m in \u001b[0;36m__getattr__\u001b[0;34m(self, name)\u001b[0m\n\u001b[1;32m   5177\u001b[0m             \u001b[0;32mif\u001b[0m \u001b[0mself\u001b[0m\u001b[0;34m.\u001b[0m\u001b[0m_info_axis\u001b[0m\u001b[0;34m.\u001b[0m\u001b[0m_can_hold_identifiers_and_holds_name\u001b[0m\u001b[0;34m(\u001b[0m\u001b[0mname\u001b[0m\u001b[0;34m)\u001b[0m\u001b[0;34m:\u001b[0m\u001b[0;34m\u001b[0m\u001b[0;34m\u001b[0m\u001b[0m\n\u001b[1;32m   5178\u001b[0m                 \u001b[0;32mreturn\u001b[0m \u001b[0mself\u001b[0m\u001b[0;34m[\u001b[0m\u001b[0mname\u001b[0m\u001b[0;34m]\u001b[0m\u001b[0;34m\u001b[0m\u001b[0;34m\u001b[0m\u001b[0m\n\u001b[0;32m-> 5179\u001b[0;31m             \u001b[0;32mreturn\u001b[0m \u001b[0mobject\u001b[0m\u001b[0;34m.\u001b[0m\u001b[0m__getattribute__\u001b[0m\u001b[0;34m(\u001b[0m\u001b[0mself\u001b[0m\u001b[0;34m,\u001b[0m \u001b[0mname\u001b[0m\u001b[0;34m)\u001b[0m\u001b[0;34m\u001b[0m\u001b[0;34m\u001b[0m\u001b[0m\n\u001b[0m\u001b[1;32m   5180\u001b[0m \u001b[0;34m\u001b[0m\u001b[0m\n\u001b[1;32m   5181\u001b[0m     \u001b[0;32mdef\u001b[0m \u001b[0m__setattr__\u001b[0m\u001b[0;34m(\u001b[0m\u001b[0mself\u001b[0m\u001b[0;34m,\u001b[0m \u001b[0mname\u001b[0m\u001b[0;34m,\u001b[0m \u001b[0mvalue\u001b[0m\u001b[0;34m)\u001b[0m\u001b[0;34m:\u001b[0m\u001b[0;34m\u001b[0m\u001b[0;34m\u001b[0m\u001b[0m\n",
      "\u001b[0;31mAttributeError\u001b[0m: 'DataFrame' object has no attribute 'value_counts'"
     ]
    }
   ],
   "source": [
    "df.value_counts()\n",
    "\n",
    "#箱ひげ、バイオリン、ペアプロット、ジョインプロット,hist\n"
   ]
  },
  {
   "cell_type": "code",
   "execution_count": 28,
   "metadata": {},
   "outputs": [],
   "source": [
    "def plotting_data(feature, color):\n",
    "    plt.figure(figsize = (10.6))\n",
    "    sns.distplot(ce_ohe[feature].dropna(), color = color,\n",
    "                 kde = True, bins = 100)\n",
    "    plt.show()"
   ]
  },
  {
   "cell_type": "code",
   "execution_count": 41,
   "metadata": {},
   "outputs": [
    {
     "data": {
      "text/plain": [
       "0         24700.5\n",
       "1         35698.5\n",
       "2          6750.0\n",
       "3         29686.5\n",
       "4         21865.5\n",
       "           ...   \n",
       "307506    27558.0\n",
       "307507    12001.5\n",
       "307508    29979.0\n",
       "307509    20205.0\n",
       "307510    49117.5\n",
       "Name: AMT_ANNUITY, Length: 307511, dtype: float64"
      ]
     },
     "execution_count": 41,
     "metadata": {},
     "output_type": "execute_result"
    }
   ],
   "source": [
    "df['AMT_ANNUITY']"
   ]
  },
  {
   "cell_type": "code",
   "execution_count": 29,
   "metadata": {},
   "outputs": [
    {
     "ename": "TypeError",
     "evalue": "from_bounds() argument after * must be an iterable, not float",
     "output_type": "error",
     "traceback": [
      "\u001b[0;31m---------------------------------------------------------------------------\u001b[0m",
      "\u001b[0;31mTypeError\u001b[0m                                 Traceback (most recent call last)",
      "\u001b[0;32m<ipython-input-29-80255e964bd0>\u001b[0m in \u001b[0;36m<module>\u001b[0;34m\u001b[0m\n\u001b[0;32m----> 1\u001b[0;31m \u001b[0mplotting_data\u001b[0m\u001b[0;34m(\u001b[0m\u001b[0;34m'AMT_INCOME_TOTAL'\u001b[0m\u001b[0;34m,\u001b[0m \u001b[0;34m'blue'\u001b[0m\u001b[0;34m)\u001b[0m\u001b[0;34m\u001b[0m\u001b[0;34m\u001b[0m\u001b[0m\n\u001b[0m",
      "\u001b[0;32m<ipython-input-28-f90cfc13b048>\u001b[0m in \u001b[0;36mplotting_data\u001b[0;34m(feature, color)\u001b[0m\n\u001b[1;32m      1\u001b[0m \u001b[0;32mdef\u001b[0m \u001b[0mplotting_data\u001b[0m\u001b[0;34m(\u001b[0m\u001b[0mfeature\u001b[0m\u001b[0;34m,\u001b[0m \u001b[0mcolor\u001b[0m\u001b[0;34m)\u001b[0m\u001b[0;34m:\u001b[0m\u001b[0;34m\u001b[0m\u001b[0;34m\u001b[0m\u001b[0m\n\u001b[0;32m----> 2\u001b[0;31m     \u001b[0mplt\u001b[0m\u001b[0;34m.\u001b[0m\u001b[0mfigure\u001b[0m\u001b[0;34m(\u001b[0m\u001b[0mfigsize\u001b[0m \u001b[0;34m=\u001b[0m \u001b[0;34m(\u001b[0m\u001b[0;36m10.6\u001b[0m\u001b[0;34m)\u001b[0m\u001b[0;34m)\u001b[0m\u001b[0;34m\u001b[0m\u001b[0;34m\u001b[0m\u001b[0m\n\u001b[0m\u001b[1;32m      3\u001b[0m     sns.distplot(df[feature].dropna(), color = color,\n\u001b[1;32m      4\u001b[0m                  kde = True, bins = 100)\n\u001b[1;32m      5\u001b[0m     \u001b[0mplt\u001b[0m\u001b[0;34m.\u001b[0m\u001b[0mshow\u001b[0m\u001b[0;34m(\u001b[0m\u001b[0;34m)\u001b[0m\u001b[0;34m\u001b[0m\u001b[0;34m\u001b[0m\u001b[0m\n",
      "\u001b[0;32m~/.pyenv/versions/anaconda3-2019.03/envs/py37/lib/python3.7/site-packages/matplotlib/pyplot.py\u001b[0m in \u001b[0;36mfigure\u001b[0;34m(num, figsize, dpi, facecolor, edgecolor, frameon, FigureClass, clear, **kwargs)\u001b[0m\n\u001b[1;32m    543\u001b[0m                                         \u001b[0mframeon\u001b[0m\u001b[0;34m=\u001b[0m\u001b[0mframeon\u001b[0m\u001b[0;34m,\u001b[0m\u001b[0;34m\u001b[0m\u001b[0;34m\u001b[0m\u001b[0m\n\u001b[1;32m    544\u001b[0m                                         \u001b[0mFigureClass\u001b[0m\u001b[0;34m=\u001b[0m\u001b[0mFigureClass\u001b[0m\u001b[0;34m,\u001b[0m\u001b[0;34m\u001b[0m\u001b[0;34m\u001b[0m\u001b[0m\n\u001b[0;32m--> 545\u001b[0;31m                                         **kwargs)\n\u001b[0m\u001b[1;32m    546\u001b[0m \u001b[0;34m\u001b[0m\u001b[0m\n\u001b[1;32m    547\u001b[0m         \u001b[0;32mif\u001b[0m \u001b[0mfigLabel\u001b[0m\u001b[0;34m:\u001b[0m\u001b[0;34m\u001b[0m\u001b[0;34m\u001b[0m\u001b[0m\n",
      "\u001b[0;32m~/.pyenv/versions/anaconda3-2019.03/envs/py37/lib/python3.7/site-packages/matplotlib/backend_bases.py\u001b[0m in \u001b[0;36mnew_figure_manager\u001b[0;34m(cls, num, *args, **kwargs)\u001b[0m\n\u001b[1;32m   3249\u001b[0m         \u001b[0;32mfrom\u001b[0m \u001b[0mmatplotlib\u001b[0m\u001b[0;34m.\u001b[0m\u001b[0mfigure\u001b[0m \u001b[0;32mimport\u001b[0m \u001b[0mFigure\u001b[0m\u001b[0;34m\u001b[0m\u001b[0;34m\u001b[0m\u001b[0m\n\u001b[1;32m   3250\u001b[0m         \u001b[0mfig_cls\u001b[0m \u001b[0;34m=\u001b[0m \u001b[0mkwargs\u001b[0m\u001b[0;34m.\u001b[0m\u001b[0mpop\u001b[0m\u001b[0;34m(\u001b[0m\u001b[0;34m'FigureClass'\u001b[0m\u001b[0;34m,\u001b[0m \u001b[0mFigure\u001b[0m\u001b[0;34m)\u001b[0m\u001b[0;34m\u001b[0m\u001b[0;34m\u001b[0m\u001b[0m\n\u001b[0;32m-> 3251\u001b[0;31m         \u001b[0mfig\u001b[0m \u001b[0;34m=\u001b[0m \u001b[0mfig_cls\u001b[0m\u001b[0;34m(\u001b[0m\u001b[0;34m*\u001b[0m\u001b[0margs\u001b[0m\u001b[0;34m,\u001b[0m \u001b[0;34m**\u001b[0m\u001b[0mkwargs\u001b[0m\u001b[0;34m)\u001b[0m\u001b[0;34m\u001b[0m\u001b[0;34m\u001b[0m\u001b[0m\n\u001b[0m\u001b[1;32m   3252\u001b[0m         \u001b[0;32mreturn\u001b[0m \u001b[0mcls\u001b[0m\u001b[0;34m.\u001b[0m\u001b[0mnew_figure_manager_given_figure\u001b[0m\u001b[0;34m(\u001b[0m\u001b[0mnum\u001b[0m\u001b[0;34m,\u001b[0m \u001b[0mfig\u001b[0m\u001b[0;34m)\u001b[0m\u001b[0;34m\u001b[0m\u001b[0;34m\u001b[0m\u001b[0m\n\u001b[1;32m   3253\u001b[0m \u001b[0;34m\u001b[0m\u001b[0m\n",
      "\u001b[0;32m~/.pyenv/versions/anaconda3-2019.03/envs/py37/lib/python3.7/site-packages/matplotlib/figure.py\u001b[0m in \u001b[0;36m__init__\u001b[0;34m(self, figsize, dpi, facecolor, edgecolor, linewidth, frameon, subplotpars, tight_layout, constrained_layout)\u001b[0m\n\u001b[1;32m    349\u001b[0m             raise ValueError('figure size must be finite not '\n\u001b[1;32m    350\u001b[0m                              '{}'.format(figsize))\n\u001b[0;32m--> 351\u001b[0;31m         \u001b[0mself\u001b[0m\u001b[0;34m.\u001b[0m\u001b[0mbbox_inches\u001b[0m \u001b[0;34m=\u001b[0m \u001b[0mBbox\u001b[0m\u001b[0;34m.\u001b[0m\u001b[0mfrom_bounds\u001b[0m\u001b[0;34m(\u001b[0m\u001b[0;36m0\u001b[0m\u001b[0;34m,\u001b[0m \u001b[0;36m0\u001b[0m\u001b[0;34m,\u001b[0m \u001b[0;34m*\u001b[0m\u001b[0mfigsize\u001b[0m\u001b[0;34m)\u001b[0m\u001b[0;34m\u001b[0m\u001b[0;34m\u001b[0m\u001b[0m\n\u001b[0m\u001b[1;32m    352\u001b[0m \u001b[0;34m\u001b[0m\u001b[0m\n\u001b[1;32m    353\u001b[0m         \u001b[0mself\u001b[0m\u001b[0;34m.\u001b[0m\u001b[0mdpi_scale_trans\u001b[0m \u001b[0;34m=\u001b[0m \u001b[0mAffine2D\u001b[0m\u001b[0;34m(\u001b[0m\u001b[0;34m)\u001b[0m\u001b[0;34m.\u001b[0m\u001b[0mscale\u001b[0m\u001b[0;34m(\u001b[0m\u001b[0mdpi\u001b[0m\u001b[0;34m,\u001b[0m \u001b[0mdpi\u001b[0m\u001b[0;34m)\u001b[0m\u001b[0;34m\u001b[0m\u001b[0;34m\u001b[0m\u001b[0m\n",
      "\u001b[0;31mTypeError\u001b[0m: from_bounds() argument after * must be an iterable, not float"
     ]
    }
   ],
   "source": [
    "plotting_data('AMT_INCOME_TOTAL', 'blue')"
   ]
  },
  {
   "cell_type": "code",
   "execution_count": 9,
   "metadata": {},
   "outputs": [
    {
     "data": {
      "text/plain": [
       "<BarContainer object of 2 artists>"
      ]
     },
     "execution_count": 9,
     "metadata": {},
     "output_type": "execute_result"
    },
    {
     "data": {
      "image/png": "[encoded data removed]",
      "text/plain": [
       "<Figure size 432x288 with 1 Axes>"
      ]
     },
     "metadata": {
      "needs_background": "light"
     },
     "output_type": "display_data"
    }
   ],
   "source": [
    "#クラスごとのデータ数をグラフに出す\n",
    "\n",
    "a = len(df[df[\"TARGET\"]==0])\n",
    "b = len(df[df[\"TARGET\"]==1])\n",
    "x = [0,1]\n",
    "y = [a,b]\n",
    "plt.title(\"TARGET\")\n",
    "plt.bar(x, y, tick_label = x)"
   ]
  },
  {
   "cell_type": "code",
   "execution_count": 10,
   "metadata": {},
   "outputs": [
    {
     "name": "stdout",
     "output_type": "stream",
     "text": [
      "11.387150050352467\n"
     ]
    }
   ],
   "source": [
    "#TARGET value 0 means loan is repayed, value 1 means loan is not repayed.\n",
    "print(a/b) \n",
    "#偏りが多いので、データに重みをつける？"
   ]
  },
  {
   "cell_type": "code",
   "execution_count": null,
   "metadata": {},
   "outputs": [],
   "source": []
  },
  {
   "cell_type": "code",
   "execution_count": 12,
   "metadata": {},
   "outputs": [],
   "source": [
    "# 相関を見る\n",
    "df2 = df\n",
    "list_str=[]\n",
    "for i in df.columns:\n",
    "    if df2[i].dtypes == 'O':\n",
    "        df2 = df2.drop([i], axis = 1)\n",
    "        list_str.append(i)\n",
    "        \n",
    "df2.info"
   ]
  },
  {
   "cell_type": "code",
   "execution_count": 17,
   "metadata": {},
   "outputs": [
    {
     "data": {
      "image/png": "[encoded data removed]",
      "text/plain": [
       "<Figure size 432x288 with 2 Axes>"
      ]
     },
     "metadata": {
      "needs_background": "light"
     },
     "output_type": "display_data"
    }
   ],
   "source": [
    "corr_mat = df2.corr(method = 'pearson')\n",
    "sns.heatmap(corr_mat,vmin = -1.0,\n",
    "            vmax=1.0,center=0,annot = True,\n",
    "           fmt='.1f')\n",
    "plt.show()"
   ]
  },
  {
   "cell_type": "code",
   "execution_count": 21,
   "metadata": {},
   "outputs": [
    {
     "name": "stdout",
     "output_type": "stream",
     "text": [
      "SK_ID_CURR,-0.0021084690181977193\n",
      "TARGET,0.9999999999999439\n",
      "CNT_CHILDREN,0.01918713359627055\n",
      "AMT_INCOME_TOTAL,-0.003981865601205687\n",
      "AMT_CREDIT,-0.030369286461429734\n"
     ]
    },
    {
     "ename": "ValueError",
     "evalue": "array must not contain infs or NaNs",
     "output_type": "error",
     "traceback": [
      "\u001b[0;31m---------------------------------------------------------------------------\u001b[0m",
      "\u001b[0;31mValueError\u001b[0m                                Traceback (most recent call last)",
      "\u001b[0;32m<ipython-input-21-2d36324ee6bc>\u001b[0m in \u001b[0;36m<module>\u001b[0;34m\u001b[0m\n\u001b[1;32m      3\u001b[0m \u001b[0mlist_i\u001b[0m \u001b[0;34m=\u001b[0m \u001b[0;34m[\u001b[0m\u001b[0;34m]\u001b[0m\u001b[0;34m\u001b[0m\u001b[0;34m\u001b[0m\u001b[0m\n\u001b[1;32m      4\u001b[0m \u001b[0;32mfor\u001b[0m \u001b[0mi\u001b[0m \u001b[0;32min\u001b[0m \u001b[0mdf2\u001b[0m\u001b[0;34m.\u001b[0m\u001b[0mcolumns\u001b[0m\u001b[0;34m:\u001b[0m\u001b[0;34m\u001b[0m\u001b[0;34m\u001b[0m\u001b[0m\n\u001b[0;32m----> 5\u001b[0;31m     \u001b[0ma\u001b[0m\u001b[0;34m,\u001b[0m \u001b[0mb\u001b[0m \u001b[0;34m=\u001b[0m \u001b[0mpearsonr\u001b[0m\u001b[0;34m(\u001b[0m\u001b[0mdf2\u001b[0m\u001b[0;34m[\u001b[0m\u001b[0mi\u001b[0m\u001b[0;34m]\u001b[0m\u001b[0;34m,\u001b[0m\u001b[0mdf2\u001b[0m\u001b[0;34m[\u001b[0m\u001b[0;34m\"TARGET\"\u001b[0m\u001b[0;34m]\u001b[0m\u001b[0;34m)\u001b[0m\u001b[0;34m\u001b[0m\u001b[0;34m\u001b[0m\u001b[0m\n\u001b[0m\u001b[1;32m      6\u001b[0m     \u001b[0mprint\u001b[0m\u001b[0;34m(\u001b[0m\u001b[0;34m\"{},{}\"\u001b[0m\u001b[0;34m.\u001b[0m\u001b[0mformat\u001b[0m\u001b[0;34m(\u001b[0m\u001b[0mi\u001b[0m\u001b[0;34m,\u001b[0m\u001b[0ma\u001b[0m\u001b[0;34m)\u001b[0m\u001b[0;34m)\u001b[0m \u001b[0;31m#　　if 0.3 < a でも相関見られず。\u001b[0m\u001b[0;34m\u001b[0m\u001b[0;34m\u001b[0m\u001b[0m\n\u001b[1;32m      7\u001b[0m \u001b[0;34m\u001b[0m\u001b[0m\n",
      "\u001b[0;32m~/.pyenv/versions/anaconda3-2019.03/envs/py37/lib/python3.7/site-packages/scipy/stats/stats.py\u001b[0m in \u001b[0;36mpearsonr\u001b[0;34m(x, y)\u001b[0m\n\u001b[1;32m   3419\u001b[0m     \u001b[0;31m# scipy.linalg.norm(xm) does not overflow if xm is, for example,\u001b[0m\u001b[0;34m\u001b[0m\u001b[0;34m\u001b[0m\u001b[0;34m\u001b[0m\u001b[0m\n\u001b[1;32m   3420\u001b[0m     \u001b[0;31m# [-5e210, 5e210, 3e200, -3e200]\u001b[0m\u001b[0;34m\u001b[0m\u001b[0;34m\u001b[0m\u001b[0;34m\u001b[0m\u001b[0m\n\u001b[0;32m-> 3421\u001b[0;31m     \u001b[0mnormxm\u001b[0m \u001b[0;34m=\u001b[0m \u001b[0mlinalg\u001b[0m\u001b[0;34m.\u001b[0m\u001b[0mnorm\u001b[0m\u001b[0;34m(\u001b[0m\u001b[0mxm\u001b[0m\u001b[0;34m)\u001b[0m\u001b[0;34m\u001b[0m\u001b[0;34m\u001b[0m\u001b[0m\n\u001b[0m\u001b[1;32m   3422\u001b[0m     \u001b[0mnormym\u001b[0m \u001b[0;34m=\u001b[0m \u001b[0mlinalg\u001b[0m\u001b[0;34m.\u001b[0m\u001b[0mnorm\u001b[0m\u001b[0;34m(\u001b[0m\u001b[0mym\u001b[0m\u001b[0;34m)\u001b[0m\u001b[0;34m\u001b[0m\u001b[0;34m\u001b[0m\u001b[0m\n\u001b[1;32m   3423\u001b[0m \u001b[0;34m\u001b[0m\u001b[0m\n",
      "\u001b[0;32m~/.pyenv/versions/anaconda3-2019.03/envs/py37/lib/python3.7/site-packages/scipy/linalg/misc.py\u001b[0m in \u001b[0;36mnorm\u001b[0;34m(a, ord, axis, keepdims)\u001b[0m\n\u001b[1;32m    135\u001b[0m     \"\"\"\n\u001b[1;32m    136\u001b[0m     \u001b[0;31m# Differs from numpy only in non-finite handling and the use of blas.\u001b[0m\u001b[0;34m\u001b[0m\u001b[0;34m\u001b[0m\u001b[0;34m\u001b[0m\u001b[0m\n\u001b[0;32m--> 137\u001b[0;31m     \u001b[0ma\u001b[0m \u001b[0;34m=\u001b[0m \u001b[0mnp\u001b[0m\u001b[0;34m.\u001b[0m\u001b[0masarray_chkfinite\u001b[0m\u001b[0;34m(\u001b[0m\u001b[0ma\u001b[0m\u001b[0;34m)\u001b[0m\u001b[0;34m\u001b[0m\u001b[0;34m\u001b[0m\u001b[0m\n\u001b[0m\u001b[1;32m    138\u001b[0m \u001b[0;34m\u001b[0m\u001b[0m\n\u001b[1;32m    139\u001b[0m     \u001b[0;31m# Only use optimized norms if axis and keepdims are not specified.\u001b[0m\u001b[0;34m\u001b[0m\u001b[0;34m\u001b[0m\u001b[0;34m\u001b[0m\u001b[0m\n",
      "\u001b[0;32m~/.pyenv/versions/anaconda3-2019.03/envs/py37/lib/python3.7/site-packages/numpy/lib/function_base.py\u001b[0m in \u001b[0;36masarray_chkfinite\u001b[0;34m(a, dtype, order)\u001b[0m\n\u001b[1;32m    494\u001b[0m     \u001b[0;32mif\u001b[0m \u001b[0ma\u001b[0m\u001b[0;34m.\u001b[0m\u001b[0mdtype\u001b[0m\u001b[0;34m.\u001b[0m\u001b[0mchar\u001b[0m \u001b[0;32min\u001b[0m \u001b[0mtypecodes\u001b[0m\u001b[0;34m[\u001b[0m\u001b[0;34m'AllFloat'\u001b[0m\u001b[0;34m]\u001b[0m \u001b[0;32mand\u001b[0m \u001b[0;32mnot\u001b[0m \u001b[0mnp\u001b[0m\u001b[0;34m.\u001b[0m\u001b[0misfinite\u001b[0m\u001b[0;34m(\u001b[0m\u001b[0ma\u001b[0m\u001b[0;34m)\u001b[0m\u001b[0;34m.\u001b[0m\u001b[0mall\u001b[0m\u001b[0;34m(\u001b[0m\u001b[0;34m)\u001b[0m\u001b[0;34m:\u001b[0m\u001b[0;34m\u001b[0m\u001b[0;34m\u001b[0m\u001b[0m\n\u001b[1;32m    495\u001b[0m         raise ValueError(\n\u001b[0;32m--> 496\u001b[0;31m             \"array must not contain infs or NaNs\")\n\u001b[0m\u001b[1;32m    497\u001b[0m     \u001b[0;32mreturn\u001b[0m \u001b[0ma\u001b[0m\u001b[0;34m\u001b[0m\u001b[0;34m\u001b[0m\u001b[0m\n\u001b[1;32m    498\u001b[0m \u001b[0;34m\u001b[0m\u001b[0m\n",
      "\u001b[0;31mValueError\u001b[0m: array must not contain infs or NaNs"
     ]
    }
   ],
   "source": [
    "from scipy.stats import pearsonr\n",
    "\n",
    "list_i = []\n",
    "for i in df2.columns:\n",
    "    a, b = pearsonr(df2[i],df2[\"TARGET\"])\n",
    "    print(\"{},{}\".format(i,a)) #　　if 0.3 < a でも相関見られず。\n",
    "    \n",
    "#str型、欠損値ありデータを省くとTARGETと相関の高い変数はない。"
   ]
  },
  {
   "cell_type": "code",
   "execution_count": 112,
   "metadata": {},
   "outputs": [],
   "source": [
    "#str型をダミー変数化して使う or 欠損値処理\n",
    "# 真ん中の凹みを家あるかないかにしてみる"
   ]
  },
  {
   "cell_type": "code",
   "execution_count": 20,
   "metadata": {
    "scrolled": true
   },
   "outputs": [
    {
     "name": "stdout",
     "output_type": "stream",
     "text": [
      "SK_ID_CURR:0\n",
      "TARGET:0\n",
      "NAME_CONTRACT_TYPE:0\n",
      "CODE_GENDER:0\n",
      "FLAG_OWN_CAR:0\n",
      "FLAG_OWN_REALTY:0\n",
      "CNT_CHILDREN:0\n",
      "AMT_INCOME_TOTAL:0\n",
      "AMT_CREDIT:0\n",
      "AMT_ANNUITY:12\n",
      "AMT_GOODS_PRICE:278\n",
      "NAME_TYPE_SUITE:1292\n",
      "NAME_INCOME_TYPE:0\n",
      "NAME_EDUCATION_TYPE:0\n",
      "NAME_FAMILY_STATUS:0\n",
      "NAME_HOUSING_TYPE:0\n",
      "REGION_POPULATION_RELATIVE:0\n",
      "DAYS_BIRTH:0\n",
      "DAYS_EMPLOYED:0\n",
      "DAYS_REGISTRATION:0\n",
      "DAYS_ID_PUBLISH:0\n",
      "OWN_CAR_AGE:202929\n",
      "FLAG_MOBIL:0\n",
      "FLAG_EMP_PHONE:0\n",
      "FLAG_WORK_PHONE:0\n",
      "FLAG_CONT_MOBILE:0\n",
      "FLAG_PHONE:0\n",
      "FLAG_EMAIL:0\n",
      "OCCUPATION_TYPE:96391\n",
      "CNT_FAM_MEMBERS:2\n",
      "REGION_RATING_CLIENT:0\n",
      "REGION_RATING_CLIENT_W_CITY:0\n",
      "WEEKDAY_APPR_PROCESS_START:0\n",
      "HOUR_APPR_PROCESS_START:0\n",
      "REG_REGION_NOT_LIVE_REGION:0\n",
      "REG_REGION_NOT_WORK_REGION:0\n",
      "LIVE_REGION_NOT_WORK_REGION:0\n",
      "REG_CITY_NOT_LIVE_CITY:0\n",
      "REG_CITY_NOT_WORK_CITY:0\n",
      "LIVE_CITY_NOT_WORK_CITY:0\n",
      "ORGANIZATION_TYPE:0\n",
      "EXT_SOURCE_1:173378\n",
      "EXT_SOURCE_2:660\n",
      "EXT_SOURCE_3:60965\n",
      "APARTMENTS_AVG:156061\n",
      "BASEMENTAREA_AVG:179943\n",
      "YEARS_BEGINEXPLUATATION_AVG:150007\n",
      "YEARS_BUILD_AVG:204488\n",
      "COMMONAREA_AVG:214865\n",
      "ELEVATORS_AVG:163891\n",
      "ENTRANCES_AVG:154828\n",
      "FLOORSMAX_AVG:153020\n",
      "FLOORSMIN_AVG:208642\n",
      "LANDAREA_AVG:182590\n",
      "LIVINGAPARTMENTS_AVG:210199\n",
      "LIVINGAREA_AVG:154350\n",
      "NONLIVINGAPARTMENTS_AVG:213514\n",
      "NONLIVINGAREA_AVG:169682\n",
      "APARTMENTS_MODE:156061\n",
      "BASEMENTAREA_MODE:179943\n",
      "YEARS_BEGINEXPLUATATION_MODE:150007\n",
      "YEARS_BUILD_MODE:204488\n",
      "COMMONAREA_MODE:214865\n",
      "ELEVATORS_MODE:163891\n",
      "ENTRANCES_MODE:154828\n",
      "FLOORSMAX_MODE:153020\n",
      "FLOORSMIN_MODE:208642\n",
      "LANDAREA_MODE:182590\n",
      "LIVINGAPARTMENTS_MODE:210199\n",
      "LIVINGAREA_MODE:154350\n",
      "NONLIVINGAPARTMENTS_MODE:213514\n",
      "NONLIVINGAREA_MODE:169682\n",
      "APARTMENTS_MEDI:156061\n",
      "BASEMENTAREA_MEDI:179943\n",
      "YEARS_BEGINEXPLUATATION_MEDI:150007\n",
      "YEARS_BUILD_MEDI:204488\n",
      "COMMONAREA_MEDI:214865\n",
      "ELEVATORS_MEDI:163891\n",
      "ENTRANCES_MEDI:154828\n",
      "FLOORSMAX_MEDI:153020\n",
      "FLOORSMIN_MEDI:208642\n",
      "LANDAREA_MEDI:182590\n",
      "LIVINGAPARTMENTS_MEDI:210199\n",
      "LIVINGAREA_MEDI:154350\n",
      "NONLIVINGAPARTMENTS_MEDI:213514\n",
      "NONLIVINGAREA_MEDI:169682\n",
      "FONDKAPREMONT_MODE:210295\n",
      "HOUSETYPE_MODE:154297\n",
      "TOTALAREA_MODE:148431\n",
      "WALLSMATERIAL_MODE:156341\n",
      "EMERGENCYSTATE_MODE:145755\n",
      "OBS_30_CNT_SOCIAL_CIRCLE:1021\n",
      "DEF_30_CNT_SOCIAL_CIRCLE:1021\n",
      "OBS_60_CNT_SOCIAL_CIRCLE:1021\n",
      "DEF_60_CNT_SOCIAL_CIRCLE:1021\n",
      "DAYS_LAST_PHONE_CHANGE:1\n",
      "FLAG_DOCUMENT_2:0\n",
      "FLAG_DOCUMENT_3:0\n",
      "FLAG_DOCUMENT_4:0\n",
      "FLAG_DOCUMENT_5:0\n",
      "FLAG_DOCUMENT_6:0\n",
      "FLAG_DOCUMENT_7:0\n",
      "FLAG_DOCUMENT_8:0\n",
      "FLAG_DOCUMENT_9:0\n",
      "FLAG_DOCUMENT_10:0\n",
      "FLAG_DOCUMENT_11:0\n",
      "FLAG_DOCUMENT_12:0\n",
      "FLAG_DOCUMENT_13:0\n",
      "FLAG_DOCUMENT_14:0\n",
      "FLAG_DOCUMENT_15:0\n",
      "FLAG_DOCUMENT_16:0\n",
      "FLAG_DOCUMENT_17:0\n",
      "FLAG_DOCUMENT_18:0\n",
      "FLAG_DOCUMENT_19:0\n",
      "FLAG_DOCUMENT_20:0\n",
      "FLAG_DOCUMENT_21:0\n",
      "AMT_REQ_CREDIT_BUREAU_HOUR:41519\n",
      "AMT_REQ_CREDIT_BUREAU_DAY:41519\n",
      "AMT_REQ_CREDIT_BUREAU_WEEK:41519\n",
      "AMT_REQ_CREDIT_BUREAU_MON:41519\n",
      "AMT_REQ_CREDIT_BUREAU_QRT:41519\n",
      "AMT_REQ_CREDIT_BUREAU_YEAR:41519\n"
     ]
    }
   ],
   "source": [
    "#欠損値処理\n",
    "for i in df.columns:\n",
    "    print(i, df[i].isnull().sum(), sep = \":\")\n",
    "#欠損がランダムではない可能性、、、"
   ]
  },
  {
   "cell_type": "code",
   "execution_count": 18,
   "metadata": {},
   "outputs": [],
   "source": [
    "#ダミー変数化\n",
    "df_str = df[list_str]\n",
    "df_dummy = pd.get_dummies(df_str)\n",
    "# print(df_dummy)"
   ]
  },
  {
   "cell_type": "code",
   "execution_count": 23,
   "metadata": {},
   "outputs": [],
   "source": [
    "#repace で　df２の欠損値　null = 0 にしてみる。０が圧倒的に多いから。\n",
    "\n",
    "df_dummy = df_dummy.replace(np.nan,0)\n",
    "df_mix = pd.concat([df2, df_dummy], axis=1)\n",
    "df_mix = df_mix.replace(np.nan,0)\n",
    "\n",
    "# print(df_mix)"
   ]
  },
  {
   "cell_type": "code",
   "execution_count": 135,
   "metadata": {},
   "outputs": [
    {
     "data": {
      "text/plain": [
       "<matplotlib.axes._subplots.AxesSubplot at 0x1453762e8>"
      ]
     },
     "execution_count": 135,
     "metadata": {},
     "output_type": "execute_result"
    },
    {
     "data": {
      "image/png": "[encoded data removed]",
      "text/plain": [
       "<Figure size 1728x720 with 2 Axes>"
      ]
     },
     "metadata": {
      "needs_background": "light"
     },
     "output_type": "display_data"
    }
   ],
   "source": [
    "msno.bar(df_mix)"
   ]
  },
  {
   "cell_type": "code",
   "execution_count": 151,
   "metadata": {},
   "outputs": [
    {
     "name": "stdout",
     "output_type": "stream",
     "text": [
      "SK_ID_CURR,-0.0021084690181977193\n",
      "TARGET,1.0\n",
      "CNT_CHILDREN,0.019187133596270035\n",
      "AMT_INCOME_TOTAL,-0.00398186560120566\n",
      "AMT_CREDIT,-0.030369286461429734\n",
      "AMT_ANNUITY,-0.012794036703988614\n",
      "AMT_GOODS_PRICE,-0.03956533747621201\n",
      "REGION_POPULATION_RELATIVE,-0.03722714854244523\n",
      "DAYS_BIRTH,0.07823930830982699\n",
      "DAYS_EMPLOYED,-0.04493166265773869\n",
      "DAYS_REGISTRATION,0.04197486283141716\n",
      "DAYS_ID_PUBLISH,0.05145717260705746\n",
      "OWN_CAR_AGE,0.002285352065967182\n",
      "FLAG_MOBIL,0.0005343955790282185\n",
      "FLAG_EMP_PHONE,0.04598221971659249\n",
      "FLAG_WORK_PHONE,0.028524322363217402\n",
      "FLAG_CONT_MOBILE,0.0003701268023489211\n",
      "FLAG_PHONE,-0.023806272330357387\n",
      "FLAG_EMAIL,-0.0017583834312544897\n",
      "CNT_FAM_MEMBERS,0.009312168432937314\n",
      "REGION_RATING_CLIENT,0.058899014945712556\n",
      "REGION_RATING_CLIENT_W_CITY,0.06089266756482353\n",
      "HOUR_APPR_PROCESS_START,-0.024165831430094372\n",
      "REG_REGION_NOT_LIVE_REGION,0.00557594452090841\n",
      "REG_REGION_NOT_WORK_REGION,0.006941907545371849\n",
      "LIVE_REGION_NOT_WORK_REGION,0.0028194791841591764\n",
      "REG_CITY_NOT_LIVE_CITY,0.04439537480570085\n",
      "REG_CITY_NOT_WORK_CITY,0.050994464368126484\n",
      "LIVE_CITY_NOT_WORK_CITY,0.0325183411014988\n",
      "EXT_SOURCE_1,-0.06469813333590466\n",
      "EXT_SOURCE_2,-0.15902967651017433\n",
      "EXT_SOURCE_3,-0.1195719284871247\n",
      "APARTMENTS_AVG,-0.03992381152452337\n",
      "BASEMENTAREA_AVG,-0.03375881984474891\n",
      "YEARS_BEGINEXPLUATATION_AVG,-0.040965054749720016\n",
      "YEARS_BUILD_AVG,-0.03307276676084071\n",
      "COMMONAREA_AVG,-0.02085346130865599\n",
      "ELEVATORS_AVG,-0.035853091750372997\n",
      "ENTRANCES_AVG,-0.03840169644349695\n",
      "FLOORSMAX_AVG,-0.049838813555405335\n",
      "FLOORSMIN_AVG,-0.03417670862769372\n",
      "LANDAREA_AVG,-0.0231522138179443\n",
      "LIVINGAPARTMENTS_AVG,-0.029524627681206294\n",
      "LIVINGAREA_AVG,-0.0403011071704099\n",
      "NONLIVINGAPARTMENTS_AVG,-0.005909960118483645\n",
      "NONLIVINGAREA_AVG,-0.019445914794296332\n",
      "APARTMENTS_MODE,-0.038521696941013574\n",
      "BASEMENTAREA_MODE,-0.03213111507480472\n",
      "YEARS_BEGINEXPLUATATION_MODE,-0.04094359760421225\n",
      "YEARS_BUILD_MODE,-0.033024603178235266\n",
      "COMMONAREA_MODE,-0.019617206211040083\n",
      "ELEVATORS_MODE,-0.03422022818661814\n",
      "ENTRANCES_MODE,-0.03719607053517098\n",
      "FLOORSMAX_MODE,-0.04945770882089242\n",
      "FLOORSMIN_MODE,-0.033818473529356255\n",
      "LANDAREA_MODE,-0.02248145845225373\n",
      "LIVINGAPARTMENTS_MODE,-0.02882944518545201\n",
      "LIVINGAREA_MODE,-0.038797353873466896\n",
      "NONLIVINGAPARTMENTS_MODE,-0.004858642164702479\n",
      "NONLIVINGAREA_MODE,-0.018367448325061077\n",
      "APARTMENTS_MEDI,-0.0397199271537233\n",
      "BASEMENTAREA_MEDI,-0.03342805405398778\n",
      "YEARS_BEGINEXPLUATATION_MEDI,-0.04098349913679691\n",
      "YEARS_BUILD_MEDI,-0.03307356242093102\n",
      "COMMONAREA_MEDI,-0.02084751704622462\n",
      "ELEVATORS_MEDI,-0.035551514435379634\n",
      "ENTRANCES_MEDI,-0.03827259414823729\n",
      "FLOORSMAX_MEDI,-0.049720213186988056\n",
      "FLOORSMIN_MEDI,-0.03408900573093929\n",
      "LANDAREA_MEDI,-0.023344671262207888\n",
      "LIVINGAPARTMENTS_MEDI,-0.029366549657067736\n",
      "LIVINGAREA_MEDI,-0.0401226252508734\n",
      "NONLIVINGAPARTMENTS_MEDI,-0.005649578578800616\n",
      "NONLIVINGAREA_MEDI,-0.019171176485045568\n",
      "TOTALAREA_MODE,-0.041036982846044644\n",
      "OBS_30_CNT_SOCIAL_CIRCLE,0.009446606975851682\n",
      "DEF_30_CNT_SOCIAL_CIRCLE,0.03239421508455511\n",
      "OBS_60_CNT_SOCIAL_CIRCLE,0.00933724292407092\n",
      "DEF_60_CNT_SOCIAL_CIRCLE,0.031400529885031156\n",
      "DAYS_LAST_PHONE_CHANGE,0.05521723161673526\n",
      "FLAG_DOCUMENT_2,0.005417144279619358\n",
      "FLAG_DOCUMENT_3,0.04434634685114499\n",
      "FLAG_DOCUMENT_4,-0.0026720821701620733\n",
      "FLAG_DOCUMENT_5,-0.0003157774166463835\n",
      "FLAG_DOCUMENT_6,-0.028601893973061558\n",
      "FLAG_DOCUMENT_7,-0.0015195031600879533\n",
      "FLAG_DOCUMENT_8,-0.008040384466056807\n",
      "FLAG_DOCUMENT_9,-0.004352408580842066\n",
      "FLAG_DOCUMENT_10,-0.0014138915975241044\n",
      "FLAG_DOCUMENT_11,-0.004229349652160104\n",
      "FLAG_DOCUMENT_12,-0.0007557507043578982\n",
      "FLAG_DOCUMENT_13,-0.011583222341419378\n",
      "FLAG_DOCUMENT_14,-0.009463821935576966\n",
      "FLAG_DOCUMENT_15,-0.006535657584094954\n",
      "FLAG_DOCUMENT_16,-0.011614671588293402\n",
      "FLAG_DOCUMENT_17,-0.003377569147413888\n",
      "FLAG_DOCUMENT_18,-0.007952385099462434\n",
      "FLAG_DOCUMENT_19,-0.001357518324300824\n",
      "FLAG_DOCUMENT_20,0.00021539355797733567\n",
      "FLAG_DOCUMENT_21,0.0037086250293065907\n",
      "AMT_REQ_CREDIT_BUREAU_HOUR,-7.362711830897218e-05\n",
      "AMT_REQ_CREDIT_BUREAU_DAY,0.0017010739175680667\n",
      "AMT_REQ_CREDIT_BUREAU_WEEK,-0.0013056695315827817\n",
      "AMT_REQ_CREDIT_BUREAU_MON,-0.014793717931465179\n",
      "AMT_REQ_CREDIT_BUREAU_QRT,-0.005833139253933952\n",
      "AMT_REQ_CREDIT_BUREAU_YEAR,0.005521704325631893\n",
      "NAME_CONTRACT_TYPE_Cash loans,0.030895908161048067\n",
      "NAME_CONTRACT_TYPE_Revolving loans,-0.030895908161048057\n",
      "CODE_GENDER_F,-0.054704053178808124\n",
      "CODE_GENDER_M,0.05471268197127131\n",
      "CODE_GENDER_XNA,-0.0010687963715404428\n",
      "FLAG_OWN_CAR_N,0.021850938463835606\n",
      "FLAG_OWN_CAR_Y,-0.02185093846383562\n",
      "FLAG_OWN_REALTY_N,0.006148387704570232\n",
      "FLAG_OWN_REALTY_Y,-0.006148387704570236\n",
      "NAME_TYPE_SUITE_Children,-0.0026478225215885495\n",
      "NAME_TYPE_SUITE_Family,-0.008226290530744872\n",
      "NAME_TYPE_SUITE_Group of people,0.00045156763305932804\n",
      "NAME_TYPE_SUITE_Other_A,0.00137158180878537\n",
      "NAME_TYPE_SUITE_Other_B,0.0049090817911681735\n",
      "NAME_TYPE_SUITE_Spouse, partner,-0.0014478284948377044\n",
      "NAME_TYPE_SUITE_Unaccompanied,0.008300874057204283\n",
      "NAME_INCOME_TYPE_Businessman,-0.0016899319313415909\n",
      "NAME_INCOME_TYPE_Commercial associate,-0.011905633271823606\n",
      "NAME_INCOME_TYPE_Maternity leave,0.004725870316716464\n",
      "NAME_INCOME_TYPE_Pensioner,-0.04620942278662055\n",
      "NAME_INCOME_TYPE_State servant,-0.02344684910669635\n",
      "NAME_INCOME_TYPE_Student,-0.0022673110990700067\n",
      "NAME_INCOME_TYPE_Unemployed,0.00878425539010407\n",
      "NAME_INCOME_TYPE_Working,0.05748118481836567\n",
      "NAME_EDUCATION_TYPE_Academic degree,-0.005294285204460223\n",
      "NAME_EDUCATION_TYPE_Higher education,-0.05659264414096367\n",
      "NAME_EDUCATION_TYPE_Incomplete higher,0.002812769050111737\n",
      "NAME_EDUCATION_TYPE_Lower secondary,0.011746907779560256\n",
      "NAME_EDUCATION_TYPE_Secondary / secondary special,0.04982373084813339\n",
      "NAME_FAMILY_STATUS_Civil marriage,0.02249626811569448\n",
      "NAME_FAMILY_STATUS_Married,-0.02504281512700784\n",
      "NAME_FAMILY_STATUS_Separated,0.0011676491056642798\n",
      "NAME_FAMILY_STATUS_Single / not married,0.026518182409827323\n",
      "NAME_FAMILY_STATUS_Unknown,-0.0007557507043578982\n",
      "NAME_FAMILY_STATUS_Widow,-0.01939446393099999\n",
      "NAME_HOUSING_TYPE_Co-op apartment,-0.00031236692480531616\n",
      "NAME_HOUSING_TYPE_House / apartment,-0.0285548928139263\n",
      "NAME_HOUSING_TYPE_Municipal apartment,0.0033292686030268687\n",
      "NAME_HOUSING_TYPE_Office apartment,-0.00510292098584671\n",
      "NAME_HOUSING_TYPE_Rented apartment,0.01976721214409052\n",
      "NAME_HOUSING_TYPE_With parents,0.029965856665930504\n",
      "OCCUPATION_TYPE_Accountants,-0.02161046669658761\n",
      "OCCUPATION_TYPE_Cleaning staff,0.006978888160051222\n",
      "OCCUPATION_TYPE_Cooking staff,0.0122218879977007\n",
      "OCCUPATION_TYPE_Core staff,-0.020377891840837374\n",
      "OCCUPATION_TYPE_Drivers,0.030303499914947848\n",
      "OCCUPATION_TYPE_HR staff,-0.0026389067004829077\n",
      "OCCUPATION_TYPE_High skill tech staff,-0.013765665095471431\n",
      "OCCUPATION_TYPE_IT staff,-0.0024448667370663385\n",
      "OCCUPATION_TYPE_Laborers,0.04301895495530782\n",
      "OCCUPATION_TYPE_Low-skill Laborers,0.027590818570869764\n",
      "OCCUPATION_TYPE_Managers,-0.01864799726550665\n",
      "OCCUPATION_TYPE_Medicine staff,-0.008514422129754843\n",
      "OCCUPATION_TYPE_Private service staff,-0.0050469001026836\n",
      "OCCUPATION_TYPE_Realty agents,-0.0003935716012769206\n",
      "OCCUPATION_TYPE_Sales staff,0.01953726495009615\n",
      "OCCUPATION_TYPE_Secretaries,-0.002451710160956551\n",
      "OCCUPATION_TYPE_Security staff,0.01464839249275758\n",
      "OCCUPATION_TYPE_Waiters/barmen staff,0.007801903741506741\n",
      "WEEKDAY_APPR_PROCESS_START_FRIDAY,0.0012025244233656188\n",
      "WEEKDAY_APPR_PROCESS_START_MONDAY,-0.005149270522674433\n",
      "WEEKDAY_APPR_PROCESS_START_SATURDAY,-0.0023963359371447887\n",
      "WEEKDAY_APPR_PROCESS_START_SUNDAY,-0.001244289620699934\n",
      "WEEKDAY_APPR_PROCESS_START_THURSDAY,0.0004458867736011156\n",
      "WEEKDAY_APPR_PROCESS_START_TUESDAY,0.004698054879488342\n",
      "WEEKDAY_APPR_PROCESS_START_WEDNESDAY,0.0014474879944789075\n",
      "ORGANIZATION_TYPE_Advertising,0.00011748220212482741\n",
      "ORGANIZATION_TYPE_Agriculture,0.007901117983435115\n",
      "ORGANIZATION_TYPE_Bank,-0.009609381212450674\n",
      "ORGANIZATION_TYPE_Business Entity Type 1,0.0003386506512334331\n",
      "ORGANIZATION_TYPE_Business Entity Type 2,0.0031520375791926954\n",
      "ORGANIZATION_TYPE_Business Entity Type 3,0.023992520321204\n",
      "ORGANIZATION_TYPE_Cleaning,0.0032899594962643294\n",
      "ORGANIZATION_TYPE_Construction,0.019791857405878785\n",
      "ORGANIZATION_TYPE_Culture,-0.0032649914639715956\n",
      "ORGANIZATION_TYPE_Electricity,-0.002945252391988011\n",
      "ORGANIZATION_TYPE_Emergency,-0.0014582026891058755\n",
      "ORGANIZATION_TYPE_Government,-0.0075204017869955715\n",
      "ORGANIZATION_TYPE_Hotel,-0.0034096887900142703\n",
      "ORGANIZATION_TYPE_Housing,-0.0004642395738527275\n",
      "ORGANIZATION_TYPE_Industry: type 1,0.006402340351265603\n",
      "ORGANIZATION_TYPE_Industry: type 10,-0.001141129604135219\n",
      "ORGANIZATION_TYPE_Industry: type 11,0.0020086493539223007\n",
      "ORGANIZATION_TYPE_Industry: type 12,-0.005444197971605938\n",
      "ORGANIZATION_TYPE_Industry: type 13,0.0029045530932788064\n",
      "ORGANIZATION_TYPE_Industry: type 2,-0.0012300716107088534\n",
      "ORGANIZATION_TYPE_Industry: type 3,0.009691051180979435\n",
      "ORGANIZATION_TYPE_Industry: type 4,0.004074224985598619\n",
      "ORGANIZATION_TYPE_Industry: type 5,-0.001991675040093857\n",
      "ORGANIZATION_TYPE_Industry: type 6,-0.0006516526920781131\n",
      "ORGANIZATION_TYPE_Industry: type 7,-9.405271151193001e-05\n",
      "ORGANIZATION_TYPE_Industry: type 8,0.0014357446973907186\n",
      "ORGANIZATION_TYPE_Industry: type 9,-0.005378514581978389\n",
      "ORGANIZATION_TYPE_Insurance,-0.0038495235189540907\n",
      "ORGANIZATION_TYPE_Kindergarten,-0.005764183870326976\n",
      "ORGANIZATION_TYPE_Legal Services,-0.0002359890687349016\n",
      "ORGANIZATION_TYPE_Medicine,-0.01061892484716742\n",
      "ORGANIZATION_TYPE_Military,-0.010057211128556396\n",
      "ORGANIZATION_TYPE_Mobile,0.0012680907236234673\n",
      "ORGANIZATION_TYPE_Other,-0.003783785022873366\n",
      "ORGANIZATION_TYPE_Police,-0.009886470996787201\n",
      "ORGANIZATION_TYPE_Postal,0.0011253764942943344\n",
      "ORGANIZATION_TYPE_Realtor,0.0033390796299802047\n",
      "ORGANIZATION_TYPE_Religion,-0.0013370635523446658\n",
      "ORGANIZATION_TYPE_Restaurant,0.010265581100007077\n",
      "ORGANIZATION_TYPE_School,-0.013671152344879107\n",
      "ORGANIZATION_TYPE_Security,0.007226072151375719\n",
      "ORGANIZATION_TYPE_Security Ministries,-0.009470318474672357\n",
      "ORGANIZATION_TYPE_Self-employed,0.029138816170825196\n",
      "ORGANIZATION_TYPE_Services,-0.0038709693046358323\n",
      "ORGANIZATION_TYPE_Telecom,-0.000711806886513195\n",
      "ORGANIZATION_TYPE_Trade: type 1,0.0010319076457518555\n",
      "ORGANIZATION_TYPE_Trade: type 2,-0.0031053326049813542\n",
      "ORGANIZATION_TYPE_Trade: type 3,0.00891097489896053\n",
      "ORGANIZATION_TYPE_Trade: type 4,-0.002620523525202652\n",
      "ORGANIZATION_TYPE_Trade: type 5,-0.0009038517880430343\n",
      "ORGANIZATION_TYPE_Trade: type 6,-0.005787609924429992\n",
      "ORGANIZATION_TYPE_Trade: type 7,0.008169509158975935\n",
      "ORGANIZATION_TYPE_Transport: type 1,-0.0033752431971392524\n",
      "ORGANIZATION_TYPE_Transport: type 2,-0.0008386382341174569\n",
      "ORGANIZATION_TYPE_Transport: type 3,0.01755186456959995\n",
      "ORGANIZATION_TYPE_Transport: type 4,0.005929012434526001\n",
      "ORGANIZATION_TYPE_University,-0.007671833701664741\n",
      "ORGANIZATION_TYPE_XNA,-0.04598707841557888\n",
      "FONDKAPREMONT_MODE_not specified,-0.002667356532568229\n",
      "FONDKAPREMONT_MODE_org spec account,-0.011284817213702912\n",
      "FONDKAPREMONT_MODE_reg oper account,-0.02258703808325257\n",
      "FONDKAPREMONT_MODE_reg oper spec account,-0.011257388613412052\n",
      "HOUSETYPE_MODE_block of flats,-0.040593950873433544\n",
      "HOUSETYPE_MODE_specific housing,0.005311049709137749\n",
      "HOUSETYPE_MODE_terraced house,0.0009824471246395305\n",
      "WALLSMATERIAL_MODE_Block,-0.006776814393931737\n",
      "WALLSMATERIAL_MODE_Mixed,-0.0017130120928846616\n",
      "WALLSMATERIAL_MODE_Monolithic,-0.009383663773904751\n",
      "WALLSMATERIAL_MODE_Others,0.0006282435192421734\n",
      "WALLSMATERIAL_MODE_Panel,-0.03311904906882035\n",
      "WALLSMATERIAL_MODE_Stone, brick,-0.012656659303489302\n",
      "WALLSMATERIAL_MODE_Wooden,0.007946354272316278\n",
      "EMERGENCYSTATE_MODE_No,-0.04220136001418544\n",
      "EMERGENCYSTATE_MODE_Yes,0.004828865512243679\n"
     ]
    }
   ],
   "source": [
    "#再度相関を求める\n",
    "list_mix=[]\n",
    "\n",
    "for i in df_mix.columns:\n",
    "    a, b = pearsonr(df_mix[i],df_mix[\"TARGET\"])\n",
    "\n",
    "    print(\"{},{}\".format(i,a)) #　　if 0.2 < abs(a) でも相関見られず。"
   ]
  },
  {
   "cell_type": "code",
   "execution_count": 134,
   "metadata": {},
   "outputs": [
    {
     "name": "stdout",
     "output_type": "stream",
     "text": [
      "SK_ID_CURR:0\n",
      "TARGET:0\n",
      "CNT_CHILDREN:0\n",
      "AMT_INCOME_TOTAL:0\n",
      "AMT_CREDIT:0\n",
      "AMT_ANNUITY:0\n",
      "AMT_GOODS_PRICE:0\n",
      "REGION_POPULATION_RELATIVE:0\n",
      "DAYS_BIRTH:0\n",
      "DAYS_EMPLOYED:0\n",
      "DAYS_REGISTRATION:0\n",
      "DAYS_ID_PUBLISH:0\n",
      "OWN_CAR_AGE:0\n",
      "FLAG_MOBIL:0\n",
      "FLAG_EMP_PHONE:0\n",
      "FLAG_WORK_PHONE:0\n",
      "FLAG_CONT_MOBILE:0\n",
      "FLAG_PHONE:0\n",
      "FLAG_EMAIL:0\n",
      "CNT_FAM_MEMBERS:0\n",
      "REGION_RATING_CLIENT:0\n",
      "REGION_RATING_CLIENT_W_CITY:0\n",
      "HOUR_APPR_PROCESS_START:0\n",
      "REG_REGION_NOT_LIVE_REGION:0\n",
      "REG_REGION_NOT_WORK_REGION:0\n",
      "LIVE_REGION_NOT_WORK_REGION:0\n",
      "REG_CITY_NOT_LIVE_CITY:0\n",
      "REG_CITY_NOT_WORK_CITY:0\n",
      "LIVE_CITY_NOT_WORK_CITY:0\n",
      "EXT_SOURCE_1:0\n",
      "EXT_SOURCE_2:0\n",
      "EXT_SOURCE_3:0\n",
      "APARTMENTS_AVG:0\n",
      "BASEMENTAREA_AVG:0\n",
      "YEARS_BEGINEXPLUATATION_AVG:0\n",
      "YEARS_BUILD_AVG:0\n",
      "COMMONAREA_AVG:0\n",
      "ELEVATORS_AVG:0\n",
      "ENTRANCES_AVG:0\n",
      "FLOORSMAX_AVG:0\n",
      "FLOORSMIN_AVG:0\n",
      "LANDAREA_AVG:0\n",
      "LIVINGAPARTMENTS_AVG:0\n",
      "LIVINGAREA_AVG:0\n",
      "NONLIVINGAPARTMENTS_AVG:0\n",
      "NONLIVINGAREA_AVG:0\n",
      "APARTMENTS_MODE:0\n",
      "BASEMENTAREA_MODE:0\n",
      "YEARS_BEGINEXPLUATATION_MODE:0\n",
      "YEARS_BUILD_MODE:0\n",
      "COMMONAREA_MODE:0\n",
      "ELEVATORS_MODE:0\n",
      "ENTRANCES_MODE:0\n",
      "FLOORSMAX_MODE:0\n",
      "FLOORSMIN_MODE:0\n",
      "LANDAREA_MODE:0\n",
      "LIVINGAPARTMENTS_MODE:0\n",
      "LIVINGAREA_MODE:0\n",
      "NONLIVINGAPARTMENTS_MODE:0\n",
      "NONLIVINGAREA_MODE:0\n",
      "APARTMENTS_MEDI:0\n",
      "BASEMENTAREA_MEDI:0\n",
      "YEARS_BEGINEXPLUATATION_MEDI:0\n",
      "YEARS_BUILD_MEDI:0\n",
      "COMMONAREA_MEDI:0\n",
      "ELEVATORS_MEDI:0\n",
      "ENTRANCES_MEDI:0\n",
      "FLOORSMAX_MEDI:0\n",
      "FLOORSMIN_MEDI:0\n",
      "LANDAREA_MEDI:0\n",
      "LIVINGAPARTMENTS_MEDI:0\n",
      "LIVINGAREA_MEDI:0\n",
      "NONLIVINGAPARTMENTS_MEDI:0\n",
      "NONLIVINGAREA_MEDI:0\n",
      "TOTALAREA_MODE:0\n",
      "OBS_30_CNT_SOCIAL_CIRCLE:0\n",
      "DEF_30_CNT_SOCIAL_CIRCLE:0\n",
      "OBS_60_CNT_SOCIAL_CIRCLE:0\n",
      "DEF_60_CNT_SOCIAL_CIRCLE:0\n",
      "DAYS_LAST_PHONE_CHANGE:0\n",
      "FLAG_DOCUMENT_2:0\n",
      "FLAG_DOCUMENT_3:0\n",
      "FLAG_DOCUMENT_4:0\n",
      "FLAG_DOCUMENT_5:0\n",
      "FLAG_DOCUMENT_6:0\n",
      "FLAG_DOCUMENT_7:0\n",
      "FLAG_DOCUMENT_8:0\n",
      "FLAG_DOCUMENT_9:0\n",
      "FLAG_DOCUMENT_10:0\n",
      "FLAG_DOCUMENT_11:0\n",
      "FLAG_DOCUMENT_12:0\n",
      "FLAG_DOCUMENT_13:0\n",
      "FLAG_DOCUMENT_14:0\n",
      "FLAG_DOCUMENT_15:0\n",
      "FLAG_DOCUMENT_16:0\n",
      "FLAG_DOCUMENT_17:0\n",
      "FLAG_DOCUMENT_18:0\n",
      "FLAG_DOCUMENT_19:0\n",
      "FLAG_DOCUMENT_20:0\n",
      "FLAG_DOCUMENT_21:0\n",
      "AMT_REQ_CREDIT_BUREAU_HOUR:0\n",
      "AMT_REQ_CREDIT_BUREAU_DAY:0\n",
      "AMT_REQ_CREDIT_BUREAU_WEEK:0\n",
      "AMT_REQ_CREDIT_BUREAU_MON:0\n",
      "AMT_REQ_CREDIT_BUREAU_QRT:0\n",
      "AMT_REQ_CREDIT_BUREAU_YEAR:0\n",
      "NAME_CONTRACT_TYPE_Cash loans:0\n",
      "NAME_CONTRACT_TYPE_Revolving loans:0\n",
      "CODE_GENDER_F:0\n",
      "CODE_GENDER_M:0\n",
      "CODE_GENDER_XNA:0\n",
      "FLAG_OWN_CAR_N:0\n",
      "FLAG_OWN_CAR_Y:0\n",
      "FLAG_OWN_REALTY_N:0\n",
      "FLAG_OWN_REALTY_Y:0\n",
      "NAME_TYPE_SUITE_Children:0\n",
      "NAME_TYPE_SUITE_Family:0\n",
      "NAME_TYPE_SUITE_Group of people:0\n",
      "NAME_TYPE_SUITE_Other_A:0\n",
      "NAME_TYPE_SUITE_Other_B:0\n",
      "NAME_TYPE_SUITE_Spouse, partner:0\n",
      "NAME_TYPE_SUITE_Unaccompanied:0\n",
      "NAME_INCOME_TYPE_Businessman:0\n",
      "NAME_INCOME_TYPE_Commercial associate:0\n",
      "NAME_INCOME_TYPE_Maternity leave:0\n",
      "NAME_INCOME_TYPE_Pensioner:0\n",
      "NAME_INCOME_TYPE_State servant:0\n",
      "NAME_INCOME_TYPE_Student:0\n",
      "NAME_INCOME_TYPE_Unemployed:0\n",
      "NAME_INCOME_TYPE_Working:0\n",
      "NAME_EDUCATION_TYPE_Academic degree:0\n",
      "NAME_EDUCATION_TYPE_Higher education:0\n",
      "NAME_EDUCATION_TYPE_Incomplete higher:0\n",
      "NAME_EDUCATION_TYPE_Lower secondary:0\n",
      "NAME_EDUCATION_TYPE_Secondary / secondary special:0\n",
      "NAME_FAMILY_STATUS_Civil marriage:0\n",
      "NAME_FAMILY_STATUS_Married:0\n",
      "NAME_FAMILY_STATUS_Separated:0\n",
      "NAME_FAMILY_STATUS_Single / not married:0\n",
      "NAME_FAMILY_STATUS_Unknown:0\n",
      "NAME_FAMILY_STATUS_Widow:0\n",
      "NAME_HOUSING_TYPE_Co-op apartment:0\n",
      "NAME_HOUSING_TYPE_House / apartment:0\n",
      "NAME_HOUSING_TYPE_Municipal apartment:0\n",
      "NAME_HOUSING_TYPE_Office apartment:0\n",
      "NAME_HOUSING_TYPE_Rented apartment:0\n",
      "NAME_HOUSING_TYPE_With parents:0\n",
      "OCCUPATION_TYPE_Accountants:0\n",
      "OCCUPATION_TYPE_Cleaning staff:0\n",
      "OCCUPATION_TYPE_Cooking staff:0\n",
      "OCCUPATION_TYPE_Core staff:0\n",
      "OCCUPATION_TYPE_Drivers:0\n",
      "OCCUPATION_TYPE_HR staff:0\n",
      "OCCUPATION_TYPE_High skill tech staff:0\n",
      "OCCUPATION_TYPE_IT staff:0\n",
      "OCCUPATION_TYPE_Laborers:0\n",
      "OCCUPATION_TYPE_Low-skill Laborers:0\n",
      "OCCUPATION_TYPE_Managers:0\n",
      "OCCUPATION_TYPE_Medicine staff:0\n",
      "OCCUPATION_TYPE_Private service staff:0\n",
      "OCCUPATION_TYPE_Realty agents:0\n",
      "OCCUPATION_TYPE_Sales staff:0\n",
      "OCCUPATION_TYPE_Secretaries:0\n",
      "OCCUPATION_TYPE_Security staff:0\n",
      "OCCUPATION_TYPE_Waiters/barmen staff:0\n",
      "WEEKDAY_APPR_PROCESS_START_FRIDAY:0\n",
      "WEEKDAY_APPR_PROCESS_START_MONDAY:0\n",
      "WEEKDAY_APPR_PROCESS_START_SATURDAY:0\n",
      "WEEKDAY_APPR_PROCESS_START_SUNDAY:0\n",
      "WEEKDAY_APPR_PROCESS_START_THURSDAY:0\n",
      "WEEKDAY_APPR_PROCESS_START_TUESDAY:0\n",
      "WEEKDAY_APPR_PROCESS_START_WEDNESDAY:0\n",
      "ORGANIZATION_TYPE_Advertising:0\n",
      "ORGANIZATION_TYPE_Agriculture:0\n",
      "ORGANIZATION_TYPE_Bank:0\n",
      "ORGANIZATION_TYPE_Business Entity Type 1:0\n",
      "ORGANIZATION_TYPE_Business Entity Type 2:0\n",
      "ORGANIZATION_TYPE_Business Entity Type 3:0\n",
      "ORGANIZATION_TYPE_Cleaning:0\n",
      "ORGANIZATION_TYPE_Construction:0\n",
      "ORGANIZATION_TYPE_Culture:0\n",
      "ORGANIZATION_TYPE_Electricity:0\n",
      "ORGANIZATION_TYPE_Emergency:0\n",
      "ORGANIZATION_TYPE_Government:0\n",
      "ORGANIZATION_TYPE_Hotel:0\n",
      "ORGANIZATION_TYPE_Housing:0\n",
      "ORGANIZATION_TYPE_Industry: type 1:0\n",
      "ORGANIZATION_TYPE_Industry: type 10:0\n",
      "ORGANIZATION_TYPE_Industry: type 11:0\n",
      "ORGANIZATION_TYPE_Industry: type 12:0\n",
      "ORGANIZATION_TYPE_Industry: type 13:0\n",
      "ORGANIZATION_TYPE_Industry: type 2:0\n",
      "ORGANIZATION_TYPE_Industry: type 3:0\n",
      "ORGANIZATION_TYPE_Industry: type 4:0\n",
      "ORGANIZATION_TYPE_Industry: type 5:0\n",
      "ORGANIZATION_TYPE_Industry: type 6:0\n",
      "ORGANIZATION_TYPE_Industry: type 7:0\n",
      "ORGANIZATION_TYPE_Industry: type 8:0\n",
      "ORGANIZATION_TYPE_Industry: type 9:0\n",
      "ORGANIZATION_TYPE_Insurance:0\n",
      "ORGANIZATION_TYPE_Kindergarten:0\n",
      "ORGANIZATION_TYPE_Legal Services:0\n",
      "ORGANIZATION_TYPE_Medicine:0\n",
      "ORGANIZATION_TYPE_Military:0\n",
      "ORGANIZATION_TYPE_Mobile:0\n",
      "ORGANIZATION_TYPE_Other:0\n",
      "ORGANIZATION_TYPE_Police:0\n",
      "ORGANIZATION_TYPE_Postal:0\n",
      "ORGANIZATION_TYPE_Realtor:0\n",
      "ORGANIZATION_TYPE_Religion:0\n",
      "ORGANIZATION_TYPE_Restaurant:0\n",
      "ORGANIZATION_TYPE_School:0\n",
      "ORGANIZATION_TYPE_Security:0\n",
      "ORGANIZATION_TYPE_Security Ministries:0\n",
      "ORGANIZATION_TYPE_Self-employed:0\n",
      "ORGANIZATION_TYPE_Services:0\n",
      "ORGANIZATION_TYPE_Telecom:0\n",
      "ORGANIZATION_TYPE_Trade: type 1:0\n",
      "ORGANIZATION_TYPE_Trade: type 2:0\n",
      "ORGANIZATION_TYPE_Trade: type 3:0\n",
      "ORGANIZATION_TYPE_Trade: type 4:0\n",
      "ORGANIZATION_TYPE_Trade: type 5:0\n",
      "ORGANIZATION_TYPE_Trade: type 6:0\n",
      "ORGANIZATION_TYPE_Trade: type 7:0\n",
      "ORGANIZATION_TYPE_Transport: type 1:0\n",
      "ORGANIZATION_TYPE_Transport: type 2:0\n",
      "ORGANIZATION_TYPE_Transport: type 3:0\n",
      "ORGANIZATION_TYPE_Transport: type 4:0\n",
      "ORGANIZATION_TYPE_University:0\n",
      "ORGANIZATION_TYPE_XNA:0\n",
      "FONDKAPREMONT_MODE_not specified:0\n",
      "FONDKAPREMONT_MODE_org spec account:0\n",
      "FONDKAPREMONT_MODE_reg oper account:0\n",
      "FONDKAPREMONT_MODE_reg oper spec account:0\n",
      "HOUSETYPE_MODE_block of flats:0\n",
      "HOUSETYPE_MODE_specific housing:0\n",
      "HOUSETYPE_MODE_terraced house:0\n",
      "WALLSMATERIAL_MODE_Block:0\n",
      "WALLSMATERIAL_MODE_Mixed:0\n",
      "WALLSMATERIAL_MODE_Monolithic:0\n",
      "WALLSMATERIAL_MODE_Others:0\n",
      "WALLSMATERIAL_MODE_Panel:0\n",
      "WALLSMATERIAL_MODE_Stone, brick:0\n",
      "WALLSMATERIAL_MODE_Wooden:0\n",
      "EMERGENCYSTATE_MODE_No:0\n",
      "EMERGENCYSTATE_MODE_Yes:0\n"
     ]
    }
   ],
   "source": [
    "for i in df_mix.columns:\n",
    "    print(i, df_mix[i].isnull().sum(), sep = \":\")\n"
   ]
  },
  {
   "cell_type": "code",
   "execution_count": 136,
   "metadata": {},
   "outputs": [],
   "source": [
    "#置き換えても相関は見られない。"
   ]
  },
  {
   "cell_type": "code",
   "execution_count": 145,
   "metadata": {},
   "outputs": [],
   "source": [
    "#決定木\n",
    "from sklearn.tree import DecisionTreeClassifier\n",
    "from sklearn.model_selection import train_test_split\n",
    "\n",
    "X = df_mix.drop([\"TARGET\"],axis = 1)\n",
    "y = df_mix[\"TARGET\"]\n",
    "\n",
    "(train_X, test_X, train_y, test_y) = train_test_split(X,y, test_size=0.3, random_state = 0)\n",
    "\n",
    "clf = DecisionTreeClassifier(random_state=0)\n",
    "clf = clf.fit(train_X, train_y)\n",
    "pred = clf.predict(test_X)"
   ]
  },
  {
   "cell_type": "code",
   "execution_count": 146,
   "metadata": {},
   "outputs": [
    {
     "data": {
      "text/plain": [
       "0.8534697682485313"
      ]
     },
     "execution_count": 146,
     "metadata": {},
     "output_type": "execute_result"
    }
   ],
   "source": [
    "from sklearn.metrics import (roc_curve, auc, accuracy_score)\n",
    "\n",
    "pred = clf.predict(test_X)\n",
    "fpr, tpr, thresholds = roc_curve(test_y, pred, pos_label=1)\n",
    "auc(fpr, tpr)\n",
    "accuracy_score(pred, test_y)"
   ]
  },
  {
   "cell_type": "code",
   "execution_count": 150,
   "metadata": {},
   "outputs": [
    {
     "ename": "InvocationException",
     "evalue": "GraphViz's executables not found",
     "output_type": "error",
     "traceback": [
      "\u001b[0;31m---------------------------------------------------------------------------\u001b[0m",
      "\u001b[0;31mInvocationException\u001b[0m                       Traceback (most recent call last)",
      "\u001b[0;32m<ipython-input-150-b3b91ac669cf>\u001b[0m in \u001b[0;36m<module>\u001b[0;34m\u001b[0m\n\u001b[1;32m      9\u001b[0m \u001b[0mtree\u001b[0m\u001b[0;34m.\u001b[0m\u001b[0mexport_graphviz\u001b[0m\u001b[0;34m(\u001b[0m\u001b[0mclf\u001b[0m\u001b[0;34m,\u001b[0m \u001b[0mout_file\u001b[0m\u001b[0;34m=\u001b[0m\u001b[0mdot_data\u001b[0m\u001b[0;34m,\u001b[0m\u001b[0mfeature_names\u001b[0m\u001b[0;34m=\u001b[0m\u001b[0mtrain_X\u001b[0m\u001b[0;34m.\u001b[0m\u001b[0mcolumns\u001b[0m\u001b[0;34m,\u001b[0m \u001b[0mmax_depth\u001b[0m\u001b[0;34m=\u001b[0m\u001b[0;36m3\u001b[0m\u001b[0;34m)\u001b[0m\u001b[0;34m\u001b[0m\u001b[0;34m\u001b[0m\u001b[0m\n\u001b[1;32m     10\u001b[0m \u001b[0mgraph\u001b[0m \u001b[0;34m=\u001b[0m \u001b[0mpydotplus\u001b[0m\u001b[0;34m.\u001b[0m\u001b[0mgraph_from_dot_data\u001b[0m\u001b[0;34m(\u001b[0m\u001b[0mdot_data\u001b[0m\u001b[0;34m.\u001b[0m\u001b[0mgetvalue\u001b[0m\u001b[0;34m(\u001b[0m\u001b[0;34m)\u001b[0m\u001b[0;34m)\u001b[0m\u001b[0;34m\u001b[0m\u001b[0;34m\u001b[0m\u001b[0m\n\u001b[0;32m---> 11\u001b[0;31m \u001b[0mgraph\u001b[0m\u001b[0;34m.\u001b[0m\u001b[0mwrite_pdf\u001b[0m\u001b[0;34m(\u001b[0m\u001b[0;34m\"graph.pdf\"\u001b[0m\u001b[0;34m)\u001b[0m\u001b[0;34m\u001b[0m\u001b[0;34m\u001b[0m\u001b[0m\n\u001b[0m\u001b[1;32m     12\u001b[0m \u001b[0mImage\u001b[0m\u001b[0;34m(\u001b[0m\u001b[0mgraph\u001b[0m\u001b[0;34m.\u001b[0m\u001b[0mcreate_png\u001b[0m\u001b[0;34m(\u001b[0m\u001b[0;34m)\u001b[0m\u001b[0;34m)\u001b[0m\u001b[0;34m\u001b[0m\u001b[0;34m\u001b[0m\u001b[0m\n",
      "\u001b[0;32m~/.pyenv/versions/anaconda3-2019.03/lib/python3.7/site-packages/pydotplus/graphviz.py\u001b[0m in \u001b[0;36m<lambda>\u001b[0;34m(path, f, prog)\u001b[0m\n\u001b[1;32m   1808\u001b[0m                 \u001b[0;32mlambda\u001b[0m \u001b[0mpath\u001b[0m\u001b[0;34m,\u001b[0m\u001b[0;34m\u001b[0m\u001b[0;34m\u001b[0m\u001b[0m\n\u001b[1;32m   1809\u001b[0m                 \u001b[0mf\u001b[0m\u001b[0;34m=\u001b[0m\u001b[0mfrmt\u001b[0m\u001b[0;34m,\u001b[0m\u001b[0;34m\u001b[0m\u001b[0;34m\u001b[0m\u001b[0m\n\u001b[0;32m-> 1810\u001b[0;31m                 \u001b[0mprog\u001b[0m\u001b[0;34m=\u001b[0m\u001b[0mself\u001b[0m\u001b[0;34m.\u001b[0m\u001b[0mprog\u001b[0m\u001b[0;34m:\u001b[0m \u001b[0mself\u001b[0m\u001b[0;34m.\u001b[0m\u001b[0mwrite\u001b[0m\u001b[0;34m(\u001b[0m\u001b[0mpath\u001b[0m\u001b[0;34m,\u001b[0m \u001b[0mformat\u001b[0m\u001b[0;34m=\u001b[0m\u001b[0mf\u001b[0m\u001b[0;34m,\u001b[0m \u001b[0mprog\u001b[0m\u001b[0;34m=\u001b[0m\u001b[0mprog\u001b[0m\u001b[0;34m)\u001b[0m\u001b[0;34m\u001b[0m\u001b[0;34m\u001b[0m\u001b[0m\n\u001b[0m\u001b[1;32m   1811\u001b[0m             )\n\u001b[1;32m   1812\u001b[0m \u001b[0;34m\u001b[0m\u001b[0m\n",
      "\u001b[0;32m~/.pyenv/versions/anaconda3-2019.03/lib/python3.7/site-packages/pydotplus/graphviz.py\u001b[0m in \u001b[0;36mwrite\u001b[0;34m(self, path, prog, format)\u001b[0m\n\u001b[1;32m   1916\u001b[0m \u001b[0;34m\u001b[0m\u001b[0m\n\u001b[1;32m   1917\u001b[0m             \u001b[0;32melse\u001b[0m\u001b[0;34m:\u001b[0m\u001b[0;34m\u001b[0m\u001b[0;34m\u001b[0m\u001b[0m\n\u001b[0;32m-> 1918\u001b[0;31m                 \u001b[0mfobj\u001b[0m\u001b[0;34m.\u001b[0m\u001b[0mwrite\u001b[0m\u001b[0;34m(\u001b[0m\u001b[0mself\u001b[0m\u001b[0;34m.\u001b[0m\u001b[0mcreate\u001b[0m\u001b[0;34m(\u001b[0m\u001b[0mprog\u001b[0m\u001b[0;34m,\u001b[0m \u001b[0mformat\u001b[0m\u001b[0;34m)\u001b[0m\u001b[0;34m)\u001b[0m\u001b[0;34m\u001b[0m\u001b[0;34m\u001b[0m\u001b[0m\n\u001b[0m\u001b[1;32m   1919\u001b[0m         \u001b[0;32mfinally\u001b[0m\u001b[0;34m:\u001b[0m\u001b[0;34m\u001b[0m\u001b[0;34m\u001b[0m\u001b[0m\n\u001b[1;32m   1920\u001b[0m             \u001b[0;32mif\u001b[0m \u001b[0mclose\u001b[0m\u001b[0;34m:\u001b[0m\u001b[0;34m\u001b[0m\u001b[0;34m\u001b[0m\u001b[0m\n",
      "\u001b[0;32m~/.pyenv/versions/anaconda3-2019.03/lib/python3.7/site-packages/pydotplus/graphviz.py\u001b[0m in \u001b[0;36mcreate\u001b[0;34m(self, prog, format)\u001b[0m\n\u001b[1;32m   1958\u001b[0m             \u001b[0;32mif\u001b[0m \u001b[0mself\u001b[0m\u001b[0;34m.\u001b[0m\u001b[0mprogs\u001b[0m \u001b[0;32mis\u001b[0m \u001b[0;32mNone\u001b[0m\u001b[0;34m:\u001b[0m\u001b[0;34m\u001b[0m\u001b[0;34m\u001b[0m\u001b[0m\n\u001b[1;32m   1959\u001b[0m                 raise InvocationException(\n\u001b[0;32m-> 1960\u001b[0;31m                     'GraphViz\\'s executables not found')\n\u001b[0m\u001b[1;32m   1961\u001b[0m \u001b[0;34m\u001b[0m\u001b[0m\n\u001b[1;32m   1962\u001b[0m         \u001b[0;32mif\u001b[0m \u001b[0mprog\u001b[0m \u001b[0;32mnot\u001b[0m \u001b[0;32min\u001b[0m \u001b[0mself\u001b[0m\u001b[0;34m.\u001b[0m\u001b[0mprogs\u001b[0m\u001b[0;34m:\u001b[0m\u001b[0;34m\u001b[0m\u001b[0;34m\u001b[0m\u001b[0m\n",
      "\u001b[0;31mInvocationException\u001b[0m: GraphViz's executables not found"
     ]
    }
   ],
   "source": [
    "#可視化\n",
    "import pydotplus\n",
    "from IPython.display import Image\n",
    "from graphviz import Digraph\n",
    "from sklearn.externals.six import StringIO\n",
    "from sklearn import tree\n",
    "\n",
    "dot_data = StringIO()\n",
    "tree.export_graphviz(clf, out_file=dot_data,feature_names=train_X.columns, max_depth=3)\n",
    "graph = pydotplus.graph_from_dot_data(dot_data.getvalue())\n",
    "graph.write_pdf(\"graph.pdf\")\n",
    "Image(graph.create_png())"
   ]
  },
  {
   "cell_type": "code",
   "execution_count": 50,
   "metadata": {},
   "outputs": [
    {
     "name": "stdout",
     "output_type": "stream",
     "text": [
      "SK_ID_CURR:0\n",
      "TARGET:0\n",
      "NAME_CONTRACT_TYPE_1:0\n",
      "NAME_CONTRACT_TYPE_2:0\n",
      "CODE_GENDER_1:0\n",
      "CODE_GENDER_2:0\n",
      "CODE_GENDER_3:0\n",
      "FLAG_OWN_CAR_1:0\n",
      "FLAG_OWN_CAR_2:0\n",
      "FLAG_OWN_REALTY_1:0\n",
      "FLAG_OWN_REALTY_2:0\n",
      "CNT_CHILDREN_1:0\n",
      "CNT_CHILDREN_2:0\n",
      "CNT_CHILDREN_3:0\n",
      "CNT_CHILDREN_4:0\n",
      "CNT_CHILDREN_5:0\n",
      "CNT_CHILDREN_6:0\n",
      "CNT_CHILDREN_7:0\n",
      "CNT_CHILDREN_8:0\n",
      "CNT_CHILDREN_9:0\n",
      "CNT_CHILDREN_10:0\n",
      "CNT_CHILDREN_11:0\n",
      "CNT_CHILDREN_12:0\n",
      "CNT_CHILDREN_13:0\n",
      "CNT_CHILDREN_14:0\n",
      "CNT_CHILDREN_15:0\n",
      "AMT_INCOME_TOTAL:0\n",
      "AMT_CREDIT:0\n",
      "AMT_ANNUITY:12\n",
      "AMT_GOODS_PRICE:278\n",
      "NAME_TYPE_SUITE_1:0\n",
      "NAME_TYPE_SUITE_2:0\n",
      "NAME_TYPE_SUITE_3:0\n",
      "NAME_TYPE_SUITE_4:0\n",
      "NAME_TYPE_SUITE_5:0\n",
      "NAME_TYPE_SUITE_6:0\n",
      "NAME_TYPE_SUITE_7:0\n",
      "NAME_TYPE_SUITE_8:0\n",
      "NAME_INCOME_TYPE_1:0\n",
      "NAME_INCOME_TYPE_2:0\n",
      "NAME_INCOME_TYPE_3:0\n",
      "NAME_INCOME_TYPE_4:0\n",
      "NAME_INCOME_TYPE_5:0\n",
      "NAME_INCOME_TYPE_6:0\n",
      "NAME_INCOME_TYPE_7:0\n",
      "NAME_INCOME_TYPE_8:0\n",
      "NAME_EDUCATION_TYPE_1:0\n",
      "NAME_EDUCATION_TYPE_2:0\n",
      "NAME_EDUCATION_TYPE_3:0\n",
      "NAME_EDUCATION_TYPE_4:0\n",
      "NAME_EDUCATION_TYPE_5:0\n",
      "NAME_FAMILY_STATUS_1:0\n",
      "NAME_FAMILY_STATUS_2:0\n",
      "NAME_FAMILY_STATUS_3:0\n",
      "NAME_FAMILY_STATUS_4:0\n",
      "NAME_FAMILY_STATUS_5:0\n",
      "NAME_FAMILY_STATUS_6:0\n",
      "NAME_HOUSING_TYPE_1:0\n",
      "NAME_HOUSING_TYPE_2:0\n",
      "NAME_HOUSING_TYPE_3:0\n",
      "NAME_HOUSING_TYPE_4:0\n",
      "NAME_HOUSING_TYPE_5:0\n",
      "NAME_HOUSING_TYPE_6:0\n",
      "REGION_POPULATION_RELATIVE:0\n",
      "DAYS_BIRTH:0\n",
      "DAYS_EMPLOYED:0\n",
      "DAYS_REGISTRATION:0\n",
      "DAYS_ID_PUBLISH:0\n",
      "OWN_CAR_AGE:202929\n",
      "FLAG_MOBIL:0\n",
      "FLAG_EMP_PHONE:0\n",
      "FLAG_WORK_PHONE:0\n",
      "FLAG_CONT_MOBILE:0\n",
      "FLAG_PHONE:0\n",
      "FLAG_EMAIL:0\n",
      "OCCUPATION_TYPE_1:0\n",
      "OCCUPATION_TYPE_2:0\n",
      "OCCUPATION_TYPE_3:0\n",
      "OCCUPATION_TYPE_4:0\n",
      "OCCUPATION_TYPE_5:0\n",
      "OCCUPATION_TYPE_6:0\n",
      "OCCUPATION_TYPE_7:0\n",
      "OCCUPATION_TYPE_8:0\n",
      "OCCUPATION_TYPE_9:0\n",
      "OCCUPATION_TYPE_10:0\n",
      "OCCUPATION_TYPE_11:0\n",
      "OCCUPATION_TYPE_12:0\n",
      "OCCUPATION_TYPE_13:0\n",
      "OCCUPATION_TYPE_14:0\n",
      "OCCUPATION_TYPE_15:0\n",
      "OCCUPATION_TYPE_16:0\n",
      "OCCUPATION_TYPE_17:0\n",
      "OCCUPATION_TYPE_18:0\n",
      "OCCUPATION_TYPE_19:0\n",
      "CNT_FAM_MEMBERS:2\n",
      "REGION_RATING_CLIENT:0\n",
      "REGION_RATING_CLIENT_W_CITY:0\n",
      "WEEKDAY_APPR_PROCESS_START_1:0\n",
      "WEEKDAY_APPR_PROCESS_START_2:0\n",
      "WEEKDAY_APPR_PROCESS_START_3:0\n",
      "WEEKDAY_APPR_PROCESS_START_4:0\n",
      "WEEKDAY_APPR_PROCESS_START_5:0\n",
      "WEEKDAY_APPR_PROCESS_START_6:0\n",
      "WEEKDAY_APPR_PROCESS_START_7:0\n",
      "HOUR_APPR_PROCESS_START:0\n",
      "REG_REGION_NOT_LIVE_REGION:0\n",
      "REG_REGION_NOT_WORK_REGION:0\n",
      "LIVE_REGION_NOT_WORK_REGION:0\n",
      "REG_CITY_NOT_LIVE_CITY:0\n",
      "REG_CITY_NOT_WORK_CITY:0\n",
      "LIVE_CITY_NOT_WORK_CITY:0\n",
      "ORGANIZATION_TYPE_1:0\n",
      "ORGANIZATION_TYPE_2:0\n",
      "ORGANIZATION_TYPE_3:0\n",
      "ORGANIZATION_TYPE_4:0\n",
      "ORGANIZATION_TYPE_5:0\n",
      "ORGANIZATION_TYPE_6:0\n",
      "ORGANIZATION_TYPE_7:0\n",
      "ORGANIZATION_TYPE_8:0\n",
      "ORGANIZATION_TYPE_9:0\n",
      "ORGANIZATION_TYPE_10:0\n",
      "ORGANIZATION_TYPE_11:0\n",
      "ORGANIZATION_TYPE_12:0\n",
      "ORGANIZATION_TYPE_13:0\n",
      "ORGANIZATION_TYPE_14:0\n",
      "ORGANIZATION_TYPE_15:0\n",
      "ORGANIZATION_TYPE_16:0\n",
      "ORGANIZATION_TYPE_17:0\n",
      "ORGANIZATION_TYPE_18:0\n",
      "ORGANIZATION_TYPE_19:0\n",
      "ORGANIZATION_TYPE_20:0\n",
      "ORGANIZATION_TYPE_21:0\n",
      "ORGANIZATION_TYPE_22:0\n",
      "ORGANIZATION_TYPE_23:0\n",
      "ORGANIZATION_TYPE_24:0\n",
      "ORGANIZATION_TYPE_25:0\n",
      "ORGANIZATION_TYPE_26:0\n",
      "ORGANIZATION_TYPE_27:0\n",
      "ORGANIZATION_TYPE_28:0\n",
      "ORGANIZATION_TYPE_29:0\n",
      "ORGANIZATION_TYPE_30:0\n",
      "ORGANIZATION_TYPE_31:0\n",
      "ORGANIZATION_TYPE_32:0\n",
      "ORGANIZATION_TYPE_33:0\n",
      "ORGANIZATION_TYPE_34:0\n",
      "ORGANIZATION_TYPE_35:0\n",
      "ORGANIZATION_TYPE_36:0\n",
      "ORGANIZATION_TYPE_37:0\n",
      "ORGANIZATION_TYPE_38:0\n",
      "ORGANIZATION_TYPE_39:0\n",
      "ORGANIZATION_TYPE_40:0\n",
      "ORGANIZATION_TYPE_41:0\n",
      "ORGANIZATION_TYPE_42:0\n",
      "ORGANIZATION_TYPE_43:0\n",
      "ORGANIZATION_TYPE_44:0\n",
      "ORGANIZATION_TYPE_45:0\n",
      "ORGANIZATION_TYPE_46:0\n",
      "ORGANIZATION_TYPE_47:0\n",
      "ORGANIZATION_TYPE_48:0\n",
      "ORGANIZATION_TYPE_49:0\n",
      "ORGANIZATION_TYPE_50:0\n",
      "ORGANIZATION_TYPE_51:0\n",
      "ORGANIZATION_TYPE_52:0\n",
      "ORGANIZATION_TYPE_53:0\n",
      "ORGANIZATION_TYPE_54:0\n",
      "ORGANIZATION_TYPE_55:0\n",
      "ORGANIZATION_TYPE_56:0\n",
      "ORGANIZATION_TYPE_57:0\n",
      "ORGANIZATION_TYPE_58:0\n",
      "EXT_SOURCE_1:173378\n",
      "EXT_SOURCE_2:660\n",
      "EXT_SOURCE_3:60965\n",
      "APARTMENTS_AVG:156061\n",
      "BASEMENTAREA_AVG:179943\n",
      "YEARS_BEGINEXPLUATATION_AVG:150007\n",
      "YEARS_BUILD_AVG:204488\n",
      "COMMONAREA_AVG:214865\n",
      "ELEVATORS_AVG:163891\n",
      "ENTRANCES_AVG:154828\n",
      "FLOORSMAX_AVG:153020\n",
      "FLOORSMIN_AVG:208642\n",
      "LANDAREA_AVG:182590\n",
      "LIVINGAPARTMENTS_AVG:210199\n",
      "LIVINGAREA_AVG:154350\n",
      "NONLIVINGAPARTMENTS_AVG:213514\n",
      "NONLIVINGAREA_AVG:169682\n",
      "APARTMENTS_MODE:156061\n",
      "BASEMENTAREA_MODE:179943\n",
      "YEARS_BEGINEXPLUATATION_MODE:150007\n",
      "YEARS_BUILD_MODE:204488\n",
      "COMMONAREA_MODE:214865\n",
      "ELEVATORS_MODE:163891\n",
      "ENTRANCES_MODE:154828\n",
      "FLOORSMAX_MODE:153020\n",
      "FLOORSMIN_MODE:208642\n",
      "LANDAREA_MODE:182590\n",
      "LIVINGAPARTMENTS_MODE:210199\n",
      "LIVINGAREA_MODE:154350\n",
      "NONLIVINGAPARTMENTS_MODE:213514\n",
      "NONLIVINGAREA_MODE:169682\n",
      "APARTMENTS_MEDI:156061\n",
      "BASEMENTAREA_MEDI:179943\n",
      "YEARS_BEGINEXPLUATATION_MEDI:150007\n",
      "YEARS_BUILD_MEDI:204488\n",
      "COMMONAREA_MEDI:214865\n",
      "ELEVATORS_MEDI:163891\n",
      "ENTRANCES_MEDI:154828\n",
      "FLOORSMAX_MEDI:153020\n",
      "FLOORSMIN_MEDI:208642\n",
      "LANDAREA_MEDI:182590\n",
      "LIVINGAPARTMENTS_MEDI:210199\n",
      "LIVINGAREA_MEDI:154350\n",
      "NONLIVINGAPARTMENTS_MEDI:213514\n",
      "NONLIVINGAREA_MEDI:169682\n",
      "FONDKAPREMONT_MODE_1:0\n",
      "FONDKAPREMONT_MODE_2:0\n",
      "FONDKAPREMONT_MODE_3:0\n",
      "FONDKAPREMONT_MODE_4:0\n",
      "FONDKAPREMONT_MODE_5:0\n",
      "HOUSETYPE_MODE_1:0\n",
      "HOUSETYPE_MODE_2:0\n",
      "HOUSETYPE_MODE_3:0\n",
      "HOUSETYPE_MODE_4:0\n",
      "TOTALAREA_MODE:148431\n",
      "WALLSMATERIAL_MODE_1:0\n",
      "WALLSMATERIAL_MODE_2:0\n",
      "WALLSMATERIAL_MODE_3:0\n",
      "WALLSMATERIAL_MODE_4:0\n",
      "WALLSMATERIAL_MODE_5:0\n",
      "WALLSMATERIAL_MODE_6:0\n",
      "WALLSMATERIAL_MODE_7:0\n",
      "WALLSMATERIAL_MODE_8:0\n",
      "EMERGENCYSTATE_MODE_1:0\n",
      "EMERGENCYSTATE_MODE_2:0\n",
      "EMERGENCYSTATE_MODE_3:0\n",
      "OBS_30_CNT_SOCIAL_CIRCLE:1021\n",
      "DEF_30_CNT_SOCIAL_CIRCLE:1021\n",
      "OBS_60_CNT_SOCIAL_CIRCLE:1021\n",
      "DEF_60_CNT_SOCIAL_CIRCLE:1021\n",
      "DAYS_LAST_PHONE_CHANGE:1\n",
      "FLAG_DOCUMENT_2:0\n",
      "FLAG_DOCUMENT_3:0\n",
      "FLAG_DOCUMENT_4:0\n",
      "FLAG_DOCUMENT_5:0\n",
      "FLAG_DOCUMENT_6:0\n",
      "FLAG_DOCUMENT_7:0\n",
      "FLAG_DOCUMENT_8:0\n",
      "FLAG_DOCUMENT_9:0\n",
      "FLAG_DOCUMENT_10:0\n",
      "FLAG_DOCUMENT_11:0\n",
      "FLAG_DOCUMENT_12:0\n",
      "FLAG_DOCUMENT_13:0\n",
      "FLAG_DOCUMENT_14:0\n",
      "FLAG_DOCUMENT_15:0\n",
      "FLAG_DOCUMENT_16:0\n",
      "FLAG_DOCUMENT_17:0\n",
      "FLAG_DOCUMENT_18:0\n",
      "FLAG_DOCUMENT_19:0\n",
      "FLAG_DOCUMENT_20:0\n",
      "FLAG_DOCUMENT_21:0\n",
      "AMT_REQ_CREDIT_BUREAU_HOUR:41519\n",
      "AMT_REQ_CREDIT_BUREAU_DAY:41519\n",
      "AMT_REQ_CREDIT_BUREAU_WEEK:41519\n",
      "AMT_REQ_CREDIT_BUREAU_MON:41519\n",
      "AMT_REQ_CREDIT_BUREAU_QRT:41519\n",
      "AMT_REQ_CREDIT_BUREAU_YEAR:41519\n"
     ]
    }
   ],
   "source": [
    "#名義尺度を変数化\n",
    "import category_encoders as ce\n",
    "#エンコードしたい列を指定　# Eoncodeしたい列をリストで指定。もちろん複数指定可能。\n",
    "#全て\n",
    "list_cols = ['NAME_CONTRACT_TYPE','CODE_GENDER','FLAG_OWN_CAR','FLAG_OWN_REALTY','CNT_CHILDREN'\n",
    "            ,'NAME_FAMILY_STATUS','NAME_HOUSING_TYPE','NAME_TYPE_SUITE','NAME_INCOME_TYPE'\n",
    "            ,'NAME_EDUCATION_TYPE','OCCUPATION_TYPE','WEEKDAY_APPR_PROCESS_START','ORGANIZATION_TYPE'\n",
    "            ,'FONDKAPREMONT_MODE','HOUSETYPE_MODE','WALLSMATERIAL_MODE','EMERGENCYSTATE_MODE']\n",
    "# OneHotEncodeしたい列を指定。Nullや不明の場合の補完方法も指定。\n",
    "ce_ohe = ce.OneHotEncoder(cols=list_cols,handle_unknown='impute')\n",
    "\n",
    "# pd.DataFrameをそのまま突っ込む\n",
    "df_gender_onehot = ce_ohe.fit_transform(df)\n",
    "\n",
    "#display(df_gender_onehot)\n",
    "for i in df_gender_onehot.columns:\n",
    "    print(i, df_gender_onehot[i].isnull().sum(), sep = \":\")"
   ]
  },
  {
   "cell_type": "code",
   "execution_count": 51,
   "metadata": {},
   "outputs": [],
   "source": [
    "#TARGET の分離\n",
    "X_df = df_gender_onehot.drop(\"TARGET\", axis = 1)\n",
    "y_df = pd.DataFrame(df_gender_onehot.loc[:,'TARGET'])"
   ]
  },
  {
   "cell_type": "code",
   "execution_count": 48,
   "metadata": {},
   "outputs": [
    {
     "name": "stdout",
     "output_type": "stream",
     "text": [
      "Collecting minepy\n",
      "\u001b[?25l  Downloading https://files.pythonhosted.org/packages/90/a6/cdfe0f50b16d18196b3a21d3df8c06c361ccbd553717093133a88227823b/minepy-1.2.4.tar.gz (493kB)\n",
      "\u001b[K    100% |████████████████████████████████| 501kB 19.0MB/s ta 0:00:01\n",
      "\u001b[?25hRequirement already satisfied: numpy>=1.3.0 in /Users/akishimasaki/.pyenv/versions/anaconda3-2019.03/lib/python3.7/site-packages (from minepy) (1.16.2)\n",
      "Building wheels for collected packages: minepy\n",
      "  Building wheel for minepy (setup.py) ... \u001b[?25ldone\n",
      "\u001b[?25h  Stored in directory: /Users/akishimasaki/Library/Caches/pip/wheels/ea/ad/3a/0e6f5c87be5ee6ad987bd7a317dd6b92e616d559f63f4d8acc\n",
      "Successfully built minepy\n",
      "Installing collected packages: minepy\n",
      "Successfully installed minepy-1.2.4\n",
      "Note: you may need to restart the kernel to use updated packages.\n"
     ]
    }
   ],
   "source": [
    "pip install minepy"
   ]
  },
  {
   "cell_type": "code",
   "execution_count": 53,
   "metadata": {},
   "outputs": [
    {
     "ename": "ValueError",
     "evalue": "Buffer has wrong number of dimensions (expected 1, got 2)",
     "output_type": "error",
     "traceback": [
      "\u001b[0;31m---------------------------------------------------------------------------\u001b[0m",
      "\u001b[0;31mValueError\u001b[0m                                Traceback (most recent call last)",
      "\u001b[0;32m<ipython-input-53-8c5a0b1abd66>\u001b[0m in \u001b[0;36m<module>\u001b[0;34m\u001b[0m\n\u001b[1;32m      2\u001b[0m \u001b[0mmine\u001b[0m \u001b[0;34m=\u001b[0m \u001b[0mMINE\u001b[0m\u001b[0;34m(\u001b[0m\u001b[0;34m)\u001b[0m\u001b[0;34m\u001b[0m\u001b[0;34m\u001b[0m\u001b[0m\n\u001b[1;32m      3\u001b[0m \u001b[0;34m\u001b[0m\u001b[0m\n\u001b[0;32m----> 4\u001b[0;31m \u001b[0mmine\u001b[0m\u001b[0;34m.\u001b[0m\u001b[0mcompute_score\u001b[0m\u001b[0;34m(\u001b[0m\u001b[0mX_df\u001b[0m\u001b[0;34m,\u001b[0m\u001b[0my_df\u001b[0m\u001b[0;34m)\u001b[0m\u001b[0;34m\u001b[0m\u001b[0;34m\u001b[0m\u001b[0m\n\u001b[0m\u001b[1;32m      5\u001b[0m \u001b[0mmine\u001b[0m\u001b[0;34m.\u001b[0m\u001b[0mmic\u001b[0m\u001b[0;34m(\u001b[0m\u001b[0;34m)\u001b[0m\u001b[0;34m\u001b[0m\u001b[0;34m\u001b[0m\u001b[0m\n",
      "\u001b[0;32mminepy/mine.pyx\u001b[0m in \u001b[0;36mminepy.mine.MINE.compute_score\u001b[0;34m()\u001b[0m\n",
      "\u001b[0;31mValueError\u001b[0m: Buffer has wrong number of dimensions (expected 1, got 2)"
     ]
    }
   ],
   "source": [
    "c = df_gender_onehot.corr().abs()\n",
    "\n",
    "s = c.unstack()\n",
    "so = s.order(kind=\"quicksort\")\n",
    "\n",
    "print so[-122:-112]"
   ]
  },
  {
   "cell_type": "code",
   "execution_count": 55,
   "metadata": {},
   "outputs": [
    {
     "data": {
      "text/plain": [
       "(307511, 122)"
      ]
     },
     "execution_count": 55,
     "metadata": {},
     "output_type": "execute_result"
    }
   ],
   "source": [
    "df.shape"
   ]
  },
  {
   "cell_type": "code",
   "execution_count": null,
   "metadata": {},
   "outputs": [],
   "source": []
  }
 ],
 "metadata": {
  "kernelspec": {
   "display_name": "Python 3",
   "language": "python",
   "name": "python3"
  },
  "language_info": {
   "codemirror_mode": {
    "name": "ipython",
    "version": 3
   },
   "file_extension": ".py",
   "mimetype": "text/x-python",
   "name": "python",
   "nbconvert_exporter": "python",
   "pygments_lexer": "ipython3",
   "version": "3.7.3"
  }
 },
 "nbformat": 4,
 "nbformat_minor": 4
}
