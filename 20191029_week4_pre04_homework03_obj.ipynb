{
 "cells": [
  {
   "cell_type": "markdown",
   "metadata": {},
   "source": [
    "# week4 事前課題３ オブジェクト指向"
   ]
  },
  {
   "cell_type": "markdown",
   "metadata": {},
   "source": [
    ">scikit-learnに用意されている標準化を行うためのクラスStandardScalerを例に見ていきます。サンプルコードを用意しましたので、これを利用しながら理解していきます。"
   ]
  },
  {
   "cell_type": "code",
   "execution_count": 1,
   "metadata": {},
   "outputs": [
    {
     "name": "stdout",
     "output_type": "stream",
     "text": [
      "平均 : [4.86 3.31 1.45 0.22]\n",
      "分散 : [0.0764 0.0849 0.0105 0.0056]\n"
     ]
    }
   ],
   "source": [
    "import numpy as np\n",
    "from sklearn.preprocessing import StandardScaler\n",
    "from sklearn.datasets import load_iris\n",
    "\n",
    "data = load_iris()\n",
    "X = data.data[:10]\n",
    "\n",
    "scaler = StandardScaler()\n",
    "scaler.fit(X)\n",
    "print(\"平均 :\", scaler.mean_)\n",
    "print(\"分散 :\", scaler.var_)\n",
    "X_std = scaler.transform(X)"
   ]
  },
  {
   "cell_type": "markdown",
   "metadata": {},
   "source": [
    "## インスタンス化"
   ]
  },
  {
   "cell_type": "code",
   "execution_count": 2,
   "metadata": {},
   "outputs": [],
   "source": [
    "scaler0 = StandardScaler()\n",
    "scaler1 = StandardScaler()\n",
    "scaler2 = StandardScaler()\n",
    "\n",
    "#StandardScalerというクラスオブジェクトから、\n",
    "#scalerと名前をつけたインスタンスオブジェクトが作られました。"
   ]
  },
  {
   "cell_type": "markdown",
   "metadata": {},
   "source": [
    ">《クラスの命名法》\n",
    "Pythonではクラス名は頭文字が大文字、他は小文字という命名法がPEP8により定められています。単語間にアンダースコアは入れません。これを CapWords 方式と呼びます。"
   ]
  },
  {
   "cell_type": "markdown",
   "metadata": {},
   "source": [
    "## 【問題1】これまで利用してきたクラスの列挙\n",
    ">これまでの課題で利用してきたコードの中でどのようなクラスがあったかを答えてください。\n",
    "Pandas、matplotlib、scikit-learnからそれぞれ1つ以上見つけてください。"
   ]
  },
  {
   "cell_type": "markdown",
   "metadata": {},
   "source": [
    "（答）\n",
    "\n",
    "\n",
    "Pandas\n",
    "- DataFrame\n",
    "\n",
    "matplotlib\n",
    "- ConversionInterface\n",
    "\n",
    "scikit-learn\n",
    "- StandardScaler"
   ]
  },
  {
   "cell_type": "markdown",
   "metadata": {},
   "source": [
    "## メソッド\n",
    ">インスタンス化を行った後には、scaler.fit(X)のような メソッド の実行ができます。StandardScalerのfitメソッドは後でスケーリングに使われる平均と標準偏差を計算する機能があります。"
   ]
  },
  {
   "cell_type": "markdown",
   "metadata": {},
   "source": [
    "## インスタンス変数（アトリビュート）\n",
    ">fitメソッドにより平均と標準偏差が計算されましたが、見た目には変化があるわけではありません。しかし、scalerインスタンスの内部では計算結果が保存されています。こういったインスタンスの中で値を保存するものを インスタンス変数 や アトリビュート（属性） と呼びます。ここで平均がscaler.mean_、標準偏差の2乗した値である分散がscaler.var_に保存されています。\n",
    "以下のようにprint文で出力させることができます。"
   ]
  },
  {
   "cell_type": "code",
   "execution_count": 3,
   "metadata": {},
   "outputs": [
    {
     "name": "stdout",
     "output_type": "stream",
     "text": [
      "平均 : [4.86 3.31 1.45 0.22]\n",
      "分散 : [0.0764 0.0849 0.0105 0.0056]\n"
     ]
    }
   ],
   "source": [
    "print(\"平均 : {}\".format(scaler.mean_)) # 平均 : [4.86 3.31 1.45 0.22]\n",
    "print(\"分散 : {}\".format(scaler.var_)) # 分散 : [0.0764 0.0849 0.0105 0.0056]"
   ]
  },
  {
   "cell_type": "markdown",
   "metadata": {},
   "source": [
    ">《メソッドとインスタンス変数の命名法》\n",
    "メソッドやインスタンス変数の命名は関数と同様に、全て小文字で行います。単語をつなぐときにはアンダースコアを入れます。"
   ]
  },
  {
   "cell_type": "markdown",
   "metadata": {},
   "source": [
    "## 【問題2】これまで利用してきたメソッドやインスタンス変数の列挙\n",
    ">これまでの課題で利用してきたコードの中でどのようなメソッドやインスタンス変数があったかを答えてください。\n",
    "最低でもそれぞれ5つ以上答えてください。\n",
    "\n",
    ">《ndarrayやstrもインスタンス》\n",
    "ドットをつけるというと、NumPyのndarrayに対してndarray.shapeやndarray.sum()のような使い方は何度も利用してきたかと思います。これは、ndarrayもインスタンスオブジェクトであり、shapeはインスタンス変数、sumはメソッドだったということです。\n",
    "\n",
    ">Pythonのコードに登場するデータはどれもインスタンスオブジェクトであり、listやstrもメソッドを持ちます。"
   ]
  },
  {
   "cell_type": "code",
   "execution_count": 4,
   "metadata": {},
   "outputs": [
    {
     "data": {
      "text/plain": [
       "7"
      ]
     },
     "execution_count": 4,
     "metadata": {},
     "output_type": "execute_result"
    }
   ],
   "source": [
    "#例\n",
    "l = ['a']\n",
    "l.append('b') # listのappendメソッド\n",
    "\n",
    "s = 'Hello, World!'\n",
    "s.find('W') # strのfindメソッド"
   ]
  },
  {
   "cell_type": "markdown",
   "metadata": {},
   "source": [
    "## インスタンス変数をメソッドが利用\n",
    ">最終的に以下のようにして標準化を行います。\n",
    "X_std = scaler.transform(X)\n",
    "\n",
    ">これはfitメソッドで計算したことでインスタンス変数mean_やvar_に保存されていた値を使い、Xを変換したということです。\n",
    "このようにクラスには複数のメソッドやインスタンス変数が存在し、これらを組み合わせていろいろな機能を実現します。"
   ]
  },
  {
   "cell_type": "markdown",
   "metadata": {},
   "source": [
    "## 【問題3】標準化クラスをスクラッチで作成\n",
    ">scikit-learnは使わず、NumPyなどを活用して標準化の計算を記述します。具体的にはfitメソッドとtransformメソッドを作ります。\n",
    "\n",
    ">クラスの作成方法は関数に近いです。メソッドはクラスの中にさらにインデントを一段下げて記述します。\n",
    "\n",
    ">インスタンス変数を作成する際はself.mean_のようにselfを付けます。クラスの外からscaler.mean_と書いていたscalerの部分が自分自身を表すselfになっています。"
   ]
  },
  {
   "cell_type": "code",
   "execution_count": 7,
   "metadata": {},
   "outputs": [],
   "source": [
    "class ScratchStandardScaler():\n",
    "    \"\"\"\n",
    "    標準化のためのクラス\n",
    "\n",
    "    Attributes\n",
    "    ----------\n",
    "    mean_ : 次の形のndarray, shape(n_features,)\n",
    "        平均\n",
    "    var_ : 次の形のndarray, shape(n_features,)\n",
    "        分散\n",
    "    \"\"\"\n",
    "\n",
    "    def fit(self, X):\n",
    "        \"\"\"\n",
    "        標準化のために平均と標準偏差を計算する。\n",
    "\n",
    "        Parameters\n",
    "        ----------\n",
    "        X : 次の形のndarray, shape (n_samples, n_features)\n",
    "            学習データ\n",
    "        \"\"\"\n",
    "\n",
    "        self.mean_ = np.mean(X, axis = 0) #(n_features,)\n",
    "        self.var_ = np.var(X, axis = 0) #(n_features,)\n",
    "\n",
    "        pass\n",
    "\n",
    "    def transform(self, X):\n",
    "        \"\"\"\n",
    "        fitで求めた値を使い標準化を行う。\n",
    "\n",
    "        Parameters\n",
    "        ----------\n",
    "        X : 次の形のndarray, shape (n_samples, n_features)\n",
    "            特徴量\n",
    "\n",
    "        Returns\n",
    "        ----------\n",
    "        X_scaled : 次の形のndarray, shape (n_samples, n_features)\n",
    "            標準化された特緒量\n",
    "        \"\"\"\n",
    "        X_scaled = (X - self.mean_) / (self.var_ ** 0.5)\n",
    "        return X_scaled"
   ]
  },
  {
   "cell_type": "code",
   "execution_count": 8,
   "metadata": {},
   "outputs": [
    {
     "name": "stdout",
     "output_type": "stream",
     "text": [
      "平均 : [4.86 3.31 1.45 0.22]\n",
      "分散 : [0.0764 0.0849 0.0105 0.0056]\n",
      "[[ 0.86828953  0.65207831 -0.48795004 -0.26726124]\n",
      " [ 0.14471492 -1.06391725 -0.48795004 -0.26726124]\n",
      " [-0.57885968 -0.37751902 -1.46385011 -0.26726124]\n",
      " [-0.94064699 -0.72071813  0.48795004 -0.26726124]\n",
      " [ 0.50650222  0.99527742 -0.48795004 -0.26726124]\n",
      " [ 1.95365143  2.02487476  2.43975018  2.40535118]\n",
      " [-0.94064699  0.3088792  -0.48795004  1.06904497]\n",
      " [ 0.50650222  0.3088792   0.48795004 -0.26726124]\n",
      " [-1.66422159 -1.40711636 -0.48795004 -0.26726124]\n",
      " [ 0.14471492 -0.72071813  0.48795004 -1.60356745]]\n"
     ]
    }
   ],
   "source": [
    "#以下のコードが実行できるようにしましょう。\n",
    "import numpy as np\n",
    "from sklearn.datasets import load_iris\n",
    "\n",
    "data = load_iris()\n",
    "X = data.data[:10]\n",
    "\n",
    "scratch_scaler = ScratchStandardScaler()\n",
    "scratch_scaler.fit(X)\n",
    "print(\"平均 : {}\".format(scratch_scaler.mean_))\n",
    "print(\"分散 : {}\".format(scratch_scaler.var_))\n",
    "X_std = scratch_scaler.transform(X)\n",
    "print(X_std)"
   ]
  },
  {
   "cell_type": "markdown",
   "metadata": {},
   "source": [
    "## ライブラリのソースコードを確認"
   ]
  },
  {
   "cell_type": "markdown",
   "metadata": {},
   "source": [
    "## 特殊メソッド\n",
    ">ソースコードの中に含まれる、まだ説明していない重要な部分が以下です。\n",
    "このような__init__というメソッドは、どのクラスにも共通して置かれる コンストラクタ と呼ばれるメソッドです。"
   ]
  },
  {
   "cell_type": "code",
   "execution_count": 9,
   "metadata": {},
   "outputs": [],
   "source": [
    "# sample\n",
    "def __init__(self, copy=True, with_mean=True, with_std=True):\n",
    "    self.with_mean = with_mean\n",
    "    self.with_std = with_std\n",
    "    self.copy = copy"
   ]
  },
  {
   "cell_type": "markdown",
   "metadata": {},
   "source": [
    ">このようにインスタンス化の際にパラメータを指定して保存しておくということはよくある使い方です。"
   ]
  },
  {
   "cell_type": "markdown",
   "metadata": {},
   "source": [
    ">コンストラクタは、インスタンス化が行われる時に自動的に実行されるという働きがあります。こういった特殊な動作をするメソッドを、 特殊メソッド と呼びます。"
   ]
  },
  {
   "cell_type": "code",
   "execution_count": 10,
   "metadata": {},
   "outputs": [
    {
     "name": "stdout",
     "output_type": "stream",
     "text": [
      "初期値5が設定されました\n",
      "value : 5\n",
      "value : 8\n"
     ]
    }
   ],
   "source": [
    "#サンプルコード\n",
    "class ExampleClass():\n",
    "    \"\"\"\n",
    "    説明用の簡単なクラス\n",
    "\n",
    "    Parameters\n",
    "    ----------\n",
    "    value : float or int\n",
    "        初期値\n",
    "\n",
    "    Attributes\n",
    "    ----------\n",
    "    value : float or int\n",
    "        計算結果\n",
    "    \"\"\"\n",
    "    def __init__(self, value):\n",
    "        self.value = value\n",
    "        print(\"初期値{}が設定されました\".format(self.value))\n",
    "    def add(self, value2):\n",
    "        \"\"\"\n",
    "        受け取った引数をself.valueに加える\n",
    "        \"\"\"\n",
    "        self.value += value2\n",
    "\n",
    "example = ExampleClass(5)\n",
    "print(\"value : {}\".format(example.value))\n",
    "example.add(3)\n",
    "print(\"value : {}\".format(example.value))"
   ]
  },
  {
   "cell_type": "markdown",
   "metadata": {},
   "source": [
    "## 【問題4】 四則演算を行うクラスの作成\n",
    "- 上記ExampleClassは足し算のメソッドを持っていますが、これに引き算、掛け算、割り算のメソッドを加えてください。\n",
    "- コンストラクタに入力されたvalueが文字列や配列など数値以外だった場合にはエラーを出すようにしてください。\n",
    "- クラス名や説明文も適切に書き換えてください。"
   ]
  },
  {
   "cell_type": "code",
   "execution_count": 39,
   "metadata": {},
   "outputs": [],
   "source": [
    "import warnings\n",
    "\n",
    "class ExampleClass():\n",
    "    \"\"\"\n",
    "    説明用の簡単なクラス\n",
    "\n",
    "    Parameters\n",
    "    ----------\n",
    "    value : float or int\n",
    "        初期値\n",
    "\n",
    "    Attributes\n",
    "    ----------\n",
    "    value : float or int\n",
    "        計算結果\n",
    "    \"\"\"\n",
    "    def __init__(self, value):\n",
    "        assert type(value) in [int, float], \"only int or float\"\n",
    "        self.value = value\n",
    "        print(\"初期値{}が設定されました\".format(self.value))\n",
    "        if not type(self.value) == 'int' or 'float':\n",
    "            warnings.warn(\"Value Error : type is not 'int' or 'float'.\")\n",
    "            \n",
    "    def add(self, value2):\n",
    "        \"\"\"\n",
    "        受け取った引数をself.valueに加える\n",
    "        \"\"\"\n",
    "        self.value += value2            \n",
    "        \n",
    "    def minus(self, value3):\n",
    "        \"\"\"\n",
    "        受け取った引数をself.valueに加える\n",
    "        \"\"\"\n",
    "        self.value -= value3\n",
    "        \n",
    "    def multiplication(self, value4):\n",
    "        \"\"\"\n",
    "        受け取った引数をself.valueに加える\n",
    "        \"\"\"\n",
    "        self.value *= value4\n",
    "        \n",
    "    def division(self, value5):\n",
    "        \"\"\"\n",
    "        受け取った引数をself.valueに加える\n",
    "        \"\"\"\n",
    "        self.value /= value5"
   ]
  },
  {
   "cell_type": "code",
   "execution_count": 40,
   "metadata": {},
   "outputs": [
    {
     "name": "stdout",
     "output_type": "stream",
     "text": [
      "初期値5が設定されました\n",
      "value : 5\n",
      "value : 12\n",
      "value : 4\n",
      "value : 8\n",
      "value : 2.0\n"
     ]
    },
    {
     "name": "stderr",
     "output_type": "stream",
     "text": [
      "/Users/akishimasaki/.pyenv/versions/anaconda3-2019.03/lib/python3.7/site-packages/ipykernel_launcher.py:22: UserWarning: Value Error : type is not 'int' or 'float'.\n"
     ]
    }
   ],
   "source": [
    "example = ExampleClass(5)\n",
    "print(\"value : {}\".format(example.value))\n",
    "example.add(7)\n",
    "print(\"value : {}\".format(example.value))\n",
    "example.minus(8)\n",
    "print(\"value : {}\".format(example.value))\n",
    "example.multiplication(2)\n",
    "print(\"value : {}\".format(example.value))\n",
    "example.division(4)\n",
    "print(\"value : {}\".format(example.value))"
   ]
  },
  {
   "cell_type": "code",
   "execution_count": 41,
   "metadata": {},
   "outputs": [
    {
     "ename": "AssertionError",
     "evalue": "only int or float",
     "output_type": "error",
     "traceback": [
      "\u001b[0;31m---------------------------------------------------------------------------\u001b[0m",
      "\u001b[0;31mAssertionError\u001b[0m                            Traceback (most recent call last)",
      "\u001b[0;32m<ipython-input-41-55c88d4bb6da>\u001b[0m in \u001b[0;36m<module>\u001b[0;34m\u001b[0m\n\u001b[0;32m----> 1\u001b[0;31m \u001b[0mexample\u001b[0m \u001b[0;34m=\u001b[0m \u001b[0mExampleClass\u001b[0m\u001b[0;34m(\u001b[0m\u001b[0;34m'j'\u001b[0m\u001b[0;34m)\u001b[0m\u001b[0;34m\u001b[0m\u001b[0;34m\u001b[0m\u001b[0m\n\u001b[0m\u001b[1;32m      2\u001b[0m \u001b[0mprint\u001b[0m\u001b[0;34m(\u001b[0m\u001b[0;34m\"value : {}\"\u001b[0m\u001b[0;34m.\u001b[0m\u001b[0mformat\u001b[0m\u001b[0;34m(\u001b[0m\u001b[0mexample\u001b[0m\u001b[0;34m.\u001b[0m\u001b[0mvalue\u001b[0m\u001b[0;34m)\u001b[0m\u001b[0;34m)\u001b[0m\u001b[0;34m\u001b[0m\u001b[0;34m\u001b[0m\u001b[0m\n",
      "\u001b[0;32m<ipython-input-39-bc309427cc16>\u001b[0m in \u001b[0;36m__init__\u001b[0;34m(self, value)\u001b[0m\n\u001b[1;32m     16\u001b[0m     \"\"\"\n\u001b[1;32m     17\u001b[0m     \u001b[0;32mdef\u001b[0m \u001b[0m__init__\u001b[0m\u001b[0;34m(\u001b[0m\u001b[0mself\u001b[0m\u001b[0;34m,\u001b[0m \u001b[0mvalue\u001b[0m\u001b[0;34m)\u001b[0m\u001b[0;34m:\u001b[0m\u001b[0;34m\u001b[0m\u001b[0;34m\u001b[0m\u001b[0m\n\u001b[0;32m---> 18\u001b[0;31m         \u001b[0;32massert\u001b[0m \u001b[0mtype\u001b[0m\u001b[0;34m(\u001b[0m\u001b[0mvalue\u001b[0m\u001b[0;34m)\u001b[0m \u001b[0;32min\u001b[0m \u001b[0;34m[\u001b[0m\u001b[0mint\u001b[0m\u001b[0;34m,\u001b[0m \u001b[0mfloat\u001b[0m\u001b[0;34m]\u001b[0m\u001b[0;34m,\u001b[0m \u001b[0;34m\"only int or float\"\u001b[0m\u001b[0;34m\u001b[0m\u001b[0;34m\u001b[0m\u001b[0m\n\u001b[0m\u001b[1;32m     19\u001b[0m         \u001b[0mself\u001b[0m\u001b[0;34m.\u001b[0m\u001b[0mvalue\u001b[0m \u001b[0;34m=\u001b[0m \u001b[0mvalue\u001b[0m\u001b[0;34m\u001b[0m\u001b[0;34m\u001b[0m\u001b[0m\n\u001b[1;32m     20\u001b[0m         \u001b[0mprint\u001b[0m\u001b[0;34m(\u001b[0m\u001b[0;34m\"初期値{}が設定されました\"\u001b[0m\u001b[0;34m.\u001b[0m\u001b[0mformat\u001b[0m\u001b[0;34m(\u001b[0m\u001b[0mself\u001b[0m\u001b[0;34m.\u001b[0m\u001b[0mvalue\u001b[0m\u001b[0;34m)\u001b[0m\u001b[0;34m)\u001b[0m\u001b[0;34m\u001b[0m\u001b[0;34m\u001b[0m\u001b[0m\n",
      "\u001b[0;31mAssertionError\u001b[0m: only int or float"
     ]
    }
   ],
   "source": [
    "example = ExampleClass('j')\n",
    "print(\"value : {}\".format(example.value))"
   ]
  },
  {
   "cell_type": "code",
   "execution_count": null,
   "metadata": {},
   "outputs": [],
   "source": []
  }
 ],
 "metadata": {
  "kernelspec": {
   "display_name": "Python 3",
   "language": "python",
   "name": "python3"
  },
  "language_info": {
   "codemirror_mode": {
    "name": "ipython",
    "version": 3
   },
   "file_extension": ".py",
   "mimetype": "text/x-python",
   "name": "python",
   "nbconvert_exporter": "python",
   "pygments_lexer": "ipython3",
   "version": "3.7.3"
  }
 },
 "nbformat": 4,
 "nbformat_minor": 4
}
