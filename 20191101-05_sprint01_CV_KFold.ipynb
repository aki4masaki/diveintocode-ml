{
 "cells": [
  {
   "cell_type": "markdown",
   "metadata": {},
   "source": [
    "# Sprint 機械学習フロー"
   ]
  },
  {
   "cell_type": "markdown",
   "metadata": {},
   "source": [
    "# CV(クロスバリデーション)"
   ]
  },
  {
   "cell_type": "code",
   "execution_count": 17,
   "metadata": {},
   "outputs": [],
   "source": [
    "import numpy as np\n",
    "import pandas as pd\n",
    "from sklearn.metrics import roc_curve\n",
    "from sklearn.metrics import confusion_matrix\n",
    "import lightgbm as lgb\n",
    "from sklearn.model_selection import train_test_split\n",
    "from xgboost import XGBClassifier\n",
    "from sklearn.metrics import mean_squared_error\n",
    "from sklearn.metrics import roc_auc_score\n",
    "import matplotlib.pyplot as plt\n",
    "import seaborn as sns\n",
    "from sklearn.metrics import roc_curve\n",
    "from sklearn.model_selection import train_test_split\n",
    "from sklearn.metrics import roc_auc_score\n",
    "sns.set()\n",
    "%matplotlib inline"
   ]
  },
  {
   "cell_type": "code",
   "execution_count": 2,
   "metadata": {},
   "outputs": [],
   "source": [
    "from sklearn.model_selection import KFold, StratifiedKFold, GridSearchCV"
   ]
  },
  {
   "cell_type": "code",
   "execution_count": 3,
   "metadata": {},
   "outputs": [],
   "source": [
    "df = pd.read_csv('application_train.csv')"
   ]
  },
  {
   "cell_type": "code",
   "execution_count": 4,
   "metadata": {},
   "outputs": [
    {
     "name": "stdout",
     "output_type": "stream",
     "text": [
      "(307511, 122)\n"
     ]
    }
   ],
   "source": [
    "print(df.shape)"
   ]
  },
  {
   "cell_type": "code",
   "execution_count": 5,
   "metadata": {},
   "outputs": [],
   "source": [
    "#KFold と StratifiedKFold の両方をやってみて、偏りを確認。\n",
    "#偏りないなら KFold\n",
    "#比率が怪しいなら StratifiedKFold"
   ]
  },
  {
   "cell_type": "code",
   "execution_count": 6,
   "metadata": {},
   "outputs": [
    {
     "data": {
      "text/plain": [
       "'\\nclf = GridSearchCV(estimator=RandomForestClassifier(),\\n                   param_grid=parameter_candidates,\\n                   cv=5,\\n                   refit=True,\\n                   error_score=0,\\n                   n_jobs=-1)\\nclf.fit(data_X, data_y)\\n\\ncv_result = pd.DataFrame(clf.cv_results_) \\ncv_result   # cv_results_ 属性で各パラメータごとの学習結果を確認できる\\n'"
      ]
     },
     "execution_count": 6,
     "metadata": {},
     "output_type": "execute_result"
    }
   ],
   "source": [
    "# Grid Search (Sklearn) だとCVも一気にやってくれる\n",
    "'''\n",
    "clf = GridSearchCV(estimator=RandomForestClassifier(),\n",
    "                   param_grid=parameter_candidates,\n",
    "                   cv=5,\n",
    "                   refit=True,\n",
    "                   error_score=0,\n",
    "                   n_jobs=-1)\n",
    "clf.fit(data_X, data_y)\n",
    "\n",
    "cv_result = pd.DataFrame(clf.cv_results_) \n",
    "cv_result   # cv_results_ 属性で各パラメータごとの学習結果を確認できる\n",
    "'''"
   ]
  },
  {
   "cell_type": "markdown",
   "metadata": {},
   "source": [
    ">→検証が終わったら、全トレーニングデータで再訓練して、その一つのモデルでテストデータの予測を作ります（標準的な手法）。\n",
    "\n",
    "- CVは検証用のため、検証が終われば捨てる。"
   ]
  },
  {
   "cell_type": "markdown",
   "metadata": {},
   "source": [
    "## 【問題1】クロスバリデーション"
   ]
  },
  {
   "cell_type": "code",
   "execution_count": 7,
   "metadata": {},
   "outputs": [],
   "source": [
    "from sklearn.model_selection import KFold\n",
    "kf = KFold(n_splits = 5)"
   ]
  },
  {
   "cell_type": "code",
   "execution_count": 6,
   "metadata": {},
   "outputs": [
    {
     "data": {
      "text/plain": [
       "5"
      ]
     },
     "execution_count": 6,
     "metadata": {},
     "output_type": "execute_result"
    }
   ],
   "source": [
    "kf.get_n_splits(df)\n",
    "#print(kf)"
   ]
  },
  {
   "cell_type": "code",
   "execution_count": 11,
   "metadata": {},
   "outputs": [
    {
     "name": "stdout",
     "output_type": "stream",
     "text": [
      "SK_ID_CURR:0\n",
      "TARGET:0\n",
      "NAME_CONTRACT_TYPE_1:0\n",
      "NAME_CONTRACT_TYPE_2:0\n",
      "CODE_GENDER_1:0\n",
      "CODE_GENDER_2:0\n",
      "CODE_GENDER_3:0\n",
      "FLAG_OWN_CAR_1:0\n",
      "FLAG_OWN_CAR_2:0\n",
      "FLAG_OWN_REALTY_1:0\n",
      "FLAG_OWN_REALTY_2:0\n",
      "CNT_CHILDREN_1:0\n",
      "CNT_CHILDREN_2:0\n",
      "CNT_CHILDREN_3:0\n",
      "CNT_CHILDREN_4:0\n",
      "CNT_CHILDREN_5:0\n",
      "CNT_CHILDREN_6:0\n",
      "CNT_CHILDREN_7:0\n",
      "CNT_CHILDREN_8:0\n",
      "CNT_CHILDREN_9:0\n",
      "CNT_CHILDREN_10:0\n",
      "CNT_CHILDREN_11:0\n",
      "CNT_CHILDREN_12:0\n",
      "CNT_CHILDREN_13:0\n",
      "CNT_CHILDREN_14:0\n",
      "CNT_CHILDREN_15:0\n",
      "AMT_INCOME_TOTAL:0\n",
      "AMT_CREDIT:0\n",
      "AMT_ANNUITY:12\n",
      "AMT_GOODS_PRICE:278\n",
      "NAME_TYPE_SUITE_1:0\n",
      "NAME_TYPE_SUITE_2:0\n",
      "NAME_TYPE_SUITE_3:0\n",
      "NAME_TYPE_SUITE_4:0\n",
      "NAME_TYPE_SUITE_5:0\n",
      "NAME_TYPE_SUITE_6:0\n",
      "NAME_TYPE_SUITE_7:0\n",
      "NAME_TYPE_SUITE_8:0\n",
      "NAME_INCOME_TYPE_1:0\n",
      "NAME_INCOME_TYPE_2:0\n",
      "NAME_INCOME_TYPE_3:0\n",
      "NAME_INCOME_TYPE_4:0\n",
      "NAME_INCOME_TYPE_5:0\n",
      "NAME_INCOME_TYPE_6:0\n",
      "NAME_INCOME_TYPE_7:0\n",
      "NAME_INCOME_TYPE_8:0\n",
      "NAME_EDUCATION_TYPE_1:0\n",
      "NAME_EDUCATION_TYPE_2:0\n",
      "NAME_EDUCATION_TYPE_3:0\n",
      "NAME_EDUCATION_TYPE_4:0\n",
      "NAME_EDUCATION_TYPE_5:0\n",
      "NAME_FAMILY_STATUS_1:0\n",
      "NAME_FAMILY_STATUS_2:0\n",
      "NAME_FAMILY_STATUS_3:0\n",
      "NAME_FAMILY_STATUS_4:0\n",
      "NAME_FAMILY_STATUS_5:0\n",
      "NAME_FAMILY_STATUS_6:0\n",
      "NAME_HOUSING_TYPE_1:0\n",
      "NAME_HOUSING_TYPE_2:0\n",
      "NAME_HOUSING_TYPE_3:0\n",
      "NAME_HOUSING_TYPE_4:0\n",
      "NAME_HOUSING_TYPE_5:0\n",
      "NAME_HOUSING_TYPE_6:0\n",
      "REGION_POPULATION_RELATIVE:0\n",
      "DAYS_BIRTH:0\n",
      "DAYS_EMPLOYED:0\n",
      "DAYS_REGISTRATION:0\n",
      "DAYS_ID_PUBLISH:0\n",
      "OWN_CAR_AGE:202929\n",
      "FLAG_MOBIL:0\n",
      "FLAG_EMP_PHONE:0\n",
      "FLAG_WORK_PHONE:0\n",
      "FLAG_CONT_MOBILE:0\n",
      "FLAG_PHONE:0\n",
      "FLAG_EMAIL:0\n",
      "OCCUPATION_TYPE_1:0\n",
      "OCCUPATION_TYPE_2:0\n",
      "OCCUPATION_TYPE_3:0\n",
      "OCCUPATION_TYPE_4:0\n",
      "OCCUPATION_TYPE_5:0\n",
      "OCCUPATION_TYPE_6:0\n",
      "OCCUPATION_TYPE_7:0\n",
      "OCCUPATION_TYPE_8:0\n",
      "OCCUPATION_TYPE_9:0\n",
      "OCCUPATION_TYPE_10:0\n",
      "OCCUPATION_TYPE_11:0\n",
      "OCCUPATION_TYPE_12:0\n",
      "OCCUPATION_TYPE_13:0\n",
      "OCCUPATION_TYPE_14:0\n",
      "OCCUPATION_TYPE_15:0\n",
      "OCCUPATION_TYPE_16:0\n",
      "OCCUPATION_TYPE_17:0\n",
      "OCCUPATION_TYPE_18:0\n",
      "OCCUPATION_TYPE_19:0\n",
      "CNT_FAM_MEMBERS:2\n",
      "REGION_RATING_CLIENT:0\n",
      "REGION_RATING_CLIENT_W_CITY:0\n",
      "WEEKDAY_APPR_PROCESS_START_1:0\n",
      "WEEKDAY_APPR_PROCESS_START_2:0\n",
      "WEEKDAY_APPR_PROCESS_START_3:0\n",
      "WEEKDAY_APPR_PROCESS_START_4:0\n",
      "WEEKDAY_APPR_PROCESS_START_5:0\n",
      "WEEKDAY_APPR_PROCESS_START_6:0\n",
      "WEEKDAY_APPR_PROCESS_START_7:0\n",
      "HOUR_APPR_PROCESS_START:0\n",
      "REG_REGION_NOT_LIVE_REGION:0\n",
      "REG_REGION_NOT_WORK_REGION:0\n",
      "LIVE_REGION_NOT_WORK_REGION:0\n",
      "REG_CITY_NOT_LIVE_CITY:0\n",
      "REG_CITY_NOT_WORK_CITY:0\n",
      "LIVE_CITY_NOT_WORK_CITY:0\n",
      "ORGANIZATION_TYPE_1:0\n",
      "ORGANIZATION_TYPE_2:0\n",
      "ORGANIZATION_TYPE_3:0\n",
      "ORGANIZATION_TYPE_4:0\n",
      "ORGANIZATION_TYPE_5:0\n",
      "ORGANIZATION_TYPE_6:0\n",
      "ORGANIZATION_TYPE_7:0\n",
      "ORGANIZATION_TYPE_8:0\n",
      "ORGANIZATION_TYPE_9:0\n",
      "ORGANIZATION_TYPE_10:0\n",
      "ORGANIZATION_TYPE_11:0\n",
      "ORGANIZATION_TYPE_12:0\n",
      "ORGANIZATION_TYPE_13:0\n",
      "ORGANIZATION_TYPE_14:0\n",
      "ORGANIZATION_TYPE_15:0\n",
      "ORGANIZATION_TYPE_16:0\n",
      "ORGANIZATION_TYPE_17:0\n",
      "ORGANIZATION_TYPE_18:0\n",
      "ORGANIZATION_TYPE_19:0\n",
      "ORGANIZATION_TYPE_20:0\n",
      "ORGANIZATION_TYPE_21:0\n",
      "ORGANIZATION_TYPE_22:0\n",
      "ORGANIZATION_TYPE_23:0\n",
      "ORGANIZATION_TYPE_24:0\n",
      "ORGANIZATION_TYPE_25:0\n",
      "ORGANIZATION_TYPE_26:0\n",
      "ORGANIZATION_TYPE_27:0\n",
      "ORGANIZATION_TYPE_28:0\n",
      "ORGANIZATION_TYPE_29:0\n",
      "ORGANIZATION_TYPE_30:0\n",
      "ORGANIZATION_TYPE_31:0\n",
      "ORGANIZATION_TYPE_32:0\n",
      "ORGANIZATION_TYPE_33:0\n",
      "ORGANIZATION_TYPE_34:0\n",
      "ORGANIZATION_TYPE_35:0\n",
      "ORGANIZATION_TYPE_36:0\n",
      "ORGANIZATION_TYPE_37:0\n",
      "ORGANIZATION_TYPE_38:0\n",
      "ORGANIZATION_TYPE_39:0\n",
      "ORGANIZATION_TYPE_40:0\n",
      "ORGANIZATION_TYPE_41:0\n",
      "ORGANIZATION_TYPE_42:0\n",
      "ORGANIZATION_TYPE_43:0\n",
      "ORGANIZATION_TYPE_44:0\n",
      "ORGANIZATION_TYPE_45:0\n",
      "ORGANIZATION_TYPE_46:0\n",
      "ORGANIZATION_TYPE_47:0\n",
      "ORGANIZATION_TYPE_48:0\n",
      "ORGANIZATION_TYPE_49:0\n",
      "ORGANIZATION_TYPE_50:0\n",
      "ORGANIZATION_TYPE_51:0\n",
      "ORGANIZATION_TYPE_52:0\n",
      "ORGANIZATION_TYPE_53:0\n",
      "ORGANIZATION_TYPE_54:0\n",
      "ORGANIZATION_TYPE_55:0\n",
      "ORGANIZATION_TYPE_56:0\n",
      "ORGANIZATION_TYPE_57:0\n",
      "ORGANIZATION_TYPE_58:0\n",
      "EXT_SOURCE_1:173378\n",
      "EXT_SOURCE_2:660\n",
      "EXT_SOURCE_3:60965\n",
      "APARTMENTS_AVG:156061\n",
      "BASEMENTAREA_AVG:179943\n",
      "YEARS_BEGINEXPLUATATION_AVG:150007\n",
      "YEARS_BUILD_AVG:204488\n",
      "COMMONAREA_AVG:214865\n",
      "ELEVATORS_AVG:163891\n",
      "ENTRANCES_AVG:154828\n",
      "FLOORSMAX_AVG:153020\n",
      "FLOORSMIN_AVG:208642\n",
      "LANDAREA_AVG:182590\n",
      "LIVINGAPARTMENTS_AVG:210199\n",
      "LIVINGAREA_AVG:154350\n",
      "NONLIVINGAPARTMENTS_AVG:213514\n",
      "NONLIVINGAREA_AVG:169682\n",
      "APARTMENTS_MODE:156061\n",
      "BASEMENTAREA_MODE:179943\n",
      "YEARS_BEGINEXPLUATATION_MODE:150007\n",
      "YEARS_BUILD_MODE:204488\n",
      "COMMONAREA_MODE:214865\n",
      "ELEVATORS_MODE:163891\n",
      "ENTRANCES_MODE:154828\n",
      "FLOORSMAX_MODE:153020\n",
      "FLOORSMIN_MODE:208642\n",
      "LANDAREA_MODE:182590\n",
      "LIVINGAPARTMENTS_MODE:210199\n",
      "LIVINGAREA_MODE:154350\n",
      "NONLIVINGAPARTMENTS_MODE:213514\n",
      "NONLIVINGAREA_MODE:169682\n",
      "APARTMENTS_MEDI:156061\n",
      "BASEMENTAREA_MEDI:179943\n",
      "YEARS_BEGINEXPLUATATION_MEDI:150007\n",
      "YEARS_BUILD_MEDI:204488\n",
      "COMMONAREA_MEDI:214865\n",
      "ELEVATORS_MEDI:163891\n",
      "ENTRANCES_MEDI:154828\n",
      "FLOORSMAX_MEDI:153020\n",
      "FLOORSMIN_MEDI:208642\n",
      "LANDAREA_MEDI:182590\n",
      "LIVINGAPARTMENTS_MEDI:210199\n",
      "LIVINGAREA_MEDI:154350\n",
      "NONLIVINGAPARTMENTS_MEDI:213514\n",
      "NONLIVINGAREA_MEDI:169682\n",
      "FONDKAPREMONT_MODE_1:0\n",
      "FONDKAPREMONT_MODE_2:0\n",
      "FONDKAPREMONT_MODE_3:0\n",
      "FONDKAPREMONT_MODE_4:0\n",
      "FONDKAPREMONT_MODE_5:0\n",
      "HOUSETYPE_MODE_1:0\n",
      "HOUSETYPE_MODE_2:0\n",
      "HOUSETYPE_MODE_3:0\n",
      "HOUSETYPE_MODE_4:0\n",
      "TOTALAREA_MODE:148431\n",
      "WALLSMATERIAL_MODE_1:0\n",
      "WALLSMATERIAL_MODE_2:0\n",
      "WALLSMATERIAL_MODE_3:0\n",
      "WALLSMATERIAL_MODE_4:0\n",
      "WALLSMATERIAL_MODE_5:0\n",
      "WALLSMATERIAL_MODE_6:0\n",
      "WALLSMATERIAL_MODE_7:0\n",
      "WALLSMATERIAL_MODE_8:0\n",
      "EMERGENCYSTATE_MODE_1:0\n",
      "EMERGENCYSTATE_MODE_2:0\n",
      "EMERGENCYSTATE_MODE_3:0\n",
      "OBS_30_CNT_SOCIAL_CIRCLE:1021\n",
      "DEF_30_CNT_SOCIAL_CIRCLE:1021\n",
      "OBS_60_CNT_SOCIAL_CIRCLE:1021\n",
      "DEF_60_CNT_SOCIAL_CIRCLE:1021\n",
      "DAYS_LAST_PHONE_CHANGE:1\n",
      "FLAG_DOCUMENT_2:0\n",
      "FLAG_DOCUMENT_3:0\n",
      "FLAG_DOCUMENT_4:0\n",
      "FLAG_DOCUMENT_5:0\n",
      "FLAG_DOCUMENT_6:0\n",
      "FLAG_DOCUMENT_7:0\n",
      "FLAG_DOCUMENT_8:0\n",
      "FLAG_DOCUMENT_9:0\n",
      "FLAG_DOCUMENT_10:0\n",
      "FLAG_DOCUMENT_11:0\n",
      "FLAG_DOCUMENT_12:0\n",
      "FLAG_DOCUMENT_13:0\n",
      "FLAG_DOCUMENT_14:0\n",
      "FLAG_DOCUMENT_15:0\n",
      "FLAG_DOCUMENT_16:0\n",
      "FLAG_DOCUMENT_17:0\n",
      "FLAG_DOCUMENT_18:0\n",
      "FLAG_DOCUMENT_19:0\n",
      "FLAG_DOCUMENT_20:0\n",
      "FLAG_DOCUMENT_21:0\n",
      "AMT_REQ_CREDIT_BUREAU_HOUR:41519\n",
      "AMT_REQ_CREDIT_BUREAU_DAY:41519\n",
      "AMT_REQ_CREDIT_BUREAU_WEEK:41519\n",
      "AMT_REQ_CREDIT_BUREAU_MON:41519\n",
      "AMT_REQ_CREDIT_BUREAU_QRT:41519\n",
      "AMT_REQ_CREDIT_BUREAU_YEAR:41519\n"
     ]
    }
   ],
   "source": [
    "#名義尺度を変数化\n",
    "import category_encoders as ce\n",
    "\n",
    "#エンコードしたい列を指定　# Eoncodeしたい列をリストで指定。もちろん複数指定可能。\n",
    "#全て\n",
    "list_cols = ['NAME_CONTRACT_TYPE','CODE_GENDER','FLAG_OWN_CAR','FLAG_OWN_REALTY','CNT_CHILDREN'\n",
    "            ,'NAME_FAMILY_STATUS','NAME_HOUSING_TYPE','NAME_TYPE_SUITE','NAME_INCOME_TYPE'\n",
    "            ,'NAME_EDUCATION_TYPE','OCCUPATION_TYPE','WEEKDAY_APPR_PROCESS_START','ORGANIZATION_TYPE'\n",
    "            ,'FONDKAPREMONT_MODE','HOUSETYPE_MODE','WALLSMATERIAL_MODE','EMERGENCYSTATE_MODE']\n",
    "# OneHotEncodeしたい列を指定。Nullや不明の場合の補完方法も指定。\n",
    "ce_ohe = ce.OneHotEncoder(cols=list_cols,handle_unknown='impute')\n",
    "\n",
    "# pd.DataFrameをそのまま突っ込む\n",
    "df_gender_onehot = ce_ohe.fit_transform(df)\n",
    "\n",
    "#display(df_gender_onehot)\n",
    "for i in df_gender_onehot.columns:\n",
    "    print(i, df_gender_onehot[i].isnull().sum(), sep = \":\")"
   ]
  },
  {
   "cell_type": "code",
   "execution_count": 13,
   "metadata": {},
   "outputs": [],
   "source": [
    "#欠損を全部０で埋める\n",
    "df_gender_onehot_0df = df_gender_onehot.fillna(0)\n",
    "\n",
    "#for i in df_gender\n",
    "# df_onehot_0df.columns\n",
    "    #print(i, df_gender_onehot_0df[i].isnull().sum(), sep = \":\")\n",
    "#display(df_gender_onehot_0df)\n",
    "\n",
    "\n",
    "#TARGET の分離\n",
    "#pd.set_option('display.max_columns',1000)\n",
    "#display(df_mix.head(2)['WALLSMATERIAL_MODE_5'])\n",
    "X_0df = df_gender_onehot_0df.drop(\"TARGET\", axis = 1)\n",
    "y_0df = df_gender_onehot_0df.loc[:,'TARGET']"
   ]
  },
  {
   "cell_type": "code",
   "execution_count": 14,
   "metadata": {
    "scrolled": true
   },
   "outputs": [
    {
     "name": "stderr",
     "output_type": "stream",
     "text": [
      "/Users/akishimasaki/.pyenv/versions/anaconda3-2019.03/lib/python3.7/site-packages/ipykernel_launcher.py:2: FutureWarning: Method .as_matrix will be removed in a future version. Use .values instead.\n",
      "  \n",
      "/Users/akishimasaki/.pyenv/versions/anaconda3-2019.03/lib/python3.7/site-packages/ipykernel_launcher.py:3: FutureWarning: Method .as_matrix will be removed in a future version. Use .values instead.\n",
      "  This is separate from the ipykernel package so we can avoid doing imports until\n"
     ]
    }
   ],
   "source": [
    "#array化\n",
    "X_0 = X_0df.as_matrix()\n",
    "y_0 = y_0df.as_matrix()"
   ]
  },
  {
   "cell_type": "code",
   "execution_count": 13,
   "metadata": {},
   "outputs": [
    {
     "name": "stdout",
     "output_type": "stream",
     "text": [
      "[0.91927223 0.91927092 0.91927092 0.91927092 0.91927092]\n"
     ]
    }
   ],
   "source": [
    "#クロスバリデーション\n",
    "kf.get_n_splits(df_gender_onehot_0df)\n",
    "\n",
    "from sklearn.ensemble import RandomForestClassifier\n",
    "from sklearn.metrics import accuracy_score\n",
    "\n",
    "#from sklearn.metrics import precision_score\n",
    "#from sklearn.metrics import recall_score\n",
    "#from sklearn.metrics import f1_score\n",
    "\n",
    "from sklearn.metrics import confusion_matrix\n",
    "\n",
    "from sklearn.model_selection import cross_val_score\n",
    "rf = RandomForestClassifier(n_estimators=100, max_depth = 2, random_state = 0)\n",
    "scores = cross_val_score(rf, X_0, y_0, cv=5)\n",
    "print(scores)"
   ]
  },
  {
   "cell_type": "code",
   "execution_count": 54,
   "metadata": {},
   "outputs": [
    {
     "name": "stdout",
     "output_type": "stream",
     "text": [
      "TRAIN: [ 61503  61504  61505 ... 307508 307509 307510] TEST: [    0     1     2 ... 61500 61501 61502]\n",
      "0.9198738272929776\n",
      "[[56575     0]\n",
      " [ 4928     0]]\n",
      "TRAIN: [     0      1      2 ... 307508 307509 307510] TEST: [ 61503  61504  61505 ... 123002 123003 123004]\n",
      "0.9172709830574616\n",
      "[[56414     0]\n",
      " [ 5088     0]]\n",
      "TRAIN: [     0      1      2 ... 307508 307509 307510] TEST: [123005 123006 123007 ... 184504 184505 184506]\n",
      "0.9188969464407661\n",
      "[[56514     0]\n",
      " [ 4988     0]]\n",
      "TRAIN: [     0      1      2 ... 307508 307509 307510] TEST: [184507 184508 184509 ... 246006 246007 246008]\n",
      "0.9197261877662515\n",
      "[[56565     0]\n",
      " [ 4937     0]]\n",
      "TRAIN: [     0      1      2 ... 246006 246007 246008] TEST: [246009 246010 246011 ... 307508 307509 307510]\n",
      "0.9205879483594029\n",
      "[[56618     0]\n",
      " [ 4884     0]]\n"
     ]
    }
   ],
   "source": [
    "for train_index, test_index in kf.split(X_0):\n",
    "    print(\"TRAIN:\", train_index, \"TEST:\", test_index)\n",
    "    X_0_train, X_0_test = X_0[train_index], X_0[test_index]\n",
    "    y_0_train, y_0_test = y_0[train_index], y_0[test_index]\n",
    "    \n",
    "    rf.fit(X_0_train, y_0_train)\n",
    "    \n",
    "    X_0_fi = rf.feature_importances_\n",
    "    y_0_pred = rf.predict(X_0_test)\n",
    "    \n",
    "    print(accuracy_score(y_0_test,y_0_pred))\n",
    "    print(confusion_matrix(y_0_test,y_0_pred))"
   ]
  },
  {
   "cell_type": "code",
   "execution_count": null,
   "metadata": {},
   "outputs": [],
   "source": [
    "#KFoldを行った結果、複合行列の表から、上記の通りやはり上手く分けられなかった。"
   ]
  },
  {
   "cell_type": "markdown",
   "metadata": {},
   "source": [
    "## 【問題2】グリッドサーチ"
   ]
  },
  {
   "cell_type": "code",
   "execution_count": 84,
   "metadata": {},
   "outputs": [
    {
     "data": {
      "text/plain": [
       "GridSearchCV(cv=5, error_score='raise-deprecating',\n",
       "       estimator=RandomForestClassifier(bootstrap=True, class_weight=None, criterion='gini',\n",
       "            max_depth=None, max_features='auto', max_leaf_nodes=None,\n",
       "            min_impurity_decrease=0.0, min_impurity_split=None,\n",
       "            min_samples_leaf=1, min_samples_split=2,\n",
       "            min_weight_fraction_leaf=0.0, n_estimators='warn', n_jobs=None,\n",
       "            oob_score=False, random_state=None, verbose=0,\n",
       "            warm_start=False),\n",
       "       fit_params=None, iid='warn', n_jobs=None,\n",
       "       param_grid={'n_estimators': [1, 50], 'min_samples_leaf': [1, 50]},\n",
       "       pre_dispatch='2*n_jobs', refit=True, return_train_score='warn',\n",
       "       scoring='roc_auc', verbose=0)"
      ]
     },
     "execution_count": 84,
     "metadata": {},
     "output_type": "execute_result"
    }
   ],
   "source": [
    "#グリッドサーチ\n",
    "from sklearn import svm, datasets\n",
    "from sklearn.model_selection import GridSearchCV\n",
    "from sklearn.metrics import roc_auc_score\n",
    "\n",
    "forest = RandomForestClassifier()\n",
    "parameters = {'n_estimators':[1,50],'min_samples_leaf':[1,50]}\n",
    "\n",
    "clf = GridSearchCV(forest, parameters,cv = 5, scoring = \"roc_auc\")\n",
    "clf.fit(X_0_train, y_0_train)"
   ]
  },
  {
   "cell_type": "code",
   "execution_count": 86,
   "metadata": {
    "scrolled": true
   },
   "outputs": [
    {
     "name": "stdout",
     "output_type": "stream",
     "text": [
      "test set score(AUC):0.73\n",
      "Best parameters:{'min_samples_leaf': 50, 'n_estimators': 50}\n",
      "Best cross-validation score :0.73\n"
     ]
    }
   ],
   "source": [
    "print(\"test set score(AUC):{:.2f}\".format(clf.score(X_0_test, y_0_test)))\n",
    "print(\"Best parameters:{}\".format(clf.best_params_))\n",
    "print(\"Best cross-validation score :{:.2f}\".format(clf.best_score_))"
   ]
  },
  {
   "cell_type": "code",
   "execution_count": 95,
   "metadata": {},
   "outputs": [
    {
     "name": "stdout",
     "output_type": "stream",
     "text": [
      "test set score(AUC):0.73\n",
      "Best parameters:{'min_samples_leaf': 50, 'n_estimators': 50}\n",
      "Best cross-validation score :0.73\n"
     ]
    }
   ],
   "source": [
    "clf = GridSearchCV(forest, parameters,cv = 10, scoring = \"roc_auc\")\n",
    "clf.fit(X_0_train, y_0_train)\n",
    "print(\"test set score(AUC):{:.2f}\".format(clf.score(X_0_test, y_0_test)))\n",
    "print(\"Best parameters:{}\".format(clf.best_params_))\n",
    "print(\"Best cross-validation score :{:.2f}\".format(clf.best_score_))"
   ]
  },
  {
   "cell_type": "markdown",
   "metadata": {},
   "source": [
    "## 【問題3】Kernelからの調査\n",
    ">KaggleのKernelから様々なアイデアを見つけ出して、列挙してください。"
   ]
  },
  {
   "cell_type": "markdown",
   "metadata": {},
   "source": [
    "・xgboost(勾配ブースティング) -> that can handle missing values with no need for imputation.\n",
    "*下手に欠損値をいじるよりもxgboostした方がいいこともある"
   ]
  },
  {
   "cell_type": "markdown",
   "metadata": {},
   "source": [
    "## 【問題4】高い汎化性能のモデル作成\n",
    ">問題3で見つけたアイデアと、独自のアイデアを組み合わせ高い汎化性能のモデル作りを進めてください。\n",
    "その過程として、何を行うことで、クロスバリデーションの結果がどの程度変化したかを表にまとめてください。"
   ]
  },
  {
   "cell_type": "code",
   "execution_count": 14,
   "metadata": {},
   "outputs": [],
   "source": [
    "from tqdm import tqdm\n",
    "tqdm.pandas()"
   ]
  },
  {
   "cell_type": "code",
   "execution_count": 15,
   "metadata": {},
   "outputs": [],
   "source": [
    "X_df = df_gender_onehot.drop(\"TARGET\", axis = 1)\n",
    "y_df = df_gender_onehot.loc[:,'TARGET']\n",
    "\n",
    "X,y = X_df, y_df\n",
    "X_trainx, X_testx, y_trainx, y_testx = train_test_split(X,y)"
   ]
  },
  {
   "cell_type": "code",
   "execution_count": 24,
   "metadata": {},
   "outputs": [],
   "source": [
    "# light gbm\n",
    "import lightgbm as lgb\n",
    "\n",
    "X_df = df_gender_onehot.drop(\"TARGET\", axis = 1)\n",
    "y_df = df_gender_onehot.loc[:,'TARGET']\n",
    "\n",
    "X,y = X_df, y_df\n",
    "X_train, X_test, y_train, y_test = train_test_split(X,y)\n",
    "\n",
    "lgb_train = lgb.Dataset(X_train, y_train)\n",
    "lgb_eval = lgb.Dataset(X_test, y_test, reference=lgb_train)\n",
    "model_lgb = lgb"
   ]
  },
  {
   "cell_type": "code",
   "execution_count": 21,
   "metadata": {
    "scrolled": true
   },
   "outputs": [
    {
     "name": "stdout",
     "output_type": "stream",
     "text": [
      "[1]\tvalid_0's auc: 0.714279\n",
      "Training until validation scores don't improve for 200 rounds\n",
      "[2]\tvalid_0's auc: 0.718616\n",
      "[3]\tvalid_0's auc: 0.719961\n",
      "[4]\tvalid_0's auc: 0.724121\n",
      "[5]\tvalid_0's auc: 0.726335\n",
      "[6]\tvalid_0's auc: 0.727655\n",
      "[7]\tvalid_0's auc: 0.728307\n",
      "[8]\tvalid_0's auc: 0.72972\n",
      "[9]\tvalid_0's auc: 0.730718\n",
      "[10]\tvalid_0's auc: 0.731763\n",
      "[11]\tvalid_0's auc: 0.732545\n",
      "[12]\tvalid_0's auc: 0.733694\n",
      "[13]\tvalid_0's auc: 0.734281\n",
      "[14]\tvalid_0's auc: 0.735311\n",
      "[15]\tvalid_0's auc: 0.736637\n",
      "[16]\tvalid_0's auc: 0.737262\n",
      "[17]\tvalid_0's auc: 0.738148\n",
      "[18]\tvalid_0's auc: 0.739111\n",
      "[19]\tvalid_0's auc: 0.739785\n",
      "[20]\tvalid_0's auc: 0.740546\n",
      "[21]\tvalid_0's auc: 0.74194\n",
      "[22]\tvalid_0's auc: 0.742716\n",
      "[23]\tvalid_0's auc: 0.743503\n",
      "[24]\tvalid_0's auc: 0.744264\n",
      "[25]\tvalid_0's auc: 0.74473\n",
      "[26]\tvalid_0's auc: 0.745391\n",
      "[27]\tvalid_0's auc: 0.745759\n",
      "[28]\tvalid_0's auc: 0.746134\n",
      "[29]\tvalid_0's auc: 0.746519\n",
      "[30]\tvalid_0's auc: 0.746902\n",
      "[31]\tvalid_0's auc: 0.747716\n",
      "[32]\tvalid_0's auc: 0.747802\n",
      "[33]\tvalid_0's auc: 0.748576\n",
      "[34]\tvalid_0's auc: 0.748887\n",
      "[35]\tvalid_0's auc: 0.749052\n",
      "[36]\tvalid_0's auc: 0.74956\n",
      "[37]\tvalid_0's auc: 0.74986\n",
      "[38]\tvalid_0's auc: 0.75004\n",
      "[39]\tvalid_0's auc: 0.750229\n",
      "[40]\tvalid_0's auc: 0.750381\n",
      "[41]\tvalid_0's auc: 0.75085\n",
      "[42]\tvalid_0's auc: 0.750905\n",
      "[43]\tvalid_0's auc: 0.751183\n",
      "[44]\tvalid_0's auc: 0.751326\n",
      "[45]\tvalid_0's auc: 0.751613\n",
      "[46]\tvalid_0's auc: 0.751695\n",
      "[47]\tvalid_0's auc: 0.752031\n",
      "[48]\tvalid_0's auc: 0.752095\n",
      "[49]\tvalid_0's auc: 0.752471\n",
      "[50]\tvalid_0's auc: 0.752654\n",
      "[51]\tvalid_0's auc: 0.75268\n",
      "[52]\tvalid_0's auc: 0.752629\n",
      "[53]\tvalid_0's auc: 0.752672\n",
      "[54]\tvalid_0's auc: 0.752731\n",
      "[55]\tvalid_0's auc: 0.752857\n",
      "[56]\tvalid_0's auc: 0.753044\n",
      "[57]\tvalid_0's auc: 0.753058\n",
      "[58]\tvalid_0's auc: 0.753153\n",
      "[59]\tvalid_0's auc: 0.753285\n",
      "[60]\tvalid_0's auc: 0.753219\n",
      "[61]\tvalid_0's auc: 0.753142\n",
      "[62]\tvalid_0's auc: 0.753062\n",
      "[63]\tvalid_0's auc: 0.753288\n",
      "[64]\tvalid_0's auc: 0.753358\n",
      "[65]\tvalid_0's auc: 0.753278\n",
      "[66]\tvalid_0's auc: 0.753187\n",
      "[67]\tvalid_0's auc: 0.753249\n",
      "[68]\tvalid_0's auc: 0.753327\n",
      "[69]\tvalid_0's auc: 0.753465\n",
      "[70]\tvalid_0's auc: 0.753775\n",
      "[71]\tvalid_0's auc: 0.753732\n",
      "[72]\tvalid_0's auc: 0.753666\n",
      "[73]\tvalid_0's auc: 0.753856\n",
      "[74]\tvalid_0's auc: 0.753902\n",
      "Did not meet early stopping. Best iteration is:\n",
      "[74]\tvalid_0's auc: 0.753902\n"
     ]
    }
   ],
   "source": [
    "lgbm_params = {'num_leaves':60}\n",
    "lgbm_params['metric'] = 'auc'\n",
    "model = lgb.train(lgbm_params, lgb_train, \n",
    "                  num_boost_round=74,\n",
    "                  valid_sets = lgb_eval,early_stopping_rounds = 200)\n",
    "\n",
    "y_pred = model.predict(X_test, num_iteration=model.best_iteration)"
   ]
  },
  {
   "cell_type": "code",
   "execution_count": 26,
   "metadata": {},
   "outputs": [
    {
     "data": {
      "text/plain": [
       "array([0.29683085, 0.04309893, 0.04688978, ..., 0.06298309, 0.13239623,\n",
       "       0.0824656 ])"
      ]
     },
     "execution_count": 26,
     "metadata": {},
     "output_type": "execute_result"
    }
   ],
   "source": [
    "y_pred"
   ]
  },
  {
   "cell_type": "code",
   "execution_count": 25,
   "metadata": {},
   "outputs": [
    {
     "data": {
      "text/plain": [
       "<module 'lightgbm' from '/Users/akishimasaki/.pyenv/versions/anaconda3-2019.03/lib/python3.7/site-packages/lightgbm/__init__.py'>"
      ]
     },
     "execution_count": 25,
     "metadata": {},
     "output_type": "execute_result"
    }
   ],
   "source": [
    "submission, fi, metrics = model_lgb(X_train, X_test)\n",
    "print('Baseline metrics')\n",
    "print(metrics)"
   ]
  },
  {
   "cell_type": "code",
   "execution_count": 22,
   "metadata": {
    "scrolled": true
   },
   "outputs": [
    {
     "data": {
      "image/png": "[encoded data removed]",
      "text/plain": [
       "<Figure size 432x288 with 1 Axes>"
      ]
     },
     "metadata": {
      "needs_background": "light"
     },
     "output_type": "display_data"
    },
    {
     "name": "stdout",
     "output_type": "stream",
     "text": [
      "0.7539021138938808\n"
     ]
    }
   ],
   "source": [
    "\n",
    "#y_0_score = rf.score(X_0_test, y_0_test,sample_weight=None)\n",
    "\n",
    "fpr, tpr, thresholds = roc_curve(y_test, y_pred)\n",
    "\n",
    "plt.plot(fpr, tpr)\n",
    "plt.xlabel('FPR: False positive rate')\n",
    "plt.ylabel('TPR: True positive rate')\n",
    "plt.grid()\n",
    "plt.show()\n",
    "print(roc_auc_score(y_test, y_pred))"
   ]
  },
  {
   "cell_type": "code",
   "execution_count": null,
   "metadata": {},
   "outputs": [],
   "source": [
    "# future imortance をして効果の高いものをみる"
   ]
  },
  {
   "cell_type": "code",
   "execution_count": null,
   "metadata": {},
   "outputs": [],
   "source": [
    "#結果を比較して、xgbとlightgbmでほぼ値が変わらなかった。"
   ]
  },
  {
   "cell_type": "code",
   "execution_count": null,
   "metadata": {},
   "outputs": [],
   "source": [
    "#特徴量エンジニアリングとして、クラスター分析\n",
    "#LightGBMは項目多い方がいい結果が出やすいので、項目を増やす方針で\n",
    "\n",
    "'''\n",
    "from scipy.cluster.hierarchy import linkage, dendrogram\n",
    "result1 = linkage(df_gender_onehot.iloc[:,:],\n",
    "                 metric = 'correlation',\n",
    "                 method = 'average')\n",
    "plt.figure(figsize=(8,8))\n",
    "dendrogram(result1, orientation='right',labels=list(df_gender_onehot.index),\n",
    "          color_threshold=0.0)\n",
    "plt.title(\"Dendrogram\")\n",
    "plt.xlabel(\"Threshold\")\n",
    "plt.grid()\n",
    "plt.show()\n",
    "'''\n",
    "#カーネル止まるので中止"
   ]
  },
  {
   "cell_type": "markdown",
   "metadata": {},
   "source": [
    "## 【問題5】最終的なモデルの選定\n",
    ">最終的にこれは良いというモデルを選び、推定した結果をKaggleに提出してスコアを確認してください。どういったアイデアを取り入れ、どの程度のスコアになったかを記載してください。"
   ]
  },
  {
   "cell_type": "code",
   "execution_count": null,
   "metadata": {},
   "outputs": [],
   "source": [
    "#提出ファイルは pred_proba で確率を。\n",
    "#スコアは0.71だった。"
   ]
  },
  {
   "cell_type": "code",
   "execution_count": null,
   "metadata": {},
   "outputs": [],
   "source": [
    "def draw_dendro_classes(result):\n",
    "    n_clusters = len(result)\n",
    "    n_samples = len(result)\n",
    "    df1 = pd.DataFrame(result)\n",
    "    x1 = []\n",
    "    y1 = []\n",
    "    x2 = []\n",
    "    y2 = []\n",
    "    for i in range(len(result) - 1):\n",
    "        n1 = int(result[i][0])\n",
    "        n2 = int(result[i][1])\n",
    "        val = result[i][2]\n",
    "        n_clusters -= 1\n",
    "        x1.append(val)\n",
    "        x2.append(val)\n",
    "        y1.append(n_clusters)\n",
    "        y2.append(float(n_samples) / float(n_clusters))\n",
    "        \n",
    "    plt.subplot(2,1,1)\n",
    "    plt.plot(x1,y1,'yo-')\n",
    "    plt.title('Threshold dependency of hierarchical clustering')\n",
    "    plt.ylabel('Num of clusters')\n",
    "    plt.subplot(2,1,2)\n",
    "    plt.plot(x2,y2,'ro-')\n",
    "    plt.xlabel('Threshold')\n",
    "    plt.ylabel('Ave cluster size')\n",
    "    plt.show()"
   ]
  },
  {
   "cell_type": "code",
   "execution_count": 18,
   "metadata": {},
   "outputs": [
    {
     "ename": "AttributeError",
     "evalue": "'XGBClassifier' object has no attribute 'DMatrix'",
     "output_type": "error",
     "traceback": [
      "\u001b[0;31m---------------------------------------------------------------------------\u001b[0m",
      "\u001b[0;31mAttributeError\u001b[0m                            Traceback (most recent call last)",
      "\u001b[0;32m<ipython-input-18-9706593e2d65>\u001b[0m in \u001b[0;36m<module>\u001b[0;34m\u001b[0m\n\u001b[1;32m      1\u001b[0m \u001b[0;31m#パラメーターはカーネルからコピペ\u001b[0m\u001b[0;34m\u001b[0m\u001b[0;34m\u001b[0m\u001b[0;34m\u001b[0m\u001b[0m\n\u001b[1;32m      2\u001b[0m \u001b[0mxgb\u001b[0m \u001b[0;34m=\u001b[0m \u001b[0mXGBClassifier\u001b[0m\u001b[0;34m(\u001b[0m\u001b[0;34m)\u001b[0m\u001b[0;34m\u001b[0m\u001b[0;34m\u001b[0m\u001b[0m\n\u001b[0;32m----> 3\u001b[0;31m \u001b[0mdtrain\u001b[0m \u001b[0;34m=\u001b[0m \u001b[0mxgb\u001b[0m\u001b[0;34m.\u001b[0m\u001b[0mDMatrix\u001b[0m\u001b[0;34m(\u001b[0m\u001b[0mX_trainx\u001b[0m\u001b[0;34m,\u001b[0m \u001b[0mlabel\u001b[0m\u001b[0;34m=\u001b[0m\u001b[0my_trainx\u001b[0m\u001b[0;34m)\u001b[0m\u001b[0;34m\u001b[0m\u001b[0;34m\u001b[0m\u001b[0m\n\u001b[0m\u001b[1;32m      4\u001b[0m \u001b[0mdtest\u001b[0m \u001b[0;34m=\u001b[0m \u001b[0mxgb\u001b[0m\u001b[0;34m.\u001b[0m\u001b[0mDMatrix\u001b[0m\u001b[0;34m(\u001b[0m\u001b[0mX_testx\u001b[0m\u001b[0;34m)\u001b[0m\u001b[0;34m\u001b[0m\u001b[0;34m\u001b[0m\u001b[0m\n\u001b[1;32m      5\u001b[0m \u001b[0;34m\u001b[0m\u001b[0m\n",
      "\u001b[0;31mAttributeError\u001b[0m: 'XGBClassifier' object has no attribute 'DMatrix'"
     ]
    }
   ],
   "source": [
    "#パラメーターはカーネルからコピペ\n",
    "xgb = XGBClassifier()\n",
    "dtrain = xgb.DMatrix(X_trainx, label=y_trainx)\n",
    "dtest = xgb.DMatrix(X_testx)\n",
    "\n",
    "clf = XGBClassifier(learning_rate =0.01, n_estimators=10000, max_depth=4, min_child_weight=5, subsample=0.8, colsample_bytree=0.8, objective= 'binary:logistic', \n",
    "            nthread=4, scale_pos_weight=2.5, seed=27, reg_lambda = 1.2)\n",
    "\n",
    "clf.fit(X_trainx, y_trainx, eval_set=[(X_trainx, y_trainx), (X_testx, y_testx)], \n",
    "                eval_metric= 'auc', verbose= 100, early_stopping_rounds= 200)\n",
    "\n",
    "'''\n",
    "xgb_params = {'seed': 0,\n",
    "    'colsample_bytree': 0.7,\n",
    "    'silent': 1,\n",
    "    'subsample': 0.7,\n",
    "    'learning_rate': 0.075,\n",
    "    'objective': 'binary:logistic',\n",
    "    'max_depth': 4,\n",
    "    'num_parallel_tree': 1,\n",
    "    'min_child_weight': 1,\n",
    "    'nrounds': 200}\n",
    "\n",
    "bst = xgb.train(xgb_params,\n",
    "                dtrain,\n",
    "                )\n",
    "\n",
    "y_pred_proba = bst.predict(dtest)\n",
    "print(y_pred_proba)\n",
    "\n",
    "#y_pred = bst.predict(X_test)\n",
    "'''"
   ]
  },
  {
   "cell_type": "code",
   "execution_count": 12,
   "metadata": {},
   "outputs": [
    {
     "ename": "NameError",
     "evalue": "name 'clf' is not defined",
     "output_type": "error",
     "traceback": [
      "\u001b[0;31m---------------------------------------------------------------------------\u001b[0m",
      "\u001b[0;31mNameError\u001b[0m                                 Traceback (most recent call last)",
      "\u001b[0;32m<ipython-input-12-89c9094a9184>\u001b[0m in \u001b[0;36m<module>\u001b[0;34m\u001b[0m\n\u001b[0;32m----> 1\u001b[0;31m \u001b[0my_predx\u001b[0m \u001b[0;34m=\u001b[0m \u001b[0mclf\u001b[0m\u001b[0;34m.\u001b[0m\u001b[0mpredict_proba\u001b[0m\u001b[0;34m(\u001b[0m\u001b[0mX_testx\u001b[0m\u001b[0;34m)\u001b[0m\u001b[0;34m[\u001b[0m\u001b[0;34m:\u001b[0m\u001b[0;34m,\u001b[0m \u001b[0;36m1\u001b[0m\u001b[0;34m]\u001b[0m\u001b[0;34m\u001b[0m\u001b[0;34m\u001b[0m\u001b[0m\n\u001b[0m\u001b[1;32m      2\u001b[0m \u001b[0mprint\u001b[0m\u001b[0;34m(\u001b[0m\u001b[0mnp\u001b[0m\u001b[0;34m.\u001b[0m\u001b[0munique\u001b[0m\u001b[0;34m(\u001b[0m\u001b[0;34m(\u001b[0m\u001b[0my_predx\u001b[0m \u001b[0;34m>\u001b[0m \u001b[0;36m0.5\u001b[0m\u001b[0;34m)\u001b[0m\u001b[0;34m.\u001b[0m\u001b[0mastype\u001b[0m\u001b[0;34m(\u001b[0m\u001b[0mint\u001b[0m\u001b[0;34m)\u001b[0m\u001b[0;34m)\u001b[0m\u001b[0;34m)\u001b[0m\u001b[0;34m\u001b[0m\u001b[0;34m\u001b[0m\u001b[0m\n\u001b[1;32m      3\u001b[0m print(y_predx\n\u001b[1;32m      4\u001b[0m      )\n",
      "\u001b[0;31mNameError\u001b[0m: name 'clf' is not defined"
     ]
    }
   ],
   "source": [
    "y_predx = clf.predict_proba(X_testx)[:, 1]\n",
    "print(np.unique((y_predx > 0.5).astype(int)))\n",
    "print(y_predx)"
   ]
  },
  {
   "cell_type": "code",
   "execution_count": 19,
   "metadata": {
    "scrolled": true
   },
   "outputs": [
    {
     "ename": "NameError",
     "evalue": "name 'y_predx' is not defined",
     "output_type": "error",
     "traceback": [
      "\u001b[0;31m---------------------------------------------------------------------------\u001b[0m",
      "\u001b[0;31mNameError\u001b[0m                                 Traceback (most recent call last)",
      "\u001b[0;32m<ipython-input-19-a950ba60f840>\u001b[0m in \u001b[0;36m<module>\u001b[0;34m\u001b[0m\n\u001b[1;32m      1\u001b[0m \u001b[0;31m#y_0_score = rf.score(X_0_test, y_0_test,sample_weight=None)\u001b[0m\u001b[0;34m\u001b[0m\u001b[0;34m\u001b[0m\u001b[0;34m\u001b[0m\u001b[0m\n\u001b[1;32m      2\u001b[0m \u001b[0;34m\u001b[0m\u001b[0m\n\u001b[0;32m----> 3\u001b[0;31m \u001b[0mfpr\u001b[0m\u001b[0;34m,\u001b[0m \u001b[0mtpr\u001b[0m\u001b[0;34m,\u001b[0m \u001b[0mthresholds\u001b[0m \u001b[0;34m=\u001b[0m \u001b[0mroc_curve\u001b[0m\u001b[0;34m(\u001b[0m\u001b[0my_testx\u001b[0m\u001b[0;34m,\u001b[0m \u001b[0my_predx\u001b[0m\u001b[0;34m)\u001b[0m\u001b[0;34m\u001b[0m\u001b[0;34m\u001b[0m\u001b[0m\n\u001b[0m\u001b[1;32m      4\u001b[0m \u001b[0;34m\u001b[0m\u001b[0m\n\u001b[1;32m      5\u001b[0m \u001b[0mplt\u001b[0m\u001b[0;34m.\u001b[0m\u001b[0mplot\u001b[0m\u001b[0;34m(\u001b[0m\u001b[0mfpr\u001b[0m\u001b[0;34m,\u001b[0m \u001b[0mtpr\u001b[0m\u001b[0;34m)\u001b[0m\u001b[0;34m\u001b[0m\u001b[0;34m\u001b[0m\u001b[0m\n",
      "\u001b[0;31mNameError\u001b[0m: name 'y_predx' is not defined"
     ]
    }
   ],
   "source": [
    "#y_0_score = rf.score(X_0_test, y_0_test,sample_weight=None)\n",
    "\n",
    "fpr, tpr, thresholds = roc_curve(y_testx, y_predx)\n",
    "\n",
    "plt.plot(fpr, tpr)\n",
    "plt.xlabel('FPR: False positive rate')\n",
    "plt.ylabel('TPR: True positive rate')\n",
    "plt.grid()\n",
    "\n",
    "print(\"test set score(AUC):{:.2f}\".format(clf.score(X_testx, y_testx)))\n",
    "print(\"Best parameters:{}\".format(clf.best_params_))\n",
    "print(\"Best cross-validation score :{:.2f}\".format(clf.best_score_))\n",
    "print(roc_auc_score(y_testx, y_predx))\n",
    "#print(confusion_matrix(y_test,y_pred_proba))\n",
    "#print(y_predx)"
   ]
  },
  {
   "cell_type": "code",
   "execution_count": 87,
   "metadata": {},
   "outputs": [
    {
     "data": {
      "text/plain": [
       "\"\\n#xgboostのパラメータをグリッドサーチで決定する\\nfrom xgboost import XGBRegressor\\nfrom sklearn.pipeline import Pipeline\\nfrom sklearn.decomposition import PCA, NMF\\nfrom sklearn.preprocessing import PolynomialFeatures\\nfrom sklearn.feature_selection import SelectKBest, chi2\\nfrom sklearn.model_selection import GridSearchCV\\n\\npipeline = Pipeline([\\n    ('clf', XGBRegressor()),\\n])\\n\\nparams = dict(clf__n_estimators=(10, 20, 30),\\n              clf__learning_rate=(.1, .2, .3), \\n              clf__max_depth=(2, 3, 4, 5),\\n              clf__min_child_weight=(.5, .75, 1.0))\\n\\ngrid_search = GridSearchCV(pipeline, param_grid=params).fit(X_train, y_train)\\npredictions = grid_search.predict(X_test)\\n\""
      ]
     },
     "execution_count": 87,
     "metadata": {},
     "output_type": "execute_result"
    }
   ],
   "source": [
    "'''\n",
    "#xgboostのパラメータをグリッドサーチで決定する\n",
    "from xgboost import XGBRegressor\n",
    "from sklearn.pipeline import Pipeline\n",
    "from sklearn.decomposition import PCA, NMF\n",
    "from sklearn.preprocessing import PolynomialFeatures\n",
    "from sklearn.feature_selection import SelectKBest, chi2\n",
    "from sklearn.model_selection import GridSearchCV\n",
    "\n",
    "pipeline = Pipeline([\n",
    "    ('clf', XGBRegressor()),\n",
    "])\n",
    "\n",
    "params = dict(clf__n_estimators=(10, 20, 30),\n",
    "              clf__learning_rate=(.1, .2, .3), \n",
    "              clf__max_depth=(2, 3, 4, 5),\n",
    "              clf__min_child_weight=(.5, .75, 1.0))\n",
    "\n",
    "grid_search = GridSearchCV(pipeline, param_grid=params).fit(X_train, y_train)\n",
    "predictions = grid_search.predict(X_test)\n",
    "'''"
   ]
  }
 ],
 "metadata": {
  "kernelspec": {
   "display_name": "Python 3",
   "language": "python",
   "name": "python3"
  },
  "language_info": {
   "codemirror_mode": {
    "name": "ipython",
    "version": 3
   },
   "file_extension": ".py",
   "mimetype": "text/x-python",
   "name": "python",
   "nbconvert_exporter": "python",
   "pygments_lexer": "ipython3",
   "version": "3.7.3"
  }
 },
 "nbformat": 4,
 "nbformat_minor": 4
}
