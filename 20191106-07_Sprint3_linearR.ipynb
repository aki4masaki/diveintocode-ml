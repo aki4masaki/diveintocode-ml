{
 "cells": [
  {
   "cell_type": "markdown",
   "metadata": {},
   "source": [
    "# Sprint3 線形回帰スクラッチ"
   ]
  },
  {
   "cell_type": "code",
   "execution_count": 85,
   "metadata": {},
   "outputs": [],
   "source": [
    "import numpy as np\n",
    "import pandas as pd\n",
    "import matplotlib.pyplot as plt\n",
    "import seaborn as sns\n",
    "from sklearn.model_selection import train_test_split\n",
    "sns.set()\n",
    "%matplotlib inline"
   ]
  },
  {
   "cell_type": "code",
   "execution_count": 414,
   "metadata": {},
   "outputs": [],
   "source": [
    "#House Plice のデータ\n",
    "train_data = pd.read_csv('train.csv')\n",
    "#display(train_data.head(3))\n",
    "X_df = train_data.loc[:,['GrLivArea','YearBuilt']]\n",
    "y_df = train_data.loc[:,'SalePrice']\n",
    "#display(X_df)\n",
    "X = X_df.loc[:,['GrLivArea']].values\n",
    "y = y_df.values"
   ]
  },
  {
   "cell_type": "code",
   "execution_count": 429,
   "metadata": {},
   "outputs": [],
   "source": [
    "X_train, X_test, y_train, y_test = train_test_split(X,y, test_size=0.25)"
   ]
  },
  {
   "cell_type": "code",
   "execution_count": 387,
   "metadata": {},
   "outputs": [
    {
     "data": {
      "text/plain": [
       "<matplotlib.legend.Legend at 0x1a2892a5f8>"
      ]
     },
     "execution_count": 387,
     "metadata": {},
     "output_type": "execute_result"
    },
    {
     "data": {
      "image/png": "[encoded data removed]",
      "text/plain": [
       "<Figure size 432x288 with 1 Axes>"
      ]
     },
     "metadata": {
      "needs_background": "light"
     },
     "output_type": "display_data"
    }
   ],
   "source": [
    "plt.scatter(X_df['GrLivArea'],y_df,label=\"GrLivArea\")\n",
    "plt.scatter(X_df['YearBuilt'],y_df,label=\"YearBuilt\")\n",
    "\n",
    "plt.ylabel(\"SalePrice\")\n",
    "plt.legend()"
   ]
  },
  {
   "cell_type": "code",
   "execution_count": 430,
   "metadata": {},
   "outputs": [],
   "source": [
    "def MSE(y_pred, y):\n",
    "    error_mse = y_pred - y   \n",
    "    mse = np.sum(error_mse **2) /len(y)\n",
    "    return mse #問題４\n",
    "\n",
    "\n",
    "class ScratchLinearRegression():\n",
    "    \"\"\"\n",
    "    線形回帰のスクラッチ実装\n",
    "\n",
    "    Parameters\n",
    "    ----------\n",
    "    num_iter : int\n",
    "      イテレーション数\n",
    "    lr : float\n",
    "      学習率\n",
    "    no_bias : bool\n",
    "      バイアス項を入れない場合はTrue\n",
    "    verbose : bool\n",
    "      学習過程を出力する場合はTrue\n",
    "\n",
    "    Attributes\n",
    "    ----------\n",
    "    self.coef_ : 次の形のndarray, shape (n_features,)\n",
    "      パラメータ\n",
    "    self.loss : 次の形のndarray, shape (self.iter,)\n",
    "      学習用データに対する損失の記録\n",
    "    self.val_loss : 次の形のndarray, shape (self.iter,)\n",
    "      検証用データに対する損失の記録\n",
    "\n",
    "    \"\"\"\n",
    "    def __init__(self, num_iter=10000, lr=0.000000001, bias=True, verbose=True): #自動で走る部分\n",
    "        # ハイパーパラメータを属性として記録　　　　　　　　　　　　　　#初期値をここに入れる\n",
    "        self.iter = num_iter\n",
    "        self.lr = lr\n",
    "        self.bias = bias\n",
    "        self.verbose = verbose\n",
    "        # 損失を記録する配列を用意\n",
    "        self.loss = np.zeros(self.iter)\n",
    "        self.val_loss = np.zeros(self.iter)\n",
    "        self.theta = None\n",
    "    \n",
    "    # 関数はなるべくシンプルで計算メインの方が応用がきく\n",
    "    def _linear_hypothesis(self, X): #問題１ \n",
    "#         print(self.theta.shape)\n",
    "        return np.dot(self.theta, X.T).reshape(len(X),1) #問題１\n",
    " \n",
    "    def _gradient_descent(self, X, error): \n",
    "#         print(self.theta.shape)\n",
    "        self.theta = self.theta - self.lr * ((np.dot(error, X))\n",
    "                                             /X.shape[0])#問題２\n",
    "        \n",
    "    def fit(self, X, y, X_val=None, y_val=None):\n",
    "        \"\"\"\n",
    "        検証用データが入力された場合はそれに対する\n",
    "        損失と精度もイテレーションごとに計算する。\n",
    "\n",
    "        Parameters\n",
    "        ----------\n",
    "        X : 次の形のndarray, shape (n_samples, n_features)\n",
    "            学習用データの特徴量\n",
    "        y : 次の形のndarray, shape (n_samples, )\n",
    "            学習用データの正解値\n",
    "        X_val : 次の形のndarray, shape (n_samples, n_features)\n",
    "            検証用データの特徴量\n",
    "        y_val : 次の形のndarray, shape (n_samples, )\n",
    "            検証用データの正解値\n",
    "        \"\"\"\n",
    "        x_array = np.insert(X,0,1,axis=1) #一行目に１のみのx0を追加\n",
    "        self.theta = np.random.rand(1,x_array.shape[1]) #theta 初期値      \n",
    "#         print(error.reshape(error.shape[1],1).shape) #(data, 1)に変更        \n",
    "        for i in range(self.iter):    \n",
    "            #θの値を更新。損失関数が０になったら打ち切り。最大回数はnum_iter。\n",
    "            error = self._linear_hypothesis(x_array).T - y #問題２ \n",
    "            self._gradient_descent(x_array, error)\n",
    "            y_pred = self._linear_hypothesis(x_array)      \n",
    "            mse = MSE(y_pred, y)\n",
    "            self.loss[i] =mse #問題５\n",
    "            \n",
    "            if y_val is not None:\n",
    "                y_pred = self._linear_hypothesis(np.insert(X_val,0,1,axis=1))\n",
    "                mse_val = MSE(y_pred, y_val)\n",
    "                self.val_loss[i] = mse_val #問題５　#X_val=None, y_val=None\n",
    "        \n",
    "        if self.verbose== True:\n",
    "            #verboseをTrueにした際は学習過程を出力\n",
    "            print(self.loss)\n",
    "            if y_val is not None:\n",
    "                print(self.val_loss)\n",
    " \n",
    "    def predict(self, X):\n",
    "        \"\"\"\n",
    "        線形回帰を使い推定する。\n",
    "        \"\"\"\n",
    "        x_array = np.insert(X,0,1,axis=1)\n",
    "        y_pred = np.dot(self.theta, x_array.T).reshape(X.shape[0])\n",
    "        \n",
    "        return y_pred"
   ]
  },
  {
   "cell_type": "code",
   "execution_count": 431,
   "metadata": {},
   "outputs": [
    {
     "name": "stdout",
     "output_type": "stream",
     "text": [
      "[4.21354118e+13 4.19584471e+13 4.17824235e+13 ... 1.08711777e+13\n",
      " 1.08711777e+13 1.08711777e+13]\n",
      "[1.40719902e+13 1.40116603e+13 1.39516601e+13 ... 4.10696504e+12\n",
      " 4.10696504e+12 4.10696504e+12]\n"
     ]
    }
   ],
   "source": [
    "#問題６\n",
    "slr = ScratchLinearRegression()\n",
    "slr.fit(X_train,y_train,X_val=X_test, y_val=y_test)"
   ]
  },
  {
   "cell_type": "code",
   "execution_count": 432,
   "metadata": {},
   "outputs": [
    {
     "data": {
      "text/plain": [
       "array([156772.1151687 , 133675.27253078, 124460.47002756, ...,\n",
       "       218283.91369664, 343700.96594817, 103398.06430593])"
      ]
     },
     "execution_count": 432,
     "metadata": {},
     "output_type": "execute_result"
    }
   ],
   "source": [
    "slr.predict(X_train)"
   ]
  },
  {
   "cell_type": "code",
   "execution_count": 437,
   "metadata": {},
   "outputs": [
    {
     "data": {
      "text/plain": [
       "LinearRegression(copy_X=True, fit_intercept=True, n_jobs=None,\n",
       "         normalize=False)"
      ]
     },
     "execution_count": 437,
     "metadata": {},
     "output_type": "execute_result"
    }
   ],
   "source": [
    "#scikit-learn と比較\n",
    "from sklearn.linear_model import LinearRegression\n",
    "lr = LinearRegression()\n",
    "\n",
    "lr.fit(X_train,y_train)"
   ]
  },
  {
   "cell_type": "code",
   "execution_count": 433,
   "metadata": {},
   "outputs": [
    {
     "data": {
      "text/plain": [
       "array([[  0.79985429, 119.67275978]])"
      ]
     },
     "execution_count": 433,
     "metadata": {},
     "output_type": "execute_result"
    }
   ],
   "source": [
    "slr.theta"
   ]
  },
  {
   "cell_type": "code",
   "execution_count": 438,
   "metadata": {},
   "outputs": [
    {
     "data": {
      "image/png": "[encoded data removed]",
      "text/plain": [
       "<Figure size 432x288 with 1 Axes>"
      ]
     },
     "metadata": {
      "needs_background": "light"
     },
     "output_type": "display_data"
    }
   ],
   "source": [
    "plt.scatter(X, y, color = 'blue')    # 説明変数と目的変数のデータ点の散布図をプロット\n",
    "plt.scatter(X_train, y_train, color = 'yellow')\n",
    "plt.plot(X, lr.predict(X), color = 'red') # 回帰直線をプロット\n",
    "plt.plot(X, slr.predict(X), color = 'orange')\n",
    "plt.grid(True)                                 # グリッド線を表示\n",
    "plt.show()                                 # 図の表示"
   ]
  },
  {
   "cell_type": "code",
   "execution_count": 439,
   "metadata": {},
   "outputs": [
    {
     "data": {
      "text/plain": [
       "<matplotlib.legend.Legend at 0x111840438>"
      ]
     },
     "execution_count": 439,
     "metadata": {},
     "output_type": "execute_result"
    },
    {
     "data": {
      "image/png": "[encoded data removed]",
      "text/plain": [
       "<Figure size 432x288 with 1 Axes>"
      ]
     },
     "metadata": {
      "needs_background": "light"
     },
     "output_type": "display_data"
    }
   ],
   "source": [
    "#問題７\n",
    "plt.plot(slr.loss,label='slr.loss', color = 'blue')\n",
    "plt.plot(slr.val_loss,label='slr.val_loss', color = 'orange')\n",
    "plt.grid(True)                                 # グリッド線を表示\n",
    "plt.legend()"
   ]
  },
  {
   "cell_type": "markdown",
   "metadata": {},
   "source": [
    "## 【問題1】仮定関数\n",
    ">線形回帰の仮定関数を実装してください。メソッドの雛形を用意してあります。"
   ]
  },
  {
   "cell_type": "code",
   "execution_count": 17,
   "metadata": {},
   "outputs": [],
   "source": [
    "def _linear_hypothesis(self, X):\n",
    "    \"\"\"\n",
    "    線形の仮定関数を計算する\n",
    "\n",
    "    Parameters\n",
    "    ----------\n",
    "    X : 次の形のndarray, shape (n_samples, n_features)\n",
    "      学習データ\n",
    "\n",
    "    Returns\n",
    "    -------\n",
    "      次の形のndarray, shape (n_samples, 1)\n",
    "      線形の仮定関数による推定結果\n",
    "\n",
    "    \"\"\"   \n",
    "    #パラメータθはxと同数のランダム行列。nは特徴量\n",
    "    #x行列はx０＝１を追加して、X.shape=(n_samples, n_features)。\n",
    "    #-> np.random.randで一様分布からサンプリングした乱数（ [0,1]の範囲）\n",
    "    #θ　・xt　の行列の内積→求める仮定関数。\n",
    "    \n",
    "    theta = np.random.rand(X.shape[1]+1)\n",
    "    x_array = np.insert(X,0,1,axis=1)\n",
    "    \n",
    "    return np.dot(theta, x_array.T).reshape(len(X),1)"
   ]
  },
  {
   "cell_type": "markdown",
   "metadata": {},
   "source": [
    "## 【問題2】最急降下法\n",
    ">最急降下法により学習させる実装を行なってください。以下の式で表されるパラメータの更新式のメソッド_gradient_descentを追加し、fit\n",
    "メソッドから呼び出すようにしてください。"
   ]
  },
  {
   "cell_type": "code",
   "execution_count": 19,
   "metadata": {},
   "outputs": [],
   "source": [
    "    error = _linear_hypothesis(self, X).T - y #問題２        \n",
    "\n",
    "        def _gradient_descent(self, X, error): \n",
    "            theta = theta - lr * (np.dot(error, X))/X.shape[0]\n",
    "            pass\n",
    "            #アダマール積からの和、もしくは行列積shape(1,2)になったらok\n",
    "            #問題２\n",
    "        \n",
    "        if self.verbose== True:\n",
    "            #verboseをTrueにした際は学習過程を出力\n",
    "            print()\n",
    "        pass"
   ]
  },
  {
   "cell_type": "markdown",
   "metadata": {},
   "source": [
    "## 【問題3】推定\n",
    ">推定する仕組みを実装してください。ScratchLinearRegressionクラスの雛形に含まれるpredictメソッドに書き加えてください。\n",
    "仮定関数 hθ(x)の出力が推定結果です。"
   ]
  },
  {
   "cell_type": "code",
   "execution_count": null,
   "metadata": {},
   "outputs": [],
   "source": [
    "def predict(self, X):\n",
    "    #線形回帰を使い推定する。\n",
    "    #X : 次の形のndarray, shape (n_samples, n_features)\n",
    "    #サンプル\n",
    "    \n",
    "    \n",
    "    \n",
    "    \n",
    "    return #次の形のndarray, shape (n_samples, 1), \n",
    "           #線形回帰による_linear_hypothesis(self, X)->仮定関数 hθ(x)の出力が推定結果\n",
    "    \n",
    "    \n",
    "    \n"
   ]
  },
  {
   "cell_type": "markdown",
   "metadata": {},
   "source": [
    "## 【問題4】平均二乗誤差\n",
    ">線形回帰の指標値として用いられる平均二乗誤差（mean square error, MSE）の関数を作成してください。\n",
    "平均二乗誤差関数は回帰問題全般で使える関数のため、ScratchLinearRegressionクラスのメソッドではなく、別の関数として作成してください。雛形を用意してあります。"
   ]
  },
  {
   "cell_type": "code",
   "execution_count": 382,
   "metadata": {},
   "outputs": [],
   "source": [
    "def MSE(y_pred, y):\n",
    "    error_mse = y_pred - y   \n",
    "    mse = np.sum(error_mse **2) /len(y)\n",
    "    return mse #問題４"
   ]
  },
  {
   "cell_type": "markdown",
   "metadata": {},
   "source": [
    "## 【問題5】目的関数\n",
    ">線形回帰の 目的関数（損失関数） を実装してください。そして、これをself.loss, self.val_lossに記録するようにしてください。"
   ]
  },
  {
   "cell_type": "code",
   "execution_count": null,
   "metadata": {},
   "outputs": [],
   "source": []
  },
  {
   "cell_type": "markdown",
   "metadata": {},
   "source": [
    "## 【問題6】学習と推定\n",
    ">機械学習スクラッチ入門のSprintで用意したHouse Pricesコンペティションのデータに対してスクラッチ実装の学習と推定を行なってください。\n",
    "scikit-learnによる実装と比べ、正しく動いているかを確認してください。"
   ]
  },
  {
   "cell_type": "code",
   "execution_count": null,
   "metadata": {},
   "outputs": [],
   "source": [
    "# scikit-learnによる実装\n",
    "\n",
    "#結果比較"
   ]
  },
  {
   "cell_type": "markdown",
   "metadata": {},
   "source": [
    "## 【問題7】学習曲線のプロット\n",
    ">学習曲線を表示する関数を作成し、実行してください。グラフを見て損失が適切に下がっているかどうか確認してください。\n",
    "線形回帰クラスの雛形ではself.loss, self.val_lossに損失を記録しておくようになっているため、入力にはこれを利用してください。"
   ]
  },
  {
   "cell_type": "code",
   "execution_count": null,
   "metadata": {},
   "outputs": [],
   "source": []
  },
  {
   "cell_type": "code",
   "execution_count": 32,
   "metadata": {},
   "outputs": [],
   "source": [
    "#雛形メモ\n",
    "# class ScratchLinearRegression():\n",
    "#     \"\"\"\n",
    "#     線形回帰のスクラッチ実装\n",
    "\n",
    "#     Parameters\n",
    "#     ----------\n",
    "#     num_iter : int\n",
    "#       イテレーション数\n",
    "#     lr : float\n",
    "#       学習率\n",
    "#     no_bias : bool\n",
    "#       バイアス項を入れない場合はTrue\n",
    "#     verbose : bool\n",
    "#       学習過程を出力する場合はTrue\n",
    "\n",
    "#     Attributes\n",
    "#     ----------\n",
    "#     self.coef_ : 次の形のndarray, shape (n_features,)\n",
    "#       パラメータ\n",
    "#     self.loss : 次の形のndarray, shape (self.iter,)\n",
    "#       学習用データに対する損失の記録\n",
    "#     self.val_loss : 次の形のndarray, shape (self.iter,)\n",
    "#       検証用データに対する損失の記録\n",
    "\n",
    "#     \"\"\"\n",
    "\n",
    "#     def __init__(self, num_iter, lr, bias, verbose):\n",
    "#         # ハイパーパラメータを属性として記録\n",
    "#         self.iter = num_iter\n",
    "#         self.lr = lr\n",
    "#         self.bias = bias\n",
    "#         self.verbose = verbose\n",
    "#         # 損失を記録する配列を用意\n",
    "#         self.loss = np.zeros(self.iter)\n",
    "#         self.val_loss = np.zeros(self.iter)\n",
    "        \n",
    "#     def _linear_hypothesis(self, X): #問題１\n",
    "#         theta = np.random.rand(X.shape[1]+1)\n",
    "#         x_array = np.insert(X,0,1,axis=1)\n",
    "#         return np.dot(theta, x_array.T).reshape(len(X),1) #問題１\n",
    "    \n",
    "#     def fit(self, X, y, X_val=None, y_val=None):\n",
    "#         \"\"\"\n",
    "#         線形回帰を学習する。\n",
    "#         検証用データが入力された場合はそれに対する\n",
    "#         損失と精度もイテレーションごとに計算する。\n",
    "\n",
    "#         Parameters\n",
    "#         ----------\n",
    "#         X : 次の形のndarray, shape (n_samples, n_features)\n",
    "#             学習用データの特徴量\n",
    "#         y : 次の形のndarray, shape (n_samples, )\n",
    "#             学習用データの正解値\n",
    "#         X_val : 次の形のndarray, shape (n_samples, n_features)\n",
    "#             検証用データの特徴量\n",
    "#         y_val : 次の形のndarray, shape (n_samples, )\n",
    "#             検証用データの正解値\n",
    "#         \"\"\"\n",
    "#         error = _linear_hypothesis(self, X).T - y #問題２        \n",
    "\n",
    "#         def _gradient_descent(self, X, error): \n",
    "#             theta = theta - lr * (np.dot(error, X))/X.shape[0]\n",
    "#             #アダマール積からの和、もしくは行列積shape(1,2)になったらok\n",
    "#             #問題２\n",
    "        \n",
    "#         if \n",
    "#         for :\n",
    "#             #θの値を更新。損失関数が０になったら打ち切り。最大回数はnum_iter。\n",
    "    \n",
    "        \n",
    "        \n",
    "#         if self.verbose== True:\n",
    "#             #verboseをTrueにした際は学習過程を出力\n",
    "#             print()\n",
    "\n",
    "\n",
    "#     def predict(self, X):\n",
    "#         \"\"\"\n",
    "#         線形回帰を使い推定する。\n",
    "\n",
    "#         Parameters\n",
    "#         ----------\n",
    "#         X : 次の形のndarray, shape (n_samples, n_features)\n",
    "#             サンプル\n",
    "\n",
    "#         Returns\n",
    "#         -------\n",
    "#             次の形のndarray, shape (n_samples, 1)\n",
    "#             線形回帰による推定結果\n",
    "#         \"\"\"\n",
    "\n",
    "#         fit(X)\n",
    "#         return #_linear_hypothesis(self, X)"
   ]
  },
  {
   "cell_type": "markdown",
   "metadata": {},
   "source": [
    "## 【問題8】（アドバンス課題）バイアス項の除去\n",
    ">バイアス項 \n",
    "θ\n",
    "0\n",
    " を抜くと学習がどう変化するか検証してください。また、線形回帰モデルにおけるバイアス項の役割の考察・調査を行ってください。"
   ]
  },
  {
   "cell_type": "code",
   "execution_count": null,
   "metadata": {},
   "outputs": [],
   "source": []
  },
  {
   "cell_type": "markdown",
   "metadata": {},
   "source": [
    "## 【問題9】（アドバンス課題）特徴量の多次元化\n",
    ">特徴量の二乗や三乗を入力に利用すると学習結果がどう変化するか検証してください。"
   ]
  },
  {
   "cell_type": "code",
   "execution_count": null,
   "metadata": {},
   "outputs": [],
   "source": []
  },
  {
   "cell_type": "markdown",
   "metadata": {},
   "source": [
    "## 【問題10】（アドバンス課題）更新式の導出\n",
    ">最急降下法の更新式が導出される過程を説明してください。"
   ]
  },
  {
   "cell_type": "code",
   "execution_count": null,
   "metadata": {},
   "outputs": [],
   "source": [
    "theta = theta - MSE(#偏微分)\n"
   ]
  },
  {
   "cell_type": "code",
   "execution_count": 18,
   "metadata": {},
   "outputs": [],
   "source": [
    "# def calc_gradient(f, X):\n",
    "#     \"\"\"\n",
    "#     calc_gradient\n",
    "#     偏微分を行う関数\n",
    "#     関数fを変数xの各要素で偏微分した結果をベクトルにした勾配を返す\n",
    "    \n",
    "#     @params\n",
    "#     f: 対象となる関数\n",
    "#     X: 関数fの引数のベクトル(numpy.array)\n",
    "    \n",
    "#     @return\n",
    "#     gradient: 勾配(numpy.array)\n",
    "#     \"\"\"\n",
    "    \n",
    "#     h = 1e-4\n",
    "#     gradient = np.zeros_like(X)\n",
    "    \n",
    "#     # 各変数についての偏微分を計算する\n",
    "#     for i in range(X.size):\n",
    "#         store_X = X[:]\n",
    "        \n",
    "#         # f(x+h)\n",
    "#         X[i] += h\n",
    "#         f_x_plus_h = f(X)\n",
    "\n",
    "#         X = store_X[:]\n",
    "        \n",
    "#         # f(x-h)\n",
    "#         X[i] -= h\n",
    "#         f_x_minus_h = f(X)\n",
    "        \n",
    "#         # 偏微分\n",
    "#         gradient[i] = (f_x_plus_h - f_x_minus_h) / (2 * h)\n",
    "        \n",
    "#     return gradient"
   ]
  },
  {
   "cell_type": "code",
   "execution_count": null,
   "metadata": {},
   "outputs": [],
   "source": [
    "# def gradient_descent(f, X, learning_rate, max_iter):\n",
    "#     \"\"\"\n",
    "#     gradient_descent\n",
    "#     最急降下法を行う関数\n",
    "    \n",
    "#     @params\n",
    "#     f: 対象となる関数\n",
    "#     X: 関数fの引数のベクトル(numpy.array)\n",
    "#     learning_rate: 学習率\n",
    "#     max_iter: 繰り返し回数\n",
    "    \n",
    "#     @return\n",
    "#     X: 関数の出力を最小にする(であろう)引数(numpy.array)\n",
    "#     \"\"\"\n",
    "    \n",
    "#     for i in range(max_iter):\n",
    "#         X -= (learning_rate * calc_gradient(f, X))\n",
    "#         print(\"[{:3d}] X = {}, f(X) = {:.7f}\".format(i, X, f(X)))\n",
    "        \n",
    "#     return X"
   ]
  },
  {
   "cell_type": "markdown",
   "metadata": {},
   "source": [
    "## 【問題11】（アドバンス課題）局所最適解の問題\n",
    ">最急降下法には一般的に局所最適解の問題があります。しかし、線形回帰では学習を続ければ必ず最適解を求めることができます。それはなぜか数式やグラフを用いて説明してください。"
   ]
  },
  {
   "cell_type": "code",
   "execution_count": null,
   "metadata": {},
   "outputs": [],
   "source": []
  }
 ],
 "metadata": {
  "kernelspec": {
   "display_name": "Python 3",
   "language": "python",
   "name": "python3"
  },
  "language_info": {
   "codemirror_mode": {
    "name": "ipython",
    "version": 3
   },
   "file_extension": ".py",
   "mimetype": "text/x-python",
   "name": "python",
   "nbconvert_exporter": "python",
   "pygments_lexer": "ipython3",
   "version": "3.7.3"
  }
 },
 "nbformat": 4,
 "nbformat_minor": 2
}
