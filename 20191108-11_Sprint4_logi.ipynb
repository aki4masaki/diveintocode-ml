{
 "cells": [
  {
   "cell_type": "markdown",
   "metadata": {},
   "source": [
    "# Sprint4 ロジスティック回帰"
   ]
  },
  {
   "cell_type": "code",
   "execution_count": 18,
   "metadata": {},
   "outputs": [],
   "source": [
    "import numpy as np\n",
    "import pandas as pd\n",
    "import math\n",
    "import copy\n",
    "import matplotlib.pyplot as plt\n",
    "import seaborn as sns\n",
    "from sklearn.model_selection import train_test_split\n",
    "from sklearn.metrics import accuracy_score\n",
    "sns.set()\n",
    "%matplotlib inline"
   ]
  },
  {
   "cell_type": "code",
   "execution_count": 189,
   "metadata": {},
   "outputs": [],
   "source": [
    "from sklearn.metrics import accuracy_score\n",
    "from sklearn.metrics import precision_score\n",
    "from sklearn.metrics import recall_score\n",
    "from sklearn.metrics import f1_score\n",
    "from sklearn.metrics import confusion_matrix\n",
    "\n",
    "def scores(y_test,y_pred):\n",
    "    print(accuracy_score(y_test,y_pred))\n",
    "    print(confusion_matrix(y_test,y_pred))"
   ]
  },
  {
   "cell_type": "code",
   "execution_count": 717,
   "metadata": {},
   "outputs": [],
   "source": [
    "# iris data set\n",
    "from sklearn.datasets import load_iris\n",
    "iris = load_iris()\n",
    "#print(iris)\n",
    "\n",
    "X_df = pd.DataFrame(iris.data,columns=iris.feature_names)\n",
    "\n",
    "y_df = pd.DataFrame(iris.target,columns={'Species'})\n",
    "df = pd.concat([X_df, y_df], axis=1)\n",
    "\n",
    "#'virgicolor,'virginica'だけ抜き出す\n",
    "aaa = df.query('Species == [1, 2]')\n",
    "# print(aaa.head(3))\n",
    "# aaa[aaa['Species']==1]= 'virgicolor' #名前 を 0,1,2 から setosa,virgicolor,virginica に変更\n",
    "# aaa[aaa['Species']==2]= 'virginica'\n",
    "\n",
    "X = aaa.drop('Species',axis=1).iloc[:, :2].values  #4つ突っ込んでも大丈夫\n",
    "X_new_df = pd.DataFrame(X,columns=iris.feature_names[:2])\n",
    "# print(X_new_df)\n",
    "y = aaa.loc[:,['Species']].values - 1 #1,2 ->0,1\n",
    "y_new_df = pd.DataFrame(y,columns={'Species'})\n",
    "y_new_df[y_new_df['Species']==0]= 'virgicolor' #名前 を 0,1,2 から setosa,virgicolor,virginica に変更\n",
    "y_new_df[y_new_df['Species']==1]= 'virginica'\n",
    "# print(y_new_df)"
   ]
  },
  {
   "cell_type": "code",
   "execution_count": 718,
   "metadata": {},
   "outputs": [],
   "source": [
    "X_train, X_test, y_train, y_test = train_test_split(X,y, test_size=0.25,\n",
    "                                                   stratify=y)"
   ]
  },
  {
   "cell_type": "code",
   "execution_count": 719,
   "metadata": {},
   "outputs": [],
   "source": [
    "# def MSE(y_pred, y):\n",
    "#     error_mse = y_pred - y   \n",
    "#     mse = np.sum(error_mse **2) /len(y)\n",
    "#     return mse #Sprint3,問題４\n",
    "#これに変わる目的関数を問題４で作成\n",
    "\n",
    "class ScratchLogisticRegression():\n",
    "    \"\"\"\n",
    "    ロジスティック回帰のスクラッチ実装\n",
    "\n",
    "    Parameters\n",
    "    ----------\n",
    "    num_iter : int\n",
    "      イテレーション数\n",
    "    lr : float\n",
    "      学習率\n",
    "    no_bias : bool\n",
    "      バイアス項を入れない場合はTrue\n",
    "    verbose : bool\n",
    "      学習過程を出力する場合はTrue\n",
    "\n",
    "    Attributes\n",
    "    ----------\n",
    "    self.coef_ : 次の形のndarray, shape (n_features,) #thetaのこと\n",
    "      パラメータ\n",
    "    self.loss : 次の形のndarray, shape (self.iter,)\n",
    "      学習用データに対する損失の記録\n",
    "    self.val_loss : 次の形のndarray, shape (self.iter,)\n",
    "      検証用データに対する損失の記録\n",
    "\n",
    "    \"\"\"\n",
    "\n",
    "    def __init__(self, num_iter=500000, lr=0.001, \n",
    "                 lam = 5,\n",
    "                 bias=True, verbose=True):\n",
    "        # ハイパーパラメータを属性として記録\n",
    "        self.iter = num_iter\n",
    "        self.lr = lr\n",
    "        self.bias = bias\n",
    "        self.verbose = verbose\n",
    "        # 損失を記録する配列を用意\n",
    "        self.loss = np.zeros(self.iter)\n",
    "        self.val_loss = np.zeros(self.iter)\n",
    "        self.theta = None\n",
    "        self.lam = lam #ラムダを追加\n",
    "    \n",
    "    #問題1\n",
    "    def _linear_hypothesis(self, X):\n",
    "        return np.dot(self.theta, X.T).reshape(len(X),1)\n",
    "\n",
    "    def _logistic_hypothesis(self, X):\n",
    "        lh = self._linear_hypothesis(X)\n",
    "        sigmoid = 1/ (1+ np.exp(-lh)) #ネイピア数\n",
    "        return sigmoid    \n",
    "    #問題1\n",
    "    \n",
    "    #問題２\n",
    "    def _gradient_descent(self, X, error):\n",
    "        self.theta[0]= self.theta[0] - self.lr* (np.mean(error*X , axis = 0)) \n",
    "        self.theta[1:]= self.theta[1:]- self.lr* ((np.mean(error*X , axis = 0)) + self.lam / X.shape[0] * self.theta[1:])\n",
    "    #問題２\n",
    "    #改行ミスでエラー\n",
    "    \n",
    "    def _Loss(self, y_proba,y):  \n",
    "        theta = np.delete(self.theta, 0) #切片を落とす\n",
    "        loss = (np.sum(- y* np.log(y_proba)-(1-y)* np.log(1- y_proba))/y_proba.shape[0]) + np.sum(theta**2) *self.lam /(2*y_proba.shape[0])\n",
    "        return loss    \n",
    "\n",
    "    def fit(self, X, y, X_val=None, y_val=None):\n",
    "        \"\"\"\n",
    "        ロジスティック回帰を学習する。検証用データが入力された場合はそれに対する損失と精度もイテレーションごとに計算する。\n",
    "\n",
    "        Parameters\n",
    "        ----------\n",
    "        X : 次の形のndarray, shape (n_samples, n_features)\n",
    "            学習用データの特徴量\n",
    "        y : 次の形のndarray, shape (n_samples, )\n",
    "            学習用データの正解値\n",
    "        X_val : 次の形のndarray, shape (n_samples, n_features)\n",
    "            検証用データの特徴量\n",
    "        y_val : 次の形のndarray, shape (n_samples, )\n",
    "            検証用データの正解値\n",
    "        \"\"\"\n",
    "        if self.bias:\n",
    "            X = np.insert(X,0,1,axis=1) #一行目に１のみのx0を追加         \n",
    "            if X_val is not None:\n",
    "                X_val = np.insert(X_val,0,1,axis=1)\n",
    "        \n",
    "        np.random.seed(seed=9)\n",
    "        self.theta = np.random.rand(1,X.shape[1]) #theta 初期値   \n",
    "        \n",
    "        for i in range(self.iter):                \n",
    "            error = self._logistic_hypothesis(X) - y\n",
    "            self._gradient_descent(X, error)\n",
    "            y_proba = self._logistic_hypothesis(X)\n",
    "            loss = self._Loss(y_proba, y)\n",
    "            self.loss[i] =loss #問題4\n",
    "            \n",
    "            if X_val is not None:\n",
    "                y_val_proba = self._logistic_hypothesis(X_val)\n",
    "                loss_val = self._Loss(y_val_proba, y_val)\n",
    "                self.val_loss[i] = loss_val #問題4　#X_val=None, y_val=None\n",
    "        \n",
    "        if self.verbose == True:\n",
    "            #verboseをTrueにした際は学習過程を出力\n",
    "            print(self.loss)\n",
    "            if y_val is not None:\n",
    "                print(self.val_loss)\n",
    "\n",
    "\n",
    "    def predict(self, X):\n",
    "        \"\"\"\n",
    "        ロジスティック回帰を使いラベルを推定する。\n",
    "\n",
    "        Parameters\n",
    "        ----------\n",
    "        X : 次の形のndarray, shape (n_samples, n_features)\n",
    "            サンプル\n",
    "\n",
    "        Returns\n",
    "        -------\n",
    "            次の形のndarray, shape (n_samples, 1)\n",
    "            ロジスティック回帰による推定結果\n",
    "        \"\"\"\n",
    "        y_proba= self.predict_proba(X)   \n",
    "        #0.5の上下で0,1(どちらに分類されるか)\n",
    "        y_pred = np.where(y_proba < 0.5, 0, 1)\n",
    "        return y_pred\n",
    "\n",
    "    def predict_proba(self, X):\n",
    "        \"\"\"\n",
    "        ロジスティック回帰を使い確率を推定する。\n",
    "\n",
    "        Parameters\n",
    "        ----------\n",
    "        X : 次の形のndarray, shape (n_samples, n_features)\n",
    "            サンプル\n",
    "\n",
    "        Returns\n",
    "        -------\n",
    "            次の形のndarray, shape (n_samples, 1)\n",
    "            ロジスティック回帰による推定結果\n",
    "        \"\"\"\n",
    "        if self.bias:\n",
    "            X = np.insert(X,0,1,axis=1) #一行目に１のみのx0を追加\n",
    "            \n",
    "        y_proba = self._logistic_hypothesis(X)        \n",
    "        return y_proba"
   ]
  },
  {
   "cell_type": "code",
   "execution_count": 720,
   "metadata": {},
   "outputs": [
    {
     "name": "stdout",
     "output_type": "stream",
     "text": [
      "[2.22757115 2.21667283 2.20578623 ... 0.60593039 0.60593036 0.60593034]\n",
      "[2.14403978 2.13342124 2.12281599 ... 0.81125417 0.81125438 0.81125458]\n"
     ]
    }
   ],
   "source": [
    "#問題３,6\n",
    "slr = ScratchLogisticRegression()\n",
    "slr.fit(X_train,y_train,X_val=X_test, y_val=y_test)"
   ]
  },
  {
   "cell_type": "code",
   "execution_count": 721,
   "metadata": {},
   "outputs": [
    {
     "data": {
      "text/plain": [
       "array([[0],\n",
       "       [0],\n",
       "       [1],\n",
       "       [0],\n",
       "       [0],\n",
       "       [1],\n",
       "       [0],\n",
       "       [0],\n",
       "       [1],\n",
       "       [1],\n",
       "       [0],\n",
       "       [0],\n",
       "       [1],\n",
       "       [1],\n",
       "       [0],\n",
       "       [1],\n",
       "       [0],\n",
       "       [1],\n",
       "       [0],\n",
       "       [0],\n",
       "       [0],\n",
       "       [0],\n",
       "       [1],\n",
       "       [1],\n",
       "       [1]])"
      ]
     },
     "execution_count": 721,
     "metadata": {},
     "output_type": "execute_result"
    }
   ],
   "source": [
    "slr.predict(X_test)"
   ]
  },
  {
   "cell_type": "code",
   "execution_count": 696,
   "metadata": {},
   "outputs": [
    {
     "name": "stderr",
     "output_type": "stream",
     "text": [
      "/Users/akishimasaki/.pyenv/versions/anaconda3-2019.03/lib/python3.7/site-packages/sklearn/utils/validation.py:761: DataConversionWarning: A column-vector y was passed when a 1d array was expected. Please change the shape of y to (n_samples, ), for example using ravel().\n",
      "  y = column_or_1d(y, warn=True)\n"
     ]
    },
    {
     "data": {
      "text/plain": [
       "LogisticRegression(C=1.0, class_weight=None, dual=False, fit_intercept=True,\n",
       "          intercept_scaling=1, max_iter=100, multi_class='multinomial',\n",
       "          n_jobs=None, penalty='l2', random_state=0, solver='lbfgs',\n",
       "          tol=0.0001, verbose=0, warm_start=False)"
      ]
     },
     "execution_count": 696,
     "metadata": {},
     "output_type": "execute_result"
    }
   ],
   "source": [
    "from sklearn.linear_model import LogisticRegression\n",
    "clf = LogisticRegression(random_state = 0, solver='lbfgs',\n",
    "                        multi_class = 'multinomial')\n",
    "clf.fit(X_train,y_train)"
   ]
  },
  {
   "cell_type": "code",
   "execution_count": 697,
   "metadata": {},
   "outputs": [
    {
     "data": {
      "text/plain": [
       "0.76"
      ]
     },
     "execution_count": 697,
     "metadata": {},
     "output_type": "execute_result"
    }
   ],
   "source": [
    "y_pred_sk = clf.predict(X_test)\n",
    "y_proba_sk = clf.predict_proba(X_test)\n",
    "accuracy_score(y_test, y_pred_sk)"
   ]
  },
  {
   "cell_type": "code",
   "execution_count": 698,
   "metadata": {},
   "outputs": [
    {
     "data": {
      "text/plain": [
       "array([[-6.27215273,  1.14117767, -0.2543825 ]])"
      ]
     },
     "execution_count": 698,
     "metadata": {},
     "output_type": "execute_result"
    }
   ],
   "source": [
    "slr.theta"
   ]
  },
  {
   "cell_type": "code",
   "execution_count": 722,
   "metadata": {},
   "outputs": [
    {
     "name": "stdout",
     "output_type": "stream",
     "text": [
      "0.52\n",
      "[[ 0 12]\n",
      " [ 0 13]]\n"
     ]
    },
    {
     "data": {
      "image/png": "[encoded data removed]",
      "text/plain": [
       "<Figure size 432x288 with 1 Axes>"
      ]
     },
     "metadata": {
      "needs_background": "light"
     },
     "output_type": "display_data"
    }
   ],
   "source": [
    "#問題７\n",
    "plt.plot(slr.loss,label='slr.loss', color = 'blue')\n",
    "plt.plot(slr.val_loss,label='slr.val_loss', color = 'orange')\n",
    "plt.grid(True)                                 # グリッド線を表示\n",
    "plt.legend()\n",
    "\n",
    "\n",
    "scores(y_test, y_pred)\n",
    "#accuracy　０.５に近いと微妙\n",
    "\n",
    "#初期値変えて(乱数のnpの seed値を変えてみる)　->変化なし"
   ]
  },
  {
   "cell_type": "code",
   "execution_count": 709,
   "metadata": {},
   "outputs": [
    {
     "data": {
      "text/plain": [
       "(75, 1)"
      ]
     },
     "execution_count": 709,
     "metadata": {},
     "output_type": "execute_result"
    }
   ],
   "source": [
    "y_train.shape"
   ]
  },
  {
   "cell_type": "code",
   "execution_count": 723,
   "metadata": {},
   "outputs": [],
   "source": [
    "# y_train"
   ]
  },
  {
   "cell_type": "raw",
   "metadata": {},
   "source": []
  },
  {
   "cell_type": "code",
   "execution_count": 711,
   "metadata": {},
   "outputs": [],
   "source": [
    "#問題８\n",
    "import matplotlib.pyplot as plt\n",
    "from matplotlib.colors import ListedColormap\n",
    "import matplotlib.patches as mpatches\n",
    "\n",
    "def decision_region(X, y, model, step=0.01, title='decision region', xlabel='xlabel', ylabel='ylabel', target_names=['versicolor', 'virginica']):\n",
    "    \"\"\"\n",
    "    2値分類を2次元の特徴量で学習したモデルの決定領域を描く。\n",
    "    背景の色が学習したモデルによる推定値から描画される。\n",
    "    散布図の点は訓練データまたは検証データである。\n",
    "\n",
    "    Parameters\n",
    "    ----------------\n",
    "    X : ndarray, shape(n_samples, 2)\n",
    "        特徴量\n",
    "    y : ndarray, shape(n_samples,)\n",
    "        ラベル\n",
    "    model : object\n",
    "        学習したモデルのインスンタスを入れる\n",
    "    step : float, (default : 0.1)\n",
    "        推定値を計算する間隔を設定する\n",
    "    title : str\n",
    "        グラフのタイトルの文章を与える\n",
    "    xlabel, ylabel : str\n",
    "        軸ラベルの文章を与える\n",
    "    target_names= : list of str\n",
    "        凡例の一覧を与える\n",
    "    \"\"\"\n",
    "    # setting\n",
    "    scatter_color = ['red', 'blue']\n",
    "    contourf_color = ['pink', 'skyblue']\n",
    "    n_class = 2\n",
    "\n",
    "    # pred\n",
    "    mesh_f0, mesh_f1  = np.meshgrid(np.arange(np.min(X[:,0])-0.5, np.max(X[:,0])+0.5, step), np.arange(np.min(X[:,1])-0.5, np.max(X[:,1])+0.5, step))\n",
    "    mesh = np.c_[np.ravel(mesh_f0),np.ravel(mesh_f1)]\n",
    "    y_pred = model.predict(mesh).reshape(mesh_f0.shape)\n",
    "\n",
    "    # plot\n",
    "    plt.title(title)\n",
    "    plt.xlabel(xlabel)\n",
    "    plt.ylabel(ylabel)\n",
    "    plt.contourf(mesh_f0, mesh_f1, y_pred, n_class-1, cmap=ListedColormap(contourf_color))\n",
    "    plt.contour(mesh_f0, mesh_f1, y_pred, n_class-1, colors='y', linewidths=3, alpha=0.5)\n",
    "    for i, target in enumerate(set(y)):\n",
    "        plt.scatter(X[y==target][:, 0], X[y==target][:, 1], s=80, color=scatter_color[i], label=target_names[i], marker='o')\n",
    "    patches = [mpatches.Patch(color=scatter_color[i], label=target_names[i]) for i in range(n_class)]\n",
    "    plt.legend(handles=patches)\n",
    "    plt.legend()\n",
    "    plt.show()"
   ]
  },
  {
   "cell_type": "code",
   "execution_count": 724,
   "metadata": {
    "scrolled": true
   },
   "outputs": [
    {
     "data": {
      "image/png": "[encoded data removed]",
      "text/plain": [
       "<Figure size 432x288 with 1 Axes>"
      ]
     },
     "metadata": {
      "needs_background": "light"
     },
     "output_type": "display_data"
    }
   ],
   "source": [
    "decision_region(X_train, y_train.ravel(), slr, step=0.01, title='decision region', xlabel='xlabel', ylabel='ylabel', target_names=['versicolor', 'virginica'])"
   ]
  },
  {
   "cell_type": "code",
   "execution_count": 627,
   "metadata": {},
   "outputs": [],
   "source": [
    "# x_array = np.insert(X,0,1,axis=1) #一行目に１のみのx0を追加\n",
    "# theta = np.random.rand(1,x_array.shape[1]) #theta 初期値   \n",
    "# the0 = np.delete(theta, 0)\n",
    "# print(theta)\n",
    "# print(the0)\n",
    "# print(x_array)\n",
    "\n",
    "# X_t_test = np.insert(X_test,0,1,axis=1)\n",
    "# # x_array = np.insert(X_train,0,1,axis=1) #一行目に１のみのx0を追加\n",
    "# y_pred = slr._linear_hypothesis(X_t_test)\n",
    "# # print(X_t_test.shape)\n",
    "# # print(y_pred.shape)\n",
    "\n",
    "# def _linear_hypothesis(X):\n",
    "#     return np.dot(theta, X.T).reshape(len(X),1)\n",
    "    \n",
    "# def _logistic_hypothesis(X):\n",
    "#     lh = _linear_hypothesis(X)\n",
    "#     sigmoid = 1/ (1+ np.exp(-lh)) #ネイピア数\n",
    "#     return sigmoid    \n",
    "#     #問題1\n",
    "    \n",
    "# li_a = _linear_hypothesis(x_array)\n",
    "# y_proba = _logistic_hypothesis(x_array)\n",
    "# print(li_a)\n",
    "# print(y_proba)\n",
    "\n",
    "# # \n",
    "\n",
    "# y_pred = _logistic_hypothesis(X_t_test)\n",
    "# print(y_pred)\n",
    "\n",
    "# print(np.log(y_pred))\n",
    "# print(-(y_test* np.log(y_pred))-((1-y_test)* np.log(1- y_pred)))\n",
    "# print(np.sum(- y_test* np.log(y_pred)-(1-y_test)* np.log(1- y_pred)))\n",
    "# print(- y_test* np.log(y_pred)-(1-y_test)* np.log(1- y_pred))\n"
   ]
  },
  {
   "cell_type": "markdown",
   "metadata": {},
   "source": [
    "## 【問題1】仮定関数"
   ]
  },
  {
   "cell_type": "code",
   "execution_count": 74,
   "metadata": {},
   "outputs": [
    {
     "ename": "NameError",
     "evalue": "name 'self' is not defined",
     "output_type": "error",
     "traceback": [
      "\u001b[0;31m---------------------------------------------------------------------------\u001b[0m",
      "\u001b[0;31mNameError\u001b[0m                                 Traceback (most recent call last)",
      "\u001b[0;32m<ipython-input-74-3d0be566ebc4>\u001b[0m in \u001b[0;36m<module>\u001b[0;34m\u001b[0m\n\u001b[1;32m      1\u001b[0m \u001b[0mx_array\u001b[0m \u001b[0;34m=\u001b[0m \u001b[0mnp\u001b[0m\u001b[0;34m.\u001b[0m\u001b[0minsert\u001b[0m\u001b[0;34m(\u001b[0m\u001b[0mX\u001b[0m\u001b[0;34m,\u001b[0m\u001b[0;36m0\u001b[0m\u001b[0;34m,\u001b[0m\u001b[0;36m1\u001b[0m\u001b[0;34m,\u001b[0m\u001b[0maxis\u001b[0m\u001b[0;34m=\u001b[0m\u001b[0;36m1\u001b[0m\u001b[0;34m)\u001b[0m \u001b[0;31m#一行目に１のみのx0を追加\u001b[0m\u001b[0;34m\u001b[0m\u001b[0;34m\u001b[0m\u001b[0m\n\u001b[0;32m----> 2\u001b[0;31m \u001b[0mself\u001b[0m\u001b[0;34m.\u001b[0m\u001b[0mtheta\u001b[0m \u001b[0;34m=\u001b[0m \u001b[0mnp\u001b[0m\u001b[0;34m.\u001b[0m\u001b[0mrandom\u001b[0m\u001b[0;34m.\u001b[0m\u001b[0mrand\u001b[0m\u001b[0;34m(\u001b[0m\u001b[0;36m1\u001b[0m\u001b[0;34m,\u001b[0m\u001b[0mx_array\u001b[0m\u001b[0;34m.\u001b[0m\u001b[0mshape\u001b[0m\u001b[0;34m[\u001b[0m\u001b[0;36m1\u001b[0m\u001b[0;34m]\u001b[0m\u001b[0;34m)\u001b[0m \u001b[0;31m#theta 初期値\u001b[0m\u001b[0;34m\u001b[0m\u001b[0;34m\u001b[0m\u001b[0m\n\u001b[0m\u001b[1;32m      3\u001b[0m \u001b[0;34m\u001b[0m\u001b[0m\n\u001b[1;32m      4\u001b[0m \u001b[0;32mdef\u001b[0m \u001b[0m_linear_hypothesis\u001b[0m\u001b[0;34m(\u001b[0m\u001b[0mself\u001b[0m\u001b[0;34m,\u001b[0m\u001b[0mX\u001b[0m\u001b[0;34m)\u001b[0m\u001b[0;34m:\u001b[0m\u001b[0;34m\u001b[0m\u001b[0;34m\u001b[0m\u001b[0m\n\u001b[1;32m      5\u001b[0m        \u001b[0;32mreturn\u001b[0m \u001b[0mnp\u001b[0m\u001b[0;34m.\u001b[0m\u001b[0mdot\u001b[0m\u001b[0;34m(\u001b[0m\u001b[0mself\u001b[0m\u001b[0;34m.\u001b[0m\u001b[0mtheta\u001b[0m\u001b[0;34m,\u001b[0m \u001b[0mX\u001b[0m\u001b[0;34m.\u001b[0m\u001b[0mT\u001b[0m\u001b[0;34m)\u001b[0m\u001b[0;34m.\u001b[0m\u001b[0mreshape\u001b[0m\u001b[0;34m(\u001b[0m\u001b[0mlen\u001b[0m\u001b[0;34m(\u001b[0m\u001b[0mX\u001b[0m\u001b[0;34m)\u001b[0m\u001b[0;34m,\u001b[0m\u001b[0;36m1\u001b[0m\u001b[0;34m)\u001b[0m\u001b[0;34m\u001b[0m\u001b[0;34m\u001b[0m\u001b[0m\n",
      "\u001b[0;31mNameError\u001b[0m: name 'self' is not defined"
     ]
    }
   ],
   "source": [
    " x_array = np.insert(X,0,1,axis=1) #一行目に１のみのx0を追加\n",
    "self.theta = np.random.rand(1,x_array.shape[1]) #theta 初期値   \n",
    "\n",
    "def _linear_hypothesis(self,X):\n",
    "        return np.dot(self.theta, X.T).reshape(len(X),1)\n",
    "    \n",
    "def _logistic_hypothesis(self, X):\n",
    "    e = math.e #ネイピア数\n",
    "    sigmoid = 1/ (1+ 1/e**(self._linear_hypothesis(X)))\n",
    "    return sigmoid    "
   ]
  },
  {
   "cell_type": "markdown",
   "metadata": {},
   "source": [
    "## 【問題2】最急降下法"
   ]
  },
  {
   "cell_type": "code",
   "execution_count": 75,
   "metadata": {},
   "outputs": [],
   "source": [
    "#試作１\n",
    "def _gradient_descent(self, X, error): \n",
    "#         print(self.theta.shape)\n",
    "        j_part = self.theta - self.lr* np.sum(error*X , axis = 0)/X.shape[0] \n",
    "        #切片       \n",
    "#         print(self.theta)\n",
    "        self.theta = j_part + (self.lam / X.shape[0] * self.theta) #問題２\n",
    "        self.theta[0,0]=j_part #theta0の時変わらないようにして。    \n",
    "#         print(self.theta)"
   ]
  },
  {
   "cell_type": "code",
   "execution_count": 76,
   "metadata": {},
   "outputs": [],
   "source": [
    "#試作２\n",
    "def _gradient_descent(self, X, error): \n",
    "#         print(self.theta.shape)\n",
    "        theta_zero = self.theta - np.sum(error*X , axis = 0)/X.shape[0] #切片\n",
    "        self.theta = self.theta - self.lr*((np.sum(error*X , axis = 0)\n",
    "                              /X.shape[0])+(coef_/X.shape[0]*theta))#問題２\n",
    "#         print(self.theta)\n",
    "        self.theta[0,0] = theta_zero[0,0] #切片をx０部分に代入\n",
    "#         print(self.theta)"
   ]
  },
  {
   "cell_type": "markdown",
   "metadata": {},
   "source": [
    "## 【問題4】目的関数"
   ]
  },
  {
   "cell_type": "code",
   "execution_count": 71,
   "metadata": {},
   "outputs": [
    {
     "name": "stderr",
     "output_type": "stream",
     "text": [
      "/Users/akishimasaki/.pyenv/versions/anaconda3-2019.03/lib/python3.7/site-packages/ipykernel_launcher.py:4: RuntimeWarning: divide by zero encountered in log\n",
      "  after removing the cwd from sys.path.\n",
      "/Users/akishimasaki/.pyenv/versions/anaconda3-2019.03/lib/python3.7/site-packages/ipykernel_launcher.py:4: RuntimeWarning: invalid value encountered in multiply\n",
      "  after removing the cwd from sys.path.\n"
     ]
    },
    {
     "ename": "NameError",
     "evalue": "name 'theta' is not defined",
     "output_type": "error",
     "traceback": [
      "\u001b[0;31m---------------------------------------------------------------------------\u001b[0m",
      "\u001b[0;31mNameError\u001b[0m                                 Traceback (most recent call last)",
      "\u001b[0;32m<ipython-input-71-3c899b32edf2>\u001b[0m in \u001b[0;36m<module>\u001b[0;34m\u001b[0m\n\u001b[1;32m      7\u001b[0m     \u001b[0;32mreturn\u001b[0m \u001b[0mloss\u001b[0m\u001b[0;34m\u001b[0m\u001b[0;34m\u001b[0m\u001b[0m\n\u001b[1;32m      8\u001b[0m \u001b[0;34m\u001b[0m\u001b[0m\n\u001b[0;32m----> 9\u001b[0;31m \u001b[0m_Loss\u001b[0m\u001b[0;34m(\u001b[0m\u001b[0my_pred\u001b[0m\u001b[0;34m,\u001b[0m\u001b[0my_test\u001b[0m\u001b[0;34m)\u001b[0m\u001b[0;34m\u001b[0m\u001b[0;34m\u001b[0m\u001b[0m\n\u001b[0m",
      "\u001b[0;32m<ipython-input-71-3c899b32edf2>\u001b[0m in \u001b[0;36m_Loss\u001b[0;34m(y_proba, y)\u001b[0m\n\u001b[1;32m      3\u001b[0m \u001b[0;34m\u001b[0m\u001b[0m\n\u001b[1;32m      4\u001b[0m     loss = (np.sum(- y* np.log(y_proba)-(1-y)* np.log(1- y_proba))\n\u001b[0;32m----> 5\u001b[0;31m             /y_proba.shape[0]) + (np.sum(theta**2) *lam /(2*y_proba.shape[0]))\n\u001b[0m\u001b[1;32m      6\u001b[0m \u001b[0;34m\u001b[0m\u001b[0m\n\u001b[1;32m      7\u001b[0m     \u001b[0;32mreturn\u001b[0m \u001b[0mloss\u001b[0m\u001b[0;34m\u001b[0m\u001b[0;34m\u001b[0m\u001b[0m\n",
      "\u001b[0;31mNameError\u001b[0m: name 'theta' is not defined"
     ]
    }
   ],
   "source": [
    "lam = 10\n",
    "def _Loss(y_proba,y):\n",
    "    \n",
    "    loss = (np.sum(- y* np.log(y_proba)-(1-y)* np.log(1- y_proba))\n",
    "            /y_proba.shape[0]) + (np.sum(theta**2) *lam /(2*y_proba.shape[0]))\n",
    "          \n",
    "    return loss\n",
    "\n",
    "_Loss(y_pred,y_test)"
   ]
  },
  {
   "cell_type": "code",
   "execution_count": null,
   "metadata": {},
   "outputs": [],
   "source": []
  }
 ],
 "metadata": {
  "kernelspec": {
   "display_name": "Python 3",
   "language": "python",
   "name": "python3"
  },
  "language_info": {
   "codemirror_mode": {
    "name": "ipython",
    "version": 3
   },
   "file_extension": ".py",
   "mimetype": "text/x-python",
   "name": "python",
   "nbconvert_exporter": "python",
   "pygments_lexer": "ipython3",
   "version": "3.7.3"
  }
 },
 "nbformat": 4,
 "nbformat_minor": 2
}
