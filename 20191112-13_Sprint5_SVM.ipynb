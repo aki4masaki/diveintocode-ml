{
 "cells": [
  {
   "cell_type": "code",
   "execution_count": 514,
   "metadata": {},
   "outputs": [],
   "source": [
    "import numpy as np\n",
    "import pandas as pd\n",
    "import matplotlib.pyplot as plt\n",
    "import seaborn as sns\n",
    "from sklearn.model_selection import train_test_split\n",
    "sns.set()\n",
    "%matplotlib inline\n",
    "import time"
   ]
  },
  {
   "cell_type": "code",
   "execution_count": 420,
   "metadata": {},
   "outputs": [],
   "source": [
    "from sklearn.metrics import accuracy_score\n",
    "from sklearn.metrics import precision_score\n",
    "from sklearn.metrics import recall_score\n",
    "from sklearn.metrics import f1_score\n",
    "from sklearn.metrics import confusion_matrix\n",
    "\n",
    "def scores(y_test,y_pred):\n",
    "    print(\"accuracy\",accuracy_score(y_test,y_pred))\n",
    "    print(\"precision\",precision_score(y_test,y_pred))\n",
    "    print(\"recall\",recall_score(y_test,y_pred))\n",
    "    print(\"f1_score\",f1_score(y_test,y_pred))\n",
    "    print(\"conf_matrix\",confusion_matrix(y_test,y_pred))"
   ]
  },
  {
   "cell_type": "code",
   "execution_count": 385,
   "metadata": {},
   "outputs": [
    {
     "data": {
      "text/plain": [
       "'\\nシンプルデータセット1のラベルを1,-1 にするのがコツ(data set 1 はもうなっている)\\n'"
      ]
     },
     "execution_count": 385,
     "metadata": {},
     "output_type": "execute_result"
    }
   ],
   "source": [
    "# data set 1\n",
    "import numpy as np\n",
    "\n",
    "np.random.seed(seed=0)\n",
    "n_samples = 500\n",
    "f0 = [-1, 2]\n",
    "f1 = [2, -1]\n",
    "cov = [[1.0,0.8], [0.8, 1.0]]\n",
    "\n",
    "f0 = np.random.multivariate_normal(f0, cov, int(n_samples/2))\n",
    "f1 = np.random.multivariate_normal(f1, cov, int(n_samples/2))\n",
    "\n",
    "X = np.concatenate((f0, f1))\n",
    "y = np.concatenate((np.ones((int(n_samples/2))),\n",
    "                    np.ones((int(n_samples/2))) *(-1))).astype(np.int)\n",
    "\n",
    "random_index = np.random.permutation(np.arange(n_samples))\n",
    "X = X[random_index]\n",
    "y = y[random_index]\n",
    "'''\n",
    "シンプルデータセット1のラベルを1,-1 にするのがコツ(data set 1 はもうなっている)\n",
    "'''\n",
    "# print(X)"
   ]
  },
  {
   "cell_type": "code",
   "execution_count": 386,
   "metadata": {},
   "outputs": [],
   "source": [
    "X_train, X_test, y_train, y_test = train_test_split(X,y, test_size=0.25,\n",
    "                                                   stratify=y)"
   ]
  },
  {
   "cell_type": "markdown",
   "metadata": {},
   "source": [
    "# 【問題1】SVM分類器のクラスを作成する\n",
    ">SVM分類器のクラスを作成し、Sprint2で作成した分類のパイプラインに組み込んでください。\n",
    "\n",
    ">最終的にはpyファイルにモジュールとしてまとめてください。"
   ]
  },
  {
   "cell_type": "code",
   "execution_count": 506,
   "metadata": {},
   "outputs": [],
   "source": [
    "def karnel(X_i,X_j):\n",
    "    return np.dot(X_i, X_j.T) #shape ->特徴量*特徴量。jはiを転置させたもの\n",
    "\n",
    "# def MSE(y_pred, y):\n",
    "#     error_mse = y_pred - y   \n",
    "#     mse = np.sum(error_mse **2) /len(y)\n",
    "#     return mse #問題４\n",
    "\n",
    "class ScratchSVMClassifier():\n",
    "    \"\"\"\n",
    "    線形回帰のスクラッチ実装\n",
    "\n",
    "    Parameters\n",
    "    ----------\n",
    "    num_iter : int\n",
    "      イテレーション数\n",
    "    lr : float\n",
    "      学習率\n",
    "    no_bias : bool\n",
    "      バイアス項を入れない場合はTrue\n",
    "    verbose : bool\n",
    "      学習過程を出力する場合はTrue\n",
    "    lam:\n",
    "      λ\n",
    "    c : float, optional (default=1.0)\n",
    "        ハードマージンSVMを再現するには、\n",
    "        パラメータCをC=1e10のように非常に大きな値を設定します。\n",
    "        （無限大に向けてCを大きくするほどハードマージンSVMに近づきます）\n",
    "    kernel : string, optional (default=’rbf’)\n",
    "        線形カーネルをscikit-learnで使う場合はkernel=\"linear\"と指定します。\n",
    "        デフォルトではkernel=\"rbf\"になっており、多項式カーネルと呼ばれるものに\n",
    "        なっています。\n",
    "\n",
    "    Attributes\n",
    "    ----------\n",
    "    self.coef_ : 次の形のndarray, shape (n_features,)\n",
    "      パラメータ\n",
    "    self.loss : 次の形のndarray, shape (self.iter,)\n",
    "      学習用データに対する損失の記録\n",
    "    self.val_loss : 次の形のndarray, shape (self.iter,)\n",
    "      検証用データに対する損失の記録\n",
    "\n",
    "    \"\"\"\n",
    "    def __init__(self, num_iter=50000, lr=0.00000000001,cut=0.00000000001,\n",
    "                 bias=True, verbose=True): #自動で走る部分\n",
    "        # ハイパーパラメータを属性として記録　　　　　　　　　　　　　　#初期値をここに入れる\n",
    "        self.iter = num_iter\n",
    "        self.lr = lr\n",
    "        self.bias = bias\n",
    "        self.verbose = verbose\n",
    "        self.cut = cut\n",
    "        # 損失を記録する配列を用意\n",
    "        self.loss = np.zeros(self.iter)\n",
    "        self.val_loss = np.zeros(self.iter)\n",
    "        self.lam = None\n",
    "        self.index_lam=None\n",
    "\n",
    "    def _lag(self, X, y):\n",
    "        return 1 - np.dot(karnel(y,y) * karnel(X,X), self.lam) \n",
    "    #X,yそれぞれ総当たり\n",
    "\n",
    "    def _gradient_ascent(self, X, y): \n",
    "        self.lam = self.lam + self.lr * self._lag(X,y)\n",
    "        \n",
    "    def fit(self, X, y, X_val=None, y_val=None):\n",
    "        \"\"\"\n",
    "        検証用データが入力された場合はそれに対する\n",
    "        損失と精度もイテレーションごとに計算する。\n",
    "\n",
    "        Parameters\n",
    "        ----------\n",
    "        X : 次の形のndarray, shape (n_samples, n_features)\n",
    "            学習用データの特徴量\n",
    "        y : 次の形のndarray, shape (n_samples, )\n",
    "            学習用データの正解値\n",
    "        X_val : 次の形のndarray, shape (n_samples, n_features)\n",
    "            検証用データの特徴量\n",
    "        y_val : 次の形のndarray, shape (n_samples, )\n",
    "            検証用データの正解値\n",
    "        \"\"\"\n",
    "        self.lam = np.random.rand(X.shape[0],1)#lam 初期値\n",
    "        self.y = y\n",
    "        \n",
    "        for i in range(self.iter):    \n",
    "            #lamdaの値を更新。回数はnum_iter。\n",
    "            self._gradient_ascent(X, y)\n",
    "        #lam[lam>0.0001]を使う\n",
    "        self.index_lam = self.lam.ravel() > self.cut #bool True,False 型にする\n",
    "        self.lam = self.lam[self.index_lam]\n",
    "        print(\"lamda\",self.lam)\n",
    "        self.y = y[self.index_lam]\n",
    "        self.sv = X[self.index_lam] #サポートベクトルSn\n",
    "        print(\"sv\",self.sv)\n",
    "        print(\"サポートベクターの数\",len(self.sv))\n",
    "        print(\"y\",self.y)\n",
    "\n",
    "    def predict(self, X):\n",
    "        \"\"\"\n",
    "        self.y, self.lam\n",
    "        \"\"\"\n",
    "        y_pred_raw = np.dot((self.y * karnel(X,self.sv)) , self.lam) #.ravel()\n",
    "        y_pred = np.where(y_pred_raw < 0, -1, 1)\n",
    "        return y_pred"
   ]
  },
  {
   "cell_type": "code",
   "execution_count": 518,
   "metadata": {
    "scrolled": false
   },
   "outputs": [
    {
     "name": "stdout",
     "output_type": "stream",
     "text": [
      "lamda [[0.97709319]\n",
      " [0.976285  ]\n",
      " [0.99491026]\n",
      " [0.99883686]\n",
      " [0.98007094]\n",
      " [0.96245496]\n",
      " [0.99957382]]\n",
      "sv [[ 0.57073283 -2.59280286]\n",
      " [ 1.45353052 -1.8874469 ]\n",
      " [ 1.04672524 -1.99899308]\n",
      " [-1.79135526  1.24591256]\n",
      " [ 1.03842491 -0.88881567]\n",
      " [-0.66470755  2.39496564]\n",
      " [ 0.18630263 -3.00771309]]\n",
      "サポートベクターの数 7\n",
      "y [-1 -1 -1  1 -1  1 -1]\n",
      "time:9.647781133651733s\n"
     ]
    }
   ],
   "source": [
    "SVMC = ScratchSVMClassifier(num_iter=50000,lr=0.00000000001,cut=0.96)\n",
    "t0=time.time() #問題5\n",
    "SVMC.fit(X_train,y_train)\n",
    "t1=time.time()\n",
    "print('time:{}s'.format(t1-t0))"
   ]
  },
  {
   "cell_type": "code",
   "execution_count": 519,
   "metadata": {},
   "outputs": [
    {
     "data": {
      "text/plain": [
       "(array([  3,  34, 142, 222, 240, 315, 322]),)"
      ]
     },
     "execution_count": 519,
     "metadata": {},
     "output_type": "execute_result"
    }
   ],
   "source": [
    "SVMC.index_lam\n",
    "np.where(SVMC.index_lam== True)"
   ]
  },
  {
   "cell_type": "markdown",
   "metadata": {},
   "source": [
    "## 【問題3】指標値の算出"
   ]
  },
  {
   "cell_type": "code",
   "execution_count": 520,
   "metadata": {
    "scrolled": true
   },
   "outputs": [
    {
     "name": "stdout",
     "output_type": "stream",
     "text": [
      "accuracy 1.0\n",
      "precision 1.0\n",
      "recall 1.0\n",
      "f1_score 1.0\n",
      "conf_matrix [[63  0]\n",
      " [ 0 62]]\n"
     ]
    }
   ],
   "source": [
    "y_pred = SVMC.predict(X_test)\n",
    "y_test = y_test.reshape(len(y_test),1)\n",
    "# print(y_pred)\n",
    "# print(y_test)\n",
    "scores(y_pred,y_test)"
   ]
  },
  {
   "cell_type": "markdown",
   "metadata": {},
   "source": [
    "## 【問題4】決定領域の可視化"
   ]
  },
  {
   "cell_type": "code",
   "execution_count": 512,
   "metadata": {},
   "outputs": [],
   "source": [
    "#サポートベクター色変更機能追加ver\n",
    "\n",
    "import matplotlib.pyplot as plt\n",
    "from matplotlib.colors import ListedColormap\n",
    "import matplotlib.patches as mpatches\n",
    "\n",
    "def decision_region(X, y, model, step=0.01, title='decision region', xlabel='xlabel', ylabel='ylabel', target_names=['versicolor', 'virginica']):\n",
    "    \"\"\"\n",
    "    2値分類を2次元の特徴量で学習したモデルの決定領域を描く。\n",
    "    背景の色が学習したモデルによる推定値から描画される。\n",
    "    散布図の点は訓練データまたは検証データである。\n",
    "\n",
    "    Parameters\n",
    "    ----------------\n",
    "    X : ndarray, shape(n_samples, 2)\n",
    "        特徴量\n",
    "    y : ndarray, shape(n_samples,)\n",
    "        ラベル\n",
    "    model : object\n",
    "        学習したモデルのインスンタスを入れる\n",
    "    step : float, (default : 0.1)\n",
    "        推定値を計算する間隔を設定する\n",
    "    title : str\n",
    "        グラフのタイトルの文章を与える\n",
    "    xlabel, ylabel : str\n",
    "        軸ラベルの文章を与える\n",
    "    target_names= : list of str\n",
    "        凡例の一覧を与える\n",
    "    \"\"\"\n",
    "    # setting\n",
    "    scatter_color = ['red', 'blue']\n",
    "    contourf_color = ['pink', 'skyblue']\n",
    "    n_class = 2\n",
    "\n",
    "    # pred\n",
    "    mesh_f0, mesh_f1  = np.meshgrid(np.arange(np.min(X[:,0])-0.5, np.max(X[:,0])+0.5, step), np.arange(np.min(X[:,1])-0.5, np.max(X[:,1])+0.5, step))\n",
    "    mesh = np.c_[np.ravel(mesh_f0),np.ravel(mesh_f1)]\n",
    "    y_pred = model.predict(mesh).reshape(mesh_f0.shape)\n",
    "\n",
    "    # plot\n",
    "    if model == SVMC:\n",
    "        plt.scatter(model.sv[:,0],model.sv[:,1], marker='*',color = 'yellow')\n",
    "    plt.title(title)\n",
    "    plt.xlabel(xlabel)\n",
    "    plt.ylabel(ylabel)\n",
    "    plt.contourf(mesh_f0, mesh_f1, y_pred, n_class-1, cmap=ListedColormap(contourf_color))\n",
    "    plt.contour(mesh_f0, mesh_f1, y_pred, n_class-1, colors='y', linewidths=3, alpha=0.5)\n",
    "    for i, target in enumerate(set(y)):\n",
    "        plt.scatter(X[y==target][:, 0], X[y==target][:, 1], s=80, color=scatter_color[i], label=target_names[i], marker='o')\n",
    "    patches = [mpatches.Patch(color=scatter_color[i], label=target_names[i]) for i in range(n_class)]\n",
    "    plt.scatter(model.sv[:,0],model.sv[:,1], marker='*',color = 'yellow')\n",
    "    plt.legend(handles=patches)\n",
    "    plt.legend()\n",
    "    plt.show()"
   ]
  },
  {
   "cell_type": "code",
   "execution_count": 521,
   "metadata": {},
   "outputs": [
    {
     "data": {
      "image/png": "[encoded data removed]",
      "text/plain": [
       "<Figure size 432x288 with 1 Axes>"
      ]
     },
     "metadata": {
      "needs_background": "light"
     },
     "output_type": "display_data"
    }
   ],
   "source": [
    "decision_region(X_train, y_train, SVMC, step=0.01, \n",
    "                title='decision region', \n",
    "                xlabel='xlabel1', ylabel='xlabel2', \n",
    "                target_names=['-1', '1'])"
   ]
  },
  {
   "cell_type": "code",
   "execution_count": 377,
   "metadata": {},
   "outputs": [
    {
     "name": "stdout",
     "output_type": "stream",
     "text": [
      "lam (3, 1)\n",
      "(125, 3)\n",
      "[[ 22.44542618]\n",
      " [-15.79101489]\n",
      " [-23.86713469]\n",
      " [-12.42630277]\n",
      " [-20.08298911]\n",
      " [ 13.03484336]\n",
      " [ 22.91441699]\n",
      " [ 10.64566731]\n",
      " [-20.96478354]\n",
      " [ 13.89361519]\n",
      " [-15.16817179]\n",
      " [ 17.43832816]\n",
      " [ 21.39690577]\n",
      " [-15.37304227]\n",
      " [ 14.41531454]\n",
      " [ 11.12664347]\n",
      " [-17.68238908]\n",
      " [ 12.84449328]\n",
      " [-22.13149979]\n",
      " [ 15.57845382]\n",
      " [ 12.77275211]\n",
      " [-17.62704364]\n",
      " [ 19.71030009]\n",
      " [ 18.3744603 ]\n",
      " [-15.51818425]\n",
      " [-14.85791128]\n",
      " [ 16.28160294]\n",
      " [ 14.57659628]\n",
      " [ -8.66365925]\n",
      " [-13.45403958]\n",
      " [ 12.73920255]\n",
      " [ 16.90289944]\n",
      " [-19.98492675]\n",
      " [-20.00670213]\n",
      " [ -6.71007779]\n",
      " [ 19.66246073]\n",
      " [-14.41212889]\n",
      " [ 15.26826327]\n",
      " [-17.70305744]\n",
      " [-14.54048066]\n",
      " [-17.69194833]\n",
      " [-12.97575842]\n",
      " [ 20.75707526]\n",
      " [-17.50381207]\n",
      " [ 15.30765299]\n",
      " [ 14.07419472]\n",
      " [-23.11765386]\n",
      " [ 16.76033849]\n",
      " [-21.06978994]\n",
      " [ 20.81725641]\n",
      " [ 16.19713792]\n",
      " [ 13.2332934 ]\n",
      " [-11.64730996]\n",
      " [  9.23751382]\n",
      " [-10.9049757 ]\n",
      " [-16.93241002]\n",
      " [ 19.52868592]\n",
      " [-17.51926627]\n",
      " [  7.49041619]\n",
      " [-19.59667561]\n",
      " [ 11.31389614]\n",
      " [ 14.03553904]\n",
      " [ 12.04792921]\n",
      " [ 15.3963039 ]\n",
      " [ 22.7032454 ]\n",
      " [-15.79233891]\n",
      " [ 14.50615882]\n",
      " [  6.98287114]\n",
      " [-21.96860019]\n",
      " [ 16.70639235]\n",
      " [-17.18757837]\n",
      " [ 12.21240999]\n",
      " [-22.27167218]\n",
      " [ 15.91133277]\n",
      " [-22.51712541]\n",
      " [-17.32710062]\n",
      " [-12.1880709 ]\n",
      " [-20.20002212]\n",
      " [-18.94923674]\n",
      " [ 16.5401045 ]\n",
      " [ 20.97506107]\n",
      " [  9.05709861]\n",
      " [-19.20350643]\n",
      " [ 16.21887173]\n",
      " [ 12.21986776]\n",
      " [-15.98708279]\n",
      " [ -8.68788198]\n",
      " [ 15.20840713]\n",
      " [ 15.76423039]\n",
      " [-12.16212109]\n",
      " [-13.82938943]\n",
      " [-15.06922105]\n",
      " [ 14.07931605]\n",
      " [-21.54654944]\n",
      " [-15.17926756]\n",
      " [ 12.51919799]\n",
      " [-14.05205712]\n",
      " [-10.73258615]\n",
      " [ 16.46235907]\n",
      " [-18.53502829]\n",
      " [ 17.44826003]\n",
      " [-16.54034625]\n",
      " [-10.31612921]\n",
      " [-20.34980483]\n",
      " [-10.65579733]\n",
      " [ 13.6814973 ]\n",
      " [-18.83526547]\n",
      " [-20.008425  ]\n",
      " [ 10.86159261]\n",
      " [ 16.4942544 ]\n",
      " [ 12.33864473]\n",
      " [-20.72773572]\n",
      " [  9.30834027]\n",
      " [-13.87751692]\n",
      " [ 12.5089552 ]\n",
      " [ 19.49141331]\n",
      " [-15.84565814]\n",
      " [ 18.88594146]\n",
      " [-23.56764   ]\n",
      " [ 19.64746344]\n",
      " [-13.28857612]\n",
      " [ 16.91920037]\n",
      " [-22.13857317]\n",
      " [ 13.22014969]\n",
      " [-16.20023458]]\n"
     ]
    }
   ],
   "source": [
    "# print(SVMC.sv.shape)\n",
    "print(\"lam\",SVMC.lam.shape)\n",
    "# print(\"test\",X_test.shape)\n",
    "# print(\"y\",SVMC.y.shape)\n",
    "# print(karnel(X_test,SVMC.sv).shape)\n",
    "print((SVMC.y * karnel(X_test,SVMC.sv)).shape)\n",
    "\n",
    "y_pred = np.dot((SVMC.y * karnel(X_test,SVMC.sv)) , SVMC.lam)\n",
    "print(y_pred)"
   ]
  },
  {
   "cell_type": "code",
   "execution_count": 146,
   "metadata": {},
   "outputs": [],
   "source": [
    "def karnel(X):\n",
    "    return np.dot(X, X.T) #shape() ->数値\n",
    "\n",
    "lam = np.random.rand(X.shape[0],1)#lam 初期値\n",
    "def _sigma(X, y): #jが1-n番目の数字をそれぞれとる時の値の総和\n",
    "    return np.dot(karnel(y) * karnel(X), lam) \n",
    "#for文でi,jで回しても良い\n",
    "\n",
    "def _lag(X, y):\n",
    "    return 1 - _sigma(X, y)\n",
    "\n",
    "lr = 1\n",
    "def _gradient_ascent(X, y): \n",
    "    lam = np.random.rand(1,X.shape[1])\n",
    "    lam = lam + lr * _lag(X,y)\n",
    "    for i in range(lam.shape[0]):\n",
    "        #lam[lam>0.0001]\n",
    "        sv = lam[lam >0.00000001]: \n",
    "            #更新毎にλi>=0を満たす必要があります。満たさない場合は λi=0\n",
    "            #この条件に当てはるラムダのインデックスに対応するxがサポートベクトル\n",
    "    return lam\n",
    "\n",
    "\n",
    "\n",
    "\n",
    "# def _pred(X):   "
   ]
  },
  {
   "cell_type": "code",
   "execution_count": 240,
   "metadata": {
    "scrolled": true
   },
   "outputs": [
    {
     "name": "stdout",
     "output_type": "stream",
     "text": [
      "(500, 1)\n"
     ]
    }
   ],
   "source": [
    "lam = np.random.rand(X.shape[0],1)\n",
    "print(lam.shape)"
   ]
  },
  {
   "cell_type": "code",
   "execution_count": null,
   "metadata": {},
   "outputs": [],
   "source": []
  },
  {
   "cell_type": "code",
   "execution_count": null,
   "metadata": {},
   "outputs": [],
   "source": []
  }
 ],
 "metadata": {
  "kernelspec": {
   "display_name": "Python 3",
   "language": "python",
   "name": "python3"
  },
  "language_info": {
   "codemirror_mode": {
    "name": "ipython",
    "version": 3
   },
   "file_extension": ".py",
   "mimetype": "text/x-python",
   "name": "python",
   "nbconvert_exporter": "python",
   "pygments_lexer": "ipython3",
   "version": "3.7.3"
  }
 },
 "nbformat": 4,
 "nbformat_minor": 2
}
