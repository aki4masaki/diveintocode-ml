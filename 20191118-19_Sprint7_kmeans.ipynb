{
 "cells": [
  {
   "cell_type": "markdown",
   "metadata": {},
   "source": [
    "# Sprint7 K-means (教師なし学習)"
   ]
  },
  {
   "cell_type": "code",
   "execution_count": 46,
   "metadata": {
    "ExecuteTime": {
     "end_time": "2019-11-19T09:26:40.902147Z",
     "start_time": "2019-11-19T09:26:40.885084Z"
    }
   },
   "outputs": [],
   "source": [
    "import numpy as np\n",
    "import pandas as pd\n",
    "import matplotlib.pyplot as plt\n",
    "import seaborn as sns\n",
    "from numpy import linalg as LA\n",
    "import copy\n",
    "sns.set()\n",
    "%matplotlib inline\n",
    "import time\n",
    "from sklearn.decomposition import PCA\n",
    "from sklearn.cluster import KMeans\n",
    "from matplotlib import cm\n",
    "from sklearn.preprocessing import StandardScaler\n",
    "from scipy.spatial.distance import cdist"
   ]
  },
  {
   "cell_type": "code",
   "execution_count": 47,
   "metadata": {
    "ExecuteTime": {
     "end_time": "2019-11-19T09:26:41.708480Z",
     "start_time": "2019-11-19T09:26:41.704310Z"
    }
   },
   "outputs": [],
   "source": [
    "# クラスタリングのための人工データセット\n",
    "from sklearn.datasets import make_blobs\n",
    "X, _ = make_blobs(n_samples=100, n_features=2, centers=4, cluster_std=0.5, shuffle=True, random_state=0)"
   ]
  },
  {
   "cell_type": "code",
   "execution_count": 48,
   "metadata": {
    "ExecuteTime": {
     "end_time": "2019-11-19T09:26:42.446057Z",
     "start_time": "2019-11-19T09:26:42.441591Z"
    },
    "scrolled": true
   },
   "outputs": [
    {
     "name": "stdout",
     "output_type": "stream",
     "text": [
      "(100, 2)\n",
      "(100,)\n"
     ]
    }
   ],
   "source": [
    "print(X.shape)\n",
    "print(_.shape)\n",
    "#.reshape(X.shape[0],1)"
   ]
  },
  {
   "cell_type": "markdown",
   "metadata": {},
   "source": [
    "### 卸売業者のデータ分析"
   ]
  },
  {
   "cell_type": "markdown",
   "metadata": {},
   "source": [
    "## スクラッチ"
   ]
  },
  {
   "cell_type": "code",
   "execution_count": 73,
   "metadata": {
    "ExecuteTime": {
     "end_time": "2019-11-19T09:38:23.804154Z",
     "start_time": "2019-11-19T09:38:23.781220Z"
    }
   },
   "outputs": [],
   "source": [
    "class ScratchKMeans():\n",
    "    \"\"\"\n",
    "    K-meansのスクラッチ実装\n",
    "\n",
    "    Parameters\n",
    "    ----------\n",
    "    n_clusters : int\n",
    "      クラスタ数\n",
    "    n_init : int\n",
    "      中心点の初期値を何回変えて計算するか\n",
    "    max_iter : int\n",
    "      1回の計算で最大何イテレーションするか\n",
    "    tol : float\n",
    "      イテレーションを終了する基準となる中心点と重心の許容誤差\n",
    "    verbose : bool\n",
    "      学習過程を出力する場合はTrue\n",
    "    \"\"\"\n",
    "    def __init__(self, n_clusters=4, n_init=10, \n",
    "                 max_iter=100, tol=0.001, verbose=True):\n",
    "        # ハイパーパラメータを属性として記録\n",
    "        self.n_clusters = n_clusters\n",
    "        self.n_init = n_init\n",
    "        self.max_iter = max_iter\n",
    "        self.tol=tol\n",
    "        self.verbose = verbose\n",
    "        #差を保存するもの\n",
    "        self.change = 10000\n",
    "        self.mean = np.zeros((self.n_clusters,2)) \n",
    "        #sse\n",
    "        self.sse_min =None\n",
    "\n",
    "    #問題1 入力したXからself.n_clusters個のクラスタが欲しい時の初期値を求める関数\n",
    "    def first_ms(self,X): \n",
    "        first_index = np.random.choice(X.shape[0],\n",
    "                                       self.n_clusters,\n",
    "                                       replace=False) #重複なし\n",
    "        first_ms= X[first_index]\n",
    "        return first_ms\n",
    "    #問題１   \n",
    "    \n",
    "    #問題２\n",
    "    def sse(self,X):\n",
    "        #rnkの性質から、それぞれ属するクラスタのみ総和を取れば良い\n",
    "        sse = 0\n",
    "        for i in range(self.n_clusters):\n",
    "            sse += np.sum(((X - self.mean[i])**2)[self.clustering(X).ravel()==i])\n",
    "        return sse\n",
    "    #問題２\n",
    "    \n",
    "    #問題３\n",
    "    def clustering(self,X):\n",
    "        #移動後のラベルインデックスを保存するarray self.index_mu_array作成\n",
    "        self.index_mu_array = np.zeros((X.shape[0],1))\n",
    "        for i in range(X.shape[0]):\n",
    "            self.list_mu = []\n",
    "            for j in range(self.n_clusters):\n",
    "                distance = LA.norm(X[i]-self.mean[j])\n",
    "                self.list_mu.append(distance)\n",
    "            self.index_mu = self.list_mu.index(min(self.list_mu)) #indexで保持\n",
    "            #このインデックスを(index_mu_array)状に格納していく\n",
    "            self.index_mu_array[i]=self.index_mu\n",
    "        \n",
    "        return self.index_mu_array\n",
    "    #問題３\n",
    "    \n",
    "    \n",
    "    #問題４\n",
    "    def clustering_move_mean(self,X):\n",
    "        #移動した中心を保存するarray self.mean作成\n",
    "        \n",
    "        self.mean = np.zeros((self.n_clusters,X.shape[1])) \n",
    "        for i in range(self.n_clusters):\n",
    "            self.mean_point = np.mean(X[np.where(self.clustering(X).ravel()==i)],\n",
    "                                 axis=0) #差が最少になるラベルのindexを取得\n",
    "            self.mean[i]=self.mean_point\n",
    "\n",
    "        return self.mean #移動後の中心点を保存したarray\n",
    "    #問題4\n",
    "    \n",
    "    def fit(self, X):\n",
    "        \"\"\"\n",
    "        K-meansによるクラスタリングを計算\n",
    "        Parameters\n",
    "        ----------\n",
    "        X : 次の形のndarray, shape (n_samples, n_features)\n",
    "            学習用データの特徴量\n",
    "        \"\"\"\n",
    "        #問題６\n",
    "        self.list_sse=[]\n",
    "        for s in range(self.n_init):\n",
    "            firsts_array = np.zeros_like(self.mean)\n",
    "            #問題5\n",
    "            self.mean = self.first_ms(X) #self.mean 初期値設定\n",
    "            #初期値変更ごとの中心を保存するためのarray\n",
    "            self.mean_list = np.ones_like(self.mean)\n",
    "            for i in range(self.max_iter):         \n",
    "                if self.change > self.tol:\n",
    "                    mean_before = copy.deepcopy(self.mean) \n",
    "                    #deepcopyにしないとself.mean更新前を保持できない。\n",
    "                    mean_after = copy.deepcopy(self.clustering_move_mean(X))\n",
    "                    self.change = LA.norm(np.mean(mean_after - mean_before,axis=1)) #差の平均値\n",
    "                else:\n",
    "                    break\n",
    "            #問題5\n",
    "            self.mean_list = np.block([[[self.mean_list]],[[self.mean]]])\n",
    "            self.list_sse.append(self.sse(X)) \n",
    "        self.index_sse_min = self.list_sse.index(min(self.list_sse)) #sse最小値のindex\n",
    "        self.sse_min = min(self.list_sse) #sse最小値\n",
    "        self.mean_point = copy.deepcopy(self.mean)\n",
    "        self.mean_point = self.mean_list[self.index_sse_min//X.shape[0] + 1] \n",
    "        #self.mean_list[0]がnp.onesのため\n",
    "        #問題6\n",
    "\n",
    "        if self.verbose:\n",
    "            #verboseをTrueにした際は学習過程を出力\n",
    "            print(\"sse最少の時のμk\",self.mean_point)\n",
    "            \n",
    "    \n",
    "    def sse_min_by_clusters(self,X,n_clusters):\n",
    "        self.n_clusters = n_clusters\n",
    "        self.fit(X)\n",
    "        return self.sse_min\n",
    "\n",
    "    def predict(self, X):\n",
    "        \"\"\"\n",
    "        入力されたデータがどのクラスタに属するかを計算\n",
    "        \"\"\"\n",
    "        index_mu_array = np.zeros((X.shape[0],1))\n",
    "        for i in range(X.shape[0]):\n",
    "            list_mu = []\n",
    "            for j in range(self.n_clusters):\n",
    "                distance = LA.norm(X[i]-self.mean_point[j])\n",
    "                list_mu.append(distance)\n",
    "            index_mu = list_mu.index(min(list_mu)) #indexで保持\n",
    "            #このインデックスを(index_mu_array)状に格納していく\n",
    "            index_mu_array[i]=index_mu\n",
    "\n",
    "        return index_mu_array\n",
    "\n",
    "    "
   ]
  },
  {
   "cell_type": "code",
   "execution_count": 74,
   "metadata": {
    "ExecuteTime": {
     "end_time": "2019-11-19T09:38:24.432859Z",
     "start_time": "2019-11-19T09:38:24.353572Z"
    }
   },
   "outputs": [
    {
     "name": "stdout",
     "output_type": "stream",
     "text": [
      "sse最少の時のμk [[-0.98661744  7.74968685]\n",
      " [-1.74836345  7.06307447]\n",
      " [-1.05327803  2.84037721]]\n"
     ]
    }
   ],
   "source": [
    "#ランダムで初期値設定\n",
    "#k-means において初期値は大事。今回はまず簡単なランダムから。\n",
    "\n",
    "#問題6で初期値を10回くらい変更して、SSE最少になるものがバラメーター\n",
    "\n",
    "kmeans = ScratchKMeans(n_clusters=3,n_init=10, max_iter=50, tol=0.01)\n",
    "# kmeans.first_ms(X)\n",
    "kmeans.sse(X)\n",
    "# kmeans.clustering(X)\n",
    "kmeans.fit(X)"
   ]
  },
  {
   "cell_type": "code",
   "execution_count": 75,
   "metadata": {
    "ExecuteTime": {
     "end_time": "2019-11-19T09:38:27.790372Z",
     "start_time": "2019-11-19T09:38:27.787787Z"
    }
   },
   "outputs": [],
   "source": [
    "# kmeans.predict(X)"
   ]
  },
  {
   "cell_type": "code",
   "execution_count": 76,
   "metadata": {
    "ExecuteTime": {
     "end_time": "2019-11-19T09:38:30.737628Z",
     "start_time": "2019-11-19T09:38:28.319047Z"
    }
   },
   "outputs": [
    {
     "name": "stdout",
     "output_type": "stream",
     "text": [
      "sse最少の時のμk [[-0.69842598  8.16309188]]\n",
      "クラスター1個の時のsse最小時のμk:[[-0.69842598  8.16309188]]\n",
      "最小SSE: 870.2611797855423\n",
      "sse最少の時のμk [[-1.74448079  3.84251413]\n",
      " [ 0.5323772   3.31338909]]\n",
      "クラスター2個の時のsse最小時のμk:[[-1.74448079  3.84251413]\n",
      " [ 0.5323772   3.31338909]]\n",
      "最小SSE: 538.5325867907478\n",
      "sse最少の時のμk [[ 1.89949126  0.92574633]\n",
      " [-1.87418794  2.84306499]\n",
      " [ 2.79939362  1.84560825]]\n",
      "クラスター3個の時のsse最小時のμk:[[ 1.89949126  0.92574633]\n",
      " [-1.87418794  2.84306499]\n",
      " [ 2.79939362  1.84560825]]\n",
      "最小SSE: 283.99789920022164\n",
      "sse最少の時のμk [[-0.565433    3.65813966]\n",
      " [-1.89468423  7.96898545]\n",
      " [-1.32890066  2.37135151]\n",
      " [-1.80044744  7.86154256]]\n",
      "クラスター4個の時のsse最小時のμk:[[-0.565433    3.65813966]\n",
      " [-1.89468423  7.96898545]\n",
      " [-1.32890066  2.37135151]\n",
      " [-1.80044744  7.86154256]]\n",
      "最小SSE: 125.32995593585756\n",
      "sse最少の時のμk [[-0.93564005  7.03443119]\n",
      " [-0.1666378   8.50372399]\n",
      " [ 1.04829186  5.03092408]\n",
      " [-1.7653772   8.17625727]\n",
      " [ 0.78260667  4.15263595]]\n",
      "クラスター5個の時のsse最小時のμk:[[-0.93564005  7.03443119]\n",
      " [-0.1666378   8.50372399]\n",
      " [ 1.04829186  5.03092408]\n",
      " [-1.7653772   8.17625727]\n",
      " [ 0.78260667  4.15263595]]\n",
      "最小SSE: 124.13468132463359\n",
      "sse最少の時のμk [[-0.92819001  7.02698199]\n",
      " [-1.57613028  2.58614312]\n",
      " [ 0.16932115  4.19741719]\n",
      " [ 0.12313498  5.27917503]\n",
      " [ 2.25643834  0.55525861]\n",
      " [-1.91186205  3.18750686]]\n",
      "クラスター6個の時のsse最小時のμk:[[-0.92819001  7.02698199]\n",
      " [-1.57613028  2.58614312]\n",
      " [ 0.16932115  4.19741719]\n",
      " [ 0.12313498  5.27917503]\n",
      " [ 2.25643834  0.55525861]\n",
      " [-1.91186205  3.18750686]]\n",
      "最小SSE: 79.98589856423786\n",
      "sse最少の時のμk [[-1.98331513  3.47639041]\n",
      " [-1.37778493  3.58107521]\n",
      " [ 1.04829186  5.03092408]\n",
      " [ 1.61986895  0.60823883]\n",
      " [-1.89928142  2.50466299]\n",
      " [-0.93564005  7.03443119]\n",
      " [ 2.11872357  1.09865834]]\n",
      "クラスター7個の時のsse最小時のμk:[[-1.98331513  3.47639041]\n",
      " [-1.37778493  3.58107521]\n",
      " [ 1.04829186  5.03092408]\n",
      " [ 1.61986895  0.60823883]\n",
      " [-1.89928142  2.50466299]\n",
      " [-0.93564005  7.03443119]\n",
      " [ 2.11872357  1.09865834]]\n",
      "最小SSE: 49.60973395043597\n",
      "sse最少の時のμk [[ 1.59141542  4.90497725]\n",
      " [ 2.28809874  0.12954182]\n",
      " [-1.56102482  3.77455362]\n",
      " [ 2.15940501  1.38598318]\n",
      " [ 2.06051753  1.79059891]\n",
      " [-1.21986433  3.3789856 ]\n",
      " [-1.2386086   2.81373288]\n",
      " [-1.47602203  7.8441996 ]]\n",
      "クラスター8個の時のsse最小時のμk:[[ 1.59141542  4.90497725]\n",
      " [ 2.28809874  0.12954182]\n",
      " [-1.56102482  3.77455362]\n",
      " [ 2.15940501  1.38598318]\n",
      " [ 2.06051753  1.79059891]\n",
      " [-1.21986433  3.3789856 ]\n",
      " [-1.2386086   2.81373288]\n",
      " [-1.47602203  7.8441996 ]]\n",
      "最小SSE: 47.48922207026484\n",
      "sse最少の時のμk [[-1.47602203  7.8441996 ]\n",
      " [ 1.73810647  0.71629308]\n",
      " [-1.89468423  7.96898545]\n",
      " [ 1.35678894  4.36462484]\n",
      " [ 0.3498724   4.69253251]\n",
      " [ 2.11872357  1.09865834]\n",
      " [ 0.99914934  4.2101954 ]\n",
      " [-1.497272    8.80022604]\n",
      " [ 0.12313498  5.27917503]]\n",
      "クラスター9個の時のsse最小時のμk:[[-1.47602203  7.8441996 ]\n",
      " [ 1.73810647  0.71629308]\n",
      " [-1.89468423  7.96898545]\n",
      " [ 1.35678894  4.36462484]\n",
      " [ 0.3498724   4.69253251]\n",
      " [ 2.11872357  1.09865834]\n",
      " [ 0.99914934  4.2101954 ]\n",
      " [-1.497272    8.80022604]\n",
      " [ 0.12313498  5.27917503]]\n",
      "最小SSE: 46.71759550356606\n",
      "sse最少の時のμk [[ 2.25643834  0.55525861]\n",
      " [-1.32890066  2.37135151]\n",
      " [ 0.5323772   3.31338909]\n",
      " [-1.05327803  2.84037721]\n",
      " [-1.497272    8.80022604]\n",
      " [ 0.16932115  4.19741719]\n",
      " [ 0.72144399  4.08475018]\n",
      " [ 0.96217896  4.51795326]\n",
      " [-0.69842598  8.16309188]\n",
      " [-1.57613028  2.58614312]]\n",
      "クラスター10個の時のsse最小時のμk:[[ 2.25643834  0.55525861]\n",
      " [-1.32890066  2.37135151]\n",
      " [ 0.5323772   3.31338909]\n",
      " [-1.05327803  2.84037721]\n",
      " [-1.497272    8.80022604]\n",
      " [ 0.16932115  4.19741719]\n",
      " [ 0.72144399  4.08475018]\n",
      " [ 0.96217896  4.51795326]\n",
      " [-0.69842598  8.16309188]\n",
      " [-1.57613028  2.58614312]]\n",
      "最小SSE: 40.52726804198497\n"
     ]
    },
    {
     "data": {
      "image/png": "[encoded data removed]",
      "text/plain": [
       "<Figure size 432x288 with 1 Axes>"
      ]
     },
     "metadata": {
      "needs_background": "light"
     },
     "output_type": "display_data"
    }
   ],
   "source": [
    "list_n_clusters=[]\n",
    "list_sse_min=[]\n",
    "for i in range(1,11):\n",
    "    list_n_clusters.append(i)\n",
    "    kmeans = ScratchKMeans(n_clusters=i,n_init=10, max_iter=50, tol=0.001)\n",
    "    kmeans.fit(X)\n",
    "    list_sse_min.append(copy.deepcopy(kmeans.sse_min))\n",
    "    print(\"クラスター{}個の時のsse最小時のμk:{}\".format(i,kmeans.mean_point))\n",
    "    print(\"最小SSE:\",kmeans.sse_min)\n",
    "\n",
    "plt.plot(list_n_clusters,list_sse_min, marker=\"o\")\n",
    "plt.title(\"Elbow method\")\n",
    "plt.ylabel(\"SSE\")\n",
    "plt.xlabel(\"clusters\")\n",
    "plt.show()"
   ]
  },
  {
   "cell_type": "code",
   "execution_count": 828,
   "metadata": {
    "ExecuteTime": {
     "end_time": "2019-11-18T11:05:43.547887Z",
     "start_time": "2019-11-18T11:05:43.545061Z"
    }
   },
   "outputs": [],
   "source": [
    "# kmeans.predict(X)"
   ]
  },
  {
   "cell_type": "markdown",
   "metadata": {},
   "source": [
    "## 【問題1】中心点の初期値を決める"
   ]
  },
  {
   "cell_type": "code",
   "execution_count": 77,
   "metadata": {
    "ExecuteTime": {
     "end_time": "2019-11-19T09:38:42.503369Z",
     "start_time": "2019-11-19T09:38:42.498374Z"
    }
   },
   "outputs": [],
   "source": [
    "#データ点Xn個からランダムにK個(指定したクラスタ数)選ぶ\n",
    "\n",
    "def mu(self,X): \n",
    "    X_for_m = np.zeros((self.n_clusters,X.shape[1])) \n",
    "    for i in range(X.shape[1]):\n",
    "        first_xsamples = np.random.choice(X[:,i],\n",
    "                                          self.n_clusters,\n",
    "                                          replace=False) #重複なし\n",
    "        #各特徴量でサンプル抽出した行列X_for_m\n",
    "        X_for_m[:,i]=first_xsamples\n",
    "\n",
    "    #初期値μ１は選んだK個の中心点\n",
    "    first_m = np.mean(X_for_m,axis=0) #行ごとの平均\n",
    "    return first_m\n",
    "\n",
    "# kmeans.first_m(X)"
   ]
  },
  {
   "cell_type": "markdown",
   "metadata": {},
   "source": [
    "## 【問題2】SSEを求める関数の作成"
   ]
  },
  {
   "cell_type": "code",
   "execution_count": 78,
   "metadata": {
    "ExecuteTime": {
     "end_time": "2019-11-19T09:38:43.880270Z",
     "start_time": "2019-11-19T09:38:43.875252Z"
    }
   },
   "outputs": [],
   "source": [
    "def sse(self,X):\n",
    "    '''\n",
    "    rnk (自分が属するクラスタは1,属さなければ0 )の性質から、\n",
    "    それぞれ属するクラスタのみ総和を取れば良い\n",
    "    つまり、(X-self.first_m)の自乗をsumすれば良い\n",
    "    '''\n",
    "    #rnkの性質から、それぞれ属するクラスタのみ総和を取れば良い\n",
    "    sse = []\n",
    "    for i in range(self.n_clusters):\n",
    "        sse.append(np.sum(X-self.first_ms(X)[i]**2))\n",
    "    return sse"
   ]
  },
  {
   "cell_type": "markdown",
   "metadata": {},
   "source": [
    "## 【問題3】クラスタへの割り当て"
   ]
  },
  {
   "cell_type": "code",
   "execution_count": 79,
   "metadata": {
    "ExecuteTime": {
     "end_time": "2019-11-19T09:38:45.209420Z",
     "start_time": "2019-11-19T09:38:45.203349Z"
    }
   },
   "outputs": [],
   "source": [
    "#問題３\n",
    "'''\n",
    "#中心点 μkを固定 μkはself.mu。\n",
    "#クラスタへの割り当て\n",
    "#np.linalg.norm (= √(μk - Xn)(Xn - μk)) \n",
    "'''\n",
    "def clustering(X):\n",
    "    index_mu_array = np.zeros((X.shape[0],1))\n",
    "    for i in range(X.shape[0]):\n",
    "        list_mu = []\n",
    "        for j in range(self.n_clusters):\n",
    "            distance = LA.norm(X[0]-self.first_ms(X)[j])\n",
    "            list_mu.append(distance)\n",
    "        index_mu = list_mu.index(min(list_mu)) #indexで保持\n",
    "        print(index_mu)\n",
    "        #このインデックスを(index_mu_array)状に格納していく\n",
    "        index_mu_array[i]=index_mu"
   ]
  },
  {
   "cell_type": "markdown",
   "metadata": {},
   "source": [
    "## 【問題4】中心点の移動"
   ]
  },
  {
   "cell_type": "code",
   "execution_count": null,
   "metadata": {
    "ExecuteTime": {
     "end_time": "2019-11-19T09:38:46.335204Z",
     "start_time": "2019-11-19T09:38:46.316082Z"
    }
   },
   "outputs": [],
   "source": [
    "#問題4\n",
    "'''\n",
    "中心点 μkをnp.mean(moved_points_array,axis=0) に更新\n",
    "'''\n",
    "def clustering_move_mean(X):\n",
    "    moved_mean = np.zeros((kmeans.n_clusters,X.shape[1]))\n",
    "    for i in range(kmeans.n_clusters):\n",
    "        mean_point = np.mean(X[np.where(index_mu_array.ravel()==i)],\n",
    "                             axis=0) #index 取得\n",
    "        moved_mean[i]=mean_point\n",
    "        \n",
    "    print(moved_mean)\n",
    "\n",
    "\n",
    "clustering_move_mean(X)"
   ]
  },
  {
   "cell_type": "markdown",
   "metadata": {},
   "source": [
    "## 【問題5】繰り返し【問題6】異なる初期値で計算"
   ]
  },
  {
   "cell_type": "code",
   "execution_count": null,
   "metadata": {},
   "outputs": [],
   "source": [
    "#問題６\n",
    "    list_sse=[]\n",
    "    for s in range(self.n_init):\n",
    "        firsts_array = np.zeros_like(self.mean)\n",
    "        #問題5\n",
    "        self.mean = self.first_ms(X) #self.mean 初期値設定\n",
    "        for i in range(self.max_iter):         \n",
    "            if self.change > self.tol:\n",
    "                mean_before = copy.deepcopy(self.mean) \n",
    "                #deepcopyにしないとself.mean更新前を保持できない。\n",
    "                mean_after = copy.deepcopy(self.clustering_move_mean(X))\n",
    "                self.change = LA.norm(mean_after[0] - mean_before[0])\n",
    "            else:\n",
    "                break\n",
    "        #問題5\n",
    "        self.mean_list = np.block([[[self.mean_list]],[[self.mean]]])\n",
    "        list_sse.append(self.sse(X)) \n",
    "    index_sse_min = list_sse.index(min(list_sse)) #sse最小値のindex\n",
    "    self.mean_point = self.mean_list[index_sse_min + 1] \n",
    "    #self.mean_list[0]がnp.onesのため\n",
    "\n",
    "    print(\"sse最少の時のμk\",self.mean_point)\n",
    "    #問題6"
   ]
  },
  {
   "cell_type": "markdown",
   "metadata": {},
   "source": [
    "## 【問題7】推定"
   ]
  },
  {
   "cell_type": "code",
   "execution_count": null,
   "metadata": {},
   "outputs": [],
   "source": [
    "kmeans.predict(X)"
   ]
  },
  {
   "cell_type": "markdown",
   "metadata": {},
   "source": [
    "## 【問題8】エルボー法の実装"
   ]
  },
  {
   "cell_type": "code",
   "execution_count": 81,
   "metadata": {
    "ExecuteTime": {
     "end_time": "2019-11-19T09:39:15.712458Z",
     "start_time": "2019-11-19T09:39:13.312079Z"
    }
   },
   "outputs": [
    {
     "name": "stdout",
     "output_type": "stream",
     "text": [
      "sse最少の時のμk [[-1.86097353  8.2576415 ]]\n",
      "クラスター1個の時のsse最小時のμk:[[-1.86097353  8.2576415 ]]\n",
      "sse最少の時のμk [[-1.7653772   8.17625727]\n",
      " [-0.8623605   8.24721209]]\n",
      "クラスター2個の時のsse最小時のμk:[[-1.7653772   8.17625727]\n",
      " [-0.8623605   8.24721209]]\n",
      "sse最少の時のμk [[-1.7653772   8.17625727]\n",
      " [-1.91186205  3.18750686]\n",
      " [ 1.61986895  0.60823883]]\n",
      "クラスター3個の時のsse最小時のμk:[[-1.7653772   8.17625727]\n",
      " [-1.91186205  3.18750686]\n",
      " [ 1.61986895  0.60823883]]\n",
      "sse最少の時のμk [[ 1.04829186  5.03092408]\n",
      " [-1.95751686  3.87291474]\n",
      " [-1.89928142  2.50466299]\n",
      " [-1.64996061  7.49068513]]\n",
      "クラスター4個の時のsse最小時のμk:[[ 1.04829186  5.03092408]\n",
      " [-1.95751686  3.87291474]\n",
      " [-1.89928142  2.50466299]\n",
      " [-1.64996061  7.49068513]]\n",
      "sse最少の時のμk [[-1.42525273  7.14798437]\n",
      " [-1.19075663  3.12161318]\n",
      " [ 2.11114739  3.57660449]\n",
      " [ 0.96217896  4.51795326]\n",
      " [-1.21986433  3.3789856 ]]\n",
      "クラスター5個の時のsse最小時のμk:[[-1.42525273  7.14798437]\n",
      " [-1.19075663  3.12161318]\n",
      " [ 2.11114739  3.57660449]\n",
      " [ 0.96217896  4.51795326]\n",
      " [-1.21986433  3.3789856 ]]\n",
      "sse最少の時のμk [[-0.92819001  7.02698199]\n",
      " [-1.86097353  8.2576415 ]\n",
      " [ 2.28809874  0.12954182]\n",
      " [ 1.4726926   1.3480769 ]\n",
      " [ 0.72144399  4.08475018]\n",
      " [-0.69842598  8.16309188]]\n",
      "クラスター6個の時のsse最小時のμk:[[-0.92819001  7.02698199]\n",
      " [-1.86097353  8.2576415 ]\n",
      " [ 2.28809874  0.12954182]\n",
      " [ 1.4726926   1.3480769 ]\n",
      " [ 0.72144399  4.08475018]\n",
      " [-0.69842598  8.16309188]]\n",
      "sse最少の時のμk [[-1.61803727  8.60696731]\n",
      " [-1.74448079  3.84251413]\n",
      " [-0.96358605  2.37791651]\n",
      " [ 1.24016835  1.12905479]\n",
      " [ 1.05374379  4.49286859]\n",
      " [ 0.3498724   4.69253251]\n",
      " [-1.43284669  7.71577043]]\n",
      "クラスター7個の時のsse最小時のμk:[[-1.61803727  8.60696731]\n",
      " [-1.74448079  3.84251413]\n",
      " [-0.96358605  2.37791651]\n",
      " [ 1.24016835  1.12905479]\n",
      " [ 1.05374379  4.49286859]\n",
      " [ 0.3498724   4.69253251]\n",
      " [-1.43284669  7.71577043]]\n",
      "sse最少の時のμk [[-1.86097353  8.2576415 ]\n",
      " [-1.2386086   2.81373288]\n",
      " [-0.98661744  7.74968685]\n",
      " [-1.497272    8.80022604]\n",
      " [ 1.04829186  5.03092408]\n",
      " [ 2.15940501  1.38598318]\n",
      " [ 2.28809874  0.12954182]\n",
      " [ 1.59141542  4.90497725]]\n",
      "クラスター8個の時のsse最小時のμk:[[-1.86097353  8.2576415 ]\n",
      " [-1.2386086   2.81373288]\n",
      " [-0.98661744  7.74968685]\n",
      " [-1.497272    8.80022604]\n",
      " [ 1.04829186  5.03092408]\n",
      " [ 2.15940501  1.38598318]\n",
      " [ 2.28809874  0.12954182]\n",
      " [ 1.59141542  4.90497725]]\n",
      "sse最少の時のμk [[-0.78782636  7.99482384]\n",
      " [ 0.96217896  4.51795326]\n",
      " [-1.57006498  6.72375844]\n",
      " [-1.89928142  2.50466299]\n",
      " [ 1.72330962  4.2012082 ]\n",
      " [-0.93564005  7.03443119]\n",
      " [-1.21986433  3.3789856 ]\n",
      " [ 2.62496786  0.28025075]\n",
      " [-1.7653772   8.17625727]]\n",
      "クラスター9個の時のsse最小時のμk:[[-0.78782636  7.99482384]\n",
      " [ 0.96217896  4.51795326]\n",
      " [-1.57006498  6.72375844]\n",
      " [-1.89928142  2.50466299]\n",
      " [ 1.72330962  4.2012082 ]\n",
      " [-0.93564005  7.03443119]\n",
      " [-1.21986433  3.3789856 ]\n",
      " [ 2.62496786  0.28025075]\n",
      " [-1.7653772   8.17625727]]\n",
      "sse最少の時のμk [[ 2.62496786  0.28025075]\n",
      " [-1.57006498  6.72375844]\n",
      " [-1.84482705  3.25609891]\n",
      " [-2.27253281  3.13757811]\n",
      " [ 2.11872357  1.09865834]\n",
      " [-1.43284669  7.71577043]\n",
      " [ 2.11114739  3.57660449]\n",
      " [ 1.73810647  0.71629308]\n",
      " [-0.96358605  2.37791651]\n",
      " [ 1.89949126  0.92574633]]\n",
      "クラスター10個の時のsse最小時のμk:[[ 2.62496786  0.28025075]\n",
      " [-1.57006498  6.72375844]\n",
      " [-1.84482705  3.25609891]\n",
      " [-2.27253281  3.13757811]\n",
      " [ 2.11872357  1.09865834]\n",
      " [-1.43284669  7.71577043]\n",
      " [ 2.11114739  3.57660449]\n",
      " [ 1.73810647  0.71629308]\n",
      " [-0.96358605  2.37791651]\n",
      " [ 1.89949126  0.92574633]]\n"
     ]
    },
    {
     "data": {
      "image/png": "[encoded data removed]",
      "text/plain": [
       "<Figure size 432x288 with 1 Axes>"
      ]
     },
     "metadata": {
      "needs_background": "light"
     },
     "output_type": "display_data"
    }
   ],
   "source": [
    "list_n_clusters=[]\n",
    "list_sse_min=[]\n",
    "for i in range(1,11):\n",
    "    list_n_clusters.append(i)\n",
    "    kmeans = ScratchKMeans(n_clusters=i,n_init=10, max_iter=50, tol=0.01)\n",
    "    kmeans.fit(X)\n",
    "    list_sse_min.append(copy.deepcopy(kmeans.sse_min))\n",
    "    print(\"クラスター{}個の時のsse最小時のμk:{}\".format(i,kmeans.mean_point))\n",
    "\n",
    "plt.plot(list_n_clusters,list_sse_min, marker=\"o\")\n",
    "plt.title(\"Elbow method\")\n",
    "plt.ylabel(\"SSE\")\n",
    "plt.xlabel(\"clusters\")\n",
    "plt.show()"
   ]
  },
  {
   "cell_type": "markdown",
   "metadata": {},
   "source": [
    "## 【問題9】（アドバンス課題）シルエット図"
   ]
  },
  {
   "cell_type": "code",
   "execution_count": 835,
   "metadata": {
    "ExecuteTime": {
     "end_time": "2019-11-19T01:19:06.162560Z",
     "start_time": "2019-11-19T01:19:06.139248Z"
    }
   },
   "outputs": [
    {
     "ename": "NameError",
     "evalue": "name 'cluster_labels' is not defined",
     "output_type": "error",
     "traceback": [
      "\u001b[0;31m---------------------------------------------------------------------------\u001b[0m",
      "\u001b[0;31mNameError\u001b[0m                                 Traceback (most recent call last)",
      "\u001b[0;32m<ipython-input-835-967d9813265f>\u001b[0m in \u001b[0;36m<module>\u001b[0;34m\u001b[0m\n\u001b[1;32m      4\u001b[0m \u001b[0my_ax_lower\u001b[0m\u001b[0;34m,\u001b[0m \u001b[0my_ax_upper\u001b[0m \u001b[0;34m=\u001b[0m \u001b[0;36m0\u001b[0m\u001b[0;34m,\u001b[0m \u001b[0;36m0\u001b[0m\u001b[0;34m\u001b[0m\u001b[0;34m\u001b[0m\u001b[0m\n\u001b[1;32m      5\u001b[0m \u001b[0myticks\u001b[0m \u001b[0;34m=\u001b[0m \u001b[0;34m[\u001b[0m\u001b[0;34m]\u001b[0m\u001b[0;34m\u001b[0m\u001b[0;34m\u001b[0m\u001b[0m\n\u001b[0;32m----> 6\u001b[0;31m \u001b[0;32mfor\u001b[0m \u001b[0mi\u001b[0m\u001b[0;34m,\u001b[0m \u001b[0mc\u001b[0m \u001b[0;32min\u001b[0m \u001b[0menumerate\u001b[0m\u001b[0;34m(\u001b[0m\u001b[0mcluster_labels\u001b[0m\u001b[0;34m)\u001b[0m\u001b[0;34m:\u001b[0m\u001b[0;34m\u001b[0m\u001b[0;34m\u001b[0m\u001b[0m\n\u001b[0m\u001b[1;32m      7\u001b[0m     \u001b[0mc_silhouette_vals\u001b[0m \u001b[0;34m=\u001b[0m \u001b[0msilhouette_vals\u001b[0m\u001b[0;34m[\u001b[0m\u001b[0my_km\u001b[0m \u001b[0;34m==\u001b[0m \u001b[0mc\u001b[0m\u001b[0;34m]\u001b[0m\u001b[0;34m\u001b[0m\u001b[0;34m\u001b[0m\u001b[0m\n\u001b[1;32m      8\u001b[0m     \u001b[0mc_silhouette_vals\u001b[0m\u001b[0;34m.\u001b[0m\u001b[0msort\u001b[0m\u001b[0;34m(\u001b[0m\u001b[0;34m)\u001b[0m\u001b[0;34m\u001b[0m\u001b[0;34m\u001b[0m\u001b[0m\n",
      "\u001b[0;31mNameError\u001b[0m: name 'cluster_labels' is not defined"
     ]
    }
   ],
   "source": [
    "# シルエット図を表示するためのコード\n",
    "\n",
    "\n",
    "y_ax_lower, y_ax_upper = 0, 0\n",
    "yticks = []\n",
    "for i, c in enumerate(cluster_labels):\n",
    "    c_silhouette_vals = silhouette_vals[y_km == c]\n",
    "    c_silhouette_vals.sort()\n",
    "    y_ax_upper += len(c_silhouette_vals)\n",
    "    color = cm.jet(i / n_clusters)\n",
    "    plt.barh(range(y_ax_lower, y_ax_upper), c_silhouette_vals, height=1.0, edgecolor='none', color=color)\n",
    "    yticks.append((y_ax_lower + y_ax_upper) / 2)\n",
    "    y_ax_lower += len(c_silhouette_vals)\n",
    "\n",
    "plt.axvline(silhouette_avg, color=\"red\", linestyle=\"--\")\n",
    "plt.yticks(yticks, cluster_labels + 1)\n",
    "plt.ylabel('Cluster')\n",
    "plt.xlabel('Silhouette coefficient')\n",
    "plt.show()"
   ]
  },
  {
   "cell_type": "markdown",
   "metadata": {
    "ExecuteTime": {
     "end_time": "2019-11-19T09:39:55.512063Z",
     "start_time": "2019-11-19T09:39:55.509471Z"
    }
   },
   "source": [
    "## クラスタ分析"
   ]
  },
  {
   "cell_type": "markdown",
   "metadata": {},
   "source": [
    "> - 1) FRESH: annual spending (m.u.) on fresh products (Continuous);\n",
    "- 2) MILK: annual spending (m.u.) on milk products (Continuous);\n",
    "- 3) GROCERY: annual spending (m.u.)on grocery products (Continuous);\n",
    "- 4) FROZEN: annual spending (m.u.)on frozen products (Continuous)\n",
    "- 5) DETERGENTS_PAPER: annual spending (m.u.) on detergents and paper products (Continuous)\n",
    "- 6) DELICATESSEN: annual spending (m.u.)on and delicatessen products (Continuous);\n",
    "- 7) CHANNEL: customersâ€™ Channel - Horeca (Hotel/Restaurant/CafÃ©) or Retail channel (Nominal)\n",
    "- 8) REGION: customersâ€™ Region â€“ Lisnon, Oporto or Other (Nominal)"
   ]
  },
  {
   "cell_type": "code",
   "execution_count": 83,
   "metadata": {
    "ExecuteTime": {
     "end_time": "2019-11-19T09:40:07.433863Z",
     "start_time": "2019-11-19T09:40:07.377892Z"
    },
    "scrolled": true
   },
   "outputs": [
    {
     "name": "stdout",
     "output_type": "stream",
     "text": [
      "<class 'pandas.core.frame.DataFrame'>\n",
      "RangeIndex: 440 entries, 0 to 439\n",
      "Data columns (total 8 columns):\n",
      "Channel             440 non-null int64\n",
      "Region              440 non-null int64\n",
      "Fresh               440 non-null int64\n",
      "Milk                440 non-null int64\n",
      "Grocery             440 non-null int64\n",
      "Frozen              440 non-null int64\n",
      "Detergents_Paper    440 non-null int64\n",
      "Delicassen          440 non-null int64\n",
      "dtypes: int64(8)\n",
      "memory usage: 27.6 KB\n"
     ]
    },
    {
     "data": {
      "text/html": [
       "<div>\n",
       "<style scoped>\n",
       "    .dataframe tbody tr th:only-of-type {\n",
       "        vertical-align: middle;\n",
       "    }\n",
       "\n",
       "    .dataframe tbody tr th {\n",
       "        vertical-align: top;\n",
       "    }\n",
       "\n",
       "    .dataframe thead th {\n",
       "        text-align: right;\n",
       "    }\n",
       "</style>\n",
       "<table border=\"1\" class=\"dataframe\">\n",
       "  <thead>\n",
       "    <tr style=\"text-align: right;\">\n",
       "      <th></th>\n",
       "      <th>Channel</th>\n",
       "      <th>Region</th>\n",
       "      <th>Fresh</th>\n",
       "      <th>Milk</th>\n",
       "      <th>Grocery</th>\n",
       "      <th>Frozen</th>\n",
       "      <th>Detergents_Paper</th>\n",
       "      <th>Delicassen</th>\n",
       "    </tr>\n",
       "  </thead>\n",
       "  <tbody>\n",
       "    <tr>\n",
       "      <th>0</th>\n",
       "      <td>2</td>\n",
       "      <td>3</td>\n",
       "      <td>12669</td>\n",
       "      <td>9656</td>\n",
       "      <td>7561</td>\n",
       "      <td>214</td>\n",
       "      <td>2674</td>\n",
       "      <td>1338</td>\n",
       "    </tr>\n",
       "    <tr>\n",
       "      <th>1</th>\n",
       "      <td>2</td>\n",
       "      <td>3</td>\n",
       "      <td>7057</td>\n",
       "      <td>9810</td>\n",
       "      <td>9568</td>\n",
       "      <td>1762</td>\n",
       "      <td>3293</td>\n",
       "      <td>1776</td>\n",
       "    </tr>\n",
       "    <tr>\n",
       "      <th>2</th>\n",
       "      <td>2</td>\n",
       "      <td>3</td>\n",
       "      <td>6353</td>\n",
       "      <td>8808</td>\n",
       "      <td>7684</td>\n",
       "      <td>2405</td>\n",
       "      <td>3516</td>\n",
       "      <td>7844</td>\n",
       "    </tr>\n",
       "  </tbody>\n",
       "</table>\n",
       "</div>"
      ],
      "text/plain": [
       "   Channel  Region  Fresh  Milk  Grocery  Frozen  Detergents_Paper  Delicassen\n",
       "0        2       3  12669  9656     7561     214              2674        1338\n",
       "1        2       3   7057  9810     9568    1762              3293        1776\n",
       "2        2       3   6353  8808     7684    2405              3516        7844"
      ]
     },
     "metadata": {},
     "output_type": "display_data"
    },
    {
     "data": {
      "text/html": [
       "<div>\n",
       "<style scoped>\n",
       "    .dataframe tbody tr th:only-of-type {\n",
       "        vertical-align: middle;\n",
       "    }\n",
       "\n",
       "    .dataframe tbody tr th {\n",
       "        vertical-align: top;\n",
       "    }\n",
       "\n",
       "    .dataframe thead th {\n",
       "        text-align: right;\n",
       "    }\n",
       "</style>\n",
       "<table border=\"1\" class=\"dataframe\">\n",
       "  <thead>\n",
       "    <tr style=\"text-align: right;\">\n",
       "      <th></th>\n",
       "      <th>Fresh</th>\n",
       "      <th>Milk</th>\n",
       "      <th>Grocery</th>\n",
       "      <th>Frozen</th>\n",
       "      <th>Detergents_Paper</th>\n",
       "      <th>Delicassen</th>\n",
       "    </tr>\n",
       "  </thead>\n",
       "  <tbody>\n",
       "    <tr>\n",
       "      <th>0</th>\n",
       "      <td>12669</td>\n",
       "      <td>9656</td>\n",
       "      <td>7561</td>\n",
       "      <td>214</td>\n",
       "      <td>2674</td>\n",
       "      <td>1338</td>\n",
       "    </tr>\n",
       "    <tr>\n",
       "      <th>1</th>\n",
       "      <td>7057</td>\n",
       "      <td>9810</td>\n",
       "      <td>9568</td>\n",
       "      <td>1762</td>\n",
       "      <td>3293</td>\n",
       "      <td>1776</td>\n",
       "    </tr>\n",
       "    <tr>\n",
       "      <th>2</th>\n",
       "      <td>6353</td>\n",
       "      <td>8808</td>\n",
       "      <td>7684</td>\n",
       "      <td>2405</td>\n",
       "      <td>3516</td>\n",
       "      <td>7844</td>\n",
       "    </tr>\n",
       "  </tbody>\n",
       "</table>\n",
       "</div>"
      ],
      "text/plain": [
       "   Fresh  Milk  Grocery  Frozen  Detergents_Paper  Delicassen\n",
       "0  12669  9656     7561     214              2674        1338\n",
       "1   7057  9810     9568    1762              3293        1776\n",
       "2   6353  8808     7684    2405              3516        7844"
      ]
     },
     "metadata": {},
     "output_type": "display_data"
    },
    {
     "name": "stderr",
     "output_type": "stream",
     "text": [
      "/Users/akishimasaki/.pyenv/versions/anaconda3-2019.03/lib/python3.7/site-packages/sklearn/preprocessing/data.py:645: DataConversionWarning: Data with input dtype int64 were all converted to float64 by StandardScaler.\n",
      "  return self.partial_fit(X, y)\n",
      "/Users/akishimasaki/.pyenv/versions/anaconda3-2019.03/lib/python3.7/site-packages/ipykernel_launcher.py:12: DataConversionWarning: Data with input dtype int64 were all converted to float64 by StandardScaler.\n",
      "  if sys.path[0] == '':\n"
     ]
    },
    {
     "data": {
      "text/html": [
       "<div>\n",
       "<style scoped>\n",
       "    .dataframe tbody tr th:only-of-type {\n",
       "        vertical-align: middle;\n",
       "    }\n",
       "\n",
       "    .dataframe tbody tr th {\n",
       "        vertical-align: top;\n",
       "    }\n",
       "\n",
       "    .dataframe thead th {\n",
       "        text-align: right;\n",
       "    }\n",
       "</style>\n",
       "<table border=\"1\" class=\"dataframe\">\n",
       "  <thead>\n",
       "    <tr style=\"text-align: right;\">\n",
       "      <th></th>\n",
       "      <th>Fresh</th>\n",
       "      <th>Milk</th>\n",
       "      <th>Grocery</th>\n",
       "      <th>Frozen</th>\n",
       "      <th>Detergents_Paper</th>\n",
       "      <th>Delicassen</th>\n",
       "    </tr>\n",
       "  </thead>\n",
       "  <tbody>\n",
       "    <tr>\n",
       "      <th>0</th>\n",
       "      <td>0.052933</td>\n",
       "      <td>0.523568</td>\n",
       "      <td>-0.041115</td>\n",
       "      <td>-0.589367</td>\n",
       "      <td>-0.043569</td>\n",
       "      <td>-0.066339</td>\n",
       "    </tr>\n",
       "    <tr>\n",
       "      <th>1</th>\n",
       "      <td>-0.391302</td>\n",
       "      <td>0.544458</td>\n",
       "      <td>0.170318</td>\n",
       "      <td>-0.270136</td>\n",
       "      <td>0.086407</td>\n",
       "      <td>0.089151</td>\n",
       "    </tr>\n",
       "    <tr>\n",
       "      <th>2</th>\n",
       "      <td>-0.447029</td>\n",
       "      <td>0.408538</td>\n",
       "      <td>-0.028157</td>\n",
       "      <td>-0.137536</td>\n",
       "      <td>0.133232</td>\n",
       "      <td>2.243293</td>\n",
       "    </tr>\n",
       "  </tbody>\n",
       "</table>\n",
       "</div>"
      ],
      "text/plain": [
       "      Fresh      Milk   Grocery    Frozen  Detergents_Paper  Delicassen\n",
       "0  0.052933  0.523568 -0.041115 -0.589367         -0.043569   -0.066339\n",
       "1 -0.391302  0.544458  0.170318 -0.270136          0.086407    0.089151\n",
       "2 -0.447029  0.408538 -0.028157 -0.137536          0.133232    2.243293"
      ]
     },
     "metadata": {},
     "output_type": "display_data"
    }
   ],
   "source": [
    "#中身は各顧客が年間でミルクや食料品を何ユーロ購入しているかというデータになっています。\n",
    "data = pd.read_csv('Wholesale customers data.csv')\n",
    "data.info()\n",
    "display(data.head(3))\n",
    "X_df = data.drop(['Channel','Region'],axis=1)\n",
    "display(X_df.head(3))\n",
    "X_data = copy.deepcopy(X_df)\n",
    "\n",
    "scaler = StandardScaler()\n",
    "scaler.fit(X_data)\n",
    "\n",
    "X_data_std = pd.DataFrame(scaler.transform(X_data), columns=X_data.columns)\n",
    "X_data_log = np.log(X_data)\n",
    "display(X_data_std.head(3))\n",
    "X_data_array = X_data.values\n",
    "# print(X_data_array.shape)"
   ]
  },
  {
   "cell_type": "code",
   "execution_count": 84,
   "metadata": {
    "ExecuteTime": {
     "end_time": "2019-11-19T09:40:36.523431Z",
     "start_time": "2019-11-19T09:40:36.520628Z"
    }
   },
   "outputs": [],
   "source": [
    "# s = 2\n",
    "# kmeans_model = KMeans(n_clusters=s, random_state=10).fit(X_data)\n",
    "# print(kmeans_model.labels_)\n",
    "# print(kmeans_model.cluster_centers_[:,0], kmeans_model.cluster_centers_[:,1])\n",
    "# colors = [color_codes[x] for x in kmeans_model.labels_]\n",
    "# # 第一主成分と第二主成分でプロットする\n",
    "# plt.figure(figsize=(6, 6))\n",
    "# for kx, ky, name in zip(x, y, X_data.iloc[:, 0]):\n",
    "#     plt.text(kx, ky, name, alpha=0.8, size=10)\n",
    "# plt.scatter(x, y, alpha=0.8,  color=colors) \n",
    "# plt.scatter(kmeans_model.cluster_centers_[:,0], kmeans_model.cluster_centers_[:,1], c = \"b\", marker = \"*\", s = 50)\n",
    "# plt.title(\"Principal Component Analysis\")\n",
    "# plt.xlabel(\"The first principal component score\")\n",
    "# plt.ylabel(\"The second principal component score\")\n",
    "# plt.savefig('k-means/keiba_std2_PCA12_plot'+str(s)+'.jpg')\n",
    "# plt.pause(1)\n",
    "# plt.close()"
   ]
  },
  {
   "cell_type": "markdown",
   "metadata": {},
   "source": [
    "### 次元削減"
   ]
  },
  {
   "cell_type": "code",
   "execution_count": 85,
   "metadata": {
    "ExecuteTime": {
     "end_time": "2019-11-19T09:40:37.837225Z",
     "start_time": "2019-11-19T09:40:37.680832Z"
    },
    "scrolled": true
   },
   "outputs": [
    {
     "name": "stdout",
     "output_type": "stream",
     "text": [
      "[0.44082893 0.72459292 0.84793705 0.94189209 0.98950481 1.        ]\n"
     ]
    },
    {
     "data": {
      "image/png": "[encoded data removed]",
      "text/plain": [
       "<Figure size 432x288 with 1 Axes>"
      ]
     },
     "metadata": {
      "needs_background": "light"
     },
     "output_type": "display_data"
    }
   ],
   "source": [
    "pca = PCA(n_components=None)\n",
    "pca = pca.fit(X_data_std)\n",
    "var_exp = pca.explained_variance_ratio_\n",
    "cum_var_exp = np.cumsum(var_exp)\n",
    "print(cum_var_exp)\n",
    "plt.bar(range(1,7), var_exp, alpha=0.5, align='center', label='individual explained variance')\n",
    "plt.step(range(1,7), cum_var_exp, where='mid', label='cumulative expalined variance')\n",
    "plt.ylabel('Explained variance ratio')\n",
    "plt.xlabel('Principal components')\n",
    "plt.hlines(0.7, 0, 6,  \"blue\", linestyles='dashed')\n",
    "plt.legend(loc='best')\n",
    "plt.grid()\n",
    "plt.show()"
   ]
  },
  {
   "cell_type": "markdown",
   "metadata": {},
   "source": [
    "#### 【問題10】クラスタ数kの選択"
   ]
  },
  {
   "cell_type": "code",
   "execution_count": 86,
   "metadata": {
    "ExecuteTime": {
     "end_time": "2019-11-19T09:40:38.907134Z",
     "start_time": "2019-11-19T09:40:38.904409Z"
    }
   },
   "outputs": [],
   "source": [
    "# 減衰からクラスタ数4が最適と考える"
   ]
  },
  {
   "cell_type": "code",
   "execution_count": 87,
   "metadata": {
    "ExecuteTime": {
     "end_time": "2019-11-19T09:40:39.839114Z",
     "start_time": "2019-11-19T09:40:39.351721Z"
    },
    "scrolled": true
   },
   "outputs": [
    {
     "name": "stdout",
     "output_type": "stream",
     "text": [
      "(440, 2)\n",
      "sse最少の時のμk [[ 1.30784776 -0.59905912]\n",
      " [-2.01636923 -0.42677513]\n",
      " [ 0.87599591  3.89488775]\n",
      " [-4.60179702  0.33071296]]\n"
     ]
    }
   ],
   "source": [
    "#対数変換\n",
    "pca = PCA(n_components = 2)\n",
    "pca = pca.fit(X_data_log)\n",
    "data_pca_log = pca.transform(X_data_log)\n",
    "print(data_pca_log.shape)\n",
    "\n",
    "kmeans = ScratchKMeans(n_clusters=4,n_init=10, max_iter=50, tol=0.01)\n",
    "kmeans.fit(data_pca_log)\n",
    "data_pca_label = kmeans.predict(data_pca_log).ravel()"
   ]
  },
  {
   "cell_type": "code",
   "execution_count": 89,
   "metadata": {
    "ExecuteTime": {
     "end_time": "2019-11-19T09:41:17.456527Z",
     "start_time": "2019-11-19T09:41:16.965653Z"
    }
   },
   "outputs": [
    {
     "data": {
      "text/plain": [
       "<matplotlib.collections.PathCollection at 0x1a194b7828>"
      ]
     },
     "execution_count": 89,
     "metadata": {},
     "output_type": "execute_result"
    },
    {
     "data": {
      "image/png": "[encoded data removed]",
      "text/plain": [
       "<Figure size 864x1296 with 3 Axes>"
      ]
     },
     "metadata": {
      "needs_background": "light"
     },
     "output_type": "display_data"
    }
   ],
   "source": [
    "# クラスタ比較 log\n",
    "plt.figure(figsize=(12,18))\n",
    "plt.subplot(3,2,1)\n",
    "plt.scatter(x = data_pca_log[:,0],\n",
    "            y =data_pca_log[:,1],\n",
    "            c = data['Channel'], \n",
    "            cmap=\"winter\")\n",
    "\n",
    "plt.subplot(3,2,2)\n",
    "plt.scatter(x = data_pca_log[:,0],\n",
    "            y =data_pca_log[:,1],\n",
    "            c = data['Region'], \n",
    "            cmap=\"autumn\")\n",
    "\n",
    "plt.subplot(3,2,3)\n",
    "plt.scatter(data_pca_log[:,0],\n",
    "            data_pca_log[:,1],\n",
    "            c=data_pca_label,\n",
    "            cmap='spring')"
   ]
  },
  {
   "cell_type": "markdown",
   "metadata": {},
   "source": [
    "#### 【問題11】既知のグループとの比較"
   ]
  },
  {
   "cell_type": "code",
   "execution_count": 90,
   "metadata": {
    "ExecuteTime": {
     "end_time": "2019-11-19T09:41:36.469047Z",
     "start_time": "2019-11-19T09:41:35.938940Z"
    }
   },
   "outputs": [
    {
     "name": "stdout",
     "output_type": "stream",
     "text": [
      "sse最少の時のμk [[25207.37049217 -9377.12120212]\n",
      " [-6495.03494222  5317.57356003]\n",
      " [ 5243.74639255 -8005.22860094]\n",
      " [-4031.70771982 -6050.53592624]]\n"
     ]
    }
   ],
   "source": [
    "#元データ\n",
    "pca = PCA(n_components = 2)\n",
    "pca = pca.fit(X_data)\n",
    "data_pca = pca.transform(X_data)\n",
    "# print(data_pca.shape)\n",
    "x,y = data_pca[:, 0], data_pca[:, 1]\n",
    "# print(x,y) \n",
    "# X=np.c_[x,y]\n",
    "kmeans = ScratchKMeans(n_clusters=4,n_init=10, max_iter=50, tol=0.01)\n",
    "kmeans.fit(data_pca)\n",
    "data_pca_label = kmeans.predict(data_pca).ravel()"
   ]
  },
  {
   "cell_type": "code",
   "execution_count": 91,
   "metadata": {
    "ExecuteTime": {
     "end_time": "2019-11-19T09:41:37.009094Z",
     "start_time": "2019-11-19T09:41:36.540034Z"
    }
   },
   "outputs": [
    {
     "data": {
      "text/plain": [
       "<matplotlib.collections.PathCollection at 0x1a197dd780>"
      ]
     },
     "execution_count": 91,
     "metadata": {},
     "output_type": "execute_result"
    },
    {
     "data": {
      "image/png": "[encoded data removed]",
      "text/plain": [
       "<Figure size 864x1296 with 3 Axes>"
      ]
     },
     "metadata": {
      "needs_background": "light"
     },
     "output_type": "display_data"
    }
   ],
   "source": [
    "# クラスタ比較\n",
    "plt.figure(figsize=(12,18))\n",
    "plt.subplot(3,2,1)\n",
    "plt.scatter(x = data_pca[:,0],\n",
    "            y =data_pca[:,1],\n",
    "            c = data['Channel'], \n",
    "            cmap=\"winter\")\n",
    "\n",
    "plt.subplot(3,2,2)\n",
    "plt.scatter(x = data_pca[:,0],\n",
    "            y =data_pca[:,1],\n",
    "            c = data['Region'], \n",
    "            cmap=\"autumn\")\n",
    "\n",
    "plt.subplot(3,2,3)\n",
    "plt.scatter(data_pca[:,0],\n",
    "            data_pca[:,1],\n",
    "            c=data_pca_label,\n",
    "            cmap='spring')"
   ]
  },
  {
   "cell_type": "markdown",
   "metadata": {},
   "source": [
    "### 【問題12】卸売業者にとって有益な情報"
   ]
  },
  {
   "cell_type": "code",
   "execution_count": 111,
   "metadata": {
    "ExecuteTime": {
     "end_time": "2019-11-19T10:02:12.109473Z",
     "start_time": "2019-11-19T10:02:12.030246Z"
    }
   },
   "outputs": [
    {
     "data": {
      "text/html": [
       "<div>\n",
       "<style scoped>\n",
       "    .dataframe tbody tr th:only-of-type {\n",
       "        vertical-align: middle;\n",
       "    }\n",
       "\n",
       "    .dataframe tbody tr th {\n",
       "        vertical-align: top;\n",
       "    }\n",
       "\n",
       "    .dataframe thead th {\n",
       "        text-align: right;\n",
       "    }\n",
       "</style>\n",
       "<table border=\"1\" class=\"dataframe\">\n",
       "  <thead>\n",
       "    <tr style=\"text-align: right;\">\n",
       "      <th></th>\n",
       "      <th>Fresh</th>\n",
       "      <th>Milk</th>\n",
       "      <th>Grocery</th>\n",
       "      <th>Frozen</th>\n",
       "      <th>Detergents_Paper</th>\n",
       "      <th>Delicassen</th>\n",
       "    </tr>\n",
       "  </thead>\n",
       "  <tbody>\n",
       "    <tr>\n",
       "      <th>count</th>\n",
       "      <td>440.000000</td>\n",
       "      <td>440.000000</td>\n",
       "      <td>440.000000</td>\n",
       "      <td>440.000000</td>\n",
       "      <td>440.000000</td>\n",
       "      <td>440.000000</td>\n",
       "    </tr>\n",
       "    <tr>\n",
       "      <th>mean</th>\n",
       "      <td>12000.297727</td>\n",
       "      <td>5796.265909</td>\n",
       "      <td>7951.277273</td>\n",
       "      <td>3071.931818</td>\n",
       "      <td>2881.493182</td>\n",
       "      <td>1524.870455</td>\n",
       "    </tr>\n",
       "    <tr>\n",
       "      <th>std</th>\n",
       "      <td>12647.328865</td>\n",
       "      <td>7380.377175</td>\n",
       "      <td>9503.162829</td>\n",
       "      <td>4854.673333</td>\n",
       "      <td>4767.854448</td>\n",
       "      <td>2820.105937</td>\n",
       "    </tr>\n",
       "    <tr>\n",
       "      <th>min</th>\n",
       "      <td>3.000000</td>\n",
       "      <td>55.000000</td>\n",
       "      <td>3.000000</td>\n",
       "      <td>25.000000</td>\n",
       "      <td>3.000000</td>\n",
       "      <td>3.000000</td>\n",
       "    </tr>\n",
       "    <tr>\n",
       "      <th>25%</th>\n",
       "      <td>3127.750000</td>\n",
       "      <td>1533.000000</td>\n",
       "      <td>2153.000000</td>\n",
       "      <td>742.250000</td>\n",
       "      <td>256.750000</td>\n",
       "      <td>408.250000</td>\n",
       "    </tr>\n",
       "    <tr>\n",
       "      <th>50%</th>\n",
       "      <td>8504.000000</td>\n",
       "      <td>3627.000000</td>\n",
       "      <td>4755.500000</td>\n",
       "      <td>1526.000000</td>\n",
       "      <td>816.500000</td>\n",
       "      <td>965.500000</td>\n",
       "    </tr>\n",
       "    <tr>\n",
       "      <th>75%</th>\n",
       "      <td>16933.750000</td>\n",
       "      <td>7190.250000</td>\n",
       "      <td>10655.750000</td>\n",
       "      <td>3554.250000</td>\n",
       "      <td>3922.000000</td>\n",
       "      <td>1820.250000</td>\n",
       "    </tr>\n",
       "    <tr>\n",
       "      <th>max</th>\n",
       "      <td>112151.000000</td>\n",
       "      <td>73498.000000</td>\n",
       "      <td>92780.000000</td>\n",
       "      <td>60869.000000</td>\n",
       "      <td>40827.000000</td>\n",
       "      <td>47943.000000</td>\n",
       "    </tr>\n",
       "  </tbody>\n",
       "</table>\n",
       "</div>"
      ],
      "text/plain": [
       "               Fresh          Milk       Grocery        Frozen  \\\n",
       "count     440.000000    440.000000    440.000000    440.000000   \n",
       "mean    12000.297727   5796.265909   7951.277273   3071.931818   \n",
       "std     12647.328865   7380.377175   9503.162829   4854.673333   \n",
       "min         3.000000     55.000000      3.000000     25.000000   \n",
       "25%      3127.750000   1533.000000   2153.000000    742.250000   \n",
       "50%      8504.000000   3627.000000   4755.500000   1526.000000   \n",
       "75%     16933.750000   7190.250000  10655.750000   3554.250000   \n",
       "max    112151.000000  73498.000000  92780.000000  60869.000000   \n",
       "\n",
       "       Detergents_Paper    Delicassen  \n",
       "count        440.000000    440.000000  \n",
       "mean        2881.493182   1524.870455  \n",
       "std         4767.854448   2820.105937  \n",
       "min            3.000000      3.000000  \n",
       "25%          256.750000    408.250000  \n",
       "50%          816.500000    965.500000  \n",
       "75%         3922.000000   1820.250000  \n",
       "max        40827.000000  47943.000000  "
      ]
     },
     "metadata": {},
     "output_type": "display_data"
    },
    {
     "name": "stdout",
     "output_type": "stream",
     "text": [
      "クラスタ1\n"
     ]
    },
    {
     "data": {
      "text/html": [
       "<div>\n",
       "<style scoped>\n",
       "    .dataframe tbody tr th:only-of-type {\n",
       "        vertical-align: middle;\n",
       "    }\n",
       "\n",
       "    .dataframe tbody tr th {\n",
       "        vertical-align: top;\n",
       "    }\n",
       "\n",
       "    .dataframe thead th {\n",
       "        text-align: right;\n",
       "    }\n",
       "</style>\n",
       "<table border=\"1\" class=\"dataframe\">\n",
       "  <thead>\n",
       "    <tr style=\"text-align: right;\">\n",
       "      <th></th>\n",
       "      <th>count</th>\n",
       "      <th>mean</th>\n",
       "      <th>std</th>\n",
       "      <th>min</th>\n",
       "      <th>25%</th>\n",
       "      <th>50%</th>\n",
       "      <th>75%</th>\n",
       "      <th>max</th>\n",
       "    </tr>\n",
       "  </thead>\n",
       "  <tbody>\n",
       "    <tr>\n",
       "      <th>0</th>\n",
       "      <td>78.0</td>\n",
       "      <td>13885.693802</td>\n",
       "      <td>22593.209616</td>\n",
       "      <td>-14003.59464</td>\n",
       "      <td>-6000.614891</td>\n",
       "      <td>16982.379235</td>\n",
       "      <td>27073.437577</td>\n",
       "      <td>103863.42532</td>\n",
       "    </tr>\n",
       "  </tbody>\n",
       "</table>\n",
       "</div>"
      ],
      "text/plain": [
       "   count          mean           std          min          25%           50%  \\\n",
       "0   78.0  13885.693802  22593.209616 -14003.59464 -6000.614891  16982.379235   \n",
       "\n",
       "            75%           max  \n",
       "0  27073.437577  103863.42532  "
      ]
     },
     "metadata": {},
     "output_type": "display_data"
    },
    {
     "name": "stdout",
     "output_type": "stream",
     "text": [
      "クラスタ2\n"
     ]
    },
    {
     "data": {
      "text/html": [
       "<div>\n",
       "<style scoped>\n",
       "    .dataframe tbody tr th:only-of-type {\n",
       "        vertical-align: middle;\n",
       "    }\n",
       "\n",
       "    .dataframe tbody tr th {\n",
       "        vertical-align: top;\n",
       "    }\n",
       "\n",
       "    .dataframe thead th {\n",
       "        text-align: right;\n",
       "    }\n",
       "</style>\n",
       "<table border=\"1\" class=\"dataframe\">\n",
       "  <thead>\n",
       "    <tr style=\"text-align: right;\">\n",
       "      <th></th>\n",
       "      <th>count</th>\n",
       "      <th>mean</th>\n",
       "      <th>std</th>\n",
       "      <th>min</th>\n",
       "      <th>25%</th>\n",
       "      <th>50%</th>\n",
       "      <th>75%</th>\n",
       "      <th>max</th>\n",
       "    </tr>\n",
       "  </thead>\n",
       "  <tbody>\n",
       "    <tr>\n",
       "      <th>0</th>\n",
       "      <td>272.0</td>\n",
       "      <td>3148.504388</td>\n",
       "      <td>13992.004979</td>\n",
       "      <td>-12806.881693</td>\n",
       "      <td>-7238.287175</td>\n",
       "      <td>1241.208483</td>\n",
       "      <td>8157.000748</td>\n",
       "      <td>99226.734125</td>\n",
       "    </tr>\n",
       "  </tbody>\n",
       "</table>\n",
       "</div>"
      ],
      "text/plain": [
       "   count         mean           std           min          25%          50%  \\\n",
       "0  272.0  3148.504388  13992.004979 -12806.881693 -7238.287175  1241.208483   \n",
       "\n",
       "           75%           max  \n",
       "0  8157.000748  99226.734125  "
      ]
     },
     "metadata": {},
     "output_type": "display_data"
    },
    {
     "name": "stdout",
     "output_type": "stream",
     "text": [
      "クラスタ3\n"
     ]
    },
    {
     "data": {
      "text/html": [
       "<div>\n",
       "<style scoped>\n",
       "    .dataframe tbody tr th:only-of-type {\n",
       "        vertical-align: middle;\n",
       "    }\n",
       "\n",
       "    .dataframe tbody tr th {\n",
       "        vertical-align: top;\n",
       "    }\n",
       "\n",
       "    .dataframe thead th {\n",
       "        text-align: right;\n",
       "    }\n",
       "</style>\n",
       "<table border=\"1\" class=\"dataframe\">\n",
       "  <thead>\n",
       "    <tr style=\"text-align: right;\">\n",
       "      <th></th>\n",
       "      <th>count</th>\n",
       "      <th>mean</th>\n",
       "      <th>std</th>\n",
       "      <th>min</th>\n",
       "      <th>25%</th>\n",
       "      <th>50%</th>\n",
       "      <th>75%</th>\n",
       "      <th>max</th>\n",
       "    </tr>\n",
       "  </thead>\n",
       "  <tbody>\n",
       "    <tr>\n",
       "      <th>0</th>\n",
       "      <td>188.0</td>\n",
       "      <td>736.748349</td>\n",
       "      <td>7343.481057</td>\n",
       "      <td>-11122.328236</td>\n",
       "      <td>-7175.137338</td>\n",
       "      <td>1502.627363</td>\n",
       "      <td>6084.659891</td>\n",
       "      <td>15515.843715</td>\n",
       "    </tr>\n",
       "  </tbody>\n",
       "</table>\n",
       "</div>"
      ],
      "text/plain": [
       "   count        mean          std           min          25%          50%  \\\n",
       "0  188.0  736.748349  7343.481057 -11122.328236 -7175.137338  1502.627363   \n",
       "\n",
       "           75%           max  \n",
       "0  6084.659891  15515.843715  "
      ]
     },
     "metadata": {},
     "output_type": "display_data"
    },
    {
     "name": "stdout",
     "output_type": "stream",
     "text": [
      "クラスタ4\n"
     ]
    },
    {
     "data": {
      "text/html": [
       "<div>\n",
       "<style scoped>\n",
       "    .dataframe tbody tr th:only-of-type {\n",
       "        vertical-align: middle;\n",
       "    }\n",
       "\n",
       "    .dataframe tbody tr th {\n",
       "        vertical-align: top;\n",
       "    }\n",
       "\n",
       "    .dataframe thead th {\n",
       "        text-align: right;\n",
       "    }\n",
       "</style>\n",
       "<table border=\"1\" class=\"dataframe\">\n",
       "  <thead>\n",
       "    <tr style=\"text-align: right;\">\n",
       "      <th></th>\n",
       "      <th>count</th>\n",
       "      <th>mean</th>\n",
       "      <th>std</th>\n",
       "      <th>min</th>\n",
       "      <th>25%</th>\n",
       "      <th>50%</th>\n",
       "      <th>75%</th>\n",
       "      <th>max</th>\n",
       "    </tr>\n",
       "  </thead>\n",
       "  <tbody>\n",
       "    <tr>\n",
       "      <th>0</th>\n",
       "      <td>342.0</td>\n",
       "      <td>-6075.982455</td>\n",
       "      <td>3147.661805</td>\n",
       "      <td>-13019.907993</td>\n",
       "      <td>-8245.294751</td>\n",
       "      <td>-6266.777317</td>\n",
       "      <td>-3736.699382</td>\n",
       "      <td>827.633995</td>\n",
       "    </tr>\n",
       "  </tbody>\n",
       "</table>\n",
       "</div>"
      ],
      "text/plain": [
       "   count         mean          std           min          25%          50%  \\\n",
       "0  342.0 -6075.982455  3147.661805 -13019.907993 -8245.294751 -6266.777317   \n",
       "\n",
       "           75%         max  \n",
       "0 -3736.699382  827.633995  "
      ]
     },
     "metadata": {},
     "output_type": "display_data"
    },
    {
     "name": "stdout",
     "output_type": "stream",
     "text": [
      "(440, 2)\n"
     ]
    }
   ],
   "source": [
    "display(X_data.describe())\n",
    "# display(pd.DataFrame(pd.Series(data_pca.ravel()).describe()).transpose())\n",
    "for i in range(len(np.unique(data_pca_label))):\n",
    "    print(\"クラスタ{}\".format(i+1))\n",
    "    display(pd.DataFrame\n",
    "            (pd.Series\n",
    "             (data_pca\n",
    "              [data_pca_label==\n",
    "               i ].ravel())\n",
    "             .describe()).transpose())\n",
    "data_pca_df = pd.DataFrame(data_pca)\n",
    "print(data_pca_df.shape)"
   ]
  },
  {
   "cell_type": "code",
   "execution_count": 113,
   "metadata": {
    "ExecuteTime": {
     "end_time": "2019-11-19T10:04:11.432919Z",
     "start_time": "2019-11-19T10:04:11.184817Z"
    }
   },
   "outputs": [
    {
     "name": "stdout",
     "output_type": "stream",
     "text": [
      "                         0         1\n",
      "Fresh             0.991805 -0.105480\n",
      "Milk              0.210913  0.842878\n",
      "Grocery           0.083182  0.970353\n",
      "Frozen            0.403144 -0.046514\n",
      "Detergents_Paper -0.019005  0.924160\n",
      "Delicassen        0.310205  0.244103\n"
     ]
    },
    {
     "data": {
      "text/plain": [
       "<matplotlib.axes._subplots.AxesSubplot at 0x1a1a022438>"
      ]
     },
     "execution_count": 113,
     "metadata": {},
     "output_type": "execute_result"
    },
    {
     "data": {
      "image/png": "[encoded data removed]",
      "text/plain": [
       "<Figure size 432x288 with 2 Axes>"
      ]
     },
     "metadata": {
      "needs_background": "light"
     },
     "output_type": "display_data"
    }
   ],
   "source": [
    "#次元削減後の特徴量と削減前のものの相関を見る\n",
    "res = (1 - cdist(X_data.T.values, data_pca_df.T.values, metric='correlation'))\n",
    "res = pd.DataFrame(res, index= X_data.columns, columns = data_pca_df.columns)\n",
    "print(res)\n",
    "sns.heatmap(res, vmax=1,linewidths=0.5,annot=True,cmap='winter')"
   ]
  },
  {
   "cell_type": "code",
   "execution_count": 99,
   "metadata": {
    "ExecuteTime": {
     "end_time": "2019-11-19T09:51:46.039946Z",
     "start_time": "2019-11-19T09:51:46.024158Z"
    }
   },
   "outputs": [],
   "source": [
    "#相関関係行列から、次元削減後の特徴量0は生鮮食品や冷凍食品の売上、\n",
    "#特徴量１は牛乳、その他持ち帰り惣菜(Grocery)、\n",
    "#また洗剤や紙類といった雑貨などの売上と関係すると見られる。\n",
    "'''\n",
    "以上の特性から、\n",
    "特徴量0を\"stuffs_for_cooking(自炊素材)\"、特徴量1を\"daily_use(その他食料雑貨)\"と名付ける。\n",
    "'''\n",
    "dic = {0:'stuffs_for_cooking',1:'daily_use'}\n",
    "pca_df = data_pca_df.rename(columns=dic)\n",
    "pca_with_label = copy.deepcopy(pca_df)\n",
    "#X_data,data_pca_label　ラベル追加\n",
    "pca_with_label['label']= data_pca_label +1\n",
    "X_data_with_label = copy.deepcopy(X_data)\n",
    "X_data_with_label['label'] = data_pca_label +1\n",
    "# display(pca_df)"
   ]
  },
  {
   "cell_type": "code",
   "execution_count": 100,
   "metadata": {
    "ExecuteTime": {
     "end_time": "2019-11-19T09:51:49.247416Z",
     "start_time": "2019-11-19T09:51:48.563153Z"
    }
   },
   "outputs": [
    {
     "data": {
      "text/plain": [
       "<matplotlib.axes._subplots.AxesSubplot at 0x1a19aa93c8>"
      ]
     },
     "execution_count": 100,
     "metadata": {},
     "output_type": "execute_result"
    },
    {
     "data": {
      "text/plain": [
       "<Figure size 864x1296 with 0 Axes>"
      ]
     },
     "metadata": {},
     "output_type": "display_data"
    },
    {
     "data": {
      "image/png": "[encoded data removed]",
      "text/plain": [
       "<Figure size 432x288 with 1 Axes>"
      ]
     },
     "metadata": {
      "needs_background": "light"
     },
     "output_type": "display_data"
    },
    {
     "data": {
      "image/png": "[encoded data removed]",
      "text/plain": [
       "<Figure size 432x288 with 1 Axes>"
      ]
     },
     "metadata": {
      "needs_background": "light"
     },
     "output_type": "display_data"
    },
    {
     "data": {
      "image/png": "[encoded data removed]",
      "text/plain": [
       "<Figure size 432x288 with 1 Axes>"
      ]
     },
     "metadata": {
      "needs_background": "light"
     },
     "output_type": "display_data"
    }
   ],
   "source": [
    "'''\n",
    "ここからはkmeansで分割した4クラスを\n",
    "\"自炊素材\"\"その他食料雑貨\"の2特徴量で比較していく。\n",
    "#条件ごとにデータを見る際にはPandasのgroupbyが便利です。\n",
    "'''\n",
    "#pca_df.groupby(by=label)\n",
    "#pca_df.groupby('data_pca_label').get_group(0)\n",
    "\n",
    "# group_1 = pca_with_label.groupby('label').get_group(1)\n",
    "# group_2 = pca_with_label.groupby('label').get_group(2)\n",
    "# group_3 = pca_with_label.groupby('label').get_group(3)\n",
    "# group_4 = pca_with_label.groupby('label').get_group(4)\n",
    "\n",
    "# display(\"group_1:\",group_1.describe())\n",
    "# display(\"group_2:\",group_2.describe())\n",
    "# display(\"group_3:\",group_3.describe())\n",
    "# display(\"group_4:\",group_4.describe())\n",
    "plt.figure(figsize=(12,18))\n",
    "# display(\"all:\",pca_df.describe())\n",
    "grouped = pca_with_label.groupby('label')\n",
    "grouped.count().plot.bar()\n",
    "grouped.median().plot.bar() #外れ値が大きすぎるため、中央値を代表値とする。\n",
    "grouped_6d = X_data_with_label.groupby('label')\n",
    "grouped_6d.median().plot.bar()"
   ]
  },
  {
   "cell_type": "code",
   "execution_count": 101,
   "metadata": {
    "ExecuteTime": {
     "end_time": "2019-11-19T09:51:49.888209Z",
     "start_time": "2019-11-19T09:51:49.441671Z"
    }
   },
   "outputs": [
    {
     "data": {
      "text/plain": [
       "<matplotlib.axes._subplots.AxesSubplot at 0x104827320>"
      ]
     },
     "execution_count": 101,
     "metadata": {},
     "output_type": "execute_result"
    },
    {
     "data": {
      "image/png": "[encoded data removed]",
      "text/plain": [
       "<Figure size 432x288 with 1 Axes>"
      ]
     },
     "metadata": {
      "needs_background": "light"
     },
     "output_type": "display_data"
    },
    {
     "data": {
      "image/png": "[encoded data removed]",
      "text/plain": [
       "<Figure size 432x288 with 1 Axes>"
      ]
     },
     "metadata": {
      "needs_background": "light"
     },
     "output_type": "display_data"
    },
    {
     "data": {
      "image/png": "[encoded data removed]",
      "text/plain": [
       "<Figure size 432x288 with 1 Axes>"
      ]
     },
     "metadata": {
      "needs_background": "light"
     },
     "output_type": "display_data"
    }
   ],
   "source": [
    "pca_with_Channel = copy.deepcopy(pca_df)\n",
    "pca_with_Channel['Channel'] = data['Channel']\n",
    "grouped_Channel = pca_with_Channel.groupby('Channel')\n",
    "grouped_Channel.count().plot.bar()\n",
    "grouped_Channel.median().plot.bar()\n",
    "\n",
    "X_data_with_Channel = copy.deepcopy(X_data)\n",
    "X_data_with_Channel['Channel'] = data['Channel']\n",
    "grouped_Channel_6d = X_data_with_Channel.groupby('Channel')\n",
    "grouped_Channel_6d.median().plot.bar()\n"
   ]
  },
  {
   "cell_type": "code",
   "execution_count": 102,
   "metadata": {
    "ExecuteTime": {
     "end_time": "2019-11-19T09:51:50.937546Z",
     "start_time": "2019-11-19T09:51:50.459181Z"
    }
   },
   "outputs": [
    {
     "data": {
      "text/plain": [
       "<matplotlib.axes._subplots.AxesSubplot at 0x1a185412e8>"
      ]
     },
     "execution_count": 102,
     "metadata": {},
     "output_type": "execute_result"
    },
    {
     "data": {
      "image/png": "[encoded data removed]",
      "text/plain": [
       "<Figure size 432x288 with 1 Axes>"
      ]
     },
     "metadata": {
      "needs_background": "light"
     },
     "output_type": "display_data"
    },
    {
     "data": {
      "image/png": "[encoded data removed]",
      "text/plain": [
       "<Figure size 432x288 with 1 Axes>"
      ]
     },
     "metadata": {
      "needs_background": "light"
     },
     "output_type": "display_data"
    },
    {
     "data": {
      "image/png": "[encoded data removed]",
      "text/plain": [
       "<Figure size 432x288 with 1 Axes>"
      ]
     },
     "metadata": {
      "needs_background": "light"
     },
     "output_type": "display_data"
    }
   ],
   "source": [
    "pca_with_Channel = copy.deepcopy(pca_df)\n",
    "pca_with_Channel['Region'] = data['Region']\n",
    "grouped_Channel = pca_with_Channel.groupby('Region')\n",
    "grouped_Channel.count().plot.bar()\n",
    "grouped_Channel.median().plot.bar()\n",
    "\n",
    "X_data_with_Channel = copy.deepcopy(X_data)\n",
    "X_data_with_Channel['Region'] = data['Region']\n",
    "grouped_Channel_6d = X_data_with_Channel.groupby('Region')\n",
    "grouped_Channel_6d.median().plot.bar()\n"
   ]
  },
  {
   "cell_type": "code",
   "execution_count": 116,
   "metadata": {
    "ExecuteTime": {
     "end_time": "2019-11-19T10:05:59.378888Z",
     "start_time": "2019-11-19T10:05:59.371237Z"
    }
   },
   "outputs": [
    {
     "data": {
      "text/html": [
       "<div>\n",
       "<style scoped>\n",
       "    .dataframe tbody tr th:only-of-type {\n",
       "        vertical-align: middle;\n",
       "    }\n",
       "\n",
       "    .dataframe tbody tr th {\n",
       "        vertical-align: top;\n",
       "    }\n",
       "\n",
       "    .dataframe thead th {\n",
       "        text-align: right;\n",
       "    }\n",
       "</style>\n",
       "<table border=\"1\" class=\"dataframe\">\n",
       "  <thead>\n",
       "    <tr style=\"text-align: right;\">\n",
       "      <th></th>\n",
       "      <th>stuffs_for_cooking</th>\n",
       "      <th>daily_use</th>\n",
       "    </tr>\n",
       "    <tr>\n",
       "      <th>label</th>\n",
       "      <th></th>\n",
       "      <th></th>\n",
       "    </tr>\n",
       "  </thead>\n",
       "  <tbody>\n",
       "    <tr>\n",
       "      <th>1.0</th>\n",
       "      <td>39</td>\n",
       "      <td>39</td>\n",
       "    </tr>\n",
       "    <tr>\n",
       "      <th>2.0</th>\n",
       "      <td>136</td>\n",
       "      <td>136</td>\n",
       "    </tr>\n",
       "    <tr>\n",
       "      <th>3.0</th>\n",
       "      <td>94</td>\n",
       "      <td>94</td>\n",
       "    </tr>\n",
       "    <tr>\n",
       "      <th>4.0</th>\n",
       "      <td>171</td>\n",
       "      <td>171</td>\n",
       "    </tr>\n",
       "  </tbody>\n",
       "</table>\n",
       "</div>"
      ],
      "text/plain": [
       "       stuffs_for_cooking  daily_use\n",
       "label                               \n",
       "1.0                    39         39\n",
       "2.0                   136        136\n",
       "3.0                    94         94\n",
       "4.0                   171        171"
      ]
     },
     "execution_count": 116,
     "metadata": {},
     "output_type": "execute_result"
    }
   ],
   "source": [
    "grouped.count()"
   ]
  },
  {
   "cell_type": "code",
   "execution_count": 105,
   "metadata": {
    "ExecuteTime": {
     "end_time": "2019-11-19T09:51:54.071188Z",
     "start_time": "2019-11-19T09:51:54.066229Z"
    }
   },
   "outputs": [
    {
     "data": {
      "text/plain": [
       "'\\n以上のグラフから、\\n売り上げに貢献している少数の顧客の存在(group_2)が示唆された。\\n彼らは人数的には全体の2.5%しか占めていないが、\\n6品目ほぼ全てにおいて他のグループよりも合計購入額が大きい。\\nこの\"ヘビーユーザー\"たちは販売チャネル2に属しているため、\\n販売チャネル2においては\\nヘビーユーザーが購入しがちなdaily_use(その他食料雑貨)ラインナップの充実化と、\\nヘビーユーザー向けの優遇措置など顧客の定着化を図ると良い。\\n\\n一方で自炊特化グループ(group_3)の存在も示唆された。\\n彼らは販売チャネル1に属しており、自炊関連の\"Fresh\"売上はヘビーユーザーを上回る。\\nそのため販売チャネル1ではFresh関連の商品に力を入れるといいと考えられる。\\n'"
      ]
     },
     "execution_count": 105,
     "metadata": {},
     "output_type": "execute_result"
    }
   ],
   "source": [
    "'''\n",
    "以上のグラフから、\n",
    "売り上げに貢献している少数の顧客の存在(group_2)が示唆された。\n",
    "彼らは人数的には全体の2.5%しか占めていないが、\n",
    "6品目ほぼ全てにおいて他のグループよりも合計購入額が大きい。\n",
    "この\"ヘビーユーザー\"たちは販売チャネル2に属しているため、\n",
    "販売チャネル2においては\n",
    "ヘビーユーザーが購入しがちなdaily_use(その他食料雑貨)ラインナップの充実化と、\n",
    "ヘビーユーザー向けの優遇措置など顧客の定着化を図ると良い。\n",
    "\n",
    "一方で自炊特化グループ(group_3)の存在も示唆された。\n",
    "彼らは販売チャネル1に属しており、自炊関連の\"Fresh\"売上はヘビーユーザーを上回る。\n",
    "そのため販売チャネル1ではFresh関連の商品に力を入れるといいと考えられる。\n",
    "'''"
   ]
  },
  {
   "cell_type": "code",
   "execution_count": null,
   "metadata": {},
   "outputs": [],
   "source": []
  }
 ],
 "metadata": {
  "kernelspec": {
   "display_name": "Python 3",
   "language": "python",
   "name": "python3"
  },
  "language_info": {
   "codemirror_mode": {
    "name": "ipython",
    "version": 3
   },
   "file_extension": ".py",
   "mimetype": "text/x-python",
   "name": "python",
   "nbconvert_exporter": "python",
   "pygments_lexer": "ipython3",
   "version": "3.7.3"
  },
  "toc": {
   "base_numbering": 1,
   "nav_menu": {},
   "number_sections": true,
   "sideBar": true,
   "skip_h1_title": false,
   "title_cell": "Table of Contents",
   "title_sidebar": "Contents",
   "toc_cell": false,
   "toc_position": {},
   "toc_section_display": true,
   "toc_window_display": false
  }
 },
 "nbformat": 4,
 "nbformat_minor": 2
}
