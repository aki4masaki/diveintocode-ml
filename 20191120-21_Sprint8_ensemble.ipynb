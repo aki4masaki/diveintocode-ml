{
 "cells": [
  {
   "cell_type": "markdown",
   "metadata": {
    "ExecuteTime": {
     "end_time": "2019-11-20T02:44:17.130187Z",
     "start_time": "2019-11-20T02:44:17.117685Z"
    }
   },
   "source": [
    "#  Sprint8 アンサンブル学習"
   ]
  },
  {
   "cell_type": "code",
   "execution_count": 427,
   "metadata": {
    "ExecuteTime": {
     "end_time": "2019-11-21T05:25:18.676421Z",
     "start_time": "2019-11-21T05:25:18.484742Z"
    }
   },
   "outputs": [],
   "source": [
    "import numpy as np\n",
    "import pandas as pd\n",
    "import matplotlib.pyplot as plt\n",
    "import seaborn as sns\n",
    "# from numpy import linalg as LA\n",
    "import copy\n",
    "sns.set()\n",
    "%matplotlib inline\n",
    "import time\n",
    "import math\n",
    "\n",
    "from sklearn.model_selection import train_test_split\n",
    "import random\n",
    "from sklearn.decomposition import PCA\n",
    "from sklearn.cluster import KMeans\n",
    "from sklearn.preprocessing import StandardScaler\n",
    "from sklearn.model_selection import cross_val_score\n",
    "from sklearn.metrics import mean_squared_error, classification_report\n",
    "from sklearn.neural_network import MLPClassifier\n",
    "from sklearn.svm import SVR\n",
    "from sklearn.svm import SVC\n",
    "from lightgbm import LGBMClassifier\n",
    "from sklearn.linear_model import LinearRegression\n",
    "from sklearn.model_selection import cross_validate\n",
    "from sklearn.ensemble import RandomForestClassifier\n",
    "from sklearn.datasets import make_classification\n",
    "from sklearn.model_selection import KFold"
   ]
  },
  {
   "cell_type": "code",
   "execution_count": 466,
   "metadata": {
    "ExecuteTime": {
     "end_time": "2019-11-21T05:43:09.395406Z",
     "start_time": "2019-11-21T05:43:09.389504Z"
    }
   },
   "outputs": [],
   "source": [
    "from sklearn.metrics import accuracy_score\n",
    "from sklearn.metrics import precision_score\n",
    "from sklearn.metrics import recall_score\n",
    "from sklearn.metrics import f1_score\n",
    "from sklearn.metrics import confusion_matrix\n",
    "\n",
    "def scores(y_test,y_pred):\n",
    "    print(\"accuracy\",accuracy_score(y_test,y_pred))\n",
    "    print(\"precision\",precision_score(y_test,y_pred))\n",
    "    print(\"recall\",recall_score(y_test,y_pred))\n",
    "    print(\"f1_score\",f1_score(y_test,y_pred))\n",
    "    print(\"conf_matrix\",confusion_matrix(y_test,y_pred))\n",
    "    \n",
    "def crossval_score(model, X_df, y_df, n_splits): \n",
    "    score = cross_val_score(model, X_df, y_df,cv=n_splits)\n",
    "    print('Cross-Validation scores: {}'.format(score))\n",
    "    print('Average score: {}'.format(np.mean(score)))"
   ]
  },
  {
   "cell_type": "code",
   "execution_count": 665,
   "metadata": {
    "ExecuteTime": {
     "end_time": "2019-11-21T08:35:50.071991Z",
     "start_time": "2019-11-21T08:35:50.032965Z"
    }
   },
   "outputs": [
    {
     "name": "stderr",
     "output_type": "stream",
     "text": [
      "/Users/akishimasaki/.pyenv/versions/anaconda3-2019.03/lib/python3.7/site-packages/sklearn/preprocessing/data.py:645: DataConversionWarning: Data with input dtype int64 were all converted to float64 by StandardScaler.\n",
      "  return self.partial_fit(X, y)\n",
      "/Users/akishimasaki/.pyenv/versions/anaconda3-2019.03/lib/python3.7/site-packages/ipykernel_launcher.py:9: DataConversionWarning: Data with input dtype int64 were all converted to float64 by StandardScaler.\n",
      "  if __name__ == '__main__':\n"
     ]
    },
    {
     "data": {
      "text/plain": [
       "1460"
      ]
     },
     "metadata": {},
     "output_type": "display_data"
    },
    {
     "name": "stdout",
     "output_type": "stream",
     "text": [
      "GrLivArea    False\n",
      "YearBuilt    False\n",
      "dtype: bool\n"
     ]
    }
   ],
   "source": [
    "# 小さなデータセットの用意\n",
    "train_data = pd.read_csv('train.csv')\n",
    "X_df = train_data[['GrLivArea','YearBuilt']]\n",
    "y_df = train_data['SalePrice']\n",
    "\n",
    "X_data = copy.deepcopy(X_df)\n",
    "scaler = StandardScaler()\n",
    "scaler.fit(X_data)\n",
    "X_data_std = pd.DataFrame(scaler.transform(X_data), columns=X_data.columns)\n",
    "X_data_log = np.log(X_data)\n",
    "display(X_df.shape[0])\n",
    "print(X_data.isnull().all())"
   ]
  },
  {
   "cell_type": "code",
   "execution_count": 386,
   "metadata": {
    "ExecuteTime": {
     "end_time": "2019-11-21T04:36:46.231824Z",
     "start_time": "2019-11-21T04:36:46.226080Z"
    }
   },
   "outputs": [],
   "source": [
    "X_train, X_test, y_train, y_test = train_test_split(X_df,y_df, test_size=0.20)"
   ]
  },
  {
   "cell_type": "code",
   "execution_count": 383,
   "metadata": {
    "ExecuteTime": {
     "end_time": "2019-11-21T04:33:22.759750Z",
     "start_time": "2019-11-21T04:33:22.748173Z"
    }
   },
   "outputs": [],
   "source": [
    "def MSE(y_test,y_pred):\n",
    "    mse = mean_squared_error(y_test, y_pred, multioutput='uniform_average')\n",
    "    return print(\"MSE:\",mse)"
   ]
  },
  {
   "cell_type": "code",
   "execution_count": null,
   "metadata": {},
   "outputs": [],
   "source": [
    "'''\n",
    "from sklearn.model_selection import GridSearchCV\n",
    "\n",
    "# パラメータを dict 型で指定\n",
    "param_grid = {'C': [0.001, 0.01, 0.1, 1, 10, 100],  'gamma' : [0.001, 0.01, 0.1, 1, 10, 100]}\n",
    "\n",
    "# validation set は GridSearchCV が自動で作成してくれるため，\n",
    "# training set と test set の分割のみを実行すればよい\n",
    "X_train, X_test, y_train, y_test = train_test_split(X_df, y_df)\n",
    "\n",
    "grid_search = GridSearchCV(SVC(), param_grid, cv=5)\n",
    "\n",
    "# fit 関数を呼ぶことで交差検証とグリッドサーチがどちらも実行される\n",
    "grid_search.fit(X_train, y_train)\n",
    "\n",
    "print('Test set score: {}'.format(grid_search.score(X_test, y_test)))\n",
    "print('Best parameters: {}'.format(grid_search.best_params_))\n",
    "print('Best cross-validation: {}'.format(grid_search.best_score_))\n",
    "'''"
   ]
  },
  {
   "cell_type": "markdown",
   "metadata": {},
   "source": [
    "単一モデル"
   ]
  },
  {
   "cell_type": "code",
   "execution_count": 668,
   "metadata": {
    "ExecuteTime": {
     "end_time": "2019-11-21T08:37:46.867404Z",
     "start_time": "2019-11-21T08:37:46.859216Z"
    }
   },
   "outputs": [
    {
     "name": "stdout",
     "output_type": "stream",
     "text": [
      "MSE: 1931052698.4079645\n"
     ]
    }
   ],
   "source": [
    "#線形回帰\n",
    "lr = LinearRegression()\n",
    "lr.fit(X_train,y_train)\n",
    "y_pred_LR = lr.predict(X_test)\n",
    "MSE(y_test,y_pred_LR)"
   ]
  },
  {
   "cell_type": "code",
   "execution_count": 389,
   "metadata": {
    "ExecuteTime": {
     "end_time": "2019-11-21T04:37:25.200604Z",
     "start_time": "2019-11-21T04:37:24.456673Z"
    }
   },
   "outputs": [
    {
     "name": "stdout",
     "output_type": "stream",
     "text": [
      "MSE: 10605743997.417809\n"
     ]
    }
   ],
   "source": [
    "#SVR\n",
    "svr = SVR(gamma='scale', C=1.0, epsilon=0.2)\n",
    "svr.fit(X_train, y_train)\n",
    "y_pred_SVR = svm.predict(X_test)\n",
    "MSE(y_test,y_pred_SVR)"
   ]
  },
  {
   "cell_type": "code",
   "execution_count": 390,
   "metadata": {
    "ExecuteTime": {
     "end_time": "2019-11-21T04:37:27.175142Z",
     "start_time": "2019-11-21T04:37:27.044571Z"
    }
   },
   "outputs": [
    {
     "name": "stdout",
     "output_type": "stream",
     "text": [
      "MSE: 3367437741.2089043\n"
     ]
    }
   ],
   "source": [
    "#randomforest\n",
    "rforest = RandomForestClassifier(n_estimators=5, \n",
    "                                 max_depth=2,random_state=0)\n",
    "rforest.fit(X_train, y_train)\n",
    "y_pred_Forest = rforest.predict(X_test)\n",
    "MSE(y_test,y_pred_Forest)"
   ]
  },
  {
   "cell_type": "code",
   "execution_count": 391,
   "metadata": {
    "ExecuteTime": {
     "end_time": "2019-11-21T04:37:55.839458Z",
     "start_time": "2019-11-21T04:37:28.055836Z"
    }
   },
   "outputs": [
    {
     "name": "stdout",
     "output_type": "stream",
     "text": [
      "MSE: 2491989405.2054796\n"
     ]
    }
   ],
   "source": [
    "#LightGB\n",
    "lgb = LGBMClassifier()\n",
    "lgb.fit(X_train, y_train)\n",
    "y_pred_LGB = lgb.predict(X_test)\n",
    "MSE(y_test,y_pred_LGB)"
   ]
  },
  {
   "cell_type": "code",
   "execution_count": 392,
   "metadata": {
    "ExecuteTime": {
     "end_time": "2019-11-21T04:37:57.310755Z",
     "start_time": "2019-11-21T04:37:55.841768Z"
    }
   },
   "outputs": [
    {
     "name": "stdout",
     "output_type": "stream",
     "text": [
      "MSE: 5583978487.784246\n"
     ]
    }
   ],
   "source": [
    "#ニューラルネットワーク\n",
    "clf = MLPClassifier(hidden_layer_sizes=(100, ), alpha=0.0001) \n",
    "clf.fit(X_train, y_train)\n",
    "y_pred_MLPC = clf.predict(X_test)\n",
    "MSE(y_test,y_pred_MLPC)"
   ]
  },
  {
   "cell_type": "markdown",
   "metadata": {},
   "source": [
    "## 【問題1】ブレンディングのスクラッチ実装\n",
    ">単一モデルより精度があがる例を **最低3つ** 示してください。精度があがるとは、検証用データに対する平均二乗誤差（MSE）が小さくなることを指します。"
   ]
  },
  {
   "cell_type": "code",
   "execution_count": 393,
   "metadata": {
    "ExecuteTime": {
     "end_time": "2019-11-21T04:38:58.070623Z",
     "start_time": "2019-11-21T04:38:58.065306Z"
    }
   },
   "outputs": [
    {
     "data": {
      "text/plain": [
       "'\\nN個の多様なモデル\\n(手法（例：線形回帰、SVM、決定木、ニューラルネットワークなど）,\\nハイパーパラメータ（例：SVMのカーネルの種類、重みの初期値など）,\\n入力データの前処理の仕方（例：標準化、対数変換、PCAなど）)を独立して学習\\n\\n推定結果を重み付けした上で足し合わせる\\n'"
      ]
     },
     "execution_count": 393,
     "metadata": {},
     "output_type": "execute_result"
    }
   ],
   "source": [
    "'''\n",
    "N個の多様なモデル\n",
    "(手法（例：線形回帰、SVM、決定木、ニューラルネットワークなど）,\n",
    "ハイパーパラメータ（例：SVMのカーネルの種類、重みの初期値など）,\n",
    "入力データの前処理の仕方（例：標準化、対数変換、PCAなど）)を独立して学習\n",
    "\n",
    "推定結果を重み付けした上で足し合わせる\n",
    "'''\n",
    "#重要なのはそれぞれのモデルが大きく異なること"
   ]
  },
  {
   "cell_type": "code",
   "execution_count": 178,
   "metadata": {
    "ExecuteTime": {
     "end_time": "2019-11-20T08:16:54.589373Z",
     "start_time": "2019-11-20T08:16:52.847921Z"
    }
   },
   "outputs": [
    {
     "name": "stdout",
     "output_type": "stream",
     "text": [
      "MSE: 9266730841.736301\n",
      "MSE: 8473890630.092465\n",
      "MSE: 8360929059.147261\n",
      "Blendy1\n",
      "MSE: 6685294761.894596\n"
     ]
    }
   ],
   "source": [
    "# SVM x ニューラルネットワーク x 対数変換あるなし\n",
    "\n",
    "#SVR\n",
    "svr = SVR(gamma='scale', C=1.0, epsilon=0.2)\n",
    "svr.fit(X_train, y_train)\n",
    "y_pred_SVR = svm.predict(X_test)\n",
    "MSE(y_test,y_pred_SVR)\n",
    "# crossval_score(clf, X_df, y_df)\n",
    "\n",
    "#ニューラルネットワーク\n",
    "clf = MLPClassifier(hidden_layer_sizes=(100, ), alpha=0.0001) \n",
    "clf.fit(X_train, y_train)\n",
    "y_pred_MLPC = clf.predict(X_test)\n",
    "MSE(y_test,y_pred_MLPC)\n",
    "# crossval_score(clf, X_df, y_df)\n",
    "\n",
    "#対数変換あり　X_data_log\n",
    "X_train_log, X_test_log, y_train, y_test = train_test_split(X_data_log,y_df, test_size=0.20)\n",
    "\n",
    "svr.fit(X_train_log, y_train)\n",
    "y_pred_SVR_log = svm.predict(X_test_log)\n",
    "MSE(y_test,y_pred_SVR_log)\n",
    "# crossval_score(clf, X_data_log, y_df)\n",
    "\n",
    "# clf.fit(X_train_log, y_train)\n",
    "# y_pred_MLPC_log = clf.predict(X_test_log)\n",
    "# MSE(y_test,y_pred_MLPC_log)\n",
    "# crossval_score(clf, X_data_log, y_df)\n",
    "\n",
    "'''\n",
    "独立して学習、推定した結果を重み付けした上で足し合わせる。\n",
    "最も単純には平均をとります。\n",
    "個々のMSEよりも下がるMSEになる\n",
    "'''\n",
    "# weights = [0.01,0.1,0.05,0.1]\n",
    "# blend_trying = weights[0] * y_pred_SVM + weights[1] * y_pred_MLPC + weights[2] * y_pred_SVM_log + weights[3] * y_pred_MLPC_log\n",
    "blend_mean_1 = (y_pred_SVR + y_pred_MLPC + y_pred_SVR_log + y_pred_MLPC_log)/3\n",
    "# print(blend_mean)\n",
    "print(\"Blendy1\")\n",
    "MSE(y_test,blend_mean_1)"
   ]
  },
  {
   "cell_type": "code",
   "execution_count": 180,
   "metadata": {
    "ExecuteTime": {
     "end_time": "2019-11-20T08:18:15.157366Z",
     "start_time": "2019-11-20T08:17:46.046758Z"
    }
   },
   "outputs": [
    {
     "name": "stdout",
     "output_type": "stream",
     "text": [
      "MSE: 13438564931.335617\n",
      "MSE: 11799545002.109589\n",
      "MSE: 8559343048.873287\n",
      "Blendy2\n",
      "MSE: 7963911370.503425\n"
     ]
    }
   ],
   "source": [
    "#標準化なし x ニューラルネットワーク　 x LightGB  x SVR\n",
    "clf = MLPClassifier(hidden_layer_sizes=(100, ), alpha=0.0001) \n",
    "clf.fit(X_train, y_train)\n",
    "y_pred_MLPC = clf.predict(X_test)\n",
    "MSE(y_test,y_pred_MLPC)\n",
    "\n",
    "lgb = LGBMClassifier()\n",
    "lgb.fit(X_train, y_train)\n",
    "y_pred_LGB = lgb.predict(X_test)\n",
    "MSE(y_test,y_pred_LGB)\n",
    "\n",
    "svr.fit(X_train, y_train)\n",
    "y_pred_SVM = svr.predict(X_test)\n",
    "MSE(y_test,y_pred_SVR)\n",
    "\n",
    "# clf = MLPClassifier(hidden_layer_sizes=(100, ), alpha=0.0001) \n",
    "# clf.fit(X_train_std, y_train)\n",
    "# y_pred_MLPC_std = clf.predict(X_test_std)\n",
    "# MSE(y_test,y_pred_MLPC_std)\n",
    "\n",
    "# lgb = LGBMClassifier()\n",
    "# lgb.fit(X_train_std, y_train)\n",
    "# y_pred_LGB_std = lgb.predict(X_test_std)\n",
    "# MSE(y_test,y_pred_LGB_std)\n",
    "\n",
    "blend_mean_2 = (y_pred_MLPC + y_pred_LGB + y_pred_SVR)/3\n",
    "# print(blend_mean)\n",
    "print(\"Blendy2\")\n",
    "MSE(y_test,blend_mean_2)"
   ]
  },
  {
   "cell_type": "code",
   "execution_count": 196,
   "metadata": {
    "ExecuteTime": {
     "end_time": "2019-11-20T08:41:38.368860Z",
     "start_time": "2019-11-20T08:41:08.824417Z"
    }
   },
   "outputs": [
    {
     "name": "stdout",
     "output_type": "stream",
     "text": [
      "MSE: 1753480330.8051112\n",
      "MSE: 2589001206.691781\n",
      "MSE: 2704652506.390411\n",
      "Blendy3\n",
      "MSE: 1679242015.9683964\n"
     ]
    }
   ],
   "source": [
    "# 標準化して、線形回帰 x randomforest x LGBM\n",
    "\n",
    "X_train_std, X_test_std, y_train, y_test = train_test_split(X_data_std,y_df, test_size=0.20)\n",
    "\n",
    "lr.fit(X_train_std, y_train)\n",
    "y_pred_LR_std = lr.predict(X_test_std)\n",
    "MSE(y_test,y_pred_LR_std)\n",
    "\n",
    "rforest = RandomForestClassifier(n_estimators=5, \n",
    "                                 max_depth=2,random_state=0)\n",
    "rforest.fit(X_train_std, y_train)\n",
    "y_pred_Forest_std = rforest.predict(X_test_std)\n",
    "MSE(y_test,y_pred_Forest_std)\n",
    "\n",
    "lgb.fit(X_train_std, y_train)\n",
    "y_pred_LGB_std = lgb.predict(X_test_std)\n",
    "MSE(y_test,y_pred_LGB_std)\n",
    "\n",
    "blend_mean_3 = 0.8 * y_pred_LR_std + 0.1 * y_pred_LGB_std + 0.1 * y_pred_Forest_std #重みは合計１(100%)になれば良い\n",
    "# print(blend_mean)\n",
    "print(\"Blendy3\")\n",
    "MSE(y_test,blend_mean_3)"
   ]
  },
  {
   "cell_type": "code",
   "execution_count": null,
   "metadata": {},
   "outputs": [],
   "source": [
    "#結論: 標準化ぱない。線形回帰速い。Lgb遅い。\n",
    "#Blending中にいい組み合わせを発見できた。"
   ]
  },
  {
   "cell_type": "markdown",
   "metadata": {},
   "source": [
    "## 【問題2】バギングのスクラッチ実装\n",
    ">学習データから重複を許した上でランダムに抜き出すことで、N種類のサブセット（ ブートストラップサンプル ）を作り出します。それらによってモデルをN個学習し、推定結果の平均をとります。ブレンディングと異なり、それぞれの重み付けを変えることはありません。"
   ]
  },
  {
   "cell_type": "code",
   "execution_count": 604,
   "metadata": {
    "ExecuteTime": {
     "end_time": "2019-11-21T07:35:39.529400Z",
     "start_time": "2019-11-21T07:35:39.522118Z"
    }
   },
   "outputs": [],
   "source": [
    "#バギングとRandomForest\n",
    "\n",
    "#data をランダムに8割抜き出す。　x N回　　　　　　\n",
    "'''インデックスだけ先にランダムで作っちゃう\n",
    "train_test_split shuffle = Trueがあるが、\n",
    "これは非復元抽出になるためブートストラップサンプルではない、、、\n",
    "(一回ごとにカードを切り直す訳ではないため) #replace=True\n",
    "'''\n",
    "#N個のpred の平均をとる。\n",
    "\n",
    "def bagging_MSE(model,X_df,y_df,n=3):\n",
    "    X_train, X_test, y_train, y_test = train_test_split(X_df,y_df, test_size=0.20)\n",
    "    y_pred_array = np.zeros_like(y_test)\n",
    "    for i in range(n):\n",
    "        #0から X_df.shape[0]までの中からランダムで整数値を出力\n",
    "        index_random = [random.randint(0,X_train.shape[0]-1)\n",
    "                    for i in range( X_train.shape[0])]\n",
    "        X_train= X_train.iloc[index_random,:]\n",
    "        y_train= y_train.iloc[index_random]\n",
    "\n",
    "        model.fit(X_train,y_train)\n",
    "        y_pred = model.predict(X_test)\n",
    "        y_pred_array = np.concatenate([y_pred_array ,y_pred])    \n",
    "    \n",
    "    y_pred_arrays = np.delete(y_pred_array.reshape((n+1,len(y_test))),0,0).T\n",
    "    y_pred_bagging = np.mean(y_pred_arrays,axis=1)\n",
    "    mse = MSE(y_test,y_pred_bagging)\n",
    "    return mse"
   ]
  },
  {
   "cell_type": "code",
   "execution_count": 605,
   "metadata": {
    "ExecuteTime": {
     "end_time": "2019-11-21T07:35:42.736464Z",
     "start_time": "2019-11-21T07:35:40.442192Z"
    },
    "scrolled": false
   },
   "outputs": [
    {
     "name": "stdout",
     "output_type": "stream",
     "text": [
      "SVR\n",
      "MSE: 7014354894.102712\n",
      "Nnetwork\n",
      "MSE: 3989458806.16971\n"
     ]
    },
    {
     "data": {
      "text/plain": [
       "'\\n線形回帰   MSE: 1931052698.4079645\\nSVR          MSE: 10605743997.417809\\nRforest     MSE: 3367437741.2089043\\nLightGB    MSE: 2491989405.2054796\\nNnetwork MSE: 5583978487.784246\\n'"
      ]
     },
     "execution_count": 605,
     "metadata": {},
     "output_type": "execute_result"
    }
   ],
   "source": [
    "print(\"SVR\")\n",
    "bagging_MSE(svr,X_df,y_df,n=3)\n",
    "print(\"Nnetwork\")\n",
    "bagging_MSE(clf,X_df,y_df,n=3)\n",
    "'''\n",
    "線形回帰   MSE: 1931052698.4079645\n",
    "SVR          MSE: 10605743997.417809\n",
    "Rforest     MSE: 3367437741.2089043\n",
    "LightGB    MSE: 2491989405.2054796\n",
    "Nnetwork MSE: 5583978487.784246\n",
    "'''"
   ]
  },
  {
   "cell_type": "markdown",
   "metadata": {},
   "source": [
    "## 【問題3】スタッキングのスクラッチ実装"
   ]
  },
  {
   "cell_type": "code",
   "execution_count": null,
   "metadata": {},
   "outputs": [],
   "source": [
    "'''\n",
    "blend data を　(何層か回せるようにする) →　最後になんでもいいのzにfit　,MSE\n",
    "\n",
    "推論した方のblend data を　(何層か回せるようにする) →　zでpred , MSE\n",
    "'''"
   ]
  },
  {
   "cell_type": "code",
   "execution_count": 666,
   "metadata": {
    "ExecuteTime": {
     "end_time": "2019-11-21T08:36:01.341149Z",
     "start_time": "2019-11-21T08:36:01.323140Z"
    }
   },
   "outputs": [],
   "source": [
    "#train_test やってからkfoldでvalidaton\n",
    "model = [svr,clf,rforest]\n",
    "X_array = np.array(X_df)\n",
    "y_array = np.array(y_df)\n",
    "\n",
    "\n",
    "def stacking(model,X_array,y_array,n_splits=4):\n",
    "    kfold = KFold(n_splits=n_splits) #インスタンス化\n",
    "    X_train, X_test, y_train, y_test = train_test_split(X_array,y_array, test_size=0.20)\n",
    "    blend_data_array = np.zeros_like(y_train) #blend data格納\n",
    "    blend_preds = np.zeros_like(y_test) #y_pred格納\n",
    "    for i in range(len(model)):\n",
    "        blend_pred_array = np.zeros_like(y_test) #blend preds格納\n",
    "        print(\"model:\", i)\n",
    "        #kfoldでvalidatonをn個作る\n",
    "        for train, test in kfold.split(X_train):\n",
    "            train_index = train\n",
    "            test_index = test\n",
    "            X_train_train = X_train[train_index] #train data\n",
    "            X_train_val = X_train[test_index] # validation data\n",
    "            y_train_train = y_train[train_index] #学習用train data\n",
    "            y_train_val = y_train[test_index]  # validation data 正解ラベル\n",
    "\n",
    "            model[i].fit(X_train_train,y_train_train) #fit\n",
    "            #fit　して　crossval_score\n",
    "            \n",
    "            crossval_score(model[i], X_train, y_train, n_splits) \n",
    "            X_val_pred = model[i].predict(X_train_val) #blend data素材の原材料   \n",
    "            '''\n",
    "            ここの学習済みmodel 用いて kfoldのfor 内でpred fase　も\n",
    "            \n",
    "            '''\n",
    "            y_pred = model[i].predict(X_test) #blend pred素材の1つ\n",
    "            blend_data_array= np.concatenate([blend_data_array ,X_val_pred])    \n",
    "            np.append(blend_data_array, X_val_pred,axis=0)  #blend data\n",
    "            \n",
    "            blend_pred_array= np.concatenate([blend_pred_array ,y_pred])    \n",
    "            np.append(blend_pred_array, y_pred, axis=0)  #blend pred素材\n",
    "            \n",
    "        blend_preds_array = np.delete(blend_pred_array.reshape(n_splits+1,len(X_test)),0,0).T\n",
    "        blend_pred = np.mean(blend_preds_array,axis=1) \n",
    "        blend_preds = np.concatenate([blend_preds ,blend_pred])   \n",
    "        np.append(blend_preds, blend_pred,axis=0)  #blend pred\n",
    "    \n",
    "    blend_data_array = np.delete(blend_data_array\n",
    "                                 .reshape(len(model)+1,len(X_train)),0,0).T\n",
    "    blend_preds = np.delete(blend_preds\n",
    "                                 .reshape(len(model)+1,len(y_test)),0,0).T\n",
    "    \n",
    "    lr.fit(blend_data_array,y_train) #線形回帰でMSE算出\n",
    "    final_pred = lr.predict(blend_preds)\n",
    "    MSE(y_test,final_pred)\n",
    "    \n",
    "    return blend_data_array, blend_preds"
   ]
  },
  {
   "cell_type": "code",
   "execution_count": 658,
   "metadata": {
    "ExecuteTime": {
     "end_time": "2019-11-21T08:18:54.692387Z",
     "start_time": "2019-11-21T08:18:35.661555Z"
    },
    "scrolled": false
   },
   "outputs": [
    {
     "name": "stdout",
     "output_type": "stream",
     "text": [
      "model: 0\n",
      "Cross-Validation scores: [-0.01832231 -0.05876026 -0.08130152 -0.03917829]\n",
      "Average score: -0.04939059542462526\n",
      "Cross-Validation scores: [-0.01832231 -0.05876026 -0.08130152 -0.03917829]\n",
      "Average score: -0.04939059542462526\n",
      "Cross-Validation scores: [-0.01832231 -0.05876026 -0.08130152 -0.03917829]\n",
      "Average score: -0.04939059542462526\n",
      "Cross-Validation scores: [-0.01832231 -0.05876026 -0.08130152 -0.03917829]\n",
      "Average score: -0.04939059542462526\n",
      "model: 1\n"
     ]
    },
    {
     "name": "stderr",
     "output_type": "stream",
     "text": [
      "/Users/akishimasaki/.pyenv/versions/anaconda3-2019.03/lib/python3.7/site-packages/sklearn/model_selection/_split.py:652: Warning: The least populated class in y has only 1 members, which is too few. The minimum number of members in any class cannot be less than n_splits=4.\n",
      "  % (min_groups, self.n_splits)), Warning)\n"
     ]
    },
    {
     "name": "stdout",
     "output_type": "stream",
     "text": [
      "Cross-Validation scores: [0.00618238 0.01123596 0.00628931 0.03157895]\n",
      "Average score: 0.013821647704271191\n"
     ]
    },
    {
     "name": "stderr",
     "output_type": "stream",
     "text": [
      "/Users/akishimasaki/.pyenv/versions/anaconda3-2019.03/lib/python3.7/site-packages/sklearn/model_selection/_split.py:652: Warning: The least populated class in y has only 1 members, which is too few. The minimum number of members in any class cannot be less than n_splits=4.\n",
      "  % (min_groups, self.n_splits)), Warning)\n"
     ]
    },
    {
     "name": "stdout",
     "output_type": "stream",
     "text": [
      "Cross-Validation scores: [0.00463679 0.         0.01886792 0.01052632]\n",
      "Average score: 0.008507756370015763\n"
     ]
    },
    {
     "name": "stderr",
     "output_type": "stream",
     "text": [
      "/Users/akishimasaki/.pyenv/versions/anaconda3-2019.03/lib/python3.7/site-packages/sklearn/model_selection/_split.py:652: Warning: The least populated class in y has only 1 members, which is too few. The minimum number of members in any class cannot be less than n_splits=4.\n",
      "  % (min_groups, self.n_splits)), Warning)\n"
     ]
    },
    {
     "name": "stdout",
     "output_type": "stream",
     "text": [
      "Cross-Validation scores: [0.00618238 0.00374532 0.00628931 0.01052632]\n",
      "Average score: 0.006685830633504386\n"
     ]
    },
    {
     "name": "stderr",
     "output_type": "stream",
     "text": [
      "/Users/akishimasaki/.pyenv/versions/anaconda3-2019.03/lib/python3.7/site-packages/sklearn/model_selection/_split.py:652: Warning: The least populated class in y has only 1 members, which is too few. The minimum number of members in any class cannot be less than n_splits=4.\n",
      "  % (min_groups, self.n_splits)), Warning)\n"
     ]
    },
    {
     "name": "stdout",
     "output_type": "stream",
     "text": [
      "Cross-Validation scores: [0.0015456  0.01123596 0.01257862 0.01052632]\n",
      "Average score: 0.008971620562987635\n",
      "model: 2\n",
      "Cross-Validation scores: [0.00927357 0.01123596 0.02515723 0.03157895]\n",
      "Average score: 0.019311426363394578\n"
     ]
    },
    {
     "name": "stderr",
     "output_type": "stream",
     "text": [
      "/Users/akishimasaki/.pyenv/versions/anaconda3-2019.03/lib/python3.7/site-packages/sklearn/model_selection/_split.py:652: Warning: The least populated class in y has only 1 members, which is too few. The minimum number of members in any class cannot be less than n_splits=4.\n",
      "  % (min_groups, self.n_splits)), Warning)\n",
      "/Users/akishimasaki/.pyenv/versions/anaconda3-2019.03/lib/python3.7/site-packages/sklearn/model_selection/_split.py:652: Warning: The least populated class in y has only 1 members, which is too few. The minimum number of members in any class cannot be less than n_splits=4.\n",
      "  % (min_groups, self.n_splits)), Warning)\n"
     ]
    },
    {
     "name": "stdout",
     "output_type": "stream",
     "text": [
      "Cross-Validation scores: [0.00927357 0.01123596 0.02515723 0.03157895]\n",
      "Average score: 0.019311426363394578\n",
      "Cross-Validation scores: [0.00927357 0.01123596 0.02515723 0.03157895]\n",
      "Average score: 0.019311426363394578\n"
     ]
    },
    {
     "name": "stderr",
     "output_type": "stream",
     "text": [
      "/Users/akishimasaki/.pyenv/versions/anaconda3-2019.03/lib/python3.7/site-packages/sklearn/model_selection/_split.py:652: Warning: The least populated class in y has only 1 members, which is too few. The minimum number of members in any class cannot be less than n_splits=4.\n",
      "  % (min_groups, self.n_splits)), Warning)\n",
      "/Users/akishimasaki/.pyenv/versions/anaconda3-2019.03/lib/python3.7/site-packages/sklearn/model_selection/_split.py:652: Warning: The least populated class in y has only 1 members, which is too few. The minimum number of members in any class cannot be less than n_splits=4.\n",
      "  % (min_groups, self.n_splits)), Warning)\n"
     ]
    },
    {
     "name": "stdout",
     "output_type": "stream",
     "text": [
      "Cross-Validation scores: [0.00927357 0.01123596 0.02515723 0.03157895]\n",
      "Average score: 0.019311426363394578\n",
      "MSE: 2955844525.2748737\n"
     ]
    }
   ],
   "source": [
    "model = [svr,clf,rforest]\n",
    "blend_data_array, blend_preds = stacking(model,X_array,y_array,n_splits=4)"
   ]
  },
  {
   "cell_type": "code",
   "execution_count": null,
   "metadata": {
    "ExecuteTime": {
     "end_time": "2019-11-21T08:16:14.060179Z",
     "start_time": "2019-11-21T08:16:14.046371Z"
    }
   },
   "outputs": [],
   "source": [
    "'''\n",
    "model = [SVR, Nnetwork, Rforest]を用いたところ、\n",
    "\n",
    "線形回帰   MSE: 1931052698.4079645\n",
    "SVR          MSE: 10605743997.417809\n",
    "Rforest     MSE: 3367437741.2089043\n",
    "LightGB    MSE: 2491989405.2054796\n",
    "Nnetwork MSE: 5583978487.784246\n",
    "\n",
    "より、元のモデルより良いStackingモデルが得られた。\n",
    "'''"
   ]
  },
  {
   "cell_type": "code",
   "execution_count": 456,
   "metadata": {
    "ExecuteTime": {
     "end_time": "2019-11-21T05:38:25.312162Z",
     "start_time": "2019-11-21T05:38:25.308950Z"
    }
   },
   "outputs": [],
   "source": [
    "#クロスバリデーション（交差検証） をする。 \n",
    "#分割を複数回行い、それぞれに対して学習と検証を行う方法です。\n",
    "#複数回の分割のためにscikit-learnにはKFoldクラスが用意されています。"
   ]
  },
  {
   "cell_type": "code",
   "execution_count": 667,
   "metadata": {
    "ExecuteTime": {
     "end_time": "2019-11-21T08:36:40.505666Z",
     "start_time": "2019-11-21T08:36:39.973792Z"
    }
   },
   "outputs": [
    {
     "name": "stdout",
     "output_type": "stream",
     "text": [
      "model: 0\n",
      "Cross-Validation scores: [0.68196062 0.72629909 0.65892911 0.60699277]\n",
      "Average score: 0.668545397923322\n",
      "Cross-Validation scores: [0.68196062 0.72629909 0.65892911 0.60699277]\n",
      "Average score: 0.668545397923322\n",
      "Cross-Validation scores: [0.68196062 0.72629909 0.65892911 0.60699277]\n",
      "Average score: 0.668545397923322\n",
      "Cross-Validation scores: [0.68196062 0.72629909 0.65892911 0.60699277]\n",
      "Average score: 0.668545397923322\n",
      "model: 1\n",
      "Cross-Validation scores: [0.01095462 0.01960784 0.04705882 0.02884615]\n",
      "Average score: 0.026616859275309983\n"
     ]
    },
    {
     "name": "stderr",
     "output_type": "stream",
     "text": [
      "/Users/akishimasaki/.pyenv/versions/anaconda3-2019.03/lib/python3.7/site-packages/sklearn/model_selection/_split.py:652: Warning: The least populated class in y has only 1 members, which is too few. The minimum number of members in any class cannot be less than n_splits=4.\n",
      "  % (min_groups, self.n_splits)), Warning)\n",
      "/Users/akishimasaki/.pyenv/versions/anaconda3-2019.03/lib/python3.7/site-packages/sklearn/model_selection/_split.py:652: Warning: The least populated class in y has only 1 members, which is too few. The minimum number of members in any class cannot be less than n_splits=4.\n",
      "  % (min_groups, self.n_splits)), Warning)\n"
     ]
    },
    {
     "name": "stdout",
     "output_type": "stream",
     "text": [
      "Cross-Validation scores: [0.01095462 0.01960784 0.04705882 0.02884615]\n",
      "Average score: 0.026616859275309983\n",
      "Cross-Validation scores: [0.01095462 0.01960784 0.04705882 0.02884615]\n",
      "Average score: 0.026616859275309983\n"
     ]
    },
    {
     "name": "stderr",
     "output_type": "stream",
     "text": [
      "/Users/akishimasaki/.pyenv/versions/anaconda3-2019.03/lib/python3.7/site-packages/sklearn/model_selection/_split.py:652: Warning: The least populated class in y has only 1 members, which is too few. The minimum number of members in any class cannot be less than n_splits=4.\n",
      "  % (min_groups, self.n_splits)), Warning)\n",
      "/Users/akishimasaki/.pyenv/versions/anaconda3-2019.03/lib/python3.7/site-packages/sklearn/model_selection/_split.py:652: Warning: The least populated class in y has only 1 members, which is too few. The minimum number of members in any class cannot be less than n_splits=4.\n",
      "  % (min_groups, self.n_splits)), Warning)\n"
     ]
    },
    {
     "name": "stdout",
     "output_type": "stream",
     "text": [
      "Cross-Validation scores: [0.01095462 0.01960784 0.04705882 0.02884615]\n",
      "Average score: 0.026616859275309983\n",
      "MSE: 2399808646.8215013\n"
     ]
    },
    {
     "data": {
      "text/plain": [
       "(array([[183409.84675361, 140000.        ],\n",
       "        [132688.10556718, 140000.        ],\n",
       "        [133755.26250238, 140000.        ],\n",
       "        ...,\n",
       "        [210925.82553038, 140000.        ],\n",
       "        [119878.11316358, 140000.        ],\n",
       "        [209211.01148884, 140000.        ]]),\n",
       " array([[246919.35949527, 187500.        ],\n",
       "        [320621.67915088, 162125.        ],\n",
       "        [285378.77490274, 191250.        ],\n",
       "        [151712.25380489, 137250.        ],\n",
       "        [197661.84544144, 161250.        ],\n",
       "        [131720.89052918, 138750.        ],\n",
       "        [143342.93322902, 138750.        ],\n",
       "        [222985.53290964, 191250.        ],\n",
       "        [202105.661863  , 187500.        ],\n",
       "        [ 85094.98147693, 113750.        ],\n",
       "        [235681.68867552, 187500.        ],\n",
       "        [304965.76188317, 203750.        ],\n",
       "        [227226.78488048, 191250.        ],\n",
       "        [ 66318.51477973, 111000.        ],\n",
       "        [126449.33218841, 132500.        ],\n",
       "        [153991.63754492, 151250.        ],\n",
       "        [134410.47860327, 132500.        ],\n",
       "        [198465.78507973, 161250.        ],\n",
       "        [182720.48672713, 161250.        ],\n",
       "        [189563.71337984, 161250.        ],\n",
       "        [194938.07657576, 161250.        ],\n",
       "        [251203.4030757 , 191250.        ],\n",
       "        [203020.0020879 , 161250.        ],\n",
       "        [193338.80811716, 161250.        ],\n",
       "        [225988.08602106, 191250.        ],\n",
       "        [231878.99379154, 191250.        ],\n",
       "        [142872.97812977, 136250.        ],\n",
       "        [149214.85167084, 136250.        ],\n",
       "        [185286.25044436, 151250.        ],\n",
       "        [ 95691.26827873, 137000.        ],\n",
       "        [110454.87990977, 131000.        ],\n",
       "        [125136.44370701, 132500.        ],\n",
       "        [247714.68831557, 191250.        ],\n",
       "        [246969.74683632, 191250.        ],\n",
       "        [160609.51255252, 147225.        ],\n",
       "        [148435.7294    , 162500.        ],\n",
       "        [274799.44725655, 191250.        ],\n",
       "        [128641.36501659, 131000.        ],\n",
       "        [122942.64318615, 131000.        ],\n",
       "        [228151.50361606, 191250.        ],\n",
       "        [221191.29573179, 173750.        ],\n",
       "        [191820.30992548, 162500.        ],\n",
       "        [130247.21412013, 138750.        ],\n",
       "        [274235.29812014, 191250.        ],\n",
       "        [102430.93747014, 126250.        ],\n",
       "        [206922.45656745, 162500.        ],\n",
       "        [164476.77115395, 151250.        ],\n",
       "        [126023.18378526, 131000.        ],\n",
       "        [155530.14015179, 162500.        ],\n",
       "        [262829.24364127, 187500.        ],\n",
       "        [210317.99237694, 168750.        ],\n",
       "        [195960.78721422, 161250.        ],\n",
       "        [187614.51631312, 132500.        ],\n",
       "        [194642.07069405, 151250.        ],\n",
       "        [225733.10405624, 191250.        ],\n",
       "        [150541.91652864, 151250.        ],\n",
       "        [163564.4611021 , 138750.        ],\n",
       "        [104499.14594146, 132500.        ],\n",
       "        [198683.54099338, 162500.        ],\n",
       "        [230860.08101881, 191250.        ],\n",
       "        [284653.83783867, 191250.        ],\n",
       "        [327840.6668657 , 207500.        ],\n",
       "        [178956.785587  , 159975.        ],\n",
       "        [201644.31758174, 161250.        ],\n",
       "        [239718.34602259, 191250.        ],\n",
       "        [140775.13933874, 142250.        ],\n",
       "        [125654.00336811, 132500.        ],\n",
       "        [ 59561.8864327 , 127500.        ],\n",
       "        [171953.78609315, 162500.        ],\n",
       "        [112844.66423641, 132500.        ],\n",
       "        [113894.97502153, 132500.        ],\n",
       "        [133856.70797753, 140750.        ],\n",
       "        [225792.10221528, 191250.        ],\n",
       "        [259410.92063738, 191250.        ],\n",
       "        [112844.66423641, 132500.        ],\n",
       "        [244610.34543554, 191250.        ],\n",
       "        [223973.04766999, 191250.        ],\n",
       "        [111935.13696376, 132500.        ],\n",
       "        [235304.9125269 , 191250.        ],\n",
       "        [216525.66305049, 191250.        ],\n",
       "        [207769.18781532, 172475.        ],\n",
       "        [228774.65091151, 191250.        ],\n",
       "        [147945.76988556, 162500.        ],\n",
       "        [237562.52415906, 191250.        ],\n",
       "        [124995.66019454, 132500.        ],\n",
       "        [192619.43661151, 408078.5       ],\n",
       "        [206138.52134434, 162500.        ],\n",
       "        [174189.62561744, 132500.        ],\n",
       "        [128542.35802718, 138750.        ],\n",
       "        [264708.31143212, 206250.        ],\n",
       "        [219496.81814952, 191250.        ],\n",
       "        [124755.86969266, 138750.        ],\n",
       "        [199345.68203268, 162500.        ],\n",
       "        [172391.3280935 , 150000.        ],\n",
       "        [229563.39908687, 168750.        ],\n",
       "        [132857.79961999, 138750.        ],\n",
       "        [210647.16396372, 168750.        ],\n",
       "        [109214.15087729, 137000.        ],\n",
       "        [ 69670.24389311, 126250.        ],\n",
       "        [254386.74852996, 168750.        ],\n",
       "        [196339.33105553, 162500.        ],\n",
       "        [115274.45739343, 132500.        ],\n",
       "        [185035.06634527, 151250.        ],\n",
       "        [192027.68732845, 151250.        ],\n",
       "        [175431.85986223, 151250.        ],\n",
       "        [220868.70478995, 191250.        ],\n",
       "        [208161.15542688, 172475.        ],\n",
       "        [203780.13503009, 173750.        ],\n",
       "        [192742.24588185, 162125.        ],\n",
       "        [241247.22272495, 191250.        ],\n",
       "        [164320.79617855, 150000.        ],\n",
       "        [263742.56877965, 187500.        ],\n",
       "        [148076.17488736, 132500.        ],\n",
       "        [232000.0353692 , 207500.        ],\n",
       "        [121821.9406448 , 138500.        ],\n",
       "        [165222.72771973, 148725.        ],\n",
       "        [161550.43783755, 161250.        ],\n",
       "        [209298.06451769, 191250.        ],\n",
       "        [146508.30444114, 132500.        ],\n",
       "        [111284.38952166, 132500.        ],\n",
       "        [232620.13740507, 191250.        ],\n",
       "        [212214.01932341, 171250.        ],\n",
       "        [103641.02109639, 132500.        ],\n",
       "        [120868.60667604, 130000.        ],\n",
       "        [187317.49534488, 173750.        ],\n",
       "        [204076.89351796, 162500.        ],\n",
       "        [144800.40308862, 140750.        ],\n",
       "        [245967.04061304, 168750.        ],\n",
       "        [109195.16154863, 132500.        ],\n",
       "        [348163.98450739, 270625.        ],\n",
       "        [216381.08167228, 187500.        ],\n",
       "        [113628.59945952, 132500.        ],\n",
       "        [211167.50640402, 171250.        ],\n",
       "        [238180.10589609, 161250.        ],\n",
       "        [199541.66583845, 162500.        ],\n",
       "        [133618.9476487 , 136250.        ],\n",
       "        [196697.11787549, 168750.        ],\n",
       "        [ 47074.12315632, 113750.        ],\n",
       "        [368523.51311373, 197500.        ],\n",
       "        [186948.31492772, 162500.        ],\n",
       "        [219206.64030659, 254375.        ],\n",
       "        [230815.52171655, 162500.        ],\n",
       "        [305941.13044017, 177500.        ],\n",
       "        [169072.01207902, 161250.        ],\n",
       "        [141043.5450738 , 162500.        ],\n",
       "        [251689.5647244 , 187500.        ],\n",
       "        [229399.82838   , 161250.        ],\n",
       "        [198084.19597885, 187500.        ],\n",
       "        [165923.86250288, 150000.        ],\n",
       "        [194803.87370823, 168750.        ],\n",
       "        [200768.97110068, 171250.        ],\n",
       "        [190897.62136295, 162500.        ],\n",
       "        [134140.30517552, 136250.        ],\n",
       "        [189833.88680759, 173750.        ],\n",
       "        [187384.08923538, 173750.        ],\n",
       "        [ 92855.33113375, 126250.        ],\n",
       "        [371204.49036983, 203750.        ],\n",
       "        [190785.19060329, 151250.        ],\n",
       "        [202768.81798882, 173750.        ],\n",
       "        [224381.221831  , 187500.        ],\n",
       "        [156855.43731691, 162500.        ],\n",
       "        [168338.46419696, 150000.        ],\n",
       "        [235942.49867912, 162500.        ],\n",
       "        [149527.81670817, 139625.        ],\n",
       "        [285645.15046475, 254375.        ],\n",
       "        [163766.27294666, 162500.        ],\n",
       "        [114903.50928359, 131000.        ],\n",
       "        [182031.7606277 , 162500.        ],\n",
       "        [175825.85764684, 161250.        ],\n",
       "        [292877.56194981, 187500.        ],\n",
       "        [236774.79107022, 191250.        ],\n",
       "        [227104.99069668, 191250.        ],\n",
       "        [287499.40088816, 191250.        ],\n",
       "        [293963.06861305, 191250.        ],\n",
       "        [149495.40360926, 151250.        ],\n",
       "        [130674.3776098 , 138750.        ],\n",
       "        [268300.58365355, 254375.        ],\n",
       "        [228018.31583505, 191250.        ],\n",
       "        [226348.65562022, 191250.        ],\n",
       "        [ 69964.21960178, 126250.        ],\n",
       "        [183071.43042178, 151250.        ],\n",
       "        [166175.04660196, 138750.        ],\n",
       "        [160228.93853817, 138750.        ],\n",
       "        [116328.56604428, 138750.        ],\n",
       "        [227461.76243011, 191250.        ],\n",
       "        [ 97009.98479891, 126250.        ],\n",
       "        [206005.33356334, 172475.        ],\n",
       "        [221358.66430439, 191250.        ],\n",
       "        [203418.5503444 , 172475.        ],\n",
       "        [127277.07410762, 128750.        ],\n",
       "        [217180.20835832, 191250.        ],\n",
       "        [ 76705.65648587, 111000.        ],\n",
       "        [223930.2560604 , 191250.        ],\n",
       "        [215871.11774266, 191250.        ],\n",
       "        [269378.49458532, 254375.        ],\n",
       "        [ 88406.70175994, 126250.        ],\n",
       "        [249111.39232345, 161250.        ],\n",
       "        [209634.83183593, 172475.        ],\n",
       "        [245629.25820827, 191250.        ],\n",
       "        [262581.85740792, 191250.        ],\n",
       "        [211563.27188131, 235600.        ],\n",
       "        [ 74041.90086575, 116000.        ],\n",
       "        [ 63928.73045309, 113750.        ],\n",
       "        [265083.0574077 , 187500.        ],\n",
       "        [116528.34771578, 138750.        ],\n",
       "        [146467.28052424, 136250.        ],\n",
       "        [138931.52990637, 132500.        ],\n",
       "        [128817.34440718, 136250.        ],\n",
       "        [213127.34446179, 190000.        ],\n",
       "        [189589.54583381, 132500.        ],\n",
       "        [131776.09082249, 138750.        ],\n",
       "        [122263.28051087, 132500.        ],\n",
       "        [132445.07498709, 132500.        ],\n",
       "        [282344.82377894, 191250.        ],\n",
       "        [205029.21240019, 162500.        ],\n",
       "        [ 96648.40011321, 132500.        ],\n",
       "        [217399.99444502, 191250.        ],\n",
       "        [150541.91652864, 151250.        ],\n",
       "        [107052.76345534, 132250.        ],\n",
       "        [223598.30169442, 161250.        ],\n",
       "        [160495.31410018, 138750.        ],\n",
       "        [226317.25760784, 191250.        ],\n",
       "        [180919.40642397, 151250.        ],\n",
       "        [ 91859.20555542, 126250.        ],\n",
       "        [145807.92226415, 140750.        ],\n",
       "        [209106.89366417, 162125.        ],\n",
       "        [198615.1794102 , 161250.        ],\n",
       "        [117574.86063517, 138750.        ],\n",
       "        [169198.61921509, 162500.        ],\n",
       "        [137786.00999757, 148475.        ],\n",
       "        [116863.34734135, 131000.        ],\n",
       "        [156999.00360859, 138750.        ],\n",
       "        [100172.31075145, 132500.        ],\n",
       "        [198299.16911329, 162500.        ],\n",
       "        [196894.11676779, 161250.        ],\n",
       "        [ 97204.95351816, 132500.        ],\n",
       "        [131529.71967566, 136250.        ],\n",
       "        [225733.10405624, 191250.        ],\n",
       "        [132591.42405798, 133750.        ],\n",
       "        [528794.45954264, 328750.        ],\n",
       "        [159770.37703611, 138750.        ],\n",
       "        [147207.40905124, 138750.        ],\n",
       "        [108148.64862924, 132500.        ],\n",
       "        [235010.93681823, 191250.        ],\n",
       "        [232134.99084288, 162125.        ],\n",
       "        [221425.2581949 , 191250.        ],\n",
       "        [195418.41018569, 162500.        ],\n",
       "        [203387.15233201, 172475.        ],\n",
       "        [272968.99911406, 191250.        ],\n",
       "        [215482.94799684, 234375.        ],\n",
       "        [239805.95941481, 161250.        ],\n",
       "        [239416.77458247, 191250.        ],\n",
       "        [127799.44672097, 162500.        ],\n",
       "        [194941.87444149, 161250.        ],\n",
       "        [ 69435.26634348, 126250.        ],\n",
       "        [239668.97376807, 161250.        ],\n",
       "        [253331.62479258, 191250.        ],\n",
       "        [175593.66287642, 139625.        ],\n",
       "        [234814.95301245, 191250.        ],\n",
       "        [151006.30606948, 137250.        ],\n",
       "        [241740.98010513, 191250.        ],\n",
       "        [135625.37518178, 132500.        ],\n",
       "        [221242.69815937, 161250.        ],\n",
       "        [255067.87889792, 191250.        ],\n",
       "        [222879.19266913, 191250.        ],\n",
       "        [196468.7209708 , 162500.        ],\n",
       "        [195747.58177247, 162500.        ],\n",
       "        [144989.80624946, 137250.        ],\n",
       "        [164520.57785006, 139625.        ],\n",
       "        [ 97261.16889799, 126250.        ],\n",
       "        [144171.69023476, 162500.        ],\n",
       "        [168644.84858935, 161250.        ],\n",
       "        [162575.17864907, 132500.        ],\n",
       "        [253704.60307547, 168750.        ],\n",
       "        [290706.54862334, 185000.        ],\n",
       "        [166668.80398213, 138750.        ],\n",
       "        [202466.23146217, 190000.        ],\n",
       "        [201052.56829868, 160000.        ],\n",
       "        [ 69121.28621963, 111000.        ],\n",
       "        [156145.69171578, 162500.        ],\n",
       "        [108932.58385235, 132500.        ],\n",
       "        [137112.47536108, 162500.        ],\n",
       "        [301320.05706112, 191250.        ],\n",
       "        [183726.99081614, 148375.        ],\n",
       "        [221088.49087665, 191250.        ],\n",
       "        [237328.56169595, 162125.        ],\n",
       "        [235493.30060121, 191250.        ],\n",
       "        [113603.02948591, 132500.        ],\n",
       "        [229852.56184328, 191250.        ],\n",
       "        [196685.72427829, 161250.        ],\n",
       "        [120103.6607816 , 132500.        ],\n",
       "        [303790.12152889, 293725.        ]]))"
      ]
     },
     "execution_count": 667,
     "metadata": {},
     "output_type": "execute_result"
    }
   ],
   "source": [
    "X_array_std = np.array(X_data_std)\n",
    "model = [lr,rforest]\n",
    "stacking(model,X_array_std,y_array,n_splits=4)  #MSE: 2399808646.8215013"
   ]
  },
  {
   "cell_type": "code",
   "execution_count": 660,
   "metadata": {
    "ExecuteTime": {
     "end_time": "2019-11-21T08:30:46.044667Z",
     "start_time": "2019-11-21T08:24:02.399943Z"
    }
   },
   "outputs": [
    {
     "name": "stdout",
     "output_type": "stream",
     "text": [
      "model: 0\n",
      "Cross-Validation scores: [0.67022238 0.56454093 0.67911422 0.62521836]\n",
      "Average score: 0.6347739717920808\n",
      "Cross-Validation scores: [0.67022238 0.56454093 0.67911422 0.62521836]\n",
      "Average score: 0.6347739717920808\n",
      "Cross-Validation scores: [0.67022238 0.56454093 0.67911422 0.62521836]\n",
      "Average score: 0.6347739717920808\n",
      "Cross-Validation scores: [0.67022238 0.56454093 0.67911422 0.62521836]\n",
      "Average score: 0.6347739717920808\n",
      "model: 1\n"
     ]
    },
    {
     "name": "stderr",
     "output_type": "stream",
     "text": [
      "/Users/akishimasaki/.pyenv/versions/anaconda3-2019.03/lib/python3.7/site-packages/sklearn/model_selection/_split.py:652: Warning: The least populated class in y has only 1 members, which is too few. The minimum number of members in any class cannot be less than n_splits=4.\n",
      "  % (min_groups, self.n_splits)), Warning)\n"
     ]
    },
    {
     "name": "stdout",
     "output_type": "stream",
     "text": [
      "Cross-Validation scores: [0.0078125  0.02681992 0.0060241  0.02970297]\n",
      "Average score: 0.017589872513554844\n"
     ]
    },
    {
     "name": "stderr",
     "output_type": "stream",
     "text": [
      "/Users/akishimasaki/.pyenv/versions/anaconda3-2019.03/lib/python3.7/site-packages/sklearn/model_selection/_split.py:652: Warning: The least populated class in y has only 1 members, which is too few. The minimum number of members in any class cannot be less than n_splits=4.\n",
      "  % (min_groups, self.n_splits)), Warning)\n"
     ]
    },
    {
     "name": "stdout",
     "output_type": "stream",
     "text": [
      "Cross-Validation scores: [0.0078125  0.02681992 0.0060241  0.02970297]\n",
      "Average score: 0.017589872513554844\n"
     ]
    },
    {
     "name": "stderr",
     "output_type": "stream",
     "text": [
      "/Users/akishimasaki/.pyenv/versions/anaconda3-2019.03/lib/python3.7/site-packages/sklearn/model_selection/_split.py:652: Warning: The least populated class in y has only 1 members, which is too few. The minimum number of members in any class cannot be less than n_splits=4.\n",
      "  % (min_groups, self.n_splits)), Warning)\n"
     ]
    },
    {
     "name": "stdout",
     "output_type": "stream",
     "text": [
      "Cross-Validation scores: [0.0078125  0.02681992 0.0060241  0.02970297]\n",
      "Average score: 0.017589872513554844\n"
     ]
    },
    {
     "name": "stderr",
     "output_type": "stream",
     "text": [
      "/Users/akishimasaki/.pyenv/versions/anaconda3-2019.03/lib/python3.7/site-packages/sklearn/model_selection/_split.py:652: Warning: The least populated class in y has only 1 members, which is too few. The minimum number of members in any class cannot be less than n_splits=4.\n",
      "  % (min_groups, self.n_splits)), Warning)\n"
     ]
    },
    {
     "name": "stdout",
     "output_type": "stream",
     "text": [
      "Cross-Validation scores: [0.0078125  0.02681992 0.0060241  0.02970297]\n",
      "Average score: 0.017589872513554844\n",
      "model: 2\n",
      "Cross-Validation scores: [0.00625    0.01532567 0.01204819 0.01980198]\n",
      "Average score: 0.013356460866797107\n"
     ]
    },
    {
     "name": "stderr",
     "output_type": "stream",
     "text": [
      "/Users/akishimasaki/.pyenv/versions/anaconda3-2019.03/lib/python3.7/site-packages/sklearn/model_selection/_split.py:652: Warning: The least populated class in y has only 1 members, which is too few. The minimum number of members in any class cannot be less than n_splits=4.\n",
      "  % (min_groups, self.n_splits)), Warning)\n",
      "/Users/akishimasaki/.pyenv/versions/anaconda3-2019.03/lib/python3.7/site-packages/sklearn/model_selection/_split.py:652: Warning: The least populated class in y has only 1 members, which is too few. The minimum number of members in any class cannot be less than n_splits=4.\n",
      "  % (min_groups, self.n_splits)), Warning)\n"
     ]
    },
    {
     "name": "stdout",
     "output_type": "stream",
     "text": [
      "Cross-Validation scores: [0.00625    0.01532567 0.01204819 0.01980198]\n",
      "Average score: 0.013356460866797107\n",
      "Cross-Validation scores: [0.00625    0.01532567 0.01204819 0.01980198]\n",
      "Average score: 0.013356460866797107\n",
      "Cross-Validation scores: [0.00625    0.01532567 0.01204819 0.01980198]\n",
      "Average score: 0.013356460866797107\n",
      "MSE: 2328149499.0840955\n"
     ]
    },
    {
     "name": "stderr",
     "output_type": "stream",
     "text": [
      "/Users/akishimasaki/.pyenv/versions/anaconda3-2019.03/lib/python3.7/site-packages/sklearn/model_selection/_split.py:652: Warning: The least populated class in y has only 1 members, which is too few. The minimum number of members in any class cannot be less than n_splits=4.\n",
      "  % (min_groups, self.n_splits)), Warning)\n",
      "/Users/akishimasaki/.pyenv/versions/anaconda3-2019.03/lib/python3.7/site-packages/sklearn/model_selection/_split.py:652: Warning: The least populated class in y has only 1 members, which is too few. The minimum number of members in any class cannot be less than n_splits=4.\n",
      "  % (min_groups, self.n_splits)), Warning)\n"
     ]
    },
    {
     "data": {
      "text/plain": [
       "(array([[193229.84874774, 147400.        , 190000.        ],\n",
       "        [232166.11924365, 244000.        , 190000.        ],\n",
       "        [137813.17083791, 177000.        , 145000.        ],\n",
       "        ...,\n",
       "        [ 86939.83558896,  94000.        , 140000.        ],\n",
       "        [204327.12217526, 187100.        , 173000.        ],\n",
       "        [129917.51675199, 149900.        , 135000.        ]]),\n",
       " array([[211488.41635918, 184750.        , 185750.        ],\n",
       "        [214515.07825774, 273341.5       , 177500.        ],\n",
       "        [ 92294.52257579, 119000.        , 157500.        ],\n",
       "        [224500.01551579, 226250.        , 185000.        ],\n",
       "        [244567.27308518, 269250.        , 185750.        ],\n",
       "        [142188.24743206, 146375.        , 156000.        ],\n",
       "        [128908.9583201 , 120375.        , 157500.        ],\n",
       "        [169217.14491686, 177500.        , 177500.        ],\n",
       "        [207234.14596092, 195850.        , 185750.        ],\n",
       "        [153047.96869031, 162750.        , 157500.        ],\n",
       "        [142808.7618869 , 165250.        , 157500.        ],\n",
       "        [167870.79412744, 144725.        , 156000.        ],\n",
       "        [216332.16415084, 192898.75      , 177500.        ],\n",
       "        [327532.29387003, 322500.        , 192500.        ],\n",
       "        [205348.67267584, 195725.        , 185750.        ],\n",
       "        [244725.4449193 , 249925.        , 177500.        ],\n",
       "        [337318.798064  , 403750.        , 192500.        ],\n",
       "        [163851.89128101, 161875.        , 156000.        ],\n",
       "        [117327.18112598, 108950.        , 157500.        ],\n",
       "        [228886.03277098, 260195.        , 185000.        ],\n",
       "        [302226.5015947 , 284750.        , 192500.        ],\n",
       "        [193904.08610845, 147750.        , 156000.        ],\n",
       "        [122486.85674312, 133450.        , 168750.        ],\n",
       "        [182125.12337857, 163000.        , 168750.        ],\n",
       "        [153359.70027431, 145250.        , 163750.        ],\n",
       "        [123188.76315715, 124000.        , 157500.        ],\n",
       "        [223681.89968242, 224200.        , 185750.        ],\n",
       "        [137857.61300163, 165375.        , 157500.        ],\n",
       "        [207712.85770477, 172028.5       , 177500.        ],\n",
       "        [272845.17611985, 268500.        , 185750.        ],\n",
       "        [257410.64455361, 251076.25      , 177500.        ],\n",
       "        [109566.70539975, 117000.        , 157500.        ],\n",
       "        [226653.17875621, 240000.        , 185750.        ],\n",
       "        [198037.53500312, 186747.5       , 177500.        ],\n",
       "        [190603.45879919, 169487.5       , 144750.        ],\n",
       "        [187384.22344913, 173250.        , 177500.        ],\n",
       "        [112654.19389288, 139250.        , 157500.        ],\n",
       "        [187464.36788   , 159475.        , 185750.        ],\n",
       "        [150375.83247608, 166125.        , 157500.        ],\n",
       "        [ 78625.89031935,  93625.        , 157500.        ],\n",
       "        [208696.70616968, 237850.        , 176250.        ],\n",
       "        [221762.02477996, 210500.        , 185750.        ],\n",
       "        [266833.81473751, 253975.        , 185750.        ],\n",
       "        [122739.42510364, 145000.        , 157500.        ],\n",
       "        [219300.0786687 , 196250.        , 170000.        ],\n",
       "        [147194.77914209, 184375.        , 156000.        ],\n",
       "        [144445.44721016, 130500.        , 167500.        ],\n",
       "        [123307.92128964, 132375.        , 144750.        ],\n",
       "        [184105.40903282, 134875.        , 170000.        ],\n",
       "        [ 75414.63160947, 104750.        , 131500.        ],\n",
       "        [260134.3831939 , 237500.        , 185750.        ],\n",
       "        [194801.51468714, 155500.        , 176250.        ],\n",
       "        [196011.50653538, 196750.        , 176250.        ],\n",
       "        [198059.76373883, 148475.        , 156000.        ],\n",
       "        [281759.429184  , 243000.        , 192500.        ],\n",
       "        [117254.59749252, 122125.        , 157500.        ],\n",
       "        [125369.18306031, 113500.        , 157500.        ],\n",
       "        [206994.5821676 , 188375.        , 177500.        ],\n",
       "        [182564.82142079, 158125.        , 185750.        ],\n",
       "        [161141.15720793, 151475.        , 168750.        ],\n",
       "        [135476.64300678, 135500.        , 157500.        ],\n",
       "        [ 72310.7739932 ,  78375.        , 157500.        ],\n",
       "        [144924.15895401, 152725.        , 176250.        ],\n",
       "        [241758.36208699, 220125.        , 185750.        ],\n",
       "        [185160.17776009, 171875.        , 185750.        ],\n",
       "        [153444.8726322 , 153500.        , 185750.        ],\n",
       "        [203822.33715935, 182750.        , 185750.        ],\n",
       "        [233259.46130174, 247375.        , 170000.        ],\n",
       "        [119861.7108707 , 129225.        , 168750.        ],\n",
       "        [109228.96468133, 106498.25      , 157500.        ],\n",
       "        [316344.88774742, 262525.        , 377000.        ],\n",
       "        [133316.37262547, 123500.        , 163750.        ],\n",
       "        [155287.96765972, 125875.        , 167500.        ],\n",
       "        [296475.68521307, 301250.        , 192500.        ],\n",
       "        [216511.73303513, 192898.75      , 177500.        ],\n",
       "        [114884.96869379, 131650.        , 167500.        ],\n",
       "        [222518.89817599, 198250.        , 185750.        ],\n",
       "        [229514.10802324, 212725.        , 168750.        ],\n",
       "        [221847.61298063, 221500.        , 185750.        ],\n",
       "        [193685.08767975, 194375.        , 177500.        ],\n",
       "        [271613.78722145, 253250.        , 185750.        ],\n",
       "        [265132.10657821, 369520.75      , 177500.        ],\n",
       "        [124731.46779678, 126675.        , 168750.        ],\n",
       "        [304577.68205642, 310500.        , 192500.        ],\n",
       "        [172626.00500527, 223375.        , 170000.        ],\n",
       "        [155860.24424443, 149325.        , 185750.        ],\n",
       "        [116073.97933463,  93050.        , 157500.        ],\n",
       "        [118211.60513746, 145725.        , 157500.        ],\n",
       "        [180680.17982126, 152000.        , 144750.        ],\n",
       "        [268227.57171152, 373899.        , 177500.        ],\n",
       "        [ 99622.44521443,  99250.        , 157500.        ],\n",
       "        [132397.54699661, 128250.        , 157500.        ],\n",
       "        [146130.37040355, 188000.        , 157500.        ],\n",
       "        [119271.81763453, 128125.        , 156000.        ],\n",
       "        [152672.04595581, 137000.        , 157500.        ],\n",
       "        [238988.04894766, 195000.        , 185750.        ],\n",
       "        [163855.67167972, 163125.        , 186250.        ],\n",
       "        [206515.87042375, 195725.        , 185750.        ],\n",
       "        [114509.04595929, 132750.        , 144750.        ],\n",
       "        [ 68193.69422167,  82975.        , 157500.        ],\n",
       "        [214912.81388518, 218500.        , 185750.        ],\n",
       "        [169251.54653424, 165875.        , 163750.        ],\n",
       "        [191056.5772514 , 150225.        , 156000.        ],\n",
       "        [237140.75767866, 354951.        , 177500.        ],\n",
       "        [152752.60622945, 145250.        , 163750.        ],\n",
       "        [166686.39557085, 167475.        , 168750.        ],\n",
       "        [220124.50777116, 188000.        , 177500.        ],\n",
       "        [159898.01127063, 136750.        , 170000.        ],\n",
       "        [113072.49488494, 127125.        , 144750.        ],\n",
       "        [131747.65885142, 138000.        , 144750.        ],\n",
       "        [158049.47247332, 129550.        , 185750.        ],\n",
       "        [ 89574.98017698, 104125.        , 157500.        ],\n",
       "        [204715.98533934, 246000.        , 185750.        ],\n",
       "        [227234.67950942, 218850.        , 185750.        ],\n",
       "        [222505.89360878, 209975.        , 177500.        ],\n",
       "        [155711.2965788 , 151250.        , 167500.        ],\n",
       "        [217020.65015489, 179500.        , 185750.        ],\n",
       "        [173287.65018935, 150475.        , 167500.        ],\n",
       "        [301828.35012449, 336250.        , 192500.        ],\n",
       "        [111460.98701056, 124750.        , 157500.        ],\n",
       "        [473150.07030724, 404750.        , 216125.        ],\n",
       "        [215814.85454813, 197245.        , 177500.        ],\n",
       "        [194065.6224985 , 177425.        , 177500.        ],\n",
       "        [203065.46376332, 189462.5       , 177500.        ],\n",
       "        [115637.64584834, 135500.        , 156000.        ],\n",
       "        [199555.89387943, 173226.25      , 163750.        ],\n",
       "        [263289.42739346, 400895.75      , 177500.        ],\n",
       "        [145605.08416065, 161000.        , 157500.        ],\n",
       "        [159744.45152076, 195825.        , 152375.        ],\n",
       "        [102494.71567757, 118425.        , 112000.        ],\n",
       "        [456672.52705261, 331250.        , 216125.        ],\n",
       "        [234024.72718073, 237250.        , 170000.        ],\n",
       "        [ 30343.2574947 ,  60450.        , 100750.        ],\n",
       "        [185373.73241898, 170250.        , 185750.        ],\n",
       "        [144364.47109374, 114125.        , 144750.        ],\n",
       "        [135569.79200486, 147000.        , 156000.        ],\n",
       "        [122628.24361133, 145250.        , 157500.        ],\n",
       "        [174417.9134495 , 181000.        , 167375.        ],\n",
       "        [141863.09543807, 102750.        , 167500.        ],\n",
       "        [ 85290.92024559, 114250.        , 157500.        ],\n",
       "        [236183.75003372, 229750.        , 168750.        ],\n",
       "        [211505.2013251 , 185125.        , 177500.        ],\n",
       "        [144586.41823559, 137350.        , 163750.        ],\n",
       "        [179742.9058554 , 148600.        , 185750.        ],\n",
       "        [121734.59543134, 132500.        , 157500.        ],\n",
       "        [249103.48553432, 316915.5       , 177500.        ],\n",
       "        [238598.70580317, 306106.5       , 177500.        ],\n",
       "        [159705.43781913, 161750.        , 157500.        ],\n",
       "        [178686.88959981, 141000.        , 185750.        ],\n",
       "        [145198.1243647 , 136750.        , 156000.        ],\n",
       "        [246858.87448065, 208355.        , 177500.        ],\n",
       "        [257868.37509007, 231500.        , 185750.        ],\n",
       "        [279994.36155974, 251000.        , 185000.        ],\n",
       "        [121909.55223138, 112625.        , 167500.        ],\n",
       "        [219859.3506862 , 254349.        , 158375.        ],\n",
       "        [106339.4934095 , 124000.        , 157500.        ],\n",
       "        [153616.88071908, 143000.        , 157500.        ],\n",
       "        [237089.57109537, 234000.        , 185750.        ],\n",
       "        [224750.50466244, 223225.        , 177500.        ],\n",
       "        [140768.8971664 , 123500.        , 157500.        ],\n",
       "        [ 95329.99280008, 125675.        , 157500.        ],\n",
       "        [178114.6130151 , 152500.        , 167500.        ],\n",
       "        [283217.37730851, 207500.        , 192500.        ],\n",
       "        [191141.7496093 , 154143.5       , 176250.        ],\n",
       "        [218461.39747071, 215000.        , 185750.        ],\n",
       "        [243177.71235265, 270365.75      , 177500.        ],\n",
       "        [160979.2049751 , 143250.        , 157500.        ],\n",
       "        [ 81990.29293633,  93250.        , 157500.        ],\n",
       "        [ 48061.41381623,  91200.        , 153100.        ],\n",
       "        [228341.88234831, 251975.        , 177500.        ],\n",
       "        [230710.67946149, 208937.5       , 185750.        ],\n",
       "        [104757.35922547,  97950.        , 157500.        ],\n",
       "        [155070.21675934, 168625.        , 144750.        ],\n",
       "        [168362.92628128, 151500.        , 157500.        ],\n",
       "        [248532.04063516, 318500.        , 185000.        ],\n",
       "        [177896.44627195, 160875.        , 163750.        ],\n",
       "        [224224.80257678, 183000.        , 185750.        ],\n",
       "        [131409.918133  , 130750.        , 157500.        ],\n",
       "        [217871.92007731, 202875.        , 176250.        ],\n",
       "        [190393.26869623, 178250.        , 185750.        ],\n",
       "        [309071.516248  , 242250.        , 192500.        ],\n",
       "        [180500.1950942 , 182300.        , 163750.        ],\n",
       "        [232198.41711913, 195000.        , 185750.        ],\n",
       "        [219458.25050283, 201250.        , 168750.        ],\n",
       "        [285205.63960294, 272500.        , 192500.        ],\n",
       "        [121589.01232165, 131225.        , 168750.        ],\n",
       "        [206075.34069597, 188375.        , 177500.        ],\n",
       "        [182699.06333437, 118250.        , 170000.        ],\n",
       "        [ 91426.05184468, 106750.        , 157500.        ],\n",
       "        [135744.7488049 , 142250.        , 176250.        ],\n",
       "        [184339.11321356, 166250.        , 185750.        ],\n",
       "        [223335.35063827, 230750.        , 177500.        ],\n",
       "        [145642.43449118, 145125.        , 176250.        ],\n",
       "        [234263.4592885 , 203750.        , 185750.        ],\n",
       "        [113628.81818928, 117350.        , 157500.        ],\n",
       "        [186520.78064504, 166500.        , 170000.        ],\n",
       "        [215165.38224571, 178750.        , 186250.        ],\n",
       "        [219022.3328593 , 202750.        , 157250.        ],\n",
       "        [212420.24655525, 193625.        , 185750.        ],\n",
       "        [138529.31403976, 138000.        , 157500.        ],\n",
       "        [ 90755.59833486, 113000.        , 156250.        ],\n",
       "        [123504.27513985, 132250.        , 167500.        ],\n",
       "        [185807.94887767, 252375.        , 191125.        ],\n",
       "        [160107.36968805, 191000.        , 177500.        ],\n",
       "        [123166.53442143, 109250.        , 167500.        ],\n",
       "        [139897.47772213, 143975.        , 157500.        ],\n",
       "        [233113.46234928, 203375.        , 185750.        ],\n",
       "        [242998.14346835, 281481.5       , 177500.        ],\n",
       "        [138202.91451746, 121625.        , 185750.        ],\n",
       "        [ 98206.87534748, 110000.        , 157500.        ],\n",
       "        [154698.49026632, 150500.        , 157500.        ],\n",
       "        [237110.96814554, 231250.        , 185750.        ],\n",
       "        [131824.43872635, 128875.        , 168750.        ],\n",
       "        [163646.3132623 , 133000.        , 176250.        ],\n",
       "        [151816.5797919 , 137875.        , 144750.        ],\n",
       "        [124731.46779678, 126675.        , 168750.        ],\n",
       "        [125065.01227372, 145475.        , 156000.        ],\n",
       "        [235994.95698093, 297875.        , 177500.        ],\n",
       "        [122748.64927215, 136250.        , 157500.        ],\n",
       "        [269463.15685141, 334937.5       , 177500.        ],\n",
       "        [133320.98470972, 147500.        , 144750.        ],\n",
       "        [135108.28106969, 120000.        , 157500.        ],\n",
       "        [ 75663.41957129, 128250.        , 156875.        ],\n",
       "        [201946.08804278, 191975.        , 168750.        ],\n",
       "        [ 73871.51112707, 112600.        , 157500.        ],\n",
       "        [114740.21726964, 139000.        , 157500.        ],\n",
       "        [222528.95403004, 181625.        , 185000.        ],\n",
       "        [145758.22806775, 218125.        , 156000.        ],\n",
       "        [149648.74861317, 127500.        , 168750.        ],\n",
       "        [254439.78132259, 247500.        , 176250.        ],\n",
       "        [108224.13500903, 104025.        , 144750.        ],\n",
       "        [237859.03321584, 358801.5       , 177500.        ],\n",
       "        [206310.70824781, 198500.        , 185750.        ],\n",
       "        [176198.93435412, 128375.        , 186250.        ],\n",
       "        [216704.72232941, 188750.        , 176250.        ],\n",
       "        [132513.34057317, 132000.        , 157500.        ],\n",
       "        [193821.86246371, 199658.25      , 158375.        ],\n",
       "        [256192.26022241, 229750.        , 185750.        ],\n",
       "        [151162.07956246, 163750.        , 163750.        ],\n",
       "        [309520.02261596, 368625.        , 192500.        ],\n",
       "        [ 92688.06196175, 113000.        , 156250.        ],\n",
       "        [134881.30600081, 146950.        , 167500.        ],\n",
       "        [115227.32149646, 132750.        , 144750.        ],\n",
       "        [157823.32908999, 132625.        , 167500.        ],\n",
       "        [223036.62362148, 195000.        , 176250.        ],\n",
       "        [211505.2013251 , 185125.        , 177500.        ],\n",
       "        [238500.52887807, 217250.        , 185750.        ],\n",
       "        [144291.88746028, 133625.        , 157500.        ],\n",
       "        [103354.37808295, 103252.        , 144750.        ],\n",
       "        [215455.71677954, 178725.        , 177500.        ],\n",
       "        [223887.06185836, 194500.        , 185750.        ],\n",
       "        [131469.49719925, 127150.        , 167500.        ],\n",
       "        [101973.62567615, 127725.        , 157500.        ],\n",
       "        [268804.87622326, 268500.        , 185750.        ],\n",
       "        [145878.63372857, 158125.        , 157500.        ],\n",
       "        [113029.70078461, 112500.        , 144750.        ],\n",
       "        [196686.57212944, 191250.        , 185750.        ],\n",
       "        [234152.27779618, 207375.        , 185750.        ],\n",
       "        [135808.9399554 , 139812.5       , 163750.        ],\n",
       "        [119682.14198641, 107250.        , 168750.        ],\n",
       "        [181487.40811504, 158625.        , 185750.        ],\n",
       "        [228542.84828277, 248750.        , 177500.        ],\n",
       "        [227474.24330274, 199625.        , 185750.        ],\n",
       "        [166583.60656149, 164500.        , 163750.        ],\n",
       "        [158905.35448   , 132750.        , 157500.        ],\n",
       "        [231203.22745811, 193375.        , 185000.        ],\n",
       "        [100382.68316639,  86000.        , 112000.        ],\n",
       "        [293538.39191388, 332250.        , 192500.        ],\n",
       "        [247782.72803654, 263500.        , 186250.        ],\n",
       "        [141863.09543807, 102750.        , 167500.        ],\n",
       "        [143184.6846214 , 147250.        , 157500.        ],\n",
       "        [267733.32253007, 250750.        , 185000.        ],\n",
       "        [143372.64598865,  99250.        , 157500.        ],\n",
       "        [145266.51175668, 136750.        , 156000.        ],\n",
       "        [157096.24522708, 143875.        , 177500.        ],\n",
       "        [ 98040.72687317,  95225.        , 157500.        ],\n",
       "        [162791.67878394, 160125.        , 144750.        ],\n",
       "        [200867.84305147, 199746.25      , 177500.        ],\n",
       "        [144073.72071713, 140250.        , 156000.        ],\n",
       "        [182415.04206963, 145000.        , 177500.        ],\n",
       "        [111909.90922129, 127250.        , 157500.        ],\n",
       "        [129943.16168276, 132250.        , 167500.        ],\n",
       "        [ 81879.52728679,  76750.        , 157500.        ],\n",
       "        [173745.38072582, 147000.        , 144750.        ],\n",
       "        [184835.85745165, 151875.        , 156000.        ],\n",
       "        [125120.39509849, 127375.        , 167500.        ],\n",
       "        [ 77210.73629518,  88750.        , 157500.        ],\n",
       "        [269057.02874101, 269250.        , 177500.        ],\n",
       "        [203604.1704162 , 200998.75      , 177500.        ],\n",
       "        [212420.24655525, 193625.        , 185750.        ],\n",
       "        [110516.15224728, 140725.        , 157500.        ],\n",
       "        [258608.04767741, 270750.        , 185750.        ]]))"
      ]
     },
     "execution_count": 660,
     "metadata": {},
     "output_type": "execute_result"
    }
   ],
   "source": [
    "model = [lr,lgb,rforest]\n",
    "stacking(model,X_array,y_array,n_splits=4) #MSE: 2328149499.0840955"
   ]
  },
  {
   "cell_type": "code",
   "execution_count": null,
   "metadata": {},
   "outputs": [],
   "source": []
  }
 ],
 "metadata": {
  "kernelspec": {
   "display_name": "Python 3",
   "language": "python",
   "name": "python3"
  },
  "language_info": {
   "codemirror_mode": {
    "name": "ipython",
    "version": 3
   },
   "file_extension": ".py",
   "mimetype": "text/x-python",
   "name": "python",
   "nbconvert_exporter": "python",
   "pygments_lexer": "ipython3",
   "version": "3.7.3"
  },
  "toc": {
   "base_numbering": 1,
   "nav_menu": {},
   "number_sections": true,
   "sideBar": true,
   "skip_h1_title": false,
   "title_cell": "Table of Contents",
   "title_sidebar": "Contents",
   "toc_cell": false,
   "toc_position": {},
   "toc_section_display": true,
   "toc_window_display": false
  }
 },
 "nbformat": 4,
 "nbformat_minor": 2
}
