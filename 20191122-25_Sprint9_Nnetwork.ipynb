{
 "cells": [
  {
   "cell_type": "markdown",
   "metadata": {},
   "source": [
    "# Sprint9 ニューラルネットワーク"
   ]
  },
  {
   "cell_type": "code",
   "execution_count": 28,
   "metadata": {},
   "outputs": [],
   "source": [
    "import numpy as np\n",
    "import pandas as pd\n",
    "import matplotlib.pyplot as plt\n",
    "import seaborn as sns\n",
    "# from numpy import linalg as LA\n",
    "import copy\n",
    "sns.set()\n",
    "%matplotlib inline\n",
    "import time\n",
    "import math\n",
    "import copy\n",
    "\n",
    "from mpl_toolkits.mplot3d import Axes3D\n",
    "from keras.utils import np_utils\n",
    "\n",
    "from sklearn.preprocessing import OneHotEncoder\n",
    "from sklearn.model_selection import train_test_split"
   ]
  },
  {
   "cell_type": "code",
   "execution_count": 29,
   "metadata": {},
   "outputs": [],
   "source": [
    "#Some functions to make life easier\n",
    "from sklearn import metrics\n",
    "import tensorflow as tf\n",
    "\n",
    "def submit(predictions):\n",
    "    submit = pd.read_csv('../input/sample_submission.csv')\n",
    "    submit[\"target\"] = predictions\n",
    "    submit.to_csv(\"submission.csv\", index=False)\n",
    "\n",
    "def fallback_auc(y_true, y_pred):\n",
    "    try:\n",
    "        return metrics.roc_auc_score(y_true, y_pred)\n",
    "    except:\n",
    "        return 0.5\n",
    "\n",
    "def auc(y_true, y_pred):\n",
    "    return tf.py_function(fallback_auc, (y_true, y_pred), tf.double)"
   ]
  },
  {
   "cell_type": "code",
   "execution_count": 30,
   "metadata": {
    "ExecuteTime": {
     "end_time": "2019-11-22T01:22:20.865136Z",
     "start_time": "2019-11-22T01:22:17.462737Z"
    }
   },
   "outputs": [],
   "source": [
    "# MNIST data set\n",
    "from keras.datasets import mnist\n",
    "(X_train, y_train), (X_test, y_test) = mnist.load_data()"
   ]
  },
  {
   "cell_type": "markdown",
   "metadata": {},
   "source": [
    "### データセットの確認 平滑化\n",
    ">(1, 28, 28)の各画像を、(1, 784)に変換します。これまで学んできた機械学習手法や、今回扱う全結合層のみのニューラルネットワークではこの形で扱います。全てのピクセルが一列になっていることを、 平滑化（flatten） してあるという風に表現します。"
   ]
  },
  {
   "cell_type": "code",
   "execution_count": 31,
   "metadata": {
    "ExecuteTime": {
     "end_time": "2019-11-22T02:02:21.828065Z",
     "start_time": "2019-11-22T02:02:21.797319Z"
    }
   },
   "outputs": [],
   "source": [
    "# print(X_train.shape) # (60000, 28, 28)\n",
    "# print(X_test.shape) # (10000, 28, 28)\n",
    "# print(X_train[0].dtype) # uint8\n",
    "# print(X_train[0])\n",
    "\n",
    "X_train = X_train.reshape(-1, 784) #平滑化\n",
    "X_test = X_test.reshape(-1, 784)"
   ]
  },
  {
   "cell_type": "markdown",
   "metadata": {},
   "source": [
    "《補足》\n",
    "\n",
    "ここまで機械学習を学んでくる中で、特徴量の数を「次元」と呼んできました。その視点ではMNISTは784次元のデータです。一方で、NumPyのshapeが(784,)の状態を1次元配列とも呼びます。画像としての縦横の情報を持つ（28, 28)の状態であれば、2次元配列です。この視点では2次元のデータです。さらに、もしもカラー画像であれば(28, 28, 3)ということになり、3次元配列です。先ほどの視点では3次元のデータになります。しかし、白黒でもカラーでも平面画像であり、立体データではないという視点で、2次元のデータです。画像データを扱う際にはこのように「次元」という言葉が複数の意味合いで使われることに注意してください。"
   ]
  },
  {
   "cell_type": "markdown",
   "metadata": {},
   "source": [
    "### 画像データの可視化\n"
   ]
  },
  {
   "cell_type": "code",
   "execution_count": 5,
   "metadata": {
    "ExecuteTime": {
     "end_time": "2019-11-22T02:03:50.474542Z",
     "start_time": "2019-11-22T02:03:49.277071Z"
    }
   },
   "outputs": [
    {
     "data": {
      "image/png": "[encoded data removed]",
      "text/plain": [
       "<Figure size 432x288 with 1 Axes>"
      ]
     },
     "metadata": {
      "needs_background": "light"
     },
     "output_type": "display_data"
    }
   ],
   "source": [
    "import matplotlib.pyplot as plt\n",
    "%matplotlib inline\n",
    "index = 0\n",
    "image = X_train[index].reshape(28,28)\n",
    "# X_train[index]: (784,)\n",
    "# image: (28, 28)\n",
    "plt.imshow(image, 'gray')\n",
    "plt.title('label : {}'.format(y_train[index]))\n",
    "plt.show()"
   ]
  },
  {
   "cell_type": "markdown",
   "metadata": {},
   "source": [
    "《発展的話題》\n",
    "\n",
    "画像データは符号なし8ビット整数のuint8型で保持されることが一般的ですが、plt.imshowはより自由な配列を画像として表示することが可能です。例えば、以下のようにマイナスの値を持ったfloat64型の浮動小数点であってもエラーにはならないし、先ほどと全く同じ風に表示されます。"
   ]
  },
  {
   "cell_type": "code",
   "execution_count": 6,
   "metadata": {
    "ExecuteTime": {
     "end_time": "2019-11-22T02:04:12.867542Z",
     "start_time": "2019-11-22T02:04:12.736394Z"
    }
   },
   "outputs": [
    {
     "data": {
      "image/png": "[encoded data removed]",
      "text/plain": [
       "<Figure size 432x288 with 1 Axes>"
      ]
     },
     "metadata": {
      "needs_background": "light"
     },
     "output_type": "display_data"
    }
   ],
   "source": [
    "index = 0\n",
    "image = X_train[index].reshape(28,28)\n",
    "image = image.astype(np.float) # float型に変換\n",
    "image -= 105.35 # 意図的に負の小数値を作り出してみる\n",
    "plt.imshow(image, 'gray')\n",
    "plt.title('label : {}'.format(y_train[index]))\n",
    "plt.show()\n",
    "# print(image) # 値を確認"
   ]
  },
  {
   "cell_type": "markdown",
   "metadata": {},
   "source": [
    "これは、自動的に値を0〜255の整数に変換して処理するように作られているからです。uint8型であっても最小値が0、最大値が255でない場合には色合いがおかしくなります。それを防ぐためには次のように引数を入れてください。"
   ]
  },
  {
   "cell_type": "code",
   "execution_count": 7,
   "metadata": {
    "ExecuteTime": {
     "end_time": "2019-11-22T02:04:50.866232Z",
     "start_time": "2019-11-22T02:04:50.737650Z"
    }
   },
   "outputs": [
    {
     "data": {
      "text/plain": [
       "<matplotlib.image.AxesImage at 0x10d4c2390>"
      ]
     },
     "execution_count": 7,
     "metadata": {},
     "output_type": "execute_result"
    },
    {
     "data": {
      "image/png": "[encoded data removed]",
      "text/plain": [
       "<Figure size 432x288 with 1 Axes>"
      ]
     },
     "metadata": {
      "needs_background": "light"
     },
     "output_type": "display_data"
    }
   ],
   "source": [
    "plt.imshow(image, 'gray', vmin = 0, vmax = 255)"
   ]
  },
  {
   "cell_type": "markdown",
   "metadata": {},
   "source": [
    "## 前処理\n",
    ">画像は0から255のuint8型で表されますが、機械学習をする上では0から1のfloat型で扱うことになります。以下のコードで変換可能です。\n",
    "\n",
    ">また、正解ラベルは0から9の整数ですが、ニューラルネットワークで多クラス分類を行う際には one-hot表現 に変換します。scikit-learnのOneHotEncoderを使用したコードが以下です。このone-hot表現による値はそのラベルである確率を示していることになるため、float型で扱います。\n",
    "\n"
   ]
  },
  {
   "cell_type": "code",
   "execution_count": 32,
   "metadata": {},
   "outputs": [
    {
     "name": "stdout",
     "output_type": "stream",
     "text": [
      "1.0\n",
      "0.0\n"
     ]
    }
   ],
   "source": [
    "X_train = X_train.astype(np.float)\n",
    "X_test = X_test.astype(np.float)\n",
    "X_train /= 255\n",
    "X_test /= 255\n",
    "print(X_train.max()) # 1.0\n",
    "print(X_train.min()) # 0.0"
   ]
  },
  {
   "cell_type": "code",
   "execution_count": 33,
   "metadata": {},
   "outputs": [
    {
     "name": "stdout",
     "output_type": "stream",
     "text": [
      "(60000,)\n",
      "(60000, 10)\n",
      "float64\n"
     ]
    }
   ],
   "source": [
    "enc = OneHotEncoder(handle_unknown='ignore', sparse=False)\n",
    "y_train_one_hot = enc.fit_transform(y_train[:, np.newaxis])\n",
    "y_test_one_hot = enc.transform(y_test[:, np.newaxis])\n",
    "print(y_train.shape) # (60000,)\n",
    "print(y_train_one_hot.shape) # (60000, 10)\n",
    "print(y_train_one_hot.dtype) # float64"
   ]
  },
  {
   "cell_type": "markdown",
   "metadata": {},
   "source": [
    "さらに、訓練用データ6万枚の内2割を検証用データとして分割してください。訓練用データが48000枚、検証用データが12000枚となります。\n",
    "\n"
   ]
  },
  {
   "cell_type": "code",
   "execution_count": 34,
   "metadata": {},
   "outputs": [
    {
     "name": "stdout",
     "output_type": "stream",
     "text": [
      "(48000, 784)\n",
      "(12000, 784)\n"
     ]
    }
   ],
   "source": [
    "X_train, X_val, y_train_one_hot, y_val_one_hot = train_test_split(X_train, y_train_one_hot, test_size=0.2)\n",
    "print(X_train.shape) # (48000, 784)\n",
    "print(X_val.shape) # (12000, 784)"
   ]
  },
  {
   "cell_type": "markdown",
   "metadata": {},
   "source": [
    "ミニバッチ処理\n",
    ">ニューラルネットワークではデータを分割して入力する 確率的勾配降下法 が一般的です。分割した際のひとかたまりを ミニバッチ 、そのサンプル数を バッチサイズ と呼びます。"
   ]
  },
  {
   "cell_type": "code",
   "execution_count": 11,
   "metadata": {},
   "outputs": [],
   "source": [
    "'''\n",
    "今回はバッチサイズを20とします。\n",
    "今回使う訓練用データは48000枚ですから、48000÷20で2400回の更新を繰り返すことになります。\n",
    "ニューラルネットワークではこれを2400回 イテレーション（iteration） すると呼びます。\n",
    "\n",
    "訓練用データを一度全て見ると1回の エポック（epoch） が終わったことになります。\n",
    "このエポックを複数回繰り返し、学習が完了します。\n",
    "\n",
    "for文で呼び出すと、ミニバッチを取得できます。\n",
    "'''\n",
    "\n",
    "class GetMiniBatch:\n",
    "    \"\"\"\n",
    "    ミニバッチを取得するイテレータ\n",
    "\n",
    "    Parameters\n",
    "    ----------\n",
    "    X : 次の形のndarray, shape (n_samples, n_features)\n",
    "      訓練用データ\n",
    "    y : 次の形のndarray, shape (n_samples, 1)\n",
    "      正解値\n",
    "    batch_size : int\n",
    "      バッチサイズ\n",
    "    seed : int\n",
    "      NumPyの乱数のシード\n",
    "    \"\"\"\n",
    "    def __init__(self, X, y, batch_size = 20, seed=0):\n",
    "        self.batch_size = batch_size\n",
    "        np.random.seed(seed)\n",
    "        shuffle_index = np.random.permutation(np.arange(X.shape[0]))\n",
    "        self._X = X[shuffle_index]\n",
    "        self._y = y[shuffle_index]\n",
    "        self._stop = np.ceil(X.shape[0]/self.batch_size).astype(np.int)\n",
    "\n",
    "    def __len__(self):\n",
    "        return self._stop\n",
    "\n",
    "    def __getitem__(self,item):\n",
    "        p0 = item*self.batch_size\n",
    "        p1 = item*self.batch_size + self.batch_size\n",
    "        return self._X[p0:p1], self._y[p0:p1]        \n",
    "\n",
    "    def __iter__(self):\n",
    "        self._counter = 0\n",
    "        return self\n",
    "\n",
    "    def __next__(self):\n",
    "        if self._counter >= self._stop:\n",
    "            raise StopIteration()\n",
    "        p0 = self._counter*self.batch_size\n",
    "        p1 = self._counter*self.batch_size + self.batch_size\n",
    "        self._counter += 1\n",
    "        return self._X[p0:p1], self._y[p0:p1]"
   ]
  },
  {
   "cell_type": "code",
   "execution_count": 12,
   "metadata": {},
   "outputs": [
    {
     "name": "stdout",
     "output_type": "stream",
     "text": [
      "2400\n",
      "2\n"
     ]
    }
   ],
   "source": [
    "# このクラスをインスタンス化し、for文を使うことでミニバッチが取り出せます。\n",
    "\n",
    "get_mini_batch = GetMiniBatch(X_train, y_train, batch_size=20)\n",
    "\n",
    "print(len(get_mini_batch)) # 2400\n",
    "print(len(get_mini_batch[5])) # 5番目のミニバッチが取得できる\n",
    "for mini_X_train, mini_y_train in get_mini_batch:\n",
    "    # このfor文内でミニバッチが使える\n",
    "    pass"
   ]
  },
  {
   "cell_type": "markdown",
   "metadata": {},
   "source": [
    "学習\n",
    ">ニューラルネットワークの学習はフォワードプロパゲーションとバックプロパゲションの繰り返しになります。"
   ]
  },
  {
   "cell_type": "markdown",
   "metadata": {},
   "source": [
    "## ニューラルネットワークスクラッチ\n"
   ]
  },
  {
   "cell_type": "code",
   "execution_count": 39,
   "metadata": {},
   "outputs": [],
   "source": [
    "class GetMiniBatch:\n",
    "    \"\"\"\n",
    "    ミニバッチを取得するイテレータ\n",
    "\n",
    "    Parameters\n",
    "    ----------\n",
    "    X : 次の形のndarray, shape (n_samples, n_features)\n",
    "      訓練用データ\n",
    "    y : 次の形のndarray, shape (n_samples, 1)\n",
    "      正解値\n",
    "    batch_size : int\n",
    "      バッチサイズ\n",
    "    seed : int\n",
    "      NumPyの乱数のシード\n",
    "    \"\"\"\n",
    "    def __init__(self, X, y, batch_size = 20, \n",
    "                 seed=0):\n",
    "        self.batch_size = batch_size\n",
    "        np.random.seed(seed)\n",
    "        shuffle_index = np.random.permutation(np.arange(X.shape[0]))\n",
    "        self._X = X[shuffle_index]\n",
    "        self._y = y[shuffle_index]\n",
    "        self._stop = np.ceil(X.shape[0]/self.batch_size).astype(np.int)\n",
    "\n",
    "    def __len__(self):\n",
    "        return self._stop\n",
    "\n",
    "    def __getitem__(self,item):\n",
    "        p0 = item*self.batch_size\n",
    "        p1 = item*self.batch_size + self.batch_size\n",
    "        return self._X[p0:p1], self._y[p0:p1]        \n",
    "\n",
    "    def __iter__(self):\n",
    "        self._counter = 0\n",
    "        return self\n",
    "\n",
    "    def __next__(self):\n",
    "        if self._counter >= self._stop:\n",
    "            raise StopIteration()\n",
    "        p0 = self._counter*self.batch_size\n",
    "        p1 = self._counter*self.batch_size + self.batch_size\n",
    "        self._counter += 1\n",
    "        return self._X[p0:p1], self._y[p0:p1]\n",
    "\n",
    "#sigmoid計算用\n",
    "def sigmoid(A):\n",
    "    return 1/ (1+ np.exp(- A))\n",
    "    \n",
    "\n",
    "class ScratchSimpleNeuralNetrowkClassifier():\n",
    "    \"\"\"\n",
    "    シンプルな三層ニューラルネットワーク分類器\n",
    "\n",
    "    Parameters\n",
    "    ------\n",
    "    self.fptype = 'sig' or 'max' で活性化関数を選択できるように\n",
    "    \n",
    "\n",
    "    Attributes\n",
    "    ----------\n",
    "    \"\"\"\n",
    "\n",
    "    def __init__(self, max_iter=5,\n",
    "                 lr=0.00001,verbose = True):\n",
    "        self.iter = max_iter\n",
    "        self.lr = lr\n",
    "        self.verbose = verbose\n",
    "        pass\n",
    "    \n",
    "    #問題1\n",
    "    def weighting_and_biases_firsts(self,X,sigma=0.01,\n",
    "                                    n_nodes1=400, n_nodes2=200,\n",
    "                                    n_output=10):\n",
    "        self.W1 = sigma * np.random.randn(X.shape[1], n_nodes1)\n",
    "        self.W2 = sigma * np.random.randn(n_nodes1, n_nodes2)\n",
    "        self.W3 = sigma * np.random.randn(n_nodes2, n_output)\n",
    "\n",
    "        self.B1 = sigma * np.random.randn(n_nodes1)\n",
    "        self.B2 = sigma * np.random.randn(n_nodes2)\n",
    "        self.B3 = sigma * np.random.randn(n_output)\n",
    "    #問題1\n",
    "    \n",
    "    #問題２　前半　更新式\n",
    "    def forward_propagation(self,X):\n",
    "        #self.z の更新式\n",
    "        if self.fptype == 'sig': #シグモイド関数\n",
    "            self.z1 = sigmoid(X @ self.W1 + self.B1) #(batch_size, n_nodes1)\n",
    "            self.z2 = sigmoid(self.z1 @ self.W2 + self.B2) #(batch_size, n_nodes2)\n",
    "            self.z3 = sigmoid(self.z2 @ self.W3 + self.B3) #(batch_size, n_output) \n",
    "\n",
    "        elif self.fptype == 'hipo': #ハイパボリックタンジェント関数\n",
    "            self.z1 = np.tanh(X @ self.W1 + self.B1) #(batch_size, n_nodes1)\n",
    "            self.z2 = np.tanh(self.z1 @ self.W2 + self.B2) #(batch_size, n_nodes2)\n",
    "            self.z3 = np.tanh(self.z2 @ self.W3 + self.B3) #(batch_size, n_output)\n",
    "    #問題２　前半 更新式\n",
    "    \n",
    "    #問題２　後半 softmax\n",
    "    def soft_max(self):\n",
    "        A = self.z2 @ self.W3 + self.B3\n",
    "        # 分母 n_output方向にsum. reshapeして　分子を行ごとに割り算\n",
    "        soft = np.sum(np.exp(A) / np.sum(np.exp(A)),axis=1)\n",
    "#         print(soft)\n",
    "        return np.exp(A) / np.sum(np.exp(A))\n",
    "    #ここの更新後self.z3は各ラベル（0〜9）に対する確率の配列。->(batch_size,)のベクトル\n",
    "    #問題２　後半 softmax\n",
    "    \n",
    "    #問題3\n",
    "    def loss_func(self,y,y_pred_proba):\n",
    "        sigma_c = np.sum(y * np.log(y_pred_proba), axis = 1) #のbatch_size平均\n",
    "        # -1 * ((y_test @ np.log(y_pred_proba).T)のbatch_size平均)\n",
    "        return -np.mean(sigma_c)\n",
    "    #問題3\n",
    "    \n",
    "    #問題4 #weight, bias の更新式 # 確率的勾配降下法\n",
    "    #3層目から逆算していく。3層目から更新していく。\n",
    "    def back_propagation(self,X,y): #Xの所にmini_X_train を入れること\n",
    "        \n",
    "        slope_A3 = self.z3 - y   #勾配 (batch_size, n_output)\n",
    "        self.W3 = self.W3 - self.lr * (self.z2.T @ slope_A3) #(n_nodes2, n_output)\n",
    "        self.B3 = self.B3 - self.lr * np.sum(slope_A3,axis=0) #(n_output,)\n",
    "        \n",
    "        slope_Z2 = slope_A3 @ self.W3.T #(batch_size, n_nodes2)\n",
    "        \n",
    "        if self.fptype == 'sig': #シグモイド関数\n",
    "            slope_A2 =slope_Z2 * ((1- sigmoid(self.z2 @ self.W2 + self.B2))*sigmoid(self.z2 @ self.W2 + self.B2))\n",
    "            self.W2 = self.W2 - self.lr * self.z1.T @ slope_A2 #(n_nodes1, n_nodes2)\n",
    "            self.B2 = self.B2 - self.lr * np.sum(slope_A2,axis=0) #(n_nodes2,)\n",
    "                \n",
    "            slope_Z1 = slope_A2 @ self.W2.T #(batch_size, n_nodes1)\n",
    "            \n",
    "            slope_A1 =slope_Z1 * ((1- sigmoid(self.z1 @ self.W1 + self.B1))*sigmoid(self.z1 @ self.W1 + self.B1))\n",
    "            self.W1 = self.W1 - self.lr * X.T @ slope_A1 #(n_nodes1, n_nodes2)\n",
    "            self.B1 = self.B1 - self.lr * np.sum(slope_A1,axis=0) #(n_nodes2,)\n",
    "\n",
    "        elif self.fptype == 'max': #ハイパボリックタンジェント関数\n",
    "            slope_A2= slope_Z2 * ((np.tanh(self.z2 @ self.W2 + self.B2))**2)\n",
    "            self.W2 = self.W2 - self.lr * self.z1.T @ slope_A2 #(n_nodes1, n_nodes2)\n",
    "            self.B2 = self.B2 - self.lr * np.sum(slope_A2,axis=0) #(n_nodes2,)\n",
    "        \n",
    "            slope_Z1 = slope_A2 @ self.W2.T #(batch_size, n_nodes1)\n",
    "            \n",
    "            slope_A1= slope_Z1 * ((np.tanh(self.z1 @ self.W1 + self.B1))**2)\n",
    "            self.W1 = self.W1 - self.lr * X.T @ slope_A1 #(n_nodes1, n_nodes2)\n",
    "            self.B1 = self.B1 - self.lr * np.sum(slope_A1,axis=0) #(n_nodes2,)\n",
    "    #問題4\n",
    "    \n",
    "    def fit(self, X, y, fptype='hipo',\n",
    "            sigma = 0.01,n_nodes1 = 400,n_nodes2 = 200,\n",
    "            n_output = 10, X_val=None, y_val=None):\n",
    "        \"\"\"\n",
    "        ニューラルネットワーク分類器を学習する。\n",
    "\n",
    "        Parameters\n",
    "        ----------\n",
    "        X : 次の形のndarray, shape (n_samples, n_features)\n",
    "            訓練用データの特徴量\n",
    "        y : 次の形のndarray, shape (n_samples, )\n",
    "            訓練用データの正解値\n",
    "        X_val : 次の形のndarray, shape (n_samples, n_features)\n",
    "            検証用データの特徴量\n",
    "        y_val : 次の形のndarray, shape (n_samples, )\n",
    "            検証用データの正解値\n",
    "        \"\"\"\n",
    "        '''\n",
    "        WとBが層を跨がない、バッチ間、エポック間はまたぐ\n",
    "        '''\n",
    "        enc = OneHotEncoder(handle_unknown='ignore', sparse=False)\n",
    "        self.fptype = fptype #活性化関数指定\n",
    "        self.loss = None\n",
    "        self.weighting_and_biases_firsts(X) #初期値セット\n",
    "\n",
    "\n",
    "        for n in range(self.iter): #何回回そう？ MNISTなら50回ほどで試す\n",
    "            get_mini_batch = GetMiniBatch(X_train,\n",
    "                                          y_train_one_hot,\n",
    "                                          batch_size=20)\n",
    "            for mini_X_train, mini_y_train in get_mini_batch:\n",
    "            # このfor文内でミニバッチが使える\n",
    "                self.forward_propagation(mini_X_train)    \n",
    "                self.back_propagation(mini_X_train,mini_y_train)\n",
    "                self.soft_max()\n",
    "        \n",
    "            if self.fptype == 'sig': #シグモイド関数\n",
    "                z1 = sigmoid(X @ self.W1 + self.B1) #(batch_size, n_nodes1)\n",
    "                z2 = sigmoid(z1 @ self.W2 + self.B2) #(batch_size, n_nodes2)\n",
    "\n",
    "            elif self.fptype == 'hipo': #ハイパボリックタンジェント関数\n",
    "                z1 = np.tanh(X @ self.W1 + self.B1) #(batch_size, n_nodes1)\n",
    "                z2 = np.tanh(z1 @ self.W2 + self.B2) #(batch_size, n_nodes2)\n",
    "\n",
    "            a3_exp = copy.deepcopy(np.exp(z2 @ self.W3 + self.B3))\n",
    "            # 分母 n_output方向にsum. reshapeして　分子を行ごとに割り算\n",
    "            z3 = a3_exp / np.sum(a3_exp)\n",
    "            y_pred_proba = z3\n",
    "            loss = self.loss_func(y,y_pred_proba)\n",
    "            self.loss = np.append(self.loss,loss)\n",
    "        \n",
    "        self.loss = np.delete(self.loss, 0)\n",
    "        if self.verbose:\n",
    "            #verboseをTrueにした際は学習過程などを出力する\n",
    "#             print(self.loss)\n",
    "            print(\"self.loss.shape\",self.loss.shape)\n",
    "        \n",
    "\n",
    "    def predict(self, X,fptype='hipo'):\n",
    "        \"\"\"\n",
    "        ニューラルネットワーク分類器を使い推定する。\n",
    "\n",
    "        Parameters\n",
    "        ----------\n",
    "        X : 次の形のndarray, shape (n_samples, n_features)\n",
    "            サンプル\n",
    "\n",
    "        Returns\n",
    "        -------\n",
    "            次の形のndarray, shape (n_samples, 1)\n",
    "            推定結果\n",
    "        \"\"\"\n",
    "        self.fptype = fptype\n",
    "        if self.fptype == 'sig': #シグモイド関数\n",
    "            z1 = sigmoid(X @ self.W1 + self.B1) #(batch_size, n_nodes1)\n",
    "            z2 = sigmoid(z1 @ self.W2 + self.B2) #(batch_size, n_nodes2)\n",
    "\n",
    "        elif self.fptype == 'hipo': #ハイパボリックタンジェント関数\n",
    "            z1 = np.tanh(X @ self.W1 + self.B1) #(batch_size, n_nodes1)\n",
    "            z2 = np.tanh(z1 @ self.W2 + self.B2) #(batch_size, n_nodes2)\n",
    "\n",
    "        A3_exp = copy.deepcopy(np.exp(z2 @ self.W3 + self.B3))\n",
    "        # 分母 n_output方向にsum. reshapeして　分子を行ごとに割り算\n",
    "        y_pred_proba = A3_exp / np.sum(A3_exp)\n",
    "        y_pred_one_hot = np.argmax(y_pred_proba,axis=1)\n",
    "        return y_pred_one_hot"
   ]
  },
  {
   "cell_type": "code",
   "execution_count": 40,
   "metadata": {},
   "outputs": [
    {
     "data": {
      "text/plain": [
       "(48000, 10)"
      ]
     },
     "execution_count": 40,
     "metadata": {},
     "output_type": "execute_result"
    }
   ],
   "source": [
    "y_train_one_hot.shape #(48000, 10)"
   ]
  },
  {
   "cell_type": "code",
   "execution_count": 46,
   "metadata": {},
   "outputs": [],
   "source": [
    "NN = ScratchSimpleNeuralNetrowkClassifier(max_iter=50,\n",
    "                                          lr=0.01,\n",
    "                                          verbose = True)"
   ]
  },
  {
   "cell_type": "code",
   "execution_count": 47,
   "metadata": {},
   "outputs": [
    {
     "name": "stdout",
     "output_type": "stream",
     "text": [
      "self.loss.shape (50,)\n",
      "processing time: 77.5775818824768\n"
     ]
    }
   ],
   "source": [
    "t1 = time.time()\n",
    "NN.fit(X_train, y_train_one_hot,fptype='hipo')\n",
    "\n",
    "t2 = time.time()\n",
    "print(\"processing time:\",t2-t1)\n",
    "# sample 48000 , class 10 "
   ]
  },
  {
   "cell_type": "code",
   "execution_count": 48,
   "metadata": {},
   "outputs": [],
   "source": [
    "# y_test_one_hot.shape #(10000, 10)\n",
    "# X_test.shape #(10000, 784)"
   ]
  },
  {
   "cell_type": "code",
   "execution_count": 49,
   "metadata": {},
   "outputs": [
    {
     "name": "stdout",
     "output_type": "stream",
     "text": [
      "accuracy 0.842\n"
     ]
    }
   ],
   "source": [
    "#問題５,6\n",
    "from sklearn.metrics import accuracy_score\n",
    "\n",
    "y_pred = NN.predict(X_test)\n",
    "print(\"accuracy\",accuracy_score(np.argmax(y_test_one_hot,axis=1),y_pred))\n"
   ]
  },
  {
   "cell_type": "code",
   "execution_count": 50,
   "metadata": {},
   "outputs": [
    {
     "data": {
      "text/plain": [
       "<matplotlib.legend.Legend at 0x1a3f35b890>"
      ]
     },
     "execution_count": 50,
     "metadata": {},
     "output_type": "execute_result"
    },
    {
     "data": {
      "image/png": "[encoded data removed]",
      "text/plain": [
       "<Figure size 432x288 with 1 Axes>"
      ]
     },
     "metadata": {
      "needs_background": "light"
     },
     "output_type": "display_data"
    }
   ],
   "source": [
    "#問題7\n",
    "plt.plot(NN.loss,label='NN.loss', color = 'blue')\n",
    "# plt.plot(slr.val_loss,label='slr.val_loss', color = 'orange')\n",
    "plt.grid(True)                                 # グリッド線を表示\n",
    "plt.legend()"
   ]
  },
  {
   "cell_type": "markdown",
   "metadata": {},
   "source": [
    "## 【問題1】重みの初期値を決めるコードの作成\n",
    ">重みの初期値は様々な方法が提案されていますが、今回はガウス分布による単純な初期化を行います。バイアスに関しても同様です。\n",
    "\n"
   ]
  },
  {
   "cell_type": "code",
   "execution_count": null,
   "metadata": {},
   "outputs": [],
   "source": [
    "'''\n",
    "n_features = 784\n",
    "n_nodes1 = 400 # 1層目のノード数\n",
    "sigma = 0.01 # ガウス分布の標準偏差(ハイパーパラメータ)\n",
    "W1 = sigma * np.random.randn(n_features, n_nodes1)\n",
    "# W1: (784, 400)\n",
    "print(W1.shape)\n",
    "\n",
    "一層目は上記。\n",
    "二層目を作る。(node数,n_nodes2) # 2層目のノード数\n",
    "'''\n",
    "\n",
    "# nodes を list でもらってfor文にして汎化してもいいが、今回はその必要がない。\n",
    "#問題1\n",
    "def weighting_and_biases_firsts(self,X,sigma = 0.01,\n",
    "                                n_nodes1 = 400,n_nodes2 = 200,\n",
    "                                n_output = 10):\n",
    "    self.W1 = sigma * np.random.randn(X.shape[1], n_nodes1)\n",
    "    self.W2 = sigma * np.random.randn(n_nodes1, n_nodes2)\n",
    "    self.W3 = sigma * np.random.randn(n_nodes2, n_output)\n",
    "\n",
    "    self.B1 = sigma * np.random.randn(n_nodes1)\n",
    "    self.B2 = sigma * np.random.randn(n_nodes2)\n",
    "    self.B3 = sigma * np.random.randn(n_output)\n",
    "\n",
    "    print(\"W1{},W2{},W3{},B1{},B2{},B3{}\"\\\n",
    "          .format(self.W1.shape, self.W2.shape, self.W3.shape,\n",
    "                  self.B1.shape, self.B2.shape, self.B3.shape))\n",
    "#問題1"
   ]
  },
  {
   "cell_type": "markdown",
   "metadata": {},
   "source": [
    "## 【問題2】フォワードプロパゲーションの実装\n",
    ">三層のニューラルネットワークの フォワードプロパゲーション を作成してください。以下の説明ではノード数は1層目は400、2層目は200としますが、変更しても構いません。\n",
    "\n"
   ]
  },
  {
   "cell_type": "code",
   "execution_count": null,
   "metadata": {},
   "outputs": [],
   "source": [
    "batch_size = 20 # バッチサイズ\n",
    "n_features = 784 # 特徴量の数\n",
    "n_nodes1 = 400 # 1層目のノード数\n",
    "n_nodes2 = 200 # 2層目のノード数\n",
    "n_output = 10 # 出力のクラス数（3層目のノード数）"
   ]
  },
  {
   "cell_type": "code",
   "execution_count": null,
   "metadata": {},
   "outputs": [],
   "source": [
    "'''\n",
    "#問題２　前半　更新式\n",
    "def forward_propagation_1(self):\n",
    "    #self.z の更新式\n",
    "    if self.fptype == 'sig': #シグモイド関数\n",
    "        self.z1 = 1/ (1+ np.exp(- (self.z1 @ self.W1 + self.B1))) \n",
    "        print(\"sig\",self.z1.shape) #(batch_size, n_nodes1)\n",
    "\n",
    "    if self.fptype == 'max': #ハイパボリックタンジェント関数\n",
    "        self.z1 = np.tanh(self.z1 @ self.W1 + self.B1)\n",
    "        print(\"max\",self.z1.shape) #(batch_size, n_nodes1)\n",
    "\n",
    "    else: \n",
    "        print('Error! : fptype none')\n",
    "\n",
    "\n",
    "def forward_propagation_2(self):\n",
    "    #self.z の更新式\n",
    "    if self.fptype == 'sig': #シグモイド関数\n",
    "        self.z2 = 1/ (1+ np.exp(- (self.z2 @ self.W2 + self.B2))) \n",
    "        print(\"sig\",self.z2.shape) #(batch_size, n_nodes2)\n",
    "\n",
    "    if self.fptype == 'max': #ハイパボリックタンジェント関数\n",
    "        self.z2 = np.tanh(self.z2 @ self.W2 + self.B2)\n",
    "        print(\"max\",self.z2.shape) #(batch_size, n_nodes2)\n",
    "\n",
    "    else: \n",
    "        print('Error! : fptype none')\n",
    "\n",
    "def forward_propagation_3(self):\n",
    "    #self.z の更新式\n",
    "    if self.fptype == 'sig': #シグモイド関数\n",
    "        self.z3 = 1/ (1+ np.exp(- (self.z3 @ self.W3 + self.B3))) \n",
    "        print(\"sig\",self.z3.shape) #(batch_size, n_output) \n",
    "\n",
    "    if self.fptype == 'max': #ハイパボリックタンジェント関数\n",
    "        self.z3 = np.tanh(self.z3 @ self.W3 + self.B3)\n",
    "        print(\"max\",self.z3.shape) #(batch_size, n_output)\n",
    "\n",
    "    else: \n",
    "        print('Error! : fptype none')\n",
    "#問題２　前半 更新式\n",
    "\n",
    "#問題２　後半 softmax\n",
    "def soft_max(self,X):\n",
    "    a_exp = copy.deepcopy(np.exp(self.z @ self.W3 + self.B3))\n",
    "    # 分母 n_output方向にsum. reshapeして　分子を行ごとに割り算\n",
    "    self.z = a_exp / np.sum(a_exp).reshape(batch_size,1) \n",
    "    print(\"更新後self.z(batch_size,n_output)\",self.z.shape)\n",
    "    return self.z \n",
    "#ここの更新後self.zは各ラベル（0〜9）に対する確率の配列。->(batch_size,)のベクトル\n",
    "#問題２　後半 softmax\n",
    "'''"
   ]
  },
  {
   "cell_type": "markdown",
   "metadata": {},
   "source": [
    "### 活性化関数（フォワードプロバゲーション）\n",
    ">活性化関数を作成し、フォワードプロパゲーションの中で使用します。切り替えられるように実装することを推奨しますが、片方でも構いません。"
   ]
  },
  {
   "cell_type": "code",
   "execution_count": null,
   "metadata": {},
   "outputs": [],
   "source": [
    "'''訂正版'''\n",
    "#問題２　前半　更新式\n",
    "def forward_propagation(self,X):\n",
    "    #self.z の更新式\n",
    "    if self.fptype == 'sig': #シグモイド関数\n",
    "        self.z1 = sigmoid(X @ self.W1 + self.B1)\n",
    "        print(\"sig\",self.z1.shape) #(batch_size, n_nodes1)\n",
    "        self.z2 = sigmoid(self.z1 @ self.W2 + self.B2)\n",
    "        print(\"sig\",self.z2.shape) #(batch_size, n_nodes2)\n",
    "        self.z3 = sigmoid(self.z2 @ self.W3 + self.B3)\n",
    "        print(\"sig\",self.z3.shape) #(batch_size, n_output) \n",
    "\n",
    "    if self.fptype == 'max': #ハイパボリックタンジェント関数\n",
    "        self.z1 = np.tanh(X @ self.W1 + self.B1)\n",
    "        print(\"max\",self.z1.shape) #(batch_size, n_nodes1)\n",
    "        self.z2 = np.tanh(self.z1 @ self.W2 + self.B2)\n",
    "        print(\"max\",self.z2.shape) #(batch_size, n_nodes2)\n",
    "        self.z3 = np.tanh(self.z2 @ self.W3 + self.B3)\n",
    "        print(\"max\",self.z3.shape) #(batch_size, n_output)\n",
    "\n",
    "    else: \n",
    "        print('Error! : fptype none')\n",
    "#問題２　前半 更新式\n",
    "\n",
    "\n"
   ]
  },
  {
   "cell_type": "markdown",
   "metadata": {},
   "source": [
    "### ソフトマックス関数"
   ]
  },
  {
   "cell_type": "code",
   "execution_count": null,
   "metadata": {},
   "outputs": [],
   "source": [
    "#問題２　後半 softmax\n",
    "def soft_max(self):\n",
    "    a_exp = copy.deepcopy(np.exp(self.z3 @ self.W3 + self.B3))\n",
    "    # 分母 n_output方向にsum. reshapeして　分子を行ごとに割り算\n",
    "    self.z3 = a_exp / np.sum(a_exp).reshape(batch_size,1) \n",
    "    print(\"更新後self.z(batch_size,n_output)\",self.z3.shape)\n",
    "    return self.z3\n",
    "#ここの更新後self.z3は各ラベル（0〜9）に対する確率の配列。->(batch_size,)のベクトル\n",
    "#問題２　後半 softmax"
   ]
  },
  {
   "cell_type": "markdown",
   "metadata": {},
   "source": [
    "## 【問題3】交差エントロピー誤差の実装"
   ]
  },
  {
   "cell_type": "code",
   "execution_count": null,
   "metadata": {},
   "outputs": [],
   "source": [
    "#問題3\n",
    "def loss_func(self,y,y_pred_proba):\n",
    "    sigma_c = np.sum(y * np.log(y_pred_proba), axis = 1) #のbatch_size平均\n",
    "    # -1 * ((y_test @ np.log(y_pred_proba).T)のbatch_size平均)\n",
    "    return -np.mean(sigma_c)\n",
    "#問題3"
   ]
  },
  {
   "cell_type": "markdown",
   "metadata": {},
   "source": [
    "## 【問題4】バックプロパゲーションの実装"
   ]
  },
  {
   "cell_type": "code",
   "execution_count": null,
   "metadata": {},
   "outputs": [],
   "source": [
    "'''確率的工場行こうか法(バックプロパゲーション実装)をやること。\n",
    "「バッチサイズ x イテレーション(更新回数) = trainデータサンプル数」\n",
    "理解してから学習エポック数を設定すること(ハイパーパラメーター)。'''     \n",
    "        \n",
    "#問題4 #weight, bias の更新式 # 確率的勾配降下法\n",
    "#3層目から逆算していく。3層目から更新していく。\n",
    "#問題4 #weight, bias の更新式 # 確率的勾配降下法\n",
    "#3層目から逆算していく。3層目から更新していく。\n",
    "def back_propagation(self,X,y): #Xの所にmini_X_train を入れること\n",
    "\n",
    "    slope_A3 = self.z3 - y   #勾配 (batch_size, n_output)\n",
    "    self.W3 = self.W3 - self.lr * (self.z2.T @ slope_A3) #(n_nodes2, n_output)\n",
    "    self.B3 = self.B3 - self.lr * np.sum(slope_A3,axis=0) #(n_output,)\n",
    "\n",
    "    slope_Z2 = slope_A3 @ self.W3.T #(batch_size, n_nodes2)\n",
    "\n",
    "    if self.fptype == 'sig': #シグモイド関数\n",
    "        slope_A2 =slope_Z2 * ((1- sigmoid(self.z2 @ self.W2 + self.B2))*sigmoid(self.z2 @ self.W2 + self.B2))\n",
    "        self.W2 = self.W2 - self.lr * self.z1.T @ slope_A2 #(n_nodes1, n_nodes2)\n",
    "        self.B2 = self.B2 - self.lr * np.sum(slope_A2,axis=0) #(n_nodes2,)\n",
    "\n",
    "        slope_Z1 = slope_A2 @ self.W2.T #(batch_size, n_nodes1)\n",
    "\n",
    "        slope_A1 =slope_Z1 * ((1- sigmoid(self.z1 @ self.W1 + self.B1))*sigmoid(self.z1 @ self.W1 + self.B1))\n",
    "        self.W1 = self.W1 - self.lr * X.T @ slope_A1 #(n_nodes1, n_nodes2)\n",
    "        self.B1 = self.B1 - self.lr * np.sum(slope_A1,axis=0) #(n_nodes2,)\n",
    "\n",
    "    elif self.fptype == 'max': #ハイパボリックタンジェント関数\n",
    "        slope_A2= slope_Z2 * ((np.tanh(self.z2 @ self.W2 + self.B2))**2)\n",
    "        self.W2 = self.W2 - self.lr * self.z1.T @ slope_A2 #(n_nodes1, n_nodes2)\n",
    "        self.B2 = self.B2 - self.lr * np.sum(slope_A2,axis=0) #(n_nodes2,)\n",
    "\n",
    "        slope_Z1 = slope_A2 @ self.W2.T #(batch_size, n_nodes1)\n",
    "\n",
    "        slope_A2= slope_Z2 * ((np.tanh(self.z1 @ self.W1 + self.B1))**2)\n",
    "        self.W1 = self.W1 - self.lr * X.T @ slope_A1 #(n_nodes1, n_nodes2)\n",
    "        self.B1 = self.B1 - self.lr * np.sum(slope_A1,axis=0) #(n_nodes2,)\n",
    "#問題4"
   ]
  },
  {
   "cell_type": "markdown",
   "metadata": {},
   "source": [
    "## 【問題5】推定\n",
    ">フォワードプロパゲーションによって出力された10個の確率の中で、最も高いものはどれかを判定します。"
   ]
  },
  {
   "cell_type": "markdown",
   "metadata": {},
   "source": [
    "## 【問題6】学習と推定\n",
    ">MNISTのデータを学習・推定し、Accuracyを計算してください。"
   ]
  },
  {
   "cell_type": "code",
   "execution_count": null,
   "metadata": {},
   "outputs": [],
   "source": [
    "#問題５,6\n",
    "from sklearn.metrics import accuracy_score\n",
    "\n",
    "y_pred = NN.predict(X_test)\n",
    "print(\"accuracy\",accuracy_score(np.argmax(y_test_one_hot,axis=1),y_pred))"
   ]
  },
  {
   "cell_type": "markdown",
   "metadata": {},
   "source": [
    "## 【問題7】学習曲線のプロット\n",
    ">ニューラルネットワークは過学習が発生しやすいため、学習曲線の確認が重要です。trainデータとvalデータに対するエポックごとの損失（交差エントロピー誤差）を記録できるようにする必要があります。"
   ]
  },
  {
   "cell_type": "code",
   "execution_count": null,
   "metadata": {},
   "outputs": [],
   "source": [
    "#問題7\n",
    "plt.plot(NN.loss,label='NN.loss', color = 'blue')\n",
    "# plt.plot(slr.val_loss,label='slr.val_loss', color = 'orange')\n",
    "plt.grid(True)                                 # グリッド線を表示\n",
    "plt.legend()"
   ]
  },
  {
   "cell_type": "markdown",
   "metadata": {},
   "source": [
    "## 【問題8】（アドバンス課題）誤分類の確認"
   ]
  },
  {
   "cell_type": "code",
   "execution_count": null,
   "metadata": {},
   "outputs": [],
   "source": []
  }
 ],
 "metadata": {
  "kernelspec": {
   "display_name": "Python 3",
   "language": "python",
   "name": "python3"
  },
  "language_info": {
   "codemirror_mode": {
    "name": "ipython",
    "version": 3
   },
   "file_extension": ".py",
   "mimetype": "text/x-python",
   "name": "python",
   "nbconvert_exporter": "python",
   "pygments_lexer": "ipython3",
   "version": "3.7.4"
  },
  "toc": {
   "base_numbering": 1,
   "nav_menu": {},
   "number_sections": true,
   "sideBar": true,
   "skip_h1_title": false,
   "title_cell": "Table of Contents",
   "title_sidebar": "Contents",
   "toc_cell": false,
   "toc_position": {},
   "toc_section_display": true,
   "toc_window_display": false
  }
 },
 "nbformat": 4,
 "nbformat_minor": 4
}
