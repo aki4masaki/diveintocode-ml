{
 "cells": [
  {
   "cell_type": "markdown",
   "metadata": {},
   "source": [
    "# Sprint14 Keras"
   ]
  },
  {
   "cell_type": "markdown",
   "metadata": {
    "toc-hr-collapsed": true
   },
   "source": [
    "## Keras とは\n",
    ">Keras は元々はTheano、TensorFLowなど複数のフレームワークを扱いやすくする ラッパー として登場したライブラリでしたが、後にTensorFLowの 高レベルAPI として使われるようになりました。\n",
    "TensorFLowに含まれる形のKerasであるtf.kerasを主に使っていきます。\n",
    "\n",
    ">《ラッパーとは》\n",
    "ラッパーはもともとのプログラムの機能を利用して、より使いやすいものを提供します。TensorFlowはニューラルネットワークに必要な計算を効率的に行う機能を提供しますが、初期のころはモデルを構築して学習を行うとなると手間がかかる部分もありました。そのため、TensorFlowをラップして、扱いやすくするKerasが登場しました。\n",
    "\n",
    ">《高レベルAPIとは》\n",
    "大きな単位で機能を簡単に扱えるように作られたものが高レベルAPIです。対義語として、細かい単位で機能をいじれるが、扱いがその分大変な低レベルAPIがあります。\n",
    "TensorFlow自体でもニューラルネットワークのモデル構築や学習を行いやすくするために、高レベルAPIの充実が進められています。tf.Kerasはそのひとつです。"
   ]
  },
  {
   "cell_type": "code",
   "execution_count": 1,
   "metadata": {},
   "outputs": [],
   "source": [
    "import numpy as np\n",
    "import pandas as pd\n",
    "import matplotlib.pyplot as plt\n",
    "import seaborn as sns\n",
    "# from numpy import linalg as LA\n",
    "sns.set()\n",
    "%matplotlib inline\n",
    "import time\n",
    "import copy\n",
    "\n",
    "from sklearn.preprocessing import OneHotEncoder\n",
    "from sklearn.model_selection import train_test_split\n",
    "from sklearn.metrics import accuracy_score"
   ]
  },
  {
   "cell_type": "code",
   "execution_count": 2,
   "metadata": {},
   "outputs": [
    {
     "name": "stderr",
     "output_type": "stream",
     "text": [
      "/Users/akishimasaki/.pyenv/versions/anaconda3-2019.03/lib/python3.7/site-packages/tensorflow/python/framework/dtypes.py:516: FutureWarning: Passing (type, 1) or '1type' as a synonym of type is deprecated; in a future version of numpy, it will be understood as (type, (1,)) / '(1,)type'.\n",
      "  _np_qint8 = np.dtype([(\"qint8\", np.int8, 1)])\n",
      "/Users/akishimasaki/.pyenv/versions/anaconda3-2019.03/lib/python3.7/site-packages/tensorflow/python/framework/dtypes.py:517: FutureWarning: Passing (type, 1) or '1type' as a synonym of type is deprecated; in a future version of numpy, it will be understood as (type, (1,)) / '(1,)type'.\n",
      "  _np_quint8 = np.dtype([(\"quint8\", np.uint8, 1)])\n",
      "/Users/akishimasaki/.pyenv/versions/anaconda3-2019.03/lib/python3.7/site-packages/tensorflow/python/framework/dtypes.py:518: FutureWarning: Passing (type, 1) or '1type' as a synonym of type is deprecated; in a future version of numpy, it will be understood as (type, (1,)) / '(1,)type'.\n",
      "  _np_qint16 = np.dtype([(\"qint16\", np.int16, 1)])\n",
      "/Users/akishimasaki/.pyenv/versions/anaconda3-2019.03/lib/python3.7/site-packages/tensorflow/python/framework/dtypes.py:519: FutureWarning: Passing (type, 1) or '1type' as a synonym of type is deprecated; in a future version of numpy, it will be understood as (type, (1,)) / '(1,)type'.\n",
      "  _np_quint16 = np.dtype([(\"quint16\", np.uint16, 1)])\n",
      "/Users/akishimasaki/.pyenv/versions/anaconda3-2019.03/lib/python3.7/site-packages/tensorflow/python/framework/dtypes.py:520: FutureWarning: Passing (type, 1) or '1type' as a synonym of type is deprecated; in a future version of numpy, it will be understood as (type, (1,)) / '(1,)type'.\n",
      "  _np_qint32 = np.dtype([(\"qint32\", np.int32, 1)])\n",
      "/Users/akishimasaki/.pyenv/versions/anaconda3-2019.03/lib/python3.7/site-packages/tensorflow/python/framework/dtypes.py:525: FutureWarning: Passing (type, 1) or '1type' as a synonym of type is deprecated; in a future version of numpy, it will be understood as (type, (1,)) / '(1,)type'.\n",
      "  np_resource = np.dtype([(\"resource\", np.ubyte, 1)])\n",
      "/Users/akishimasaki/.pyenv/versions/anaconda3-2019.03/lib/python3.7/site-packages/tensorboard/compat/tensorflow_stub/dtypes.py:541: FutureWarning: Passing (type, 1) or '1type' as a synonym of type is deprecated; in a future version of numpy, it will be understood as (type, (1,)) / '(1,)type'.\n",
      "  _np_qint8 = np.dtype([(\"qint8\", np.int8, 1)])\n",
      "/Users/akishimasaki/.pyenv/versions/anaconda3-2019.03/lib/python3.7/site-packages/tensorboard/compat/tensorflow_stub/dtypes.py:542: FutureWarning: Passing (type, 1) or '1type' as a synonym of type is deprecated; in a future version of numpy, it will be understood as (type, (1,)) / '(1,)type'.\n",
      "  _np_quint8 = np.dtype([(\"quint8\", np.uint8, 1)])\n",
      "/Users/akishimasaki/.pyenv/versions/anaconda3-2019.03/lib/python3.7/site-packages/tensorboard/compat/tensorflow_stub/dtypes.py:543: FutureWarning: Passing (type, 1) or '1type' as a synonym of type is deprecated; in a future version of numpy, it will be understood as (type, (1,)) / '(1,)type'.\n",
      "  _np_qint16 = np.dtype([(\"qint16\", np.int16, 1)])\n",
      "/Users/akishimasaki/.pyenv/versions/anaconda3-2019.03/lib/python3.7/site-packages/tensorboard/compat/tensorflow_stub/dtypes.py:544: FutureWarning: Passing (type, 1) or '1type' as a synonym of type is deprecated; in a future version of numpy, it will be understood as (type, (1,)) / '(1,)type'.\n",
      "  _np_quint16 = np.dtype([(\"quint16\", np.uint16, 1)])\n",
      "/Users/akishimasaki/.pyenv/versions/anaconda3-2019.03/lib/python3.7/site-packages/tensorboard/compat/tensorflow_stub/dtypes.py:545: FutureWarning: Passing (type, 1) or '1type' as a synonym of type is deprecated; in a future version of numpy, it will be understood as (type, (1,)) / '(1,)type'.\n",
      "  _np_qint32 = np.dtype([(\"qint32\", np.int32, 1)])\n",
      "/Users/akishimasaki/.pyenv/versions/anaconda3-2019.03/lib/python3.7/site-packages/tensorboard/compat/tensorflow_stub/dtypes.py:550: FutureWarning: Passing (type, 1) or '1type' as a synonym of type is deprecated; in a future version of numpy, it will be understood as (type, (1,)) / '(1,)type'.\n",
      "  np_resource = np.dtype([(\"resource\", np.ubyte, 1)])\n",
      "Using TensorFlow backend.\n"
     ]
    }
   ],
   "source": [
    "import tensorflow as tf\n",
    "from keras import backend as K\n"
   ]
  },
  {
   "cell_type": "markdown",
   "metadata": {},
   "source": [
    "### ロジスティック回帰の実装"
   ]
  },
  {
   "cell_type": "code",
   "execution_count": 3,
   "metadata": {},
   "outputs": [],
   "source": [
    "# ANDゲートの学習データを用意\n",
    "x_train = np.array([[0,0],[0,1],[1,0],[1,1]]) #(4, 2)\n",
    "y_train = np.array([[0],[0],[0],[1]]) #(4, 1)"
   ]
  },
  {
   "cell_type": "markdown",
   "metadata": {},
   "source": [
    "## 複数の記述方法\n",
    ">Kerasでは簡素にニューラルネットワークが記述できます。その書き方にはSequentialモデルとFunctional APIの2種類があります。"
   ]
  },
  {
   "cell_type": "markdown",
   "metadata": {
    "toc-hr-collapsed": false
   },
   "source": [
    "## Sequentialモデル\n",
    ">Sequentialクラスを使用した記述方法です。\n",
    "tf.keras.models.Sequential | TensorFlow\n",
    "\n",
    "#### 層のインスタンスをSequentialクラスのコンストラクタにリストで渡すことでモデルを定義します。層のクラスについては以下のページにまとまっています。\n",
    "Module: tf.keras.layers | TensorFlow\n",
    "\n",
    "ロジスティック回帰を作るために、全結合層のクラス、tf.keras.layers.Denseを使います。引数に出力のユニット数、活性化関数、入力のユニット数を入れます。"
   ]
  },
  {
   "cell_type": "code",
   "execution_count": 4,
   "metadata": {},
   "outputs": [
    {
     "name": "stdout",
     "output_type": "stream",
     "text": [
      "WARNING:tensorflow:From /Users/akishimasaki/.pyenv/versions/anaconda3-2019.03/lib/python3.7/site-packages/tensorflow/python/ops/init_ops.py:1251: calling VarianceScaling.__init__ (from tensorflow.python.ops.init_ops) with dtype is deprecated and will be removed in a future version.\n",
      "Instructions for updating:\n",
      "Call initializer instance with the dtype argument instead of passing it to the constructor\n"
     ]
    }
   ],
   "source": [
    "model = tf.keras.Sequential([tf.keras.layers.Dense(1, \n",
    "                                                   activation = tf.nn.sigmoid, \n",
    "                                                   input_shape=(2,))])\n",
    "#引数に出力のユニット数、活性化関数、入力のユニット数を入れます。\n"
   ]
  },
  {
   "cell_type": "markdown",
   "metadata": {},
   "source": [
    "#### Denseクラスは引数で重みの初期化方法、バイアスの有無などの指定も可能です。\n",
    "\n",
    "tf.keras.layers.Dense | TensorFlow\n",
    "\n",
    "作成したモデルの構造はsummaryメソッドで確認することができます。層ごとの出力のshapeとパラメータ数が併記されます。"
   ]
  },
  {
   "cell_type": "code",
   "execution_count": 1,
   "metadata": {},
   "outputs": [],
   "source": [
    "# model.summary()"
   ]
  },
  {
   "cell_type": "markdown",
   "metadata": {},
   "source": [
    "#### 構造が記述できたら、モデルをコンパイルします。\n",
    ">コンパイル時に損失関数と最適化手法、評価関数を指定します。損失関数は名前をstringで指定します。ここでは2値分類のため、binary_crossentropyとなります。多値分類の場合はcategorical_crossentropy、回帰の場合はmean_squared_errorのようになります。"
   ]
  },
  {
   "cell_type": "code",
   "execution_count": 6,
   "metadata": {},
   "outputs": [
    {
     "name": "stdout",
     "output_type": "stream",
     "text": [
      "WARNING:tensorflow:From /Users/akishimasaki/.pyenv/versions/anaconda3-2019.03/lib/python3.7/site-packages/tensorflow/python/ops/nn_impl.py:180: add_dispatch_support.<locals>.wrapper (from tensorflow.python.ops.array_ops) is deprecated and will be removed in a future version.\n",
      "Instructions for updating:\n",
      "Use tf.where in 2.0, which has the same broadcast rule as np.where\n"
     ]
    }
   ],
   "source": [
    "model.compile(loss='binary_crossentropy',\n",
    "              optimizer=tf.train.AdamOptimizer(learning_rate=0.01),\n",
    "              metrics=['accuracy'])"
   ]
  },
  {
   "cell_type": "markdown",
   "metadata": {},
   "source": [
    ">そして学習を行います。scikit-learn同様にfitメソッドを使う設計になっています。verboseは学習過程の可視化方法のパラメータで、デフォルトの1ではバッチごとに更新されるプログレスバーが表示されます。verboseが0の場合は表示を行わず、2の場合はエポック毎の表示になります。"
   ]
  },
  {
   "cell_type": "code",
   "execution_count": 2,
   "metadata": {},
   "outputs": [],
   "source": [
    "# history = model.fit(x_train, y_train,\n",
    "#                     batch_size=1,\n",
    "#                     epochs=1000,\n",
    "#                     verbose=1)"
   ]
  },
  {
   "cell_type": "markdown",
   "metadata": {},
   "source": [
    ">今は用意していませんが、検証用データがある場合は、引数validation_dataに与えることで、エポック毎の検証も可能です。\n",
    "\n"
   ]
  },
  {
   "cell_type": "code",
   "execution_count": 4,
   "metadata": {},
   "outputs": [],
   "source": [
    "# history = model.fit(x_train, y_train,\n",
    "#                     batch_size=1,\n",
    "#                     epochs=1000,\n",
    "#                     verbose=1,\n",
    "#                     validation_data=(x_train, y_train))"
   ]
  },
  {
   "cell_type": "markdown",
   "metadata": {},
   "source": [
    "#### 推定もscikit-learn同様にpredictメソッドを使います。\n",
    "\n"
   ]
  },
  {
   "cell_type": "code",
   "execution_count": 11,
   "metadata": {},
   "outputs": [
    {
     "name": "stdout",
     "output_type": "stream",
     "text": [
      "y_pred_proba [0.0024536  0.10709944 0.10622472 0.852849  ]\n",
      "y_pred [0 0 0 1]\n"
     ]
    }
   ],
   "source": [
    "y_pred_proba = model.predict(x_train)[:, 0]\n",
    "\n",
    "# 確率を0, 1に変換\n",
    "y_pred = np.where(y_pred_proba >0.5, 1, 0)\n",
    "\n",
    "print(\"y_pred_proba\", y_pred_proba)\n",
    "print(\"y_pred\", y_pred)"
   ]
  },
  {
   "cell_type": "markdown",
   "metadata": {},
   "source": [
    "#### 結果がいらず、評価のみ行う場合はevaluateメソッドも便利です。\n",
    "\n"
   ]
  },
  {
   "cell_type": "code",
   "execution_count": 12,
   "metadata": {},
   "outputs": [
    {
     "name": "stdout",
     "output_type": "stream",
     "text": [
      "Train loss: 0.09680259227752686\n",
      "Train accuracy: 1.0\n"
     ]
    }
   ],
   "source": [
    "score = model.evaluate(x_train, y_train, verbose=0)\n",
    "print('Train loss:', score[0])\n",
    "print('Train accuracy:', score[1])"
   ]
  },
  {
   "cell_type": "markdown",
   "metadata": {},
   "source": [
    "### Sequentialモデルのもうひとつの書き方\n",
    ">Sequentialモデルでは、コンストラクタで層のクラスを渡さず、addメソッドを使って記述する方法もよく使われます。\n",
    "\n"
   ]
  },
  {
   "cell_type": "code",
   "execution_count": 13,
   "metadata": {},
   "outputs": [],
   "source": [
    "model = tf.keras.Sequential()\n",
    "model.add(tf.keras.layers.Dense(1,\n",
    "                                activation = tf.nn.sigmoid, \n",
    "                                input_shape=(2,)))"
   ]
  },
  {
   "cell_type": "markdown",
   "metadata": {},
   "source": [
    "### 複数層の場合\n",
    ">ロジスティック回帰ではなく、2層のニューラルネットワークの場合は以下のように記述できます。2層目以降はinput_shapeを与える必要がありません。tf.kerasが自動的に計算するためです。"
   ]
  },
  {
   "cell_type": "code",
   "execution_count": 14,
   "metadata": {},
   "outputs": [],
   "source": [
    "model = tf.keras.Sequential([\n",
    "            tf.keras.layers.Dense(10, \n",
    "                                  activation = tf.nn.relu,\n",
    "                                  input_shape=(2,)),\n",
    "            tf.keras.layers.Dense(1, \n",
    "                                  activation = tf.nn.sigmoid)])"
   ]
  },
  {
   "cell_type": "code",
   "execution_count": 15,
   "metadata": {},
   "outputs": [],
   "source": [
    "#addメソッドを使えば次のようになります。\n",
    "\n",
    "model = tf.keras.Sequential()\n",
    "model.add(tf.keras.layers.Dense(10, \n",
    "                                activation = tf.nn.relu,\n",
    "                                input_shape=(2,)))\n",
    "model.add(tf.keras.layers.Dense(1,\n",
    "                                activation = tf.nn.sigmoid))"
   ]
  },
  {
   "cell_type": "markdown",
   "metadata": {},
   "source": [
    "## Functional API\n",
    ">Functional APIを使えばより自由度の高いモデル構築が行えます。Sequentialクラスの代わりにModelクラスを使用します。\n",
    "tf.keras.models.Model | TensorFlow\n",
    "\n",
    "入力から出力までの流れを記述していき、最後にModelクラスに入力層と出力層のインスタンスを渡します。"
   ]
  },
  {
   "cell_type": "code",
   "execution_count": 16,
   "metadata": {},
   "outputs": [],
   "source": [
    "input_data = tf.keras.layers.Input(shape=(2,)) # 入力層\n",
    "output = tf.keras.layers.Dense(1, \n",
    "                               activation=tf.nn.sigmoid)(input_data) # 出力層\n",
    "\n",
    "model = tf.keras.Model(inputs=input_data, outputs=output)"
   ]
  },
  {
   "cell_type": "markdown",
   "metadata": {},
   "source": [
    "#### モデル構造の記述以降はSequentialモデルと全く同じです。"
   ]
  },
  {
   "cell_type": "code",
   "execution_count": 6,
   "metadata": {},
   "outputs": [],
   "source": [
    "# model.summary()\n",
    "# model.compile(loss='binary_crossentropy',\n",
    "#               optimizer=tf.train.AdamOptimizer(learning_rate=0.01),\n",
    "#               metrics=['accuracy'])\n",
    "# history = model.fit(x_train, y_train,\n",
    "#                     batch_size=1,\n",
    "#                     epochs=1000,\n",
    "#                     verbose=1)"
   ]
  },
  {
   "cell_type": "markdown",
   "metadata": {},
   "source": [
    "#### 複数層の場合\n",
    ">4層のニューラルネットワークは以下のように記述できます。\n",
    "\n"
   ]
  },
  {
   "cell_type": "code",
   "execution_count": 18,
   "metadata": {},
   "outputs": [],
   "source": [
    "input_data = tf.keras.layers.Input(shape=(2,))\n",
    "x = tf.keras.layers.Dense(10, activation=tf.nn.relu)(input_data)\n",
    "x = tf.keras.layers.Dense(10, activation=tf.nn.relu)(x)\n",
    "x = tf.keras.layers.Dense(10, activation=tf.nn.relu)(x)\n",
    "output = tf.keras.layers.Dense(1, activation=tf.nn.sigmoid)(x)\n",
    "model = tf.keras.Model(inputs=input_data, outputs=output)"
   ]
  },
  {
   "cell_type": "markdown",
   "metadata": {},
   "source": [
    "#### この記述方法では枝分かれを表現することもできます。\n",
    "以下は3層目で2つに枝分かれし、次の層で結合している例です。\n",
    "\n",
    "tf.keras.layers.concatenate | TensorFlow"
   ]
  },
  {
   "cell_type": "code",
   "execution_count": 19,
   "metadata": {},
   "outputs": [],
   "source": [
    "input_data = tf.keras.layers.Input(shape=(2,))\n",
    "x = tf.keras.layers.Dense(10, activation=tf.nn.relu)(input_data)\n",
    "x = tf.keras.layers.Dense(10, activation=tf.nn.relu)(x)\n",
    "y1 = tf.keras.layers.Dense(10, activation=tf.nn.relu)(x)\n",
    "y2 = tf.keras.layers.Dense(10, activation=tf.nn.relu)(x)\n",
    "z = tf.keras.layers.concatenate([y1, y2])\n",
    "output = tf.keras.layers.Dense(1, activation=tf.nn.sigmoid)(z)\n",
    "model = tf.keras.Model(inputs=input_data, outputs=output)"
   ]
  },
  {
   "cell_type": "markdown",
   "metadata": {},
   "source": [
    "## ラッパーとしてのKeras\n",
    ">ラッパーとしてのKerasもデフォルトでTensorFlowをバックエンドとして使用しているため、基本的な使い方は同じです。\n",
    "ドキュメントが日本語でも公開されているため、tf.kerasを利用する上で参考にすることができます。例えば2つの記述方法については以下のページです。\n",
    "\n",
    "Sequentialモデルのガイド - Keras Documentation\n",
    "Functional APIのガイド - Keras Documentation\n",
    "\n",
    ">compileメソッドで指定できる損失関数もまとまっています。\n",
    "\n",
    "損失関数 - Keras Documentation\n",
    "\n",
    ">Sequentialモデルは以下のように書けます。ロジスティック回帰の例です。\n",
    "以下のコードのほとんどは上で紹介したtf.kerasと実質的に同じですが、例えば活性化関数を全結合層とは別のクラスとして渡しています。また、最適化手法の部分はtf.train.AdamOptimizerからkeras.optimizers.Adamに変わっています。tf.kerasではTensorFlow自体の最適化手法クラスを呼んでいるのに対し、KerasではKeras独自の最適化手法クラスを使用するためです。ラッパーとしてのKerasのコードも見る機会が多いですから若干の違いに慣れておくと良いでしょう。\n",
    "\n"
   ]
  },
  {
   "cell_type": "code",
   "execution_count": 5,
   "metadata": {},
   "outputs": [],
   "source": [
    "from keras.models import Sequential\n",
    "from keras.layers import Dense, Activation\n",
    "from keras.optimizers import Adam\n",
    "\n",
    "# model = Sequential()\n",
    "# model.add(Dense(1, input_shape=(2,)))\n",
    "# model.add(Activation('sigmoid'))\n",
    "\n",
    "# model.summary()\n",
    "\n",
    "# model.compile(loss='binary_crossentropy',\n",
    "#               optimizer=Adam(lr=0.01),\n",
    "#               metrics=['accuracy'])\n",
    "# history = model.fit(x_train, y_train,\n",
    "#                     batch_size=1,\n",
    "#                     epochs=1000,\n",
    "#                     verbose=1)"
   ]
  },
  {
   "cell_type": "markdown",
   "metadata": {},
   "source": [
    "## 【問題1】公式Exampleを分担して実行\n",
    ">TensorFLowの公式Exampleを分担して実行してください。\n",
    "以下の中から1人ひとつ選び実行し、その結果を簡単に発表してください。\n",
    "- research\n",
    "定番のモデルから最新のモデルまで多様なコードが公開されています。\n",
    "models/research at master · tensorflow/models\n",
    "- tutorials\n",
    "TensorFLowのチュートリアルとして用意された簡単なモデルが含まれています。\n",
    "models/tutorials at master · tensorflow/models"
   ]
  },
  {
   "cell_type": "code",
   "execution_count": null,
   "metadata": {},
   "outputs": [],
   "source": [
    "\"\"\"\n",
    "tutorials\n",
    "\n",
    "\n",
    "Timing benchmark for AlexNet inference.\n",
    "To run, use:\n",
    "  bazel run -c opt --config=cuda \\\n",
    "      models/tutorials/image/alexnet:alexnet_benchmark\n",
    "Across 100 steps on batch size = 128.\n",
    "Forward pass:\n",
    "Run on Tesla K40c: 145 +/- 1.5 ms / batch\n",
    "Run on Titan X:     70 +/- 0.1 ms / batch\n",
    "Forward-backward pass:\n",
    "Run on Tesla K40c: 480 +/- 48 ms / batch\n",
    "Run on Titan X:    244 +/- 30 ms / batch\n",
    "\"\"\"\n",
    "\n",
    "#コードを練習したくなったらtensorflow の research からデータをみる、\n",
    "#信頼できるデータにアクセスすること。\n",
    "\n",
    "#調べる人も聞く人も楽しい発表になるように。"
   ]
  },
  {
   "cell_type": "raw",
   "metadata": {},
   "source": [
    "## 省略"
   ]
  },
  {
   "cell_type": "markdown",
   "metadata": {},
   "source": [
    "## 【問題2】（アドバンス課題）様々な手法を実行\n",
    ">TensorFLowやGoogle AI ResearchのGitHubリポジトリには、定番のモデルから最新のモデルまで多様なコードが公開されています。これらから興味あるものを選び実行してください。\\\n",
    "なお、これらのコードは初学者向けではないため、巨大なデータセットのダウンロードが必要な場合など、実行が簡単ではないこともあります。そういった場合は、コードリーディングを行ってください。\n",
    "\n",
    "models/research at master · tensorflow/models\n",
    "\n",
    "google-research/google-research: Google AI Research\n",
    "\n",
    "更新日が古いものはPythonやTensorFlowのバージョンが古く、扱いずらい場合があります。新しいものから見ることを推奨します。\n",
    "\n"
   ]
  },
  {
   "cell_type": "markdown",
   "metadata": {},
   "source": [
    "## 異なるフレームワークへの書き換え\n",
    ">「ディープラーニングフレームワーク1」で作成した4種類のデータセットを扱うTensorFLowのコードを異なるフレームワークに変更していきます。\n",
    "- Iris（Iris-versicolorとIris-virginicaのみの2値分類）\n",
    "- Iris（3種類全ての目的変数を使用して多値分類）\n",
    "- House Prices\n",
    "- MNIST\n",
    "\n",
    "### Kerasへの書き換え\n",
    ">KerasはTensorFLowに含まれるtf.kerasモジュールを使用してください。\n",
    "KerasにはSequentialモデルかFunctional APIかなど書き方に種類がありますが、これは指定しません。\n",
    "\n"
   ]
  },
  {
   "cell_type": "markdown",
   "metadata": {},
   "source": [
    "## 【問題3】Iris（2値分類）をKerasで学習\n"
   ]
  },
  {
   "cell_type": "code",
   "execution_count": 9,
   "metadata": {},
   "outputs": [],
   "source": [
    "# データセットの読み込み\n",
    "dataset_path =\"Iris.csv\"\n",
    "df = pd.read_csv(dataset_path)\n",
    "# データフレームから条件抽出\n",
    "df = df[(df[\"Species\"] == \"Iris-versicolor\")|(df[\"Species\"] == \"Iris-virginica\")]\n",
    "y = df[\"Species\"]\n",
    "X = df.loc[:, [\"SepalLengthCm\", \"SepalWidthCm\", \"PetalLengthCm\", \"PetalWidthCm\"]]\n",
    "y = np.array(y)\n",
    "X = np.array(X)\n",
    "# ラベルを数値に変換\n",
    "y[y=='Iris-versicolor'] = 0\n",
    "y[y=='Iris-virginica'] = 1\n",
    "y = y.astype(np.int)[:, np.newaxis]\n",
    "\n",
    "# trainとtestに分割\n",
    "X_train, X_test, y_train, y_test = train_test_split(X, y, test_size=0.2, random_state=0)\n",
    "# さらにtrainとvalに分割\n",
    "X_train, X_val, y_train, y_val = train_test_split(X_train, y_train, test_size=0.2, random_state=0)"
   ]
  },
  {
   "cell_type": "code",
   "execution_count": 10,
   "metadata": {},
   "outputs": [],
   "source": [
    "#Functional API\n",
    "\n",
    "input_data = tf.keras.layers.Input(shape=(4,))\n",
    "output = tf.keras.layers.Dense(1, activation = tf.nn.sigmoid)(input_data)\n",
    "\n",
    "model = tf.keras.Model(inputs = input_data, outputs = output)"
   ]
  },
  {
   "cell_type": "code",
   "execution_count": 11,
   "metadata": {},
   "outputs": [
    {
     "name": "stdout",
     "output_type": "stream",
     "text": [
      "Model: \"model\"\n",
      "_________________________________________________________________\n",
      "Layer (type)                 Output Shape              Param #   \n",
      "=================================================================\n",
      "input_1 (InputLayer)         [(None, 4)]               0         \n",
      "_________________________________________________________________\n",
      "dense_1 (Dense)              (None, 1)                 5         \n",
      "=================================================================\n",
      "Total params: 5\n",
      "Trainable params: 5\n",
      "Non-trainable params: 0\n",
      "_________________________________________________________________\n",
      "Train on 64 samples, validate on 16 samples\n",
      "Epoch 1/100\n",
      "64/64 [==============================] - 0s 7ms/sample - loss: 0.5652 - acc: 0.7656 - val_loss: 0.5843 - val_acc: 0.6875\n",
      "Epoch 2/100\n",
      "64/64 [==============================] - 0s 1ms/sample - loss: 0.5497 - acc: 0.7969 - val_loss: 0.5434 - val_acc: 0.8750\n",
      "Epoch 3/100\n",
      "64/64 [==============================] - 0s 1ms/sample - loss: 0.5264 - acc: 0.9062 - val_loss: 0.5445 - val_acc: 0.8750\n",
      "Epoch 4/100\n",
      "64/64 [==============================] - 0s 1ms/sample - loss: 0.5069 - acc: 0.8750 - val_loss: 0.5044 - val_acc: 1.0000\n",
      "Epoch 5/100\n",
      "64/64 [==============================] - 0s 2ms/sample - loss: 0.5084 - acc: 0.8906 - val_loss: 0.4940 - val_acc: 1.0000\n",
      "Epoch 6/100\n",
      "64/64 [==============================] - 0s 2ms/sample - loss: 0.4915 - acc: 0.8750 - val_loss: 0.4887 - val_acc: 1.0000\n",
      "Epoch 7/100\n",
      "64/64 [==============================] - 0s 1ms/sample - loss: 0.4838 - acc: 0.9531 - val_loss: 0.4968 - val_acc: 0.8750\n",
      "Epoch 8/100\n",
      "64/64 [==============================] - 0s 1ms/sample - loss: 0.4894 - acc: 0.8750 - val_loss: 0.4963 - val_acc: 0.8125\n",
      "Epoch 9/100\n",
      "64/64 [==============================] - 0s 2ms/sample - loss: 0.4912 - acc: 0.7969 - val_loss: 0.4379 - val_acc: 1.0000\n",
      "Epoch 10/100\n",
      "64/64 [==============================] - 0s 2ms/sample - loss: 0.4702 - acc: 0.8750 - val_loss: 0.4556 - val_acc: 1.0000\n",
      "Epoch 11/100\n",
      "64/64 [==============================] - 0s 2ms/sample - loss: 0.4395 - acc: 0.9375 - val_loss: 0.4871 - val_acc: 0.8125\n",
      "Epoch 12/100\n",
      "64/64 [==============================] - 0s 2ms/sample - loss: 0.4498 - acc: 0.8750 - val_loss: 0.4632 - val_acc: 0.8750\n",
      "Epoch 13/100\n",
      "64/64 [==============================] - 0s 1ms/sample - loss: 0.4116 - acc: 0.9062 - val_loss: 0.3986 - val_acc: 1.0000\n",
      "Epoch 14/100\n",
      "64/64 [==============================] - 0s 1ms/sample - loss: 0.4170 - acc: 0.9375 - val_loss: 0.4265 - val_acc: 1.0000\n",
      "Epoch 15/100\n",
      "64/64 [==============================] - 0s 2ms/sample - loss: 0.4189 - acc: 0.9062 - val_loss: 0.4020 - val_acc: 1.0000\n",
      "Epoch 16/100\n",
      "64/64 [==============================] - 0s 1ms/sample - loss: 0.4047 - acc: 0.9531 - val_loss: 0.3747 - val_acc: 1.0000\n",
      "Epoch 17/100\n",
      "64/64 [==============================] - 0s 2ms/sample - loss: 0.4049 - acc: 0.9844 - val_loss: 0.3699 - val_acc: 1.0000\n",
      "Epoch 18/100\n",
      "64/64 [==============================] - 0s 2ms/sample - loss: 0.3872 - acc: 0.9375 - val_loss: 0.3897 - val_acc: 1.0000\n",
      "Epoch 19/100\n",
      "64/64 [==============================] - 0s 1ms/sample - loss: 0.3829 - acc: 0.9375 - val_loss: 0.3655 - val_acc: 1.0000\n",
      "Epoch 20/100\n",
      "64/64 [==============================] - 0s 1ms/sample - loss: 0.3742 - acc: 0.9219 - val_loss: 0.3460 - val_acc: 0.9375\n",
      "Epoch 21/100\n",
      "64/64 [==============================] - 0s 1ms/sample - loss: 0.3989 - acc: 0.9219 - val_loss: 0.3461 - val_acc: 1.0000\n",
      "Epoch 22/100\n",
      "64/64 [==============================] - 0s 2ms/sample - loss: 0.3749 - acc: 0.9531 - val_loss: 0.3817 - val_acc: 1.0000\n",
      "Epoch 23/100\n",
      "64/64 [==============================] - 0s 1ms/sample - loss: 0.3599 - acc: 0.9688 - val_loss: 0.3954 - val_acc: 0.8750\n",
      "Epoch 24/100\n",
      "64/64 [==============================] - 0s 2ms/sample - loss: 0.3585 - acc: 0.9531 - val_loss: 0.3393 - val_acc: 1.0000\n",
      "Epoch 25/100\n",
      "64/64 [==============================] - 0s 2ms/sample - loss: 0.3481 - acc: 0.9531 - val_loss: 0.3191 - val_acc: 1.0000\n",
      "Epoch 26/100\n",
      "64/64 [==============================] - 0s 1ms/sample - loss: 0.3461 - acc: 0.9219 - val_loss: 0.3930 - val_acc: 0.8125\n",
      "Epoch 27/100\n",
      "64/64 [==============================] - 0s 1ms/sample - loss: 0.3422 - acc: 0.9375 - val_loss: 0.3094 - val_acc: 1.0000\n",
      "Epoch 28/100\n",
      "64/64 [==============================] - 0s 1ms/sample - loss: 0.3293 - acc: 0.9219 - val_loss: 0.2997 - val_acc: 0.9375\n",
      "Epoch 29/100\n",
      "64/64 [==============================] - 0s 1ms/sample - loss: 0.3450 - acc: 0.9062 - val_loss: 0.3099 - val_acc: 1.0000\n",
      "Epoch 30/100\n",
      "64/64 [==============================] - 0s 1ms/sample - loss: 0.3252 - acc: 0.9375 - val_loss: 0.2951 - val_acc: 1.0000\n",
      "Epoch 31/100\n",
      "64/64 [==============================] - 0s 2ms/sample - loss: 0.3182 - acc: 0.9531 - val_loss: 0.2998 - val_acc: 1.0000\n",
      "Epoch 32/100\n",
      "64/64 [==============================] - 0s 1ms/sample - loss: 0.3166 - acc: 0.9375 - val_loss: 0.2845 - val_acc: 1.0000\n",
      "Epoch 33/100\n",
      "64/64 [==============================] - 0s 1ms/sample - loss: 0.3169 - acc: 0.9375 - val_loss: 0.2714 - val_acc: 1.0000\n",
      "Epoch 34/100\n",
      "64/64 [==============================] - 0s 1ms/sample - loss: 0.3063 - acc: 0.9531 - val_loss: 0.2709 - val_acc: 1.0000\n",
      "Epoch 35/100\n",
      "64/64 [==============================] - 0s 1ms/sample - loss: 0.3046 - acc: 0.9531 - val_loss: 0.2826 - val_acc: 1.0000\n",
      "Epoch 36/100\n",
      "64/64 [==============================] - 0s 2ms/sample - loss: 0.2892 - acc: 0.9531 - val_loss: 0.2566 - val_acc: 1.0000\n",
      "Epoch 37/100\n",
      "64/64 [==============================] - 0s 2ms/sample - loss: 0.3039 - acc: 0.9844 - val_loss: 0.2581 - val_acc: 1.0000\n",
      "Epoch 38/100\n",
      "64/64 [==============================] - 0s 1ms/sample - loss: 0.2962 - acc: 0.9844 - val_loss: 0.2508 - val_acc: 1.0000\n",
      "Epoch 39/100\n",
      "64/64 [==============================] - 0s 1ms/sample - loss: 0.2865 - acc: 0.9375 - val_loss: 0.2845 - val_acc: 1.0000\n",
      "Epoch 40/100\n",
      "64/64 [==============================] - 0s 1ms/sample - loss: 0.2821 - acc: 0.9531 - val_loss: 0.2428 - val_acc: 1.0000\n",
      "Epoch 41/100\n",
      "64/64 [==============================] - 0s 1ms/sample - loss: 0.2838 - acc: 0.9219 - val_loss: 0.2381 - val_acc: 0.9375\n",
      "Epoch 42/100\n",
      "64/64 [==============================] - 0s 1ms/sample - loss: 0.2822 - acc: 0.9688 - val_loss: 0.2749 - val_acc: 1.0000\n",
      "Epoch 43/100\n",
      "64/64 [==============================] - 0s 1ms/sample - loss: 0.2826 - acc: 0.9375 - val_loss: 0.2537 - val_acc: 1.0000\n",
      "Epoch 44/100\n",
      "64/64 [==============================] - 0s 1ms/sample - loss: 0.2686 - acc: 0.9375 - val_loss: 0.2408 - val_acc: 1.0000\n",
      "Epoch 45/100\n",
      "64/64 [==============================] - 0s 1ms/sample - loss: 0.2660 - acc: 0.9844 - val_loss: 0.2583 - val_acc: 1.0000\n",
      "Epoch 46/100\n",
      "64/64 [==============================] - 0s 1ms/sample - loss: 0.2644 - acc: 0.9531 - val_loss: 0.2834 - val_acc: 1.0000\n",
      "Epoch 47/100\n",
      "64/64 [==============================] - 0s 2ms/sample - loss: 0.2670 - acc: 0.9375 - val_loss: 0.2585 - val_acc: 1.0000\n",
      "Epoch 48/100\n",
      "64/64 [==============================] - 0s 1ms/sample - loss: 0.2573 - acc: 0.9531 - val_loss: 0.2170 - val_acc: 1.0000\n",
      "Epoch 49/100\n",
      "64/64 [==============================] - 0s 2ms/sample - loss: 0.2546 - acc: 0.9531 - val_loss: 0.2163 - val_acc: 1.0000\n",
      "Epoch 50/100\n",
      "64/64 [==============================] - 0s 1ms/sample - loss: 0.2699 - acc: 0.9531 - val_loss: 0.2087 - val_acc: 1.0000\n",
      "Epoch 51/100\n",
      "64/64 [==============================] - 0s 1ms/sample - loss: 0.2556 - acc: 0.9688 - val_loss: 0.2096 - val_acc: 1.0000\n",
      "Epoch 52/100\n",
      "64/64 [==============================] - 0s 2ms/sample - loss: 0.2522 - acc: 0.9688 - val_loss: 0.2025 - val_acc: 1.0000\n",
      "Epoch 53/100\n",
      "64/64 [==============================] - 0s 1ms/sample - loss: 0.2509 - acc: 0.9688 - val_loss: 0.2013 - val_acc: 0.9375\n",
      "Epoch 54/100\n",
      "64/64 [==============================] - 0s 1ms/sample - loss: 0.2574 - acc: 0.9219 - val_loss: 0.2019 - val_acc: 1.0000\n",
      "Epoch 55/100\n",
      "64/64 [==============================] - 0s 2ms/sample - loss: 0.2397 - acc: 0.9688 - val_loss: 0.2058 - val_acc: 1.0000\n",
      "Epoch 56/100\n",
      "64/64 [==============================] - 0s 2ms/sample - loss: 0.2354 - acc: 0.9688 - val_loss: 0.2036 - val_acc: 1.0000\n",
      "Epoch 57/100\n",
      "64/64 [==============================] - 0s 2ms/sample - loss: 0.2296 - acc: 0.9844 - val_loss: 0.2339 - val_acc: 1.0000\n",
      "Epoch 58/100\n",
      "64/64 [==============================] - 0s 1ms/sample - loss: 0.2459 - acc: 0.9531 - val_loss: 0.2076 - val_acc: 1.0000\n",
      "Epoch 59/100\n",
      "64/64 [==============================] - 0s 1ms/sample - loss: 0.2317 - acc: 0.9531 - val_loss: 0.1937 - val_acc: 1.0000\n",
      "Epoch 60/100\n",
      "64/64 [==============================] - 0s 1ms/sample - loss: 0.2255 - acc: 0.9531 - val_loss: 0.1874 - val_acc: 1.0000\n",
      "Epoch 61/100\n",
      "64/64 [==============================] - 0s 2ms/sample - loss: 0.2270 - acc: 0.9688 - val_loss: 0.1902 - val_acc: 0.9375\n",
      "Epoch 62/100\n",
      "64/64 [==============================] - 0s 1ms/sample - loss: 0.2372 - acc: 0.9219 - val_loss: 0.1981 - val_acc: 1.0000\n",
      "Epoch 63/100\n",
      "64/64 [==============================] - 0s 1ms/sample - loss: 0.2335 - acc: 0.9375 - val_loss: 0.2085 - val_acc: 1.0000\n",
      "Epoch 64/100\n",
      "64/64 [==============================] - 0s 2ms/sample - loss: 0.2123 - acc: 0.9688 - val_loss: 0.2389 - val_acc: 1.0000\n",
      "Epoch 65/100\n",
      "64/64 [==============================] - 0s 1ms/sample - loss: 0.2477 - acc: 0.9375 - val_loss: 0.1889 - val_acc: 1.0000\n",
      "Epoch 66/100\n",
      "64/64 [==============================] - 0s 2ms/sample - loss: 0.2148 - acc: 0.9688 - val_loss: 0.1854 - val_acc: 1.0000\n",
      "Epoch 67/100\n",
      "64/64 [==============================] - 0s 2ms/sample - loss: 0.2127 - acc: 0.9688 - val_loss: 0.1837 - val_acc: 1.0000\n",
      "Epoch 68/100\n",
      "64/64 [==============================] - 0s 1ms/sample - loss: 0.2154 - acc: 0.9688 - val_loss: 0.1759 - val_acc: 1.0000\n",
      "Epoch 69/100\n",
      "64/64 [==============================] - 0s 1ms/sample - loss: 0.2119 - acc: 0.9375 - val_loss: 0.1882 - val_acc: 1.0000\n",
      "Epoch 70/100\n",
      "64/64 [==============================] - 0s 1ms/sample - loss: 0.2111 - acc: 0.9688 - val_loss: 0.1805 - val_acc: 1.0000\n",
      "Epoch 71/100\n",
      "64/64 [==============================] - 0s 1ms/sample - loss: 0.2116 - acc: 0.9688 - val_loss: 0.1996 - val_acc: 1.0000\n",
      "Epoch 72/100\n",
      "64/64 [==============================] - 0s 1ms/sample - loss: 0.2135 - acc: 0.9531 - val_loss: 0.1751 - val_acc: 1.0000\n",
      "Epoch 73/100\n",
      "64/64 [==============================] - 0s 2ms/sample - loss: 0.1996 - acc: 0.9531 - val_loss: 0.1582 - val_acc: 1.0000\n",
      "Epoch 74/100\n",
      "64/64 [==============================] - 0s 2ms/sample - loss: 0.2048 - acc: 0.9531 - val_loss: 0.1807 - val_acc: 1.0000\n",
      "Epoch 75/100\n",
      "64/64 [==============================] - 0s 1ms/sample - loss: 0.1969 - acc: 0.9531 - val_loss: 0.1564 - val_acc: 1.0000\n",
      "Epoch 76/100\n",
      "64/64 [==============================] - 0s 2ms/sample - loss: 0.2034 - acc: 0.9375 - val_loss: 0.1583 - val_acc: 1.0000\n",
      "Epoch 77/100\n",
      "64/64 [==============================] - 0s 1ms/sample - loss: 0.2003 - acc: 0.9688 - val_loss: 0.1914 - val_acc: 1.0000\n",
      "Epoch 78/100\n",
      "64/64 [==============================] - 0s 1ms/sample - loss: 0.2037 - acc: 0.9531 - val_loss: 0.1719 - val_acc: 1.0000\n",
      "Epoch 79/100\n",
      "64/64 [==============================] - 0s 1ms/sample - loss: 0.1911 - acc: 0.9531 - val_loss: 0.1488 - val_acc: 1.0000\n",
      "Epoch 80/100\n",
      "64/64 [==============================] - 0s 1ms/sample - loss: 0.1941 - acc: 0.9688 - val_loss: 0.1509 - val_acc: 1.0000\n",
      "Epoch 81/100\n",
      "64/64 [==============================] - 0s 2ms/sample - loss: 0.1905 - acc: 0.9688 - val_loss: 0.1496 - val_acc: 1.0000\n",
      "Epoch 82/100\n",
      "64/64 [==============================] - 0s 2ms/sample - loss: 0.1966 - acc: 0.9531 - val_loss: 0.1476 - val_acc: 1.0000\n",
      "Epoch 83/100\n",
      "64/64 [==============================] - 0s 1ms/sample - loss: 0.1923 - acc: 0.9375 - val_loss: 0.1513 - val_acc: 1.0000\n",
      "Epoch 84/100\n",
      "64/64 [==============================] - 0s 1ms/sample - loss: 0.1905 - acc: 0.9531 - val_loss: 0.1460 - val_acc: 1.0000\n",
      "Epoch 85/100\n",
      "64/64 [==============================] - 0s 2ms/sample - loss: 0.1916 - acc: 0.9531 - val_loss: 0.1551 - val_acc: 1.0000\n",
      "Epoch 86/100\n",
      "64/64 [==============================] - 0s 2ms/sample - loss: 0.1867 - acc: 0.9531 - val_loss: 0.1439 - val_acc: 1.0000\n",
      "Epoch 87/100\n",
      "64/64 [==============================] - 0s 1ms/sample - loss: 0.1861 - acc: 0.9688 - val_loss: 0.1380 - val_acc: 1.0000\n",
      "Epoch 88/100\n",
      "64/64 [==============================] - 0s 1ms/sample - loss: 0.1894 - acc: 0.9531 - val_loss: 0.1584 - val_acc: 1.0000\n",
      "Epoch 89/100\n",
      "64/64 [==============================] - 0s 1ms/sample - loss: 0.1830 - acc: 0.9688 - val_loss: 0.1567 - val_acc: 1.0000\n",
      "Epoch 90/100\n",
      "64/64 [==============================] - 0s 2ms/sample - loss: 0.1783 - acc: 0.9531 - val_loss: 0.1514 - val_acc: 1.0000\n",
      "Epoch 91/100\n",
      "64/64 [==============================] - 0s 1ms/sample - loss: 0.1789 - acc: 0.9688 - val_loss: 0.1376 - val_acc: 1.0000\n",
      "Epoch 92/100\n",
      "64/64 [==============================] - 0s 1ms/sample - loss: 0.1760 - acc: 0.9688 - val_loss: 0.1371 - val_acc: 1.0000\n",
      "Epoch 93/100\n",
      "64/64 [==============================] - 0s 1ms/sample - loss: 0.1806 - acc: 0.9531 - val_loss: 0.1401 - val_acc: 1.0000\n",
      "Epoch 94/100\n",
      "64/64 [==============================] - 0s 1ms/sample - loss: 0.1731 - acc: 0.9688 - val_loss: 0.1326 - val_acc: 1.0000\n",
      "Epoch 95/100\n",
      "64/64 [==============================] - 0s 1ms/sample - loss: 0.1866 - acc: 0.9688 - val_loss: 0.1317 - val_acc: 1.0000\n",
      "Epoch 96/100\n",
      "64/64 [==============================] - 0s 2ms/sample - loss: 0.1746 - acc: 0.9844 - val_loss: 0.1546 - val_acc: 1.0000\n",
      "Epoch 97/100\n",
      "64/64 [==============================] - 0s 2ms/sample - loss: 0.1731 - acc: 0.9688 - val_loss: 0.1495 - val_acc: 1.0000\n",
      "Epoch 98/100\n",
      "64/64 [==============================] - 0s 2ms/sample - loss: 0.1793 - acc: 0.9375 - val_loss: 0.1420 - val_acc: 1.0000\n",
      "Epoch 99/100\n",
      "64/64 [==============================] - 0s 1ms/sample - loss: 0.1686 - acc: 0.9531 - val_loss: 0.1298 - val_acc: 1.0000\n",
      "Epoch 100/100\n",
      "64/64 [==============================] - 0s 2ms/sample - loss: 0.1682 - acc: 0.9688 - val_loss: 0.1368 - val_acc: 1.0000\n"
     ]
    }
   ],
   "source": [
    "model.summary()\n",
    "model.compile(loss= 'binary_crossentropy',\n",
    "              optimizer = tf.train.AdamOptimizer(learning_rate = 0.01),\n",
    "              metrics = ['accuracy'])\n",
    "\n",
    "story = model.fit(X_train, y_train,\n",
    "                  batch_size = 1,\n",
    "                  epochs = 100,\n",
    "                  verbose = 1,\n",
    "                  validation_data = (X_val, y_val))"
   ]
  },
  {
   "cell_type": "code",
   "execution_count": 7,
   "metadata": {},
   "outputs": [
    {
     "name": "stdout",
     "output_type": "stream",
     "text": [
      "y_pred_proba [0.1940246  0.9804326  0.16739753 0.9851923  0.835789   0.98178804\n",
      " 0.37475568 0.7993598  0.9855042  0.9475783  0.9318696  0.95154923\n",
      " 0.98069596 0.28696442 0.04354948 0.08972093 0.6498308  0.06253028\n",
      " 0.81346947 0.09418333]\n",
      "y_pred [0 1 0 1 1 1 0 1 1 1 1 1 1 0 0 0 1 0 1 0]\n"
     ]
    }
   ],
   "source": [
    "y_pred_proba = model.predict(X_test)[:,0]\n",
    "y_pred = np.where(y_pred_proba > 0.5, 1, 0)\n",
    "\n",
    "print(\"y_pred_proba\",y_pred_proba)\n",
    "print(\"y_pred\",y_pred)"
   ]
  },
  {
   "cell_type": "code",
   "execution_count": 12,
   "metadata": {},
   "outputs": [
    {
     "name": "stdout",
     "output_type": "stream",
     "text": [
      "[0.2331160604953766, 0.9]\n",
      "Test loss 0.2331160604953766\n",
      "Test accuracy 0.9\n"
     ]
    }
   ],
   "source": [
    "score = model.evaluate(X_test, y_test, verbose = 0)\n",
    "print(score)\n",
    "print('Test loss', score[0])\n",
    "print('Test accuracy', score[1])"
   ]
  },
  {
   "cell_type": "markdown",
   "metadata": {},
   "source": [
    "## 【問題4】Iris（多値分類）をKerasで学習\n"
   ]
  },
  {
   "cell_type": "code",
   "execution_count": 13,
   "metadata": {},
   "outputs": [
    {
     "name": "stderr",
     "output_type": "stream",
     "text": [
      "/Users/akishimasaki/.pyenv/versions/anaconda3-2019.03/lib/python3.7/site-packages/sklearn/preprocessing/_encoders.py:415: FutureWarning: The handling of integer data will change in version 0.22. Currently, the categories are determined based on the range [0, max(values)], while in the future they will be determined based on the unique values.\n",
      "If you want the future behaviour and silence this warning, you can specify \"categories='auto'\".\n",
      "In case you used a LabelEncoder before this OneHotEncoder to convert the categories to integers, then you can now use the OneHotEncoder directly.\n",
      "  warnings.warn(msg, FutureWarning)\n"
     ]
    }
   ],
   "source": [
    "dataset_path =\"Iris.csv\"\n",
    "df = pd.read_csv(dataset_path)\n",
    "X = df.loc[:, [\"SepalLengthCm\", \"SepalWidthCm\", \n",
    "               \"PetalLengthCm\", \"PetalWidthCm\"]]\n",
    "y = df[\"Species\"]\n",
    "\n",
    "y = np.array(y)\n",
    "X = np.array(X) #(150, 4)\n",
    "# ラベルを数値に変換\n",
    "y[y=='Iris-setosa'] = 0\n",
    "y[y=='Iris-versicolor'] = 1\n",
    "y[y=='Iris-virginica'] = 2\n",
    "y = y.astype(np.int)[:, np.newaxis] \n",
    "\n",
    "\"\"\"\n",
    "one_hot化が必要\n",
    "\"\"\"\n",
    "onehot = OneHotEncoder(sparse=False)\n",
    "y = onehot.fit_transform(y) #one_hot(150, 3)\n",
    "\n",
    "# trainとtestに分割\n",
    "X_train, X_test, y_train, y_test = train_test_split(X, y, test_size=0.2, random_state=0)\n",
    "# さらにtrainとvalに分割\n",
    "X_train, X_val, y_train, y_val = train_test_split(X_train, y_train, test_size=0.2, random_state=0)\n",
    "\n",
    "#softmax\n",
    "#多値分類"
   ]
  },
  {
   "cell_type": "code",
   "execution_count": 14,
   "metadata": {},
   "outputs": [
    {
     "name": "stdout",
     "output_type": "stream",
     "text": [
      "WARNING:tensorflow:From /Users/akishimasaki/.pyenv/versions/anaconda3-2019.03/lib/python3.7/site-packages/keras/backend/tensorflow_backend.py:95: The name tf.reset_default_graph is deprecated. Please use tf.compat.v1.reset_default_graph instead.\n",
      "\n",
      "WARNING:tensorflow:From /Users/akishimasaki/.pyenv/versions/anaconda3-2019.03/lib/python3.7/site-packages/keras/backend/tensorflow_backend.py:98: The name tf.placeholder_with_default is deprecated. Please use tf.compat.v1.placeholder_with_default instead.\n",
      "\n",
      "WARNING:tensorflow:From /Users/akishimasaki/.pyenv/versions/anaconda3-2019.03/lib/python3.7/site-packages/keras/backend/tensorflow_backend.py:102: The name tf.get_default_graph is deprecated. Please use tf.compat.v1.get_default_graph instead.\n",
      "\n",
      "Model: \"model\"\n",
      "_________________________________________________________________\n",
      "Layer (type)                 Output Shape              Param #   \n",
      "=================================================================\n",
      "input_1 (InputLayer)         [(None, 4)]               0         \n",
      "_________________________________________________________________\n",
      "dense (Dense)                (None, 3)                 15        \n",
      "=================================================================\n",
      "Total params: 15\n",
      "Trainable params: 15\n",
      "Non-trainable params: 0\n",
      "_________________________________________________________________\n"
     ]
    }
   ],
   "source": [
    "#Functional API\n",
    "\n",
    "K.clear_session() #clear_session\n",
    "\n",
    "#引数に出力のユニット数、活性化関数、入力のユニット数を入れます。\n",
    "input_data = tf.keras.layers.Input(shape = (4,))\n",
    "output = tf.keras.layers.Dense(3, activation = tf.nn.softmax)(input_data)\n",
    "\n",
    "model = tf.keras.Model(inputs = input_data, outputs = output)\n",
    "\n",
    "model.summary()\n",
    "model.compile(loss='categorical_crossentropy', #categorical_crossentropy\n",
    "              optimizer = tf.train.AdamOptimizer(learning_rate = 0.01),\n",
    "              metrics = ['accuracy'])"
   ]
  },
  {
   "cell_type": "code",
   "execution_count": 15,
   "metadata": {},
   "outputs": [
    {
     "name": "stdout",
     "output_type": "stream",
     "text": [
      "Train on 96 samples, validate on 24 samples\n",
      "Epoch 1/100\n",
      "96/96 [==============================] - 0s 3ms/sample - loss: 2.4524 - acc: 0.2083 - val_loss: 1.9797 - val_acc: 0.2917\n",
      "Epoch 2/100\n",
      "96/96 [==============================] - 0s 1ms/sample - loss: 1.6920 - acc: 0.3333 - val_loss: 1.3267 - val_acc: 0.3333\n",
      "Epoch 3/100\n",
      "96/96 [==============================] - 0s 989us/sample - loss: 1.1039 - acc: 0.3854 - val_loss: 0.8826 - val_acc: 0.6250\n",
      "Epoch 4/100\n",
      "96/96 [==============================] - 0s 980us/sample - loss: 0.7307 - acc: 0.7396 - val_loss: 0.6767 - val_acc: 0.7083\n",
      "Epoch 5/100\n",
      "96/96 [==============================] - 0s 966us/sample - loss: 0.6190 - acc: 0.7396 - val_loss: 0.5959 - val_acc: 0.7083\n",
      "Epoch 6/100\n",
      "96/96 [==============================] - 0s 1ms/sample - loss: 0.5451 - acc: 0.8021 - val_loss: 0.5292 - val_acc: 0.7083\n",
      "Epoch 7/100\n",
      "96/96 [==============================] - 0s 926us/sample - loss: 0.4902 - acc: 0.8229 - val_loss: 0.4934 - val_acc: 0.7083\n",
      "Epoch 8/100\n",
      "96/96 [==============================] - 0s 1ms/sample - loss: 0.4479 - acc: 0.8021 - val_loss: 0.4687 - val_acc: 0.7917\n",
      "Epoch 9/100\n",
      "96/96 [==============================] - 0s 1ms/sample - loss: 0.4011 - acc: 0.8333 - val_loss: 0.4994 - val_acc: 0.7500\n",
      "Epoch 10/100\n",
      "96/96 [==============================] - 0s 978us/sample - loss: 0.3917 - acc: 0.8646 - val_loss: 0.4308 - val_acc: 0.7917\n",
      "Epoch 11/100\n",
      "96/96 [==============================] - 0s 1ms/sample - loss: 0.3704 - acc: 0.9271 - val_loss: 0.4549 - val_acc: 0.7500\n",
      "Epoch 12/100\n",
      "96/96 [==============================] - 0s 956us/sample - loss: 0.3511 - acc: 0.9062 - val_loss: 0.4051 - val_acc: 0.8750\n",
      "Epoch 13/100\n",
      "96/96 [==============================] - 0s 988us/sample - loss: 0.3378 - acc: 0.9271 - val_loss: 0.3905 - val_acc: 0.8333\n",
      "Epoch 14/100\n",
      "96/96 [==============================] - 0s 1ms/sample - loss: 0.3273 - acc: 0.9375 - val_loss: 0.4017 - val_acc: 0.7917\n",
      "Epoch 15/100\n",
      "96/96 [==============================] - 0s 968us/sample - loss: 0.3285 - acc: 0.9167 - val_loss: 0.3862 - val_acc: 0.7917\n",
      "Epoch 16/100\n",
      "96/96 [==============================] - 0s 1ms/sample - loss: 0.3343 - acc: 0.8646 - val_loss: 0.3614 - val_acc: 0.8750\n",
      "Epoch 17/100\n",
      "96/96 [==============================] - 0s 978us/sample - loss: 0.2871 - acc: 0.9167 - val_loss: 0.3519 - val_acc: 0.8750\n",
      "Epoch 18/100\n",
      "96/96 [==============================] - 0s 1ms/sample - loss: 0.2759 - acc: 0.9167 - val_loss: 0.3551 - val_acc: 0.7917\n",
      "Epoch 19/100\n",
      "96/96 [==============================] - 0s 1ms/sample - loss: 0.2665 - acc: 0.9479 - val_loss: 0.3577 - val_acc: 0.7917\n",
      "Epoch 20/100\n",
      "96/96 [==============================] - 0s 1ms/sample - loss: 0.2569 - acc: 0.9375 - val_loss: 0.3473 - val_acc: 0.7917\n",
      "Epoch 21/100\n",
      "96/96 [==============================] - 0s 1ms/sample - loss: 0.2742 - acc: 0.9062 - val_loss: 0.3538 - val_acc: 0.7917\n",
      "Epoch 22/100\n",
      "96/96 [==============================] - 0s 1ms/sample - loss: 0.2453 - acc: 0.9583 - val_loss: 0.3149 - val_acc: 0.9167\n",
      "Epoch 23/100\n",
      "96/96 [==============================] - 0s 1ms/sample - loss: 0.2321 - acc: 0.9583 - val_loss: 0.3092 - val_acc: 0.9167\n",
      "Epoch 24/100\n",
      "96/96 [==============================] - 0s 956us/sample - loss: 0.2230 - acc: 0.9583 - val_loss: 0.3257 - val_acc: 0.8333\n",
      "Epoch 25/100\n",
      "96/96 [==============================] - 0s 1ms/sample - loss: 0.2333 - acc: 0.9479 - val_loss: 0.2990 - val_acc: 0.9167\n",
      "Epoch 26/100\n",
      "96/96 [==============================] - 0s 1ms/sample - loss: 0.2076 - acc: 0.9583 - val_loss: 0.2925 - val_acc: 0.9167\n",
      "Epoch 27/100\n",
      "96/96 [==============================] - 0s 979us/sample - loss: 0.2140 - acc: 0.9688 - val_loss: 0.2863 - val_acc: 0.9167\n",
      "Epoch 28/100\n",
      "96/96 [==============================] - 0s 961us/sample - loss: 0.1995 - acc: 0.9583 - val_loss: 0.3304 - val_acc: 0.8333\n",
      "Epoch 29/100\n",
      "96/96 [==============================] - 0s 974us/sample - loss: 0.2070 - acc: 0.9479 - val_loss: 0.3291 - val_acc: 0.8333\n",
      "Epoch 30/100\n",
      "96/96 [==============================] - 0s 971us/sample - loss: 0.1834 - acc: 0.9479 - val_loss: 0.3010 - val_acc: 0.8333\n",
      "Epoch 31/100\n",
      "96/96 [==============================] - 0s 1ms/sample - loss: 0.1787 - acc: 0.9896 - val_loss: 0.2746 - val_acc: 0.9167\n",
      "Epoch 32/100\n",
      "96/96 [==============================] - 0s 998us/sample - loss: 0.1820 - acc: 0.9479 - val_loss: 0.2661 - val_acc: 0.9167\n",
      "Epoch 33/100\n",
      "96/96 [==============================] - 0s 945us/sample - loss: 0.1836 - acc: 0.9479 - val_loss: 0.2717 - val_acc: 0.9167\n",
      "Epoch 34/100\n",
      "96/96 [==============================] - 0s 965us/sample - loss: 0.1670 - acc: 0.9479 - val_loss: 0.2639 - val_acc: 0.9167\n",
      "Epoch 35/100\n",
      "96/96 [==============================] - 0s 943us/sample - loss: 0.1653 - acc: 0.9583 - val_loss: 0.2520 - val_acc: 0.9167\n",
      "Epoch 36/100\n",
      "96/96 [==============================] - 0s 1ms/sample - loss: 0.1677 - acc: 0.9583 - val_loss: 0.2734 - val_acc: 0.9167\n",
      "Epoch 37/100\n",
      "96/96 [==============================] - 0s 1ms/sample - loss: 0.1700 - acc: 0.9479 - val_loss: 0.2540 - val_acc: 0.9167\n",
      "Epoch 38/100\n",
      "96/96 [==============================] - 0s 1ms/sample - loss: 0.1446 - acc: 0.9479 - val_loss: 0.3718 - val_acc: 0.7917\n",
      "Epoch 39/100\n",
      "96/96 [==============================] - 0s 978us/sample - loss: 0.1409 - acc: 0.9583 - val_loss: 0.2373 - val_acc: 0.9167\n",
      "Epoch 40/100\n",
      "96/96 [==============================] - 0s 961us/sample - loss: 0.1729 - acc: 0.9479 - val_loss: 0.2431 - val_acc: 0.9583\n",
      "Epoch 41/100\n",
      "96/96 [==============================] - 0s 1ms/sample - loss: 0.1466 - acc: 0.9583 - val_loss: 0.2350 - val_acc: 0.9167\n",
      "Epoch 42/100\n",
      "96/96 [==============================] - 0s 1ms/sample - loss: 0.1390 - acc: 0.9583 - val_loss: 0.2458 - val_acc: 0.9583\n",
      "Epoch 43/100\n",
      "96/96 [==============================] - 0s 1ms/sample - loss: 0.1436 - acc: 0.9583 - val_loss: 0.2504 - val_acc: 0.9167\n",
      "Epoch 44/100\n",
      "96/96 [==============================] - 0s 1ms/sample - loss: 0.1691 - acc: 0.9375 - val_loss: 0.2320 - val_acc: 0.9167\n",
      "Epoch 45/100\n",
      "96/96 [==============================] - 0s 1ms/sample - loss: 0.1360 - acc: 0.9583 - val_loss: 0.2590 - val_acc: 0.9167\n",
      "Epoch 46/100\n",
      "96/96 [==============================] - 0s 1ms/sample - loss: 0.1266 - acc: 0.9688 - val_loss: 0.2193 - val_acc: 0.9167\n",
      "Epoch 47/100\n",
      "96/96 [==============================] - 0s 1ms/sample - loss: 0.1319 - acc: 0.9792 - val_loss: 0.2554 - val_acc: 0.9167\n",
      "Epoch 48/100\n",
      "96/96 [==============================] - 0s 1ms/sample - loss: 0.1226 - acc: 0.9896 - val_loss: 0.2907 - val_acc: 0.8333\n",
      "Epoch 49/100\n",
      "96/96 [==============================] - 0s 1ms/sample - loss: 0.1343 - acc: 0.9479 - val_loss: 0.2308 - val_acc: 0.9167\n",
      "Epoch 50/100\n",
      "96/96 [==============================] - 0s 1ms/sample - loss: 0.1279 - acc: 0.9583 - val_loss: 0.2204 - val_acc: 0.9167\n",
      "Epoch 51/100\n",
      "96/96 [==============================] - 0s 1ms/sample - loss: 0.1233 - acc: 0.9479 - val_loss: 0.2783 - val_acc: 0.9167\n",
      "Epoch 52/100\n",
      "96/96 [==============================] - 0s 980us/sample - loss: 0.1219 - acc: 0.9688 - val_loss: 0.2060 - val_acc: 0.9167\n",
      "Epoch 53/100\n",
      "96/96 [==============================] - 0s 1ms/sample - loss: 0.1205 - acc: 0.9688 - val_loss: 0.2027 - val_acc: 0.9167\n",
      "Epoch 54/100\n",
      "96/96 [==============================] - 0s 1ms/sample - loss: 0.1116 - acc: 0.9688 - val_loss: 0.3166 - val_acc: 0.8333\n",
      "Epoch 55/100\n",
      "96/96 [==============================] - 0s 1ms/sample - loss: 0.1263 - acc: 0.9479 - val_loss: 0.2447 - val_acc: 0.9167\n",
      "Epoch 56/100\n",
      "96/96 [==============================] - 0s 1ms/sample - loss: 0.1105 - acc: 0.9688 - val_loss: 0.2165 - val_acc: 0.9583\n",
      "Epoch 57/100\n",
      "96/96 [==============================] - 0s 1ms/sample - loss: 0.1169 - acc: 0.9688 - val_loss: 0.2458 - val_acc: 0.9167\n",
      "Epoch 58/100\n",
      "96/96 [==============================] - 0s 935us/sample - loss: 0.1184 - acc: 0.9583 - val_loss: 0.2263 - val_acc: 0.9167\n",
      "Epoch 59/100\n",
      "96/96 [==============================] - 0s 942us/sample - loss: 0.1116 - acc: 0.9583 - val_loss: 0.2006 - val_acc: 0.9167\n",
      "Epoch 60/100\n",
      "96/96 [==============================] - 0s 1ms/sample - loss: 0.1084 - acc: 0.9688 - val_loss: 0.2653 - val_acc: 0.9167\n",
      "Epoch 61/100\n",
      "96/96 [==============================] - 0s 1ms/sample - loss: 0.1067 - acc: 0.9583 - val_loss: 0.2103 - val_acc: 0.9167\n",
      "Epoch 62/100\n",
      "96/96 [==============================] - 0s 1ms/sample - loss: 0.1164 - acc: 0.9479 - val_loss: 0.1969 - val_acc: 0.9167\n",
      "Epoch 63/100\n",
      "96/96 [==============================] - 0s 1ms/sample - loss: 0.1049 - acc: 0.9688 - val_loss: 0.2798 - val_acc: 0.9167\n",
      "Epoch 64/100\n",
      "96/96 [==============================] - 0s 953us/sample - loss: 0.1031 - acc: 0.9688 - val_loss: 0.3213 - val_acc: 0.8333\n",
      "Epoch 65/100\n",
      "96/96 [==============================] - 0s 1ms/sample - loss: 0.1135 - acc: 0.9688 - val_loss: 0.2495 - val_acc: 0.9167\n",
      "Epoch 66/100\n",
      "96/96 [==============================] - 0s 1ms/sample - loss: 0.0968 - acc: 0.9792 - val_loss: 0.1874 - val_acc: 0.9167\n",
      "Epoch 67/100\n",
      "96/96 [==============================] - 0s 1ms/sample - loss: 0.1052 - acc: 0.9583 - val_loss: 0.1951 - val_acc: 0.9167\n",
      "Epoch 68/100\n",
      "96/96 [==============================] - 0s 1ms/sample - loss: 0.1094 - acc: 0.9688 - val_loss: 0.1846 - val_acc: 0.9167\n",
      "Epoch 69/100\n",
      "96/96 [==============================] - 0s 1ms/sample - loss: 0.1028 - acc: 0.9583 - val_loss: 0.1799 - val_acc: 0.9167\n",
      "Epoch 70/100\n",
      "96/96 [==============================] - 0s 1ms/sample - loss: 0.1078 - acc: 0.9688 - val_loss: 0.1939 - val_acc: 0.9167\n",
      "Epoch 71/100\n",
      "96/96 [==============================] - 0s 1ms/sample - loss: 0.0974 - acc: 0.9896 - val_loss: 0.1768 - val_acc: 0.9167\n",
      "Epoch 72/100\n",
      "96/96 [==============================] - 0s 1ms/sample - loss: 0.1078 - acc: 0.9792 - val_loss: 0.1797 - val_acc: 0.9167\n",
      "Epoch 73/100\n",
      "96/96 [==============================] - 0s 1ms/sample - loss: 0.0985 - acc: 0.9688 - val_loss: 0.2313 - val_acc: 0.9167\n",
      "Epoch 74/100\n",
      "96/96 [==============================] - 0s 1ms/sample - loss: 0.1027 - acc: 0.9583 - val_loss: 0.2284 - val_acc: 0.9167\n",
      "Epoch 75/100\n",
      "96/96 [==============================] - 0s 1ms/sample - loss: 0.0901 - acc: 0.9688 - val_loss: 0.1730 - val_acc: 0.9167\n",
      "Epoch 76/100\n",
      "96/96 [==============================] - 0s 1ms/sample - loss: 0.0870 - acc: 0.9688 - val_loss: 0.2261 - val_acc: 0.9167\n",
      "Epoch 77/100\n",
      "96/96 [==============================] - 0s 971us/sample - loss: 0.0872 - acc: 0.9688 - val_loss: 0.1942 - val_acc: 0.9167\n",
      "Epoch 78/100\n",
      "96/96 [==============================] - 0s 1ms/sample - loss: 0.0848 - acc: 0.9792 - val_loss: 0.1720 - val_acc: 0.9167\n",
      "Epoch 79/100\n",
      "96/96 [==============================] - 0s 1ms/sample - loss: 0.0861 - acc: 0.9583 - val_loss: 0.1852 - val_acc: 0.9167\n",
      "Epoch 80/100\n",
      "96/96 [==============================] - 0s 1ms/sample - loss: 0.1077 - acc: 0.9479 - val_loss: 0.2490 - val_acc: 0.9167\n",
      "Epoch 81/100\n",
      "96/96 [==============================] - 0s 1ms/sample - loss: 0.0935 - acc: 0.9688 - val_loss: 0.1948 - val_acc: 0.9167\n",
      "Epoch 82/100\n",
      "96/96 [==============================] - 0s 1ms/sample - loss: 0.0928 - acc: 0.9688 - val_loss: 0.2182 - val_acc: 0.9167\n",
      "Epoch 83/100\n",
      "96/96 [==============================] - 0s 1ms/sample - loss: 0.0857 - acc: 0.9792 - val_loss: 0.2085 - val_acc: 0.9167\n",
      "Epoch 84/100\n",
      "96/96 [==============================] - 0s 1ms/sample - loss: 0.0829 - acc: 0.9688 - val_loss: 0.1678 - val_acc: 0.9167\n",
      "Epoch 85/100\n",
      "96/96 [==============================] - 0s 1ms/sample - loss: 0.0878 - acc: 0.9688 - val_loss: 0.1878 - val_acc: 0.9167\n",
      "Epoch 86/100\n",
      "96/96 [==============================] - 0s 1ms/sample - loss: 0.0802 - acc: 0.9688 - val_loss: 0.2424 - val_acc: 0.9167\n",
      "Epoch 87/100\n",
      "96/96 [==============================] - 0s 1ms/sample - loss: 0.0735 - acc: 0.9792 - val_loss: 0.1864 - val_acc: 0.9167\n",
      "Epoch 88/100\n",
      "96/96 [==============================] - 0s 1ms/sample - loss: 0.0811 - acc: 0.9896 - val_loss: 0.1846 - val_acc: 0.9167\n",
      "Epoch 89/100\n",
      "96/96 [==============================] - 0s 1ms/sample - loss: 0.0882 - acc: 0.9583 - val_loss: 0.1921 - val_acc: 0.9167\n",
      "Epoch 90/100\n",
      "96/96 [==============================] - 0s 980us/sample - loss: 0.0817 - acc: 0.9792 - val_loss: 0.2670 - val_acc: 0.9167\n",
      "Epoch 91/100\n",
      "96/96 [==============================] - 0s 1ms/sample - loss: 0.0686 - acc: 0.9792 - val_loss: 0.1621 - val_acc: 0.9167\n",
      "Epoch 92/100\n",
      "96/96 [==============================] - 0s 1ms/sample - loss: 0.0887 - acc: 0.9583 - val_loss: 0.1867 - val_acc: 0.9167\n",
      "Epoch 93/100\n",
      "96/96 [==============================] - 0s 1ms/sample - loss: 0.0772 - acc: 0.9792 - val_loss: 0.1699 - val_acc: 0.9167\n",
      "Epoch 94/100\n",
      "96/96 [==============================] - 0s 996us/sample - loss: 0.0657 - acc: 0.9896 - val_loss: 0.3415 - val_acc: 0.8750\n",
      "Epoch 95/100\n",
      "96/96 [==============================] - 0s 1ms/sample - loss: 0.0677 - acc: 1.0000 - val_loss: 0.1924 - val_acc: 0.9167\n",
      "Epoch 96/100\n",
      "96/96 [==============================] - 0s 1ms/sample - loss: 0.0766 - acc: 0.9688 - val_loss: 0.1723 - val_acc: 0.9167\n",
      "Epoch 97/100\n",
      "96/96 [==============================] - 0s 947us/sample - loss: 0.0842 - acc: 0.9688 - val_loss: 0.1924 - val_acc: 0.9167\n",
      "Epoch 98/100\n",
      "96/96 [==============================] - 0s 1ms/sample - loss: 0.0731 - acc: 0.9688 - val_loss: 0.1587 - val_acc: 0.9167\n",
      "Epoch 99/100\n",
      "96/96 [==============================] - 0s 1ms/sample - loss: 0.0777 - acc: 0.9583 - val_loss: 0.1852 - val_acc: 0.9167\n",
      "Epoch 100/100\n",
      "96/96 [==============================] - 0s 1ms/sample - loss: 0.0802 - acc: 0.9688 - val_loss: 0.1749 - val_acc: 0.9167\n"
     ]
    }
   ],
   "source": [
    "history = model.fit(X_train, y_train,\n",
    "                    batch_size = 1,\n",
    "                    epochs = 100,\n",
    "                    verbose = 1,\n",
    "                    validation_data = (X_val, y_val))"
   ]
  },
  {
   "cell_type": "code",
   "execution_count": 16,
   "metadata": {},
   "outputs": [
    {
     "name": "stdout",
     "output_type": "stream",
     "text": [
      "y_pred_proba [[5.3234039e-11 1.1539694e-03 9.9884605e-01]\n",
      " [2.4678709e-04 9.9257129e-01 7.1819210e-03]\n",
      " [9.9998283e-01 1.7185443e-05 2.6240235e-14]\n",
      " [1.4191471e-09 5.0919846e-02 9.4908011e-01]\n",
      " [9.9957591e-01 4.2403908e-04 1.0576109e-11]\n",
      " [2.3318058e-12 3.2995731e-04 9.9967003e-01]\n",
      " [9.9976712e-01 2.3288903e-04 5.3271007e-12]\n",
      " [4.8753107e-05 9.3906987e-01 6.0881298e-02]\n",
      " [2.1651862e-05 9.4052041e-01 5.9457973e-02]\n",
      " [4.5111054e-04 9.8562247e-01 1.3926525e-02]\n",
      " [9.3041599e-08 2.1543759e-01 7.8456235e-01]\n",
      " [1.1865359e-04 9.4659185e-01 5.3289518e-02]\n",
      " [5.2412841e-05 9.5017803e-01 4.9769446e-02]\n",
      " [2.2735559e-05 8.8602477e-01 1.1395248e-01]\n",
      " [2.6301483e-05 8.5898042e-01 1.4099327e-01]\n",
      " [9.9925739e-01 7.4261648e-04 2.0455193e-11]\n",
      " [3.1308984e-05 8.1805927e-01 1.8190944e-01]\n",
      " [5.5969791e-05 9.0038890e-01 9.9555239e-02]\n",
      " [9.9814427e-01 1.8557037e-03 2.1511153e-10]\n",
      " [9.9991858e-01 8.1378894e-05 7.5983631e-13]\n",
      " [9.9719566e-09 1.8934283e-02 9.8106569e-01]\n",
      " [2.9571573e-05 7.0619518e-01 2.9377523e-01]\n",
      " [9.9793845e-01 2.0615219e-03 2.3865004e-10]\n",
      " [9.9796104e-01 2.0389559e-03 3.3057329e-10]\n",
      " [6.5534289e-07 2.4661939e-01 7.5338000e-01]\n",
      " [9.9995506e-01 4.4952594e-05 4.2458249e-13]\n",
      " [9.9879813e-01 1.2018243e-03 1.3526098e-10]\n",
      " [2.1679430e-04 9.7797686e-01 2.1806285e-02]\n",
      " [2.4978614e-03 9.9119580e-01 6.3063265e-03]\n",
      " [9.9848443e-01 1.5155756e-03 1.8932853e-10]]\n",
      "y_pred [2 1 0 2 0 2 0 1 1 1 2 1 1 1 1 0 1 1 0 0 2 1 0 0 2 0 0 1 1 0]\n"
     ]
    }
   ],
   "source": [
    "y_pred_proba = model.predict(X_test)\n",
    "y_pred = np.argmax(y_pred_proba, axis = 1)\n",
    "print(\"y_pred_proba\", y_pred_proba)\n",
    "print(\"y_pred\", y_pred)"
   ]
  },
  {
   "cell_type": "code",
   "execution_count": 17,
   "metadata": {},
   "outputs": [
    {
     "name": "stdout",
     "output_type": "stream",
     "text": [
      "Test loss: 0.06062551960349083\n",
      "Test accuracy: 1.0\n"
     ]
    }
   ],
   "source": [
    "score = model.evaluate(X_test, y_test, verbose=0)\n",
    "print('Test loss:', score[0])\n",
    "print('Test accuracy:', score[1])"
   ]
  },
  {
   "cell_type": "markdown",
   "metadata": {},
   "source": [
    "## 【問題5】House PricesをKerasで学習\n"
   ]
  },
  {
   "cell_type": "code",
   "execution_count": 18,
   "metadata": {},
   "outputs": [
    {
     "name": "stdout",
     "output_type": "stream",
     "text": [
      "Model: \"sequential\"\n",
      "_________________________________________________________________\n",
      "Layer (type)                 Output Shape              Param #   \n",
      "=================================================================\n",
      "dense (Dense)                (None, 200)               600       \n",
      "_________________________________________________________________\n",
      "dense_1 (Dense)              (None, 100)               20100     \n",
      "_________________________________________________________________\n",
      "dense_2 (Dense)              (None, 1)                 101       \n",
      "=================================================================\n",
      "Total params: 20,801\n",
      "Trainable params: 20,801\n",
      "Non-trainable params: 0\n",
      "_________________________________________________________________\n"
     ]
    }
   ],
   "source": [
    "\"\"\"\n",
    "初期化の順番が大事な時はinitialized_valueを使うこと。\n",
    "\n",
    "歪度が大きいので、対数変換をして正規分布に近づけた方が良い。\n",
    "\"\"\"\n",
    "# データセットの読み込み\n",
    "data = pd.read_csv('train.csv')\n",
    "y = data['SalePrice'] #(1460,)\n",
    "y = y.astype(np.int)[:, np.newaxis] #(1460, 1)\n",
    "X = data.loc[:,['GrLivArea','YearBuilt']] #(1460, 2)\n",
    "y = np.array(y).astype(np.float64)\n",
    "X = np.array(X).astype(np.float64)\n",
    "\n",
    "#対数変換\n",
    "X = np.log(X)\n",
    "y = np.log(y)\n",
    "\n",
    "X_train, X_test, y_train, y_test = train_test_split(X, y, test_size=0.2, random_state=0)\n",
    "X_train, X_val, y_train, y_val = train_test_split(X_train, y_train, test_size=0.2, random_state=0)\n",
    "#回帰\n",
    "K.clear_session()\n",
    "\n",
    "model = tf.keras.Sequential()\n",
    "model.add(tf.keras.layers.Dense(200, input_dim=2, activation=tf.nn.relu))\n",
    "model.add(tf.keras.layers.Dense(100, activation=tf.nn.relu))\n",
    "model.add(tf.keras.layers.Dense(1))\n",
    "model.compile(loss=\"mean_squared_error\",optimizer = tf.train.AdamOptimizer(learning_rate=0.01),\n",
    "             metrics=[\"mse\"])\n",
    "model.summary()\n",
    "\n",
    "#Sequential"
   ]
  },
  {
   "cell_type": "code",
   "execution_count": 19,
   "metadata": {},
   "outputs": [],
   "source": [
    "history=model.fit(X_train,y_train,batch_size=1,epochs=100,verbose=0)"
   ]
  },
  {
   "cell_type": "code",
   "execution_count": 21,
   "metadata": {},
   "outputs": [
    {
     "name": "stdout",
     "output_type": "stream",
     "text": [
      "0.4075243907544335\n"
     ]
    }
   ],
   "source": [
    "y_pred=model.predict(X_test)\n",
    "from sklearn.metrics import  mean_squared_error\n",
    "\n",
    "print(np.sqrt(mean_squared_error(y_test, y_pred)))"
   ]
  },
  {
   "cell_type": "markdown",
   "metadata": {},
   "source": [
    "## 【問題6】MNISTをKerasで学習\n"
   ]
  },
  {
   "cell_type": "code",
   "execution_count": 33,
   "metadata": {},
   "outputs": [
    {
     "name": "stdout",
     "output_type": "stream",
     "text": [
      "x_train shape: (60000, 28, 28, 1)\n",
      "60000 train samples\n",
      "10000 test samples\n",
      "WARNING:tensorflow:From /Users/akishimasaki/.pyenv/versions/anaconda3-2019.03/lib/python3.7/site-packages/keras/backend/tensorflow_backend.py:517: The name tf.placeholder is deprecated. Please use tf.compat.v1.placeholder instead.\n",
      "\n",
      "WARNING:tensorflow:From /Users/akishimasaki/.pyenv/versions/anaconda3-2019.03/lib/python3.7/site-packages/keras/backend/tensorflow_backend.py:4138: The name tf.random_uniform is deprecated. Please use tf.random.uniform instead.\n",
      "\n",
      "WARNING:tensorflow:From /Users/akishimasaki/.pyenv/versions/anaconda3-2019.03/lib/python3.7/site-packages/keras/backend/tensorflow_backend.py:3976: The name tf.nn.max_pool is deprecated. Please use tf.nn.max_pool2d instead.\n",
      "\n",
      "WARNING:tensorflow:From /Users/akishimasaki/.pyenv/versions/anaconda3-2019.03/lib/python3.7/site-packages/keras/backend/tensorflow_backend.py:3445: calling dropout (from tensorflow.python.ops.nn_ops) with keep_prob is deprecated and will be removed in a future version.\n",
      "Instructions for updating:\n",
      "Please use `rate` instead of `keep_prob`. Rate should be set to `rate = 1 - keep_prob`.\n",
      "WARNING:tensorflow:From /Users/akishimasaki/.pyenv/versions/anaconda3-2019.03/lib/python3.7/site-packages/keras/optimizers.py:790: The name tf.train.Optimizer is deprecated. Please use tf.compat.v1.train.Optimizer instead.\n",
      "\n",
      "Train on 60000 samples, validate on 10000 samples\n",
      "Epoch 1/12\n",
      "60000/60000 [==============================] - 67s 1ms/step - loss: 0.2640 - acc: 0.9185 - val_loss: 0.0548 - val_acc: 0.9818\n",
      "Epoch 2/12\n",
      "60000/60000 [==============================] - 69s 1ms/step - loss: 0.0883 - acc: 0.9735 - val_loss: 0.0440 - val_acc: 0.9851\n",
      "Epoch 3/12\n",
      "60000/60000 [==============================] - 69s 1ms/step - loss: 0.0664 - acc: 0.9800 - val_loss: 0.0370 - val_acc: 0.9875\n",
      "Epoch 4/12\n",
      "60000/60000 [==============================] - 68s 1ms/step - loss: 0.0548 - acc: 0.9837 - val_loss: 0.0342 - val_acc: 0.9893\n",
      "Epoch 5/12\n",
      "60000/60000 [==============================] - 72s 1ms/step - loss: 0.0470 - acc: 0.9858 - val_loss: 0.0282 - val_acc: 0.9905\n",
      "Epoch 6/12\n",
      "60000/60000 [==============================] - 67s 1ms/step - loss: 0.0406 - acc: 0.9878 - val_loss: 0.0314 - val_acc: 0.9898\n",
      "Epoch 7/12\n",
      "60000/60000 [==============================] - 64s 1ms/step - loss: 0.0370 - acc: 0.9892 - val_loss: 0.0263 - val_acc: 0.9918\n",
      "Epoch 8/12\n",
      "60000/60000 [==============================] - 66s 1ms/step - loss: 0.0340 - acc: 0.9900 - val_loss: 0.0270 - val_acc: 0.9919\n",
      "Epoch 9/12\n",
      "60000/60000 [==============================] - 78s 1ms/step - loss: 0.0323 - acc: 0.9898 - val_loss: 0.0251 - val_acc: 0.9920\n",
      "Epoch 10/12\n",
      "60000/60000 [==============================] - 64s 1ms/step - loss: 0.0285 - acc: 0.9913 - val_loss: 0.0246 - val_acc: 0.9923\n",
      "Epoch 11/12\n",
      "60000/60000 [==============================] - 63s 1ms/step - loss: 0.0270 - acc: 0.9918 - val_loss: 0.0242 - val_acc: 0.9922\n",
      "Epoch 12/12\n",
      "60000/60000 [==============================] - 64s 1ms/step - loss: 0.0273 - acc: 0.9918 - val_loss: 0.0295 - val_acc: 0.9894\n",
      "Test loss: 0.02950691213303653\n",
      "Test accuracy: 0.9894\n"
     ]
    }
   ],
   "source": [
    "from __future__ import print_function\n",
    "import keras\n",
    "from keras.datasets import mnist\n",
    "from keras.models import Sequential\n",
    "from keras.layers import Dense, Dropout, Flatten\n",
    "from keras.layers import Conv2D, MaxPooling2D\n",
    "from keras import backend as K\n",
    "\n",
    "batch_size = 128\n",
    "num_classes = 10\n",
    "epochs = 12\n",
    "\n",
    "# input image dimensions\n",
    "img_rows, img_cols = 28, 28\n",
    "\n",
    "# the data, split between train and test sets\n",
    "(x_train, y_train), (x_test, y_test) = mnist.load_data()\n",
    "\n",
    "if K.image_data_format() == 'channels_first':\n",
    "    x_train = x_train.reshape(x_train.shape[0], 1, img_rows, img_cols)\n",
    "    x_test = x_test.reshape(x_test.shape[0], 1, img_rows, img_cols)\n",
    "    input_shape = (1, img_rows, img_cols)\n",
    "else:\n",
    "    x_train = x_train.reshape(x_train.shape[0], img_rows, img_cols, 1)\n",
    "    x_test = x_test.reshape(x_test.shape[0], img_rows, img_cols, 1)\n",
    "    input_shape = (img_rows, img_cols, 1)\n",
    "\n",
    "x_train = x_train.astype('float32')\n",
    "x_test = x_test.astype('float32')\n",
    "x_train /= 255\n",
    "x_test /= 255\n",
    "print('x_train shape:', x_train.shape)\n",
    "print(x_train.shape[0], 'train samples')\n",
    "print(x_test.shape[0], 'test samples')\n",
    "\n",
    "# convert class vectors to binary class matrices\n",
    "y_train = keras.utils.to_categorical(y_train, num_classes)\n",
    "y_test = keras.utils.to_categorical(y_test, num_classes)\n",
    "\n",
    "model = Sequential()\n",
    "model.add(Conv2D(32, kernel_size=(3, 3),\n",
    "                 activation='relu',\n",
    "                 input_shape=input_shape))\n",
    "model.add(Conv2D(64, (3, 3), activation='relu'))\n",
    "model.add(MaxPooling2D(pool_size=(2, 2)))\n",
    "model.add(Dropout(0.25))\n",
    "model.add(Flatten())\n",
    "model.add(Dense(128, activation='relu'))\n",
    "model.add(Dropout(0.5))\n",
    "model.add(Dense(num_classes, activation='softmax'))\n",
    "\n",
    "model.compile(loss=keras.losses.categorical_crossentropy,\n",
    "              optimizer=keras.optimizers.Adadelta(),\n",
    "              metrics=['accuracy'])\n",
    "\n",
    "model.fit(x_train, y_train,\n",
    "          batch_size=batch_size,\n",
    "          epochs=epochs,\n",
    "          verbose=1,\n",
    "          validation_data=(x_test, y_test))\n",
    "score = model.evaluate(x_test, y_test, verbose=0)\n",
    "print('Test loss:', score[0])\n",
    "print('Test accuracy:', score[1])"
   ]
  },
  {
   "cell_type": "code",
   "execution_count": null,
   "metadata": {},
   "outputs": [],
   "source": []
  },
  {
   "cell_type": "markdown",
   "metadata": {},
   "source": [
    "## 【問題7】（アドバンス課題）PyTorchへの書き換え\n",
    ">4種類の問題をPyTorchに書き換えてください。\n",
    "\n"
   ]
  },
  {
   "cell_type": "code",
   "execution_count": null,
   "metadata": {},
   "outputs": [],
   "source": []
  },
  {
   "cell_type": "markdown",
   "metadata": {},
   "source": [
    "## 【問題8】（アドバンス課題）フレームワークの比較\n",
    ">それぞれのフレームワークにはどのような違いがあるかをまとめてください。\n",
    "視点例\n",
    "- 計算速度\n",
    "- コードの行数・可読性\n"
   ]
  },
  {
   "cell_type": "code",
   "execution_count": null,
   "metadata": {},
   "outputs": [],
   "source": []
  }
 ],
 "metadata": {
  "kernelspec": {
   "display_name": "Python 3",
   "language": "python",
   "name": "python3"
  },
  "language_info": {
   "codemirror_mode": {
    "name": "ipython",
    "version": 3
   },
   "file_extension": ".py",
   "mimetype": "text/x-python",
   "name": "python",
   "nbconvert_exporter": "python",
   "pygments_lexer": "ipython3",
   "version": "3.7.3"
  }
 },
 "nbformat": 4,
 "nbformat_minor": 4
}
