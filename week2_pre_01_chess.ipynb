{
 "cells": [
  {
   "cell_type": "markdown",
   "metadata": {},
   "source": [
    "## week2 事前課題1 チェス盤"
   ]
  },
  {
   "cell_type": "markdown",
   "metadata": {},
   "source": [
    "# 3.少ないマスで考える"
   ]
  },
  {
   "cell_type": "code",
   "execution_count": 2,
   "metadata": {},
   "outputs": [
    {
     "name": "stdout",
     "output_type": "stream",
     "text": [
      "4マスの板に小麦を並べる（list）：[1, 2, 4, 8]\n"
     ]
    }
   ],
   "source": [
    "import numpy as np\n",
    "\n",
    "n_spuares = 4\n",
    "small_board_list=[1]\n",
    "a = 1\n",
    "\n",
    "for i in range(0,n_spuares -1):\n",
    "    a*=2\n",
    "    small_board_list.append(a)\n",
    "\n",
    "small_board_ndarray = np.array(small_board_list)\n",
    "\n",
    "print(\"{}マスの板に小麦を並べる（list）：{}\"\n",
    "      .format(n_spuares,small_board_list))"
   ]
  },
  {
   "cell_type": "code",
   "execution_count": 13,
   "metadata": {},
   "outputs": [
    {
     "name": "stdout",
     "output_type": "stream",
     "text": [
      "4マスの板に小麦を並べる（ndarray）：[1 2 4 8]\n"
     ]
    }
   ],
   "source": [
    "print(\"{}マスの板に小麦を並べる（ndarray）：{}\"\n",
    "      .format(n_spuares,small_board_ndarray))"
   ]
  },
  {
   "cell_type": "markdown",
   "metadata": {},
   "source": [
    "# 【問題1】2×2マスのチェス盤の小麦の数\n",
    ">2×2マスのチェス盤をndarrayによって表現し、\n",
    "各マスの小麦の数を計算してください。\n",
    "左上のマスに小麦を1つ置いた後、その右が2つ、左下が4つ、右下が8つという風に\n",
    "進みます。"
   ]
  },
  {
   "cell_type": "code",
   "execution_count": 4,
   "metadata": {},
   "outputs": [
    {
     "name": "stdout",
     "output_type": "stream",
     "text": [
      "[[1 2]\n",
      " [4 8]]\n"
     ]
    }
   ],
   "source": [
    "#ndarrayのshapeの変形\n",
    "small_board_ndarray.shape=(2,2)\n",
    "small_board_square_array=small_board_ndarray\n",
    "print(small_board_square_array)\n",
    "\n",
    "\n",
    "#各マスの小麦を計算?\n",
    "b=0\n",
    "for i in range(n_spuares):\n",
    "    b += 1\n",
    "    #print(small_board_ndarray[b])    \n"
   ]
  },
  {
   "cell_type": "markdown",
   "metadata": {},
   "source": [
    "# 【問題2】n×mマスへの拡張"
   ]
  },
  {
   "cell_type": "code",
   "execution_count": 9,
   "metadata": {},
   "outputs": [
    {
     "name": "stdout",
     "output_type": "stream",
     "text": [
      "[[1.00000000e+00 2.00000000e+00 4.00000000e+00 8.00000000e+00\n",
      "  1.60000000e+01 3.20000000e+01 6.40000000e+01 1.28000000e+02]\n",
      " [2.56000000e+02 5.12000000e+02 1.02400000e+03 2.04800000e+03\n",
      "  4.09600000e+03 8.19200000e+03 1.63840000e+04 3.27680000e+04]\n",
      " [6.55360000e+04 1.31072000e+05 2.62144000e+05 5.24288000e+05\n",
      "  1.04857600e+06 2.09715200e+06 4.19430400e+06 8.38860800e+06]\n",
      " [1.67772160e+07 3.35544320e+07 6.71088640e+07 1.34217728e+08\n",
      "  2.68435456e+08 5.36870912e+08 1.07374182e+09 2.14748365e+09]\n",
      " [4.29496730e+09 8.58993459e+09 1.71798692e+10 3.43597384e+10\n",
      "  6.87194767e+10 1.37438953e+11 2.74877907e+11 5.49755814e+11]\n",
      " [1.09951163e+12 2.19902326e+12 4.39804651e+12 8.79609302e+12\n",
      "  1.75921860e+13 3.51843721e+13 7.03687442e+13 1.40737488e+14]\n",
      " [2.81474977e+14 5.62949953e+14 1.12589991e+15 2.25179981e+15\n",
      "  4.50359963e+15 9.00719925e+15 1.80143985e+16 3.60287970e+16]\n",
      " [7.20575940e+16 1.44115188e+17 2.88230376e+17 5.76460752e+17\n",
      "  1.15292150e+18 2.30584301e+18 4.61168602e+18 9.22337204e+18]]\n"
     ]
    }
   ],
   "source": [
    "def nm_squares(n=2,m=2):\n",
    "    board_list=[1]\n",
    "    j = 1\n",
    "    \n",
    "    for i in range(0,n*m-1):\n",
    "        j *= 2\n",
    "        board_list.append(j)\n",
    "        \n",
    "    board_ndarray = np.array(board_list)\n",
    "    board_ndarray.shape=(n,m)\n",
    "    \n",
    "    return board_ndarray\n",
    "\n",
    "print(nm_squares(8,8))"
   ]
  },
  {
   "cell_type": "code",
   "execution_count": 10,
   "metadata": {},
   "outputs": [
    {
     "data": {
      "text/plain": [
       "9223372036854775808"
      ]
     },
     "execution_count": 10,
     "metadata": {},
     "output_type": "execute_result"
    }
   ],
   "source": [
    "2**63"
   ]
  },
  {
   "cell_type": "markdown",
   "metadata": {},
   "source": [
    "# 【問題3】小麦の数の合計"
   ]
  },
  {
   "cell_type": "code",
   "execution_count": 11,
   "metadata": {},
   "outputs": [
    {
     "name": "stdout",
     "output_type": "stream",
     "text": [
      "8x8マスのチェス盤の小麦の数の合計は1.8446744073709552e+19\n"
     ]
    }
   ],
   "source": [
    "#チェス盤上の小麦の合計\n",
    "k=8\n",
    "l=8\n",
    "grain_total = np.sum(nm_squares(k,l))\n",
    "\n",
    "print(\"{}x{}マスのチェス盤の小麦の数の合計は{}\".format(k,l,grain_total))"
   ]
  },
  {
   "cell_type": "code",
   "execution_count": 12,
   "metadata": {},
   "outputs": [
    {
     "name": "stdout",
     "output_type": "stream",
     "text": [
      "[3.18750000e+01 8.16000000e+03 2.08896000e+06 5.34773760e+08\n",
      " 1.36902083e+11 3.50469331e+13 8.97201488e+15 2.29683581e+18]\n"
     ]
    },
    {
     "data": {
      "image/png": "[encoded data removed]",
      "text/plain": [
       "<Figure size 432x288 with 1 Axes>"
      ]
     },
     "metadata": {
      "needs_background": "light"
     },
     "output_type": "display_data"
    }
   ],
   "source": [
    "#各列の平均\n",
    "nm_squares_meanver = np.mean(nm_squares(k,l),axis=1)\n",
    "\n",
    "print(nm_squares_meanver)\n",
    "\n",
    "\n",
    "#棒グラフ化\n",
    "\n",
    "import matplotlib.pyplot as plt\n",
    "%matplotlib inline\n",
    "\n",
    "plt.xlabel(\"column\")\n",
    "plt.ylabel(\"number\")\n",
    "plt.title(\"number in each column\")\n",
    "plt.bar(np.arange(l), np.array(nm_squares_meanver))\n",
    "plt.show()"
   ]
  },
  {
   "cell_type": "markdown",
   "metadata": {},
   "source": [
    "# 【問題4】小麦の数のヒートマップ"
   ]
  },
  {
   "cell_type": "code",
   "execution_count": 116,
   "metadata": {},
   "outputs": [
    {
     "data": {
      "image/png": "[encoded data removed]",
      "text/plain": [
       "<Figure size 432x288 with 1 Axes>"
      ]
     },
     "metadata": {
      "needs_background": "light"
     },
     "output_type": "display_data"
    }
   ],
   "source": [
    "plt.xlabel(\"column\")\n",
    "plt.ylabel(\"row\")\n",
    "plt.title(\"heatmap\")\n",
    "\n",
    "plt.pcolor(np.array(nm_squares(k,l)).reshape(k,l))\n",
    "plt.show()"
   ]
  },
  {
   "cell_type": "code",
   "execution_count": 123,
   "metadata": {},
   "outputs": [
    {
     "data": {
      "image/png": "[encoded data removed]",
      "text/plain": [
       "<Figure size 432x288 with 2 Axes>"
      ]
     },
     "metadata": {
      "needs_background": "light"
     },
     "output_type": "display_data"
    }
   ],
   "source": [
    "# 他の方法\n",
    "mat = nm_squares(k,l)\n",
    "\n",
    "# ヒートマップ表示\n",
    "plt.figure()\n",
    "plt.imshow(mat,interpolation='nearest',cmap='plasma')\n",
    "plt.colorbar()\n",
    "plt.show()"
   ]
  },
  {
   "cell_type": "markdown",
   "metadata": {},
   "source": [
    "# 【問題5】後半は前半の何倍か\n",
    ">チェス盤の後半にある小麦の数は前半にある小麦の数の何倍かを求めてください。\n",
    "前半とは配列の0から3行目、後半は4から7行目です。"
   ]
  },
  {
   "cell_type": "code",
   "execution_count": 141,
   "metadata": {},
   "outputs": [
    {
     "name": "stdout",
     "output_type": "stream",
     "text": [
      "4294967296.0\n"
     ]
    }
   ],
   "source": [
    "chess_sprit = np.split(nm_squares(k,l) ,2)\n",
    "\n",
    "#print(chess_sprit[0])\n",
    "#print(chess_sprit[1])\n",
    "\n",
    "chess_sum_first = np.sum(chess_sprit[0])\n",
    "chess_sum_second = np.sum(chess_sprit[1])\n",
    "\n",
    "print(chess_sum_second/chess_sum_first)"
   ]
  },
  {
   "cell_type": "markdown",
   "metadata": {},
   "source": [
    "# 6.他の計算方法"
   ]
  },
  {
   "cell_type": "code",
   "execution_count": 13,
   "metadata": {},
   "outputs": [
    {
     "name": "stdout",
     "output_type": "stream",
     "text": [
      "4マスの板に小麦を並べる（ndarray）：[1 2 4 8]\n"
     ]
    }
   ],
   "source": [
    "#ndarrayのnp.append()とfor文を使う\n",
    "n_squares = 4\n",
    "small_board_ndarray = np.array([1])\n",
    "\n",
    "for _ in range(n_squares - 1):\n",
    "    small_board_ndarray = np.append(small_board_ndarray, 2*small_board_ndarray[-1])\n",
    "\n",
    "\n",
    "print(\"4マスの板に小麦を並べる（ndarray）：{}\".format(small_board_ndarray))"
   ]
  },
  {
   "cell_type": "code",
   "execution_count": 16,
   "metadata": {},
   "outputs": [
    {
     "name": "stdout",
     "output_type": "stream",
     "text": [
      "4マスの板に小麦を並べる（ブロードキャスト）：\n",
      "[1 2 4 8]\n"
     ]
    }
   ],
   "source": [
    "#ブロードキャスト\n",
    "n_squares = 4\n",
    "indices_of_squares = np.arange(n_squares)\n",
    "small_board_ndarray = 2**indices_of_squares\n",
    "print(\"4マスの板に小麦を並べる（ブロードキャスト）：\\n{}\".format(small_board_ndarray))"
   ]
  },
  {
   "cell_type": "code",
   "execution_count": 31,
   "metadata": {},
   "outputs": [
    {
     "name": "stdout",
     "output_type": "stream",
     "text": [
      "最後のマスの小麦の数：9.223372036854776e+18\n"
     ]
    }
   ],
   "source": [
    "n_squares = 64\n",
    "board_ndarray = np.array([1]).astype(np.uint64) #.astype(np.uint64) 追加\n",
    "for _ in range(n_squares - 1):\n",
    "    board_ndarray = np.append(board_ndarray, 2*board_ndarray[-1])\n",
    "print(\"最後のマスの小麦の数：{}\".format(board_ndarray[-1]))"
   ]
  },
  {
   "cell_type": "code",
   "execution_count": 24,
   "metadata": {
    "scrolled": true
   },
   "outputs": [
    {
     "name": "stdout",
     "output_type": "stream",
     "text": [
      "float64\n"
     ]
    }
   ],
   "source": [
    "print(board_ndarray.dtype)"
   ]
  },
  {
   "cell_type": "code",
   "execution_count": 19,
   "metadata": {},
   "outputs": [
    {
     "name": "stdout",
     "output_type": "stream",
     "text": [
      "最後のマスの小麦の数：9223372036854775808\n"
     ]
    }
   ],
   "source": [
    "n_squares = 64\n",
    "indices_of_squares = np.arange(n_squares).astype(np.uint64)\n",
    "board_ndarray = 2**indices_of_squares\n",
    "print(\"最後のマスの小麦の数：{}\".format(board_ndarray[-1]))"
   ]
  },
  {
   "cell_type": "markdown",
   "metadata": {},
   "source": [
    "# 【問題6】他の計算方法によるn×mマスへの拡張\n",
    ">「n×mマスのチェス盤の小麦の数を記したndarrayを返す関数」を、np.append()を使ったものと、ブロードキャストを使ったもので新たに作成してください。\n",
    "それらの関数を使い8×8マスのチェス盤の小麦の数を再び求めてください。"
   ]
  },
  {
   "cell_type": "code",
   "execution_count": 38,
   "metadata": {},
   "outputs": [
    {
     "name": "stdout",
     "output_type": "stream",
     "text": [
      "最後のマスの小麦の数：9.223372036854776e+18\n"
     ]
    }
   ],
   "source": [
    "#np.append()\n",
    "n = 8\n",
    "m = 8\n",
    "\n",
    "n_squares = n*m\n",
    "board_ndarray = np.array([1]).astype(np.uint64) #.astype(np.uint64) 追加\n",
    "\n",
    "for _ in range(n_squares-1):\n",
    "    board_ndarray = np.append(board_ndarray,2*board_ndarray[-1])\n",
    "\n",
    "\n",
    "\n",
    "print(\"最後のマスの小麦の数：{}\".format(board_ndarray[-1]))"
   ]
  },
  {
   "cell_type": "code",
   "execution_count": 43,
   "metadata": {},
   "outputs": [
    {
     "name": "stdout",
     "output_type": "stream",
     "text": [
      "最後のマスの小麦の数：9.223372036854776e+18\n"
     ]
    }
   ],
   "source": [
    "#ブロードキャスト\n",
    "n = 8\n",
    "m = 8\n",
    "n_squares = n*m\n",
    "\n",
    "indices_of_squares = np.arange(n_squares)\n",
    "nm_board_ndarray = 2**indices_of_squares\n",
    "\n",
    "print(\"最後のマスの小麦の数：{}\".format(board_ndarray[-1]))"
   ]
  },
  {
   "cell_type": "markdown",
   "metadata": {},
   "source": [
    "# 【問題7】計算時間の比較"
   ]
  },
  {
   "cell_type": "code",
   "execution_count": 46,
   "metadata": {},
   "outputs": [
    {
     "name": "stdout",
     "output_type": "stream",
     "text": [
      "230 µs ± 3.89 µs per loop (mean ± std. dev. of 7 runs, 1000 loops each)\n"
     ]
    }
   ],
   "source": [
    "%%timeit\n",
    "n = 8\n",
    "m = 8\n",
    "\n",
    "n_squares = n*m\n",
    "board_ndarray = np.array([1]).astype(np.uint64) #.astype(np.uint64) 追加\n",
    "\n",
    "for _ in range(n_squares-1):\n",
    "    board_ndarray = np.append(board_ndarray,2*board_ndarray[-1])\n"
   ]
  },
  {
   "cell_type": "code",
   "execution_count": 47,
   "metadata": {},
   "outputs": [
    {
     "name": "stdout",
     "output_type": "stream",
     "text": [
      "1.86 µs ± 52.5 ns per loop (mean ± std. dev. of 7 runs, 1000000 loops each)\n"
     ]
    }
   ],
   "source": [
    "%%timeit\n",
    "n = 8\n",
    "m = 8\n",
    "n_squares = n*m\n",
    "\n",
    "indices_of_squares = np.arange(n_squares)\n",
    "nm_board_ndarray = 2**indices_of_squares"
   ]
  },
  {
   "cell_type": "code",
   "execution_count": null,
   "metadata": {},
   "outputs": [],
   "source": [
    "#両者の拡張性にあまり差はないが、ブロードキャストの方がシンプルで見やすく、\n",
    "#またfor文の方がブロードキャストに比べ１５０倍ほど時間がかかるため、最適解とは言えない"
   ]
  }
 ],
 "metadata": {
  "kernelspec": {
   "display_name": "Python 3",
   "language": "python",
   "name": "python3"
  },
  "language_info": {
   "codemirror_mode": {
    "name": "ipython",
    "version": 3
   },
   "file_extension": ".py",
   "mimetype": "text/x-python",
   "name": "python",
   "nbconvert_exporter": "python",
   "pygments_lexer": "ipython3",
   "version": "3.7.3"
  }
 },
 "nbformat": 4,
 "nbformat_minor": 2
}
