{
 "cells": [
  {
   "cell_type": "markdown",
   "metadata": {},
   "source": [
    "# week3 事前課題3 行列積"
   ]
  },
  {
   "cell_type": "markdown",
   "metadata": {},
   "source": [
    "## 【問題1】行列積を手計算する"
   ]
  },
  {
   "cell_type": "code",
   "execution_count": 4,
   "metadata": {},
   "outputs": [
    {
     "name": "stdout",
     "output_type": "stream",
     "text": [
      "[[  6.  29. -20.]\n",
      " [ 12.  52.  38.]\n",
      " [-18. -51. -48.]]\n"
     ]
    }
   ],
   "source": [
    "import numpy as np\n",
    "\n",
    "a_ndarray = np.array([[-1,2,3],\n",
    "                      [4,-5,6],\n",
    "                      [7,8,-9]])\n",
    "b_ndarray = np.array([[0,2,1],\n",
    "                      [0,2,-8],\n",
    "                      [2,9,-1]])\n",
    "\n",
    "\n",
    "answer = np.zeros((3,3))\n",
    "\n",
    "#手計算\n",
    "#一行目 \n",
    "answer[0,0] = (a_ndarray[0,0]*b_ndarray[0,0]\n",
    "               + a_ndarray[0,1]*b_ndarray[1,0]\n",
    "               + a_ndarray[0,2]*b_ndarray[2,0])\n",
    "                 \n",
    "answer[0,1] = (a_ndarray[0,0]*b_ndarray[0,1]\n",
    "               + a_ndarray[0,1]*b_ndarray[1,1]\n",
    "               + a_ndarray[0,2]*b_ndarray[2,1])\n",
    "\n",
    "answer[0,2] = (a_ndarray[0,0]*b_ndarray[0,2]\n",
    "               + a_ndarray[0,1]*b_ndarray[1,2]\n",
    "               + a_ndarray[0,2]*b_ndarray[2,2])\n",
    "\n",
    "#二行目 \n",
    "answer[1,0] = (a_ndarray[1,0]*b_ndarray[0,0]\n",
    "               + a_ndarray[1,1]*b_ndarray[1,0]\n",
    "               + a_ndarray[1,2]*b_ndarray[2,0])\n",
    "\n",
    "answer[1,1] = (a_ndarray[1,0]*b_ndarray[0,1]\n",
    "               + a_ndarray[1,1]*b_ndarray[1,1]\n",
    "               + a_ndarray[1,2]*b_ndarray[2,1])\n",
    "\n",
    "answer[1,2] =  (a_ndarray[1,0]*b_ndarray[0,2]\n",
    "               + a_ndarray[1,1]*b_ndarray[1,2]\n",
    "               + a_ndarray[1,2]*b_ndarray[2,2])\n",
    "\n",
    "#三行目\n",
    "answer[2,0] =  (a_ndarray[2,0]*b_ndarray[0,0]\n",
    "               + a_ndarray[2,1]*b_ndarray[1,0]\n",
    "               + a_ndarray[2,2]*b_ndarray[2,0])\n",
    "\n",
    "answer[2,1] =  (a_ndarray[2,0]*b_ndarray[0,1]\n",
    "               + a_ndarray[2,1]*b_ndarray[1,1]\n",
    "               + a_ndarray[2,2]*b_ndarray[2,1])\n",
    "\n",
    "answer[2,2] =  (a_ndarray[2,0]*b_ndarray[0,2]\n",
    "               + a_ndarray[2,1]*b_ndarray[1,2]\n",
    "               + a_ndarray[2,2]*b_ndarray[2,2])\n",
    "\n",
    "\n",
    "print(answer)"
   ]
  },
  {
   "cell_type": "markdown",
   "metadata": {},
   "source": [
    "## 【問題2】NumPyの関数による計算"
   ]
  },
  {
   "cell_type": "code",
   "execution_count": 2,
   "metadata": {},
   "outputs": [
    {
     "data": {
      "text/plain": [
       "array([[  6,  29, -20],\n",
       "       [ 12,  52,  38],\n",
       "       [-18, -51, -48]])"
      ]
     },
     "execution_count": 2,
     "metadata": {},
     "output_type": "execute_result"
    }
   ],
   "source": [
    "a_ndarray @ b_ndarray "
   ]
  },
  {
   "cell_type": "markdown",
   "metadata": {},
   "source": [
    "## 【問題3】ある要素の計算を実装\n",
    ">np.matmul()やnp.dot()、または@演算子を使わずに行うコードを書いてください。"
   ]
  },
  {
   "cell_type": "code",
   "execution_count": 57,
   "metadata": {},
   "outputs": [
    {
     "name": "stdout",
     "output_type": "stream",
     "text": [
      "6\n"
     ]
    }
   ],
   "source": [
    "#a[0,k]*b[k,0] を　range(０:3)で繰り返して総和を求める\n",
    "list_k=[]\n",
    "\n",
    "for k in range(a_ndarray.shape[0]):\n",
    "    inside_sums = a_ndarray[0,k]*b_ndarray[k,0]\n",
    "    list_k.append(inside_sums)\n",
    "    #print(list_k)\n",
    "    \n",
    "print(sum(list_k))"
   ]
  },
  {
   "cell_type": "markdown",
   "metadata": {},
   "source": [
    "## 【問題4】行列積を行う関数の作成"
   ]
  },
  {
   "cell_type": "code",
   "execution_count": 5,
   "metadata": {},
   "outputs": [
    {
     "name": "stdout",
     "output_type": "stream",
     "text": [
      "[[6, 29, -20], [12, 52, 38], [-18, -51, -48]]\n"
     ]
    }
   ],
   "source": [
    "def fuckinarraysum(l=a_ndarray,r=b_ndarray):\n",
    "    list_array = []\n",
    "    list_sums = []\n",
    "    list_temp = []\n",
    "    \n",
    "    for i in range(l.shape[0]):\n",
    "        list_sums = []\n",
    "        \n",
    "        for j in range(l.shape[0]):\n",
    "            list_temp = []\n",
    "            \n",
    "            for k in range(l.shape[0]):\n",
    "                inside_sums = a_ndarray[i,k]*b_ndarray[k,j]\n",
    "                list_temp.append(inside_sums)\n",
    "            list_sums.append(sum(list_temp)) #リストにシュート\n",
    "            \n",
    "        list_array.append(list_sums) #リストにシュート\n",
    "            \n",
    "    return list_array\n",
    "            \n",
    "\n",
    "\n",
    "print(fuckinarraysum(a_ndarray,b_ndarray))\n",
    "\n",
    "\n",
    "#完成"
   ]
  },
  {
   "cell_type": "markdown",
   "metadata": {},
   "source": [
    "## 【問題5】計算が定義されない入力を判定する"
   ]
  },
  {
   "cell_type": "code",
   "execution_count": 6,
   "metadata": {},
   "outputs": [
    {
     "name": "stdout",
     "output_type": "stream",
     "text": [
      "[[6, 29, -20], [12, 52, 38], [-18, -51, -48]]\n"
     ]
    }
   ],
   "source": [
    "a_ndarray = np.array([[-1,2,3],\n",
    "                      [4,-5,6],\n",
    "                      [7,8,-9]])\n",
    "b_ndarray = np.array([[0,2,1],\n",
    "                      [0,2,-8],\n",
    "                      [2,9,-1]])\n",
    "\n",
    "def arrayhell(l=a_ndarray, r=b_ndarray):\n",
    "    if l.shape[0] == r.shape[1]:\n",
    "        answer = fuckinarraysum(a_ndarray,b_ndarray)\n",
    "                    \n",
    "    else:\n",
    "         answer = print(\"ERROR: 右の列数と左の行数が不一致。\")\n",
    "        \n",
    "    return answer\n",
    "\n",
    "print(arrayhell())"
   ]
  },
  {
   "cell_type": "code",
   "execution_count": 7,
   "metadata": {},
   "outputs": [
    {
     "name": "stdout",
     "output_type": "stream",
     "text": [
      "ERROR: 右の列数と左の行数が不一致。\n",
      "None\n"
     ]
    }
   ],
   "source": [
    "d_ndarray = np.array([[-1,2,3],\n",
    "                      [4,-5,6]])\n",
    "e_ndarray = np.array([[-9,8,7],\n",
    "                      [6,-5,4]])\n",
    "\n",
    "print(arrayhell(d_ndarray,e_ndarray))"
   ]
  },
  {
   "cell_type": "markdown",
   "metadata": {},
   "source": [
    "## 【問題6】転置"
   ]
  },
  {
   "cell_type": "code",
   "execution_count": 8,
   "metadata": {},
   "outputs": [
    {
     "name": "stdout",
     "output_type": "stream",
     "text": [
      "[[-9  6]\n",
      " [ 8 -5]\n",
      " [ 7  4]]\n"
     ]
    }
   ],
   "source": [
    "e_ndarray_t = e_ndarray.T\n",
    "print(e_ndarray_t)"
   ]
  },
  {
   "cell_type": "code",
   "execution_count": 10,
   "metadata": {},
   "outputs": [
    {
     "data": {
      "text/plain": [
       "array([[ 46,  -4],\n",
       "       [-34,  73]])"
      ]
     },
     "execution_count": 10,
     "metadata": {},
     "output_type": "execute_result"
    }
   ],
   "source": [
    "d_ndarray @ e_ndarray_t"
   ]
  },
  {
   "cell_type": "code",
   "execution_count": null,
   "metadata": {},
   "outputs": [],
   "source": []
  }
 ],
 "metadata": {
  "kernelspec": {
   "display_name": "Python 3",
   "language": "python",
   "name": "python3"
  },
  "language_info": {
   "codemirror_mode": {
    "name": "ipython",
    "version": 3
   },
   "file_extension": ".py",
   "mimetype": "text/x-python",
   "name": "python",
   "nbconvert_exporter": "python",
   "pygments_lexer": "ipython3",
   "version": "3.7.3"
  }
 },
 "nbformat": 4,
 "nbformat_minor": 2
}
